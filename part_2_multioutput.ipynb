{
  "nbformat": 4,
  "nbformat_minor": 0,
  "metadata": {
    "colab": {
      "name": "Untitled7.ipynb",
      "provenance": [],
      "include_colab_link": true
    },
    "kernelspec": {
      "name": "python3",
      "display_name": "Python 3"
    }
  },
  "cells": [
    {
      "cell_type": "markdown",
      "metadata": {
        "id": "view-in-github",
        "colab_type": "text"
      },
      "source": [
        "<a href=\"https://colab.research.google.com/github/dharma610/Project/blob/master/part_2_multioutput.ipynb\" target=\"_parent\"><img src=\"https://colab.research.google.com/assets/colab-badge.svg\" alt=\"Open In Colab\"/></a>"
      ]
    },
    {
      "cell_type": "code",
      "metadata": {
        "id": "9geIYv3d-3Rb",
        "colab_type": "code",
        "colab": {
          "base_uri": "https://localhost:8080/",
          "height": 336
        },
        "outputId": "3f5bf767-a4b2-487e-e7e0-5ede7fcc0146"
      },
      "source": [
        "from scipy.integrate import odeint\n",
        "import numpy as np\n",
        "import pandas as pd\n",
        "from random import sample\n",
        "import matplotlib.pyplot as plt\n",
        "%matplotlib inline \n",
        "!pip install mpld3\n",
        "import mpld3\n",
        "mpld3.enable_notebook()"
      ],
      "execution_count": 1,
      "outputs": [
        {
          "output_type": "stream",
          "text": [
            "Collecting mpld3\n",
            "\u001b[?25l  Downloading https://files.pythonhosted.org/packages/66/31/89bd2afd21b920e3612996623e7b3aac14d741537aa77600ea5102a34be0/mpld3-0.5.1.tar.gz (1.0MB)\n",
            "\u001b[K     |████████████████████████████████| 1.0MB 2.8MB/s \n",
            "\u001b[?25hRequirement already satisfied: jinja2 in /usr/local/lib/python3.6/dist-packages (from mpld3) (2.11.2)\n",
            "Requirement already satisfied: matplotlib in /usr/local/lib/python3.6/dist-packages (from mpld3) (3.2.2)\n",
            "Requirement already satisfied: MarkupSafe>=0.23 in /usr/local/lib/python3.6/dist-packages (from jinja2->mpld3) (1.1.1)\n",
            "Requirement already satisfied: numpy>=1.11 in /usr/local/lib/python3.6/dist-packages (from matplotlib->mpld3) (1.18.5)\n",
            "Requirement already satisfied: cycler>=0.10 in /usr/local/lib/python3.6/dist-packages (from matplotlib->mpld3) (0.10.0)\n",
            "Requirement already satisfied: pyparsing!=2.0.4,!=2.1.2,!=2.1.6,>=2.0.1 in /usr/local/lib/python3.6/dist-packages (from matplotlib->mpld3) (2.4.7)\n",
            "Requirement already satisfied: python-dateutil>=2.1 in /usr/local/lib/python3.6/dist-packages (from matplotlib->mpld3) (2.8.1)\n",
            "Requirement already satisfied: kiwisolver>=1.0.1 in /usr/local/lib/python3.6/dist-packages (from matplotlib->mpld3) (1.2.0)\n",
            "Requirement already satisfied: six in /usr/local/lib/python3.6/dist-packages (from cycler>=0.10->matplotlib->mpld3) (1.12.0)\n",
            "Building wheels for collected packages: mpld3\n",
            "  Building wheel for mpld3 (setup.py) ... \u001b[?25l\u001b[?25hdone\n",
            "  Created wheel for mpld3: filename=mpld3-0.5.1-cp36-none-any.whl size=364065 sha256=d6d371d01af50cd947def6cb7ea0eaa44c51d4c9ad44c01b88dada0d7a639e62\n",
            "  Stored in directory: /root/.cache/pip/wheels/38/68/06/d119af6c3f9a2d1e123c1f72d276576b457131b3a7bf94e402\n",
            "Successfully built mpld3\n",
            "Installing collected packages: mpld3\n",
            "Successfully installed mpld3-0.5.1\n"
          ],
          "name": "stdout"
        }
      ]
    },
    {
      "cell_type": "code",
      "metadata": {
        "id": "vGyZypLL-4TT",
        "colab_type": "code",
        "colab": {}
      },
      "source": [
        "def deriv(y, t, N, beta, gamma):\n",
        "    S, I, R = y\n",
        "    dSdt = -beta * S * I / N\n",
        "    dIdt = beta * S * I / N - gamma * I\n",
        "    dRdt = gamma * I\n",
        "    return dSdt, dIdt, dRdt"
      ],
      "execution_count": 2,
      "outputs": []
    },
    {
      "cell_type": "code",
      "metadata": {
        "id": "MhQYzV1y-9VL",
        "colab_type": "code",
        "colab": {}
      },
      "source": [
        "def plotsir(t, S, I, R):\n",
        "  f, ax = plt.subplots(1,1,figsize=(10,4))\n",
        "  ax.plot(t, S, 'b', alpha=0.7, linewidth=2, label='Susceptible')\n",
        "  ax.plot(t, I, 'y', alpha=0.7, linewidth=2, label='Infected')\n",
        "  ax.plot(t, R, 'g', alpha=0.7, linewidth=2, label='Recovered')\n",
        "  ax.set_xlabel('Time (days)')\n",
        "  ax.yaxis.set_tick_params(length=0)\n",
        "  ax.xaxis.set_tick_params(length=0)\n",
        "  ax.grid(b=True, which='major', c='w', lw=2, ls='-')\n",
        "  legend = ax.legend()\n",
        "  legend.get_frame().set_alpha(0.5)\n",
        "  for spine in ('top', 'right', 'bottom', 'left'):\n",
        "      ax.spines[spine].set_visible(False)\n",
        "  plt.show();"
      ],
      "execution_count": 3,
      "outputs": []
    },
    {
      "cell_type": "code",
      "metadata": {
        "id": "T0zByu9t_AxY",
        "colab_type": "code",
        "colab": {}
      },
      "source": [
        "\"\"\" gamma is a list of 1000 random number in (0,1) \"\"\"\n",
        "\n",
        "import random\n",
        "gamma = []\n",
        "for i in range(1000):\n",
        "    gamma.append(random.uniform(0, 1))\n",
        "    \n"
      ],
      "execution_count": 4,
      "outputs": []
    },
    {
      "cell_type": "code",
      "metadata": {
        "id": "1Mb-6g7pmFHF",
        "colab_type": "code",
        "colab": {}
      },
      "source": [
        "\"\"\" multiplier is a list of 1000 random number in (1,3) \"\"\"\n",
        "\n",
        "import random\n",
        "multiplier = []\n",
        "for i in range(1000):\n",
        "    multiplier.append(random.uniform(1,3))\n",
        "    \n"
      ],
      "execution_count": 5,
      "outputs": []
    },
    {
      "cell_type": "code",
      "metadata": {
        "id": "SQai82rJBYEj",
        "colab_type": "code",
        "colab": {}
      },
      "source": [
        "\"\"\" beta is (1,3) times of gamma values \"\"\"\n",
        "# Multiplying two lists \n",
        "beta = [] \n",
        "for i in range(1000): \n",
        "    beta.append(gamma[i] * multiplier[i]) "
      ],
      "execution_count": 6,
      "outputs": []
    },
    {
      "cell_type": "code",
      "metadata": {
        "id": "cq0qRsEj_DMb",
        "colab_type": "code",
        "colab": {}
      },
      "source": [
        "\"\"\" P, Q, M are the list of S, I, R respectievely calculated for 100 days for each of  1000 sets of parameter (beta,gamma).\"\"\"\n",
        "    \n",
        "P = []\n",
        "Q = []\n",
        "M  = []\n",
        "for i in range(1000): #Plotted for 2 sets\n",
        "  N = 1000\n",
        "  S0, I0, R0 = 999, 1, 0  # initial conditions: one infected, rest susceptible\n",
        "  t = np.linspace(0, 99, 100) # Grid of time points (in days)\n",
        "  y0 = S0, I0, R0 # Initial conditions vector\n",
        "  # Integrate the SIR equations over the time grid, t.\n",
        "  ret = odeint(deriv, y0, t, args=(N, beta[i], gamma[i]))\n",
        "  S, I, R = ret.T\n",
        "  P.append(S)\n",
        "  Q.append(I)\n",
        "  M.append(R)\n",
        "\n",
        "  "
      ],
      "execution_count": 7,
      "outputs": []
    },
    {
      "cell_type": "code",
      "metadata": {
        "id": "YFQlUxqA6uRl",
        "colab_type": "code",
        "colab": {}
      },
      "source": [
        "Gamma = pd.DataFrame(gamma)"
      ],
      "execution_count": 8,
      "outputs": []
    },
    {
      "cell_type": "code",
      "metadata": {
        "id": "t6yaS3N2-Z3n",
        "colab_type": "code",
        "colab": {}
      },
      "source": [
        "beta_list = []\n",
        "for i in range(1000):\n",
        "  beta_list.append(beta[i])  \n",
        "Beta = pd.DataFrame(beta_list)    "
      ],
      "execution_count": 9,
      "outputs": []
    },
    {
      "cell_type": "code",
      "metadata": {
        "id": "B3TshUSGPk4k",
        "colab_type": "code",
        "colab": {}
      },
      "source": [
        "\"\"\" list to dataftrame \"\"\"\n",
        "\n",
        "S_value = pd.DataFrame(P)\n",
        "I_value = pd.DataFrame(Q)\n",
        "R_value = pd.DataFrame(M)"
      ],
      "execution_count": 10,
      "outputs": []
    },
    {
      "cell_type": "code",
      "metadata": {
        "id": "dZMw1tL3hKC7",
        "colab_type": "code",
        "colab": {}
      },
      "source": [
        "\"\"\" S_list, I_list, R_list are the list of S, I, R respectievely chosen for 1 random values of days for each of the rows and there are such 1000 rows, \n",
        "    hence, S_list, I_list, R_list is a list of 1000 items and each item itself list of 1 values \n",
        "    and S_next_list, I_next_list, R_next_list are list of S, I, R respectively for (day +1) value for each of 1 days for each of 1000 rows   \"\"\"\n",
        "S_list = []\n",
        "S_next_list = []\n",
        "I_list = []\n",
        "I_next_list = []\n",
        "R_list = []\n",
        "R_next_list = []\n",
        "for i in range(1000):\n",
        "  p = sample(range(0, 99), 1)\n",
        "  S_list.append(S_value[p].iloc[i].to_list())\n",
        "  S_next_list.append(S_value[[x+1 for x in p]].iloc[i].to_list())\n",
        "  I_list.append(I_value[p].iloc[i].to_list())\n",
        "  I_next_list.append(I_value[[x+1 for x in p]].iloc[i].to_list())\n",
        "  R_list.append(R_value[p].iloc[i].to_list())\n",
        "  R_next_list.append(R_value[[x+1 for x in p]].iloc[i].to_list())\n",
        "  \n"
      ],
      "execution_count": 11,
      "outputs": []
    },
    {
      "cell_type": "code",
      "metadata": {
        "id": "HEoE5Geh9UcJ",
        "colab_type": "code",
        "colab": {}
      },
      "source": [
        "\"\"\" merging 1000 lists each of 1 items into a single list of 1000 item \"\"\"\n",
        "\n",
        "sus_list = []\n",
        "for i in range(1000):\n",
        " sus_list = sus_list+S_list[i]\n",
        "\n",
        "infected_list = []\n",
        "for i in range(1000):\n",
        " infected_list = infected_list+I_list[i] \n",
        "\n",
        "recov_list = []\n",
        "for i in range(1000):\n",
        " recov_list = recov_list+R_list[i]\n",
        "  \n",
        "susnext_list = []\n",
        "for i in range(1000):\n",
        " susnext_list = susnext_list+S_next_list[i]\n",
        "\n",
        "infectednext_list = []\n",
        "for i in range(1000):\n",
        " infectednext_list = infectednext_list+I_next_list[i]  \n",
        "\n",
        "recovnext_list = []\n",
        "for i in range(1000):\n",
        " recovnext_list = recovnext_list+R_next_list[i]\n"
      ],
      "execution_count": 12,
      "outputs": []
    },
    {
      "cell_type": "code",
      "metadata": {
        "id": "ktjoaT1cl8jC",
        "colab_type": "code",
        "colab": {}
      },
      "source": [
        "df_1 = pd.DataFrame(sus_list)\n",
        "df_2 = pd.DataFrame(infected_list)\n",
        "df_3 = pd.DataFrame(recov_list)\n",
        "df_4 = pd.DataFrame(susnext_list)\n",
        "df_5 = pd.DataFrame(infectednext_list)\n",
        "df_6 = pd.DataFrame(recovnext_list)\n"
      ],
      "execution_count": 13,
      "outputs": []
    },
    {
      "cell_type": "code",
      "metadata": {
        "id": "R53Raf7wpBwz",
        "colab_type": "code",
        "colab": {
          "base_uri": "https://localhost:8080/",
          "height": 402
        },
        "outputId": "a4c4b719-634f-4b93-ab38-d0183e56342f"
      },
      "source": [
        "data = pd.concat([df_1, df_2,df_3,df_4,df_5,df_6,Beta,Gamma], axis=1)\n",
        "data.columns = range(data.shape[1])\n",
        "data"
      ],
      "execution_count": 14,
      "outputs": [
        {
          "output_type": "execute_result",
          "data": {
            "text/html": [
              "<div>\n",
              "<style scoped>\n",
              "    .dataframe tbody tr th:only-of-type {\n",
              "        vertical-align: middle;\n",
              "    }\n",
              "\n",
              "    .dataframe tbody tr th {\n",
              "        vertical-align: top;\n",
              "    }\n",
              "\n",
              "    .dataframe thead th {\n",
              "        text-align: right;\n",
              "    }\n",
              "</style>\n",
              "<table border=\"1\" class=\"dataframe\">\n",
              "  <thead>\n",
              "    <tr style=\"text-align: right;\">\n",
              "      <th></th>\n",
              "      <th>0</th>\n",
              "      <th>1</th>\n",
              "      <th>2</th>\n",
              "      <th>3</th>\n",
              "      <th>4</th>\n",
              "      <th>5</th>\n",
              "      <th>6</th>\n",
              "      <th>7</th>\n",
              "    </tr>\n",
              "  </thead>\n",
              "  <tbody>\n",
              "    <tr>\n",
              "      <th>0</th>\n",
              "      <td>945.069001</td>\n",
              "      <td>1.347825e+00</td>\n",
              "      <td>53.583174</td>\n",
              "      <td>944.311760</td>\n",
              "      <td>1.331130e+00</td>\n",
              "      <td>54.357109</td>\n",
              "      <td>0.598409</td>\n",
              "      <td>0.577775</td>\n",
              "    </tr>\n",
              "    <tr>\n",
              "      <th>1</th>\n",
              "      <td>175.912599</td>\n",
              "      <td>-3.260603e-10</td>\n",
              "      <td>824.087401</td>\n",
              "      <td>175.912599</td>\n",
              "      <td>-3.289729e-10</td>\n",
              "      <td>824.087401</td>\n",
              "      <td>1.346750</td>\n",
              "      <td>0.639026</td>\n",
              "    </tr>\n",
              "    <tr>\n",
              "      <th>2</th>\n",
              "      <td>106.871225</td>\n",
              "      <td>-1.583401e-11</td>\n",
              "      <td>893.128775</td>\n",
              "      <td>106.871225</td>\n",
              "      <td>-1.503175e-11</td>\n",
              "      <td>893.128775</td>\n",
              "      <td>2.210951</td>\n",
              "      <td>0.883467</td>\n",
              "    </tr>\n",
              "    <tr>\n",
              "      <th>3</th>\n",
              "      <td>989.520712</td>\n",
              "      <td>6.811047e+00</td>\n",
              "      <td>3.668240</td>\n",
              "      <td>986.906367</td>\n",
              "      <td>8.407525e+00</td>\n",
              "      <td>4.686108</td>\n",
              "      <td>0.348928</td>\n",
              "      <td>0.134250</td>\n",
              "    </tr>\n",
              "    <tr>\n",
              "      <th>4</th>\n",
              "      <td>149.541796</td>\n",
              "      <td>2.356576e+01</td>\n",
              "      <td>826.892440</td>\n",
              "      <td>147.401759</td>\n",
              "      <td>1.943001e+01</td>\n",
              "      <td>833.168227</td>\n",
              "      <td>0.672484</td>\n",
              "      <td>0.292796</td>\n",
              "    </tr>\n",
              "    <tr>\n",
              "      <th>...</th>\n",
              "      <td>...</td>\n",
              "      <td>...</td>\n",
              "      <td>...</td>\n",
              "      <td>...</td>\n",
              "      <td>...</td>\n",
              "      <td>...</td>\n",
              "      <td>...</td>\n",
              "      <td>...</td>\n",
              "    </tr>\n",
              "    <tr>\n",
              "      <th>995</th>\n",
              "      <td>231.891148</td>\n",
              "      <td>1.526655e-09</td>\n",
              "      <td>768.108852</td>\n",
              "      <td>231.891148</td>\n",
              "      <td>1.052453e-09</td>\n",
              "      <td>768.108852</td>\n",
              "      <td>1.313644</td>\n",
              "      <td>0.690880</td>\n",
              "    </tr>\n",
              "    <tr>\n",
              "      <th>996</th>\n",
              "      <td>257.426974</td>\n",
              "      <td>9.460264e-05</td>\n",
              "      <td>742.572931</td>\n",
              "      <td>257.426942</td>\n",
              "      <td>5.766162e-05</td>\n",
              "      <td>742.573001</td>\n",
              "      <td>1.706201</td>\n",
              "      <td>0.934337</td>\n",
              "    </tr>\n",
              "    <tr>\n",
              "      <th>997</th>\n",
              "      <td>79.007226</td>\n",
              "      <td>5.998961e-08</td>\n",
              "      <td>920.992774</td>\n",
              "      <td>79.007226</td>\n",
              "      <td>3.142575e-08</td>\n",
              "      <td>920.992774</td>\n",
              "      <td>2.213769</td>\n",
              "      <td>0.803584</td>\n",
              "    </tr>\n",
              "    <tr>\n",
              "      <th>998</th>\n",
              "      <td>992.510131</td>\n",
              "      <td>5.292730e+00</td>\n",
              "      <td>2.197139</td>\n",
              "      <td>959.537398</td>\n",
              "      <td>2.687586e+01</td>\n",
              "      <td>13.586740</td>\n",
              "      <td>2.526652</td>\n",
              "      <td>0.851762</td>\n",
              "    </tr>\n",
              "    <tr>\n",
              "      <th>999</th>\n",
              "      <td>104.985942</td>\n",
              "      <td>2.097489e-03</td>\n",
              "      <td>895.011960</td>\n",
              "      <td>104.985745</td>\n",
              "      <td>1.549051e-03</td>\n",
              "      <td>895.012706</td>\n",
              "      <td>1.037015</td>\n",
              "      <td>0.411971</td>\n",
              "    </tr>\n",
              "  </tbody>\n",
              "</table>\n",
              "<p>1000 rows × 8 columns</p>\n",
              "</div>"
            ],
            "text/plain": [
              "              0             1           2  ...           5         6         7\n",
              "0    945.069001  1.347825e+00   53.583174  ...   54.357109  0.598409  0.577775\n",
              "1    175.912599 -3.260603e-10  824.087401  ...  824.087401  1.346750  0.639026\n",
              "2    106.871225 -1.583401e-11  893.128775  ...  893.128775  2.210951  0.883467\n",
              "3    989.520712  6.811047e+00    3.668240  ...    4.686108  0.348928  0.134250\n",
              "4    149.541796  2.356576e+01  826.892440  ...  833.168227  0.672484  0.292796\n",
              "..          ...           ...         ...  ...         ...       ...       ...\n",
              "995  231.891148  1.526655e-09  768.108852  ...  768.108852  1.313644  0.690880\n",
              "996  257.426974  9.460264e-05  742.572931  ...  742.573001  1.706201  0.934337\n",
              "997   79.007226  5.998961e-08  920.992774  ...  920.992774  2.213769  0.803584\n",
              "998  992.510131  5.292730e+00    2.197139  ...   13.586740  2.526652  0.851762\n",
              "999  104.985942  2.097489e-03  895.011960  ...  895.012706  1.037015  0.411971\n",
              "\n",
              "[1000 rows x 8 columns]"
            ]
          },
          "metadata": {
            "tags": []
          },
          "execution_count": 14
        }
      ]
    },
    {
      "cell_type": "code",
      "metadata": {
        "id": "W4w_kB7zOk7D",
        "colab_type": "code",
        "colab": {}
      },
      "source": [
        "from sklearn import preprocessing\n",
        "float_array = data[[0,1,2,3,4,5,6,7]].values.astype(float)\n",
        "min_max_scaler = preprocessing.MinMaxScaler()\n",
        "scaled_array = min_max_scaler.fit_transform(float_array)"
      ],
      "execution_count": 15,
      "outputs": []
    },
    {
      "cell_type": "code",
      "metadata": {
        "id": "dJUcjuK-Otkh",
        "colab_type": "code",
        "colab": {
          "base_uri": "https://localhost:8080/",
          "height": 402
        },
        "outputId": "b0889a81-8f57-450a-f879-9ec7f6f88be0"
      },
      "source": [
        "data_scaled = pd.DataFrame(scaled_array)\n",
        "data_scaled"
      ],
      "execution_count": 16,
      "outputs": [
        {
          "output_type": "execute_result",
          "data": {
            "text/html": [
              "<div>\n",
              "<style scoped>\n",
              "    .dataframe tbody tr th:only-of-type {\n",
              "        vertical-align: middle;\n",
              "    }\n",
              "\n",
              "    .dataframe tbody tr th {\n",
              "        vertical-align: top;\n",
              "    }\n",
              "\n",
              "    .dataframe thead th {\n",
              "        text-align: right;\n",
              "    }\n",
              "</style>\n",
              "<table border=\"1\" class=\"dataframe\">\n",
              "  <thead>\n",
              "    <tr style=\"text-align: right;\">\n",
              "      <th></th>\n",
              "      <th>0</th>\n",
              "      <th>1</th>\n",
              "      <th>2</th>\n",
              "      <th>3</th>\n",
              "      <th>4</th>\n",
              "      <th>5</th>\n",
              "      <th>6</th>\n",
              "      <th>7</th>\n",
              "    </tr>\n",
              "  </thead>\n",
              "  <tbody>\n",
              "    <tr>\n",
              "      <th>0</th>\n",
              "      <td>0.942598</td>\n",
              "      <td>4.496970e-03</td>\n",
              "      <td>0.056972</td>\n",
              "      <td>0.941799</td>\n",
              "      <td>4.438824e-03</td>\n",
              "      <td>0.057791</td>\n",
              "      <td>0.209860</td>\n",
              "      <td>0.577828</td>\n",
              "    </tr>\n",
              "    <tr>\n",
              "      <th>1</th>\n",
              "      <td>0.123932</td>\n",
              "      <td>7.523044e-13</td>\n",
              "      <td>0.876200</td>\n",
              "      <td>0.123933</td>\n",
              "      <td>7.643741e-13</td>\n",
              "      <td>0.876200</td>\n",
              "      <td>0.472363</td>\n",
              "      <td>0.639091</td>\n",
              "    </tr>\n",
              "    <tr>\n",
              "      <th>2</th>\n",
              "      <td>0.050447</td>\n",
              "      <td>1.787363e-12</td>\n",
              "      <td>0.949608</td>\n",
              "      <td>0.050447</td>\n",
              "      <td>1.811251e-12</td>\n",
              "      <td>0.949607</td>\n",
              "      <td>0.775506</td>\n",
              "      <td>0.883579</td>\n",
              "    </tr>\n",
              "    <tr>\n",
              "      <th>3</th>\n",
              "      <td>0.989911</td>\n",
              "      <td>2.272482e-02</td>\n",
              "      <td>0.003900</td>\n",
              "      <td>0.987136</td>\n",
              "      <td>2.803597e-02</td>\n",
              "      <td>0.004979</td>\n",
              "      <td>0.122347</td>\n",
              "      <td>0.134218</td>\n",
              "    </tr>\n",
              "    <tr>\n",
              "      <th>4</th>\n",
              "      <td>0.095864</td>\n",
              "      <td>7.862632e-02</td>\n",
              "      <td>0.879183</td>\n",
              "      <td>0.093587</td>\n",
              "      <td>6.479186e-02</td>\n",
              "      <td>0.885855</td>\n",
              "      <td>0.235844</td>\n",
              "      <td>0.292794</td>\n",
              "    </tr>\n",
              "    <tr>\n",
              "      <th>...</th>\n",
              "      <td>...</td>\n",
              "      <td>...</td>\n",
              "      <td>...</td>\n",
              "      <td>...</td>\n",
              "      <td>...</td>\n",
              "      <td>...</td>\n",
              "      <td>...</td>\n",
              "      <td>...</td>\n",
              "    </tr>\n",
              "    <tr>\n",
              "      <th>995</th>\n",
              "      <td>0.183514</td>\n",
              "      <td>6.933821e-12</td>\n",
              "      <td>0.816682</td>\n",
              "      <td>0.183515</td>\n",
              "      <td>5.370916e-12</td>\n",
              "      <td>0.816681</td>\n",
              "      <td>0.460749</td>\n",
              "      <td>0.690956</td>\n",
              "    </tr>\n",
              "    <tr>\n",
              "      <th>996</th>\n",
              "      <td>0.210693</td>\n",
              "      <td>3.156402e-07</td>\n",
              "      <td>0.789531</td>\n",
              "      <td>0.210695</td>\n",
              "      <td>1.922819e-07</td>\n",
              "      <td>0.789530</td>\n",
              "      <td>0.598450</td>\n",
              "      <td>0.934459</td>\n",
              "    </tr>\n",
              "    <tr>\n",
              "      <th>997</th>\n",
              "      <td>0.020789</td>\n",
              "      <td>2.019934e-10</td>\n",
              "      <td>0.979234</td>\n",
              "      <td>0.020789</td>\n",
              "      <td>1.066546e-10</td>\n",
              "      <td>0.979233</td>\n",
              "      <td>0.776495</td>\n",
              "      <td>0.803681</td>\n",
              "    </tr>\n",
              "    <tr>\n",
              "      <th>998</th>\n",
              "      <td>0.993092</td>\n",
              "      <td>1.765900e-02</td>\n",
              "      <td>0.002336</td>\n",
              "      <td>0.958005</td>\n",
              "      <td>8.962099e-02</td>\n",
              "      <td>0.014443</td>\n",
              "      <td>0.886248</td>\n",
              "      <td>0.851868</td>\n",
              "    </tr>\n",
              "    <tr>\n",
              "      <th>999</th>\n",
              "      <td>0.048440</td>\n",
              "      <td>6.998200e-06</td>\n",
              "      <td>0.951610</td>\n",
              "      <td>0.048440</td>\n",
              "      <td>5.165509e-06</td>\n",
              "      <td>0.951610</td>\n",
              "      <td>0.363714</td>\n",
              "      <td>0.411992</td>\n",
              "    </tr>\n",
              "  </tbody>\n",
              "</table>\n",
              "<p>1000 rows × 8 columns</p>\n",
              "</div>"
            ],
            "text/plain": [
              "            0             1         2  ...         5         6         7\n",
              "0    0.942598  4.496970e-03  0.056972  ...  0.057791  0.209860  0.577828\n",
              "1    0.123932  7.523044e-13  0.876200  ...  0.876200  0.472363  0.639091\n",
              "2    0.050447  1.787363e-12  0.949608  ...  0.949607  0.775506  0.883579\n",
              "3    0.989911  2.272482e-02  0.003900  ...  0.004979  0.122347  0.134218\n",
              "4    0.095864  7.862632e-02  0.879183  ...  0.885855  0.235844  0.292794\n",
              "..        ...           ...       ...  ...       ...       ...       ...\n",
              "995  0.183514  6.933821e-12  0.816682  ...  0.816681  0.460749  0.690956\n",
              "996  0.210693  3.156402e-07  0.789531  ...  0.789530  0.598450  0.934459\n",
              "997  0.020789  2.019934e-10  0.979234  ...  0.979233  0.776495  0.803681\n",
              "998  0.993092  1.765900e-02  0.002336  ...  0.014443  0.886248  0.851868\n",
              "999  0.048440  6.998200e-06  0.951610  ...  0.951610  0.363714  0.411992\n",
              "\n",
              "[1000 rows x 8 columns]"
            ]
          },
          "metadata": {
            "tags": []
          },
          "execution_count": 16
        }
      ]
    },
    {
      "cell_type": "code",
      "metadata": {
        "id": "hCkmpuGzV99k",
        "colab_type": "code",
        "colab": {}
      },
      "source": [
        "X = data_scaled[[0,1,2,3,4,5]]\n",
        "y = data_scaled[[6,7]]\n",
        "from sklearn.model_selection import train_test_split\n",
        "X_train, X_test, y_train, y_test = train_test_split(X, y, test_size=0.2, random_state=42)"
      ],
      "execution_count": 19,
      "outputs": []
    },
    {
      "cell_type": "code",
      "metadata": {
        "id": "oYGV_pFvqOYd",
        "colab_type": "code",
        "colab": {}
      },
      "source": [
        "from sklearn.model_selection import train_test_split\n",
        "X_dev, X_test_1, y_dev, y_test_1 = train_test_split(X_test, y_test, test_size=0.5, random_state=42)"
      ],
      "execution_count": 18,
      "outputs": []
    },
    {
      "cell_type": "code",
      "metadata": {
        "id": "E0YEclP2Khtz",
        "colab_type": "code",
        "colab": {}
      },
      "source": [
        "from sklearn.linear_model import LinearRegression\n",
        "from sklearn.metrics import mean_squared_error, r2_score\n",
        "from sklearn.preprocessing import PolynomialFeatures\n",
        "import operator"
      ],
      "execution_count": 37,
      "outputs": []
    },
    {
      "cell_type": "code",
      "metadata": {
        "id": "NcY_NgFYeJl_",
        "colab_type": "code",
        "colab": {
          "base_uri": "https://localhost:8080/",
          "height": 354
        },
        "outputId": "7b5b1cad-2058-4808-ffe4-8a75e63b0ee0"
      },
      "source": [
        "import xgboost as xgb\n",
        "dtrain = xgb.DMatrix(X_train, label=y_train)\n",
        "ddev = xgb.DMatrix(X_dev, label=y_dev)\n",
        "dtest1 = xgb.DMatrix(X_test_1, label=y_test_1)"
      ],
      "execution_count": 63,
      "outputs": [
        {
          "output_type": "error",
          "ename": "ValueError",
          "evalue": "ignored",
          "traceback": [
            "\u001b[0;31m---------------------------------------------------------------------------\u001b[0m",
            "\u001b[0;31mValueError\u001b[0m                                Traceback (most recent call last)",
            "\u001b[0;32m<ipython-input-63-0348ef1cfb35>\u001b[0m in \u001b[0;36m<module>\u001b[0;34m()\u001b[0m\n\u001b[1;32m      1\u001b[0m \u001b[0;32mimport\u001b[0m \u001b[0mxgboost\u001b[0m \u001b[0;32mas\u001b[0m \u001b[0mxgb\u001b[0m\u001b[0;34m\u001b[0m\u001b[0;34m\u001b[0m\u001b[0m\n\u001b[0;32m----> 2\u001b[0;31m \u001b[0mdtrain\u001b[0m \u001b[0;34m=\u001b[0m \u001b[0mxgb\u001b[0m\u001b[0;34m.\u001b[0m\u001b[0mDMatrix\u001b[0m\u001b[0;34m(\u001b[0m\u001b[0mX_train\u001b[0m\u001b[0;34m,\u001b[0m \u001b[0mlabel\u001b[0m\u001b[0;34m=\u001b[0m\u001b[0my_train\u001b[0m\u001b[0;34m)\u001b[0m\u001b[0;34m\u001b[0m\u001b[0;34m\u001b[0m\u001b[0m\n\u001b[0m\u001b[1;32m      3\u001b[0m \u001b[0mddev\u001b[0m \u001b[0;34m=\u001b[0m \u001b[0mxgb\u001b[0m\u001b[0;34m.\u001b[0m\u001b[0mDMatrix\u001b[0m\u001b[0;34m(\u001b[0m\u001b[0mX_dev\u001b[0m\u001b[0;34m,\u001b[0m \u001b[0mlabel\u001b[0m\u001b[0;34m=\u001b[0m\u001b[0my_dev\u001b[0m\u001b[0;34m)\u001b[0m\u001b[0;34m\u001b[0m\u001b[0;34m\u001b[0m\u001b[0m\n\u001b[1;32m      4\u001b[0m \u001b[0mdtest1\u001b[0m \u001b[0;34m=\u001b[0m \u001b[0mxgb\u001b[0m\u001b[0;34m.\u001b[0m\u001b[0mDMatrix\u001b[0m\u001b[0;34m(\u001b[0m\u001b[0mX_test_1\u001b[0m\u001b[0;34m,\u001b[0m \u001b[0mlabel\u001b[0m\u001b[0;34m=\u001b[0m\u001b[0my_test_1\u001b[0m\u001b[0;34m)\u001b[0m\u001b[0;34m\u001b[0m\u001b[0;34m\u001b[0m\u001b[0m\n",
            "\u001b[0;32m/usr/local/lib/python3.6/dist-packages/xgboost/core.py\u001b[0m in \u001b[0;36m__init__\u001b[0;34m(self, data, label, missing, weight, silent, feature_names, feature_types, nthread)\u001b[0m\n\u001b[1;32m    383\u001b[0m                                                             \u001b[0mfeature_names\u001b[0m\u001b[0;34m,\u001b[0m\u001b[0;34m\u001b[0m\u001b[0;34m\u001b[0m\u001b[0m\n\u001b[1;32m    384\u001b[0m                                                             feature_types)\n\u001b[0;32m--> 385\u001b[0;31m         \u001b[0mlabel\u001b[0m \u001b[0;34m=\u001b[0m \u001b[0m_maybe_pandas_label\u001b[0m\u001b[0;34m(\u001b[0m\u001b[0mlabel\u001b[0m\u001b[0;34m)\u001b[0m\u001b[0;34m\u001b[0m\u001b[0;34m\u001b[0m\u001b[0m\n\u001b[0m\u001b[1;32m    386\u001b[0m         \u001b[0mlabel\u001b[0m \u001b[0;34m=\u001b[0m \u001b[0m_maybe_dt_array\u001b[0m\u001b[0;34m(\u001b[0m\u001b[0mlabel\u001b[0m\u001b[0;34m)\u001b[0m\u001b[0;34m\u001b[0m\u001b[0;34m\u001b[0m\u001b[0m\n\u001b[1;32m    387\u001b[0m         \u001b[0mweight\u001b[0m \u001b[0;34m=\u001b[0m \u001b[0m_maybe_dt_array\u001b[0m\u001b[0;34m(\u001b[0m\u001b[0mweight\u001b[0m\u001b[0;34m)\u001b[0m\u001b[0;34m\u001b[0m\u001b[0;34m\u001b[0m\u001b[0m\n",
            "\u001b[0;32m/usr/local/lib/python3.6/dist-packages/xgboost/core.py\u001b[0m in \u001b[0;36m_maybe_pandas_label\u001b[0;34m(label)\u001b[0m\n\u001b[1;32m    261\u001b[0m     \u001b[0;32mif\u001b[0m \u001b[0misinstance\u001b[0m\u001b[0;34m(\u001b[0m\u001b[0mlabel\u001b[0m\u001b[0;34m,\u001b[0m \u001b[0mDataFrame\u001b[0m\u001b[0;34m)\u001b[0m\u001b[0;34m:\u001b[0m\u001b[0;34m\u001b[0m\u001b[0;34m\u001b[0m\u001b[0m\n\u001b[1;32m    262\u001b[0m         \u001b[0;32mif\u001b[0m \u001b[0mlen\u001b[0m\u001b[0;34m(\u001b[0m\u001b[0mlabel\u001b[0m\u001b[0;34m.\u001b[0m\u001b[0mcolumns\u001b[0m\u001b[0;34m)\u001b[0m \u001b[0;34m>\u001b[0m \u001b[0;36m1\u001b[0m\u001b[0;34m:\u001b[0m\u001b[0;34m\u001b[0m\u001b[0;34m\u001b[0m\u001b[0m\n\u001b[0;32m--> 263\u001b[0;31m             \u001b[0;32mraise\u001b[0m \u001b[0mValueError\u001b[0m\u001b[0;34m(\u001b[0m\u001b[0;34m'DataFrame for label cannot have multiple columns'\u001b[0m\u001b[0;34m)\u001b[0m\u001b[0;34m\u001b[0m\u001b[0;34m\u001b[0m\u001b[0m\n\u001b[0m\u001b[1;32m    264\u001b[0m \u001b[0;34m\u001b[0m\u001b[0m\n\u001b[1;32m    265\u001b[0m         \u001b[0mlabel_dtypes\u001b[0m \u001b[0;34m=\u001b[0m \u001b[0mlabel\u001b[0m\u001b[0;34m.\u001b[0m\u001b[0mdtypes\u001b[0m\u001b[0;34m\u001b[0m\u001b[0;34m\u001b[0m\u001b[0m\n",
            "\u001b[0;31mValueError\u001b[0m: DataFrame for label cannot have multiple columns"
          ]
        }
      ]
    },
    {
      "cell_type": "code",
      "metadata": {
        "id": "0cnDVWVXea1W",
        "colab_type": "code",
        "colab": {}
      },
      "source": [
        "from sklearn.metrics import mean_absolute_error"
      ],
      "execution_count": null,
      "outputs": []
    },
    {
      "cell_type": "code",
      "metadata": {
        "id": "s01AENUDPbK9",
        "colab_type": "code",
        "colab": {}
      },
      "source": [
        "#default values\n",
        "params = {\n",
        "    # Parameters that we are going to tune.\n",
        "    'max_depth':6,\n",
        "    'min_child_weight': 1,\n",
        "    'eta':.3,\n",
        "    'subsample': 1,\n",
        "    'colsample_bytree': 1,\n",
        "    # Other parameters\n",
        "    'objective':'reg:linear',\n",
        "}"
      ],
      "execution_count": null,
      "outputs": []
    },
    {
      "cell_type": "code",
      "metadata": {
        "id": "ahP6sqMNPu-c",
        "colab_type": "code",
        "colab": {}
      },
      "source": [
        "#added evaluation matrix to param dictionary\n",
        "params['eval_metric'] = \"mae\"\n",
        "\n",
        "num_boost_round = 999\n"
      ],
      "execution_count": null,
      "outputs": []
    },
    {
      "cell_type": "code",
      "metadata": {
        "id": "YQOvkiVLf_Ku",
        "colab_type": "code",
        "colab": {}
      },
      "source": [
        "#gridsearch\n",
        "gridsearch_params = [\n",
        "    (max_depth, min_child_weight)\n",
        "    for max_depth in range(9,12)\n",
        "    for min_child_weight in range(5,8)\n",
        "]"
      ],
      "execution_count": null,
      "outputs": []
    },
    {
      "cell_type": "code",
      "metadata": {
        "id": "xckRo_NPf_Ze",
        "colab_type": "code",
        "colab": {}
      },
      "source": [
        "#Define initial best params and MAE\n",
        "min_mae = float(\"Inf\")\n",
        "best_params = None\n",
        "for max_depth, min_child_weight in gridsearch_params:\n",
        "    print(\"CV with max_depth={}, min_child_weight={}\".format(\n",
        "                             max_depth,\n",
        "                             min_child_weight))\n",
        "    # Update our parameters\n",
        "    params['max_depth'] = max_depth\n",
        "    params['min_child_weight'] = min_child_weight\n",
        "    # Run CV\n",
        "    cv_results = xgb.cv(\n",
        "        params,\n",
        "        dtrain,\n",
        "        num_boost_round=num_boost_round,\n",
        "        seed=42,\n",
        "        nfold=5,\n",
        "        metrics={'mae'},\n",
        "        early_stopping_rounds=10\n",
        "    )\n",
        "    # Update best MAE\n",
        "    mean_mae = cv_results['test-mae-mean'].min()\n",
        "    boost_rounds = cv_results['test-mae-mean'].argmin()\n",
        "    print(\"\\tMAE {} for {} rounds\".format(mean_mae, boost_rounds))\n",
        "    if mean_mae < min_mae:\n",
        "        min_mae = mean_mae\n",
        "        best_params = (max_depth,min_child_weight)\n",
        "print(\"Best params: {}, {}, MAE: {}\".format(best_params[0], best_params[1], min_mae))"
      ],
      "execution_count": null,
      "outputs": []
    },
    {
      "cell_type": "code",
      "metadata": {
        "id": "HnpGBxB5f_m-",
        "colab_type": "code",
        "colab": {}
      },
      "source": [
        "params['max_depth'] = 10\n",
        "params['min_child_weight'] = 5"
      ],
      "execution_count": null,
      "outputs": []
    },
    {
      "cell_type": "code",
      "metadata": {
        "id": "oI46nBezf_0-",
        "colab_type": "code",
        "colab": {}
      },
      "source": [
        "gridsearch_params = [\n",
        "    (subsample, colsample)\n",
        "    for subsample in [i/10. for i in range(7,11)]\n",
        "    for colsample in [i/10. for i in range(7,11)]\n",
        "]"
      ],
      "execution_count": null,
      "outputs": []
    },
    {
      "cell_type": "code",
      "metadata": {
        "id": "uPO285nKgACe",
        "colab_type": "code",
        "colab": {}
      },
      "source": [
        "min_mae = float(\"Inf\")\n",
        "best_params = None\n",
        "# We start by the largest values and go down to the smallest\n",
        "for subsample, colsample in reversed(gridsearch_params):\n",
        "    print(\"CV with subsample={}, colsample={}\".format(\n",
        "                             subsample,\n",
        "                             colsample))\n",
        "    # We update our parameters\n",
        "    params['subsample'] = subsample\n",
        "    params['colsample_bytree'] = colsample\n",
        "    # Run CV\n",
        "    cv_results = xgb.cv(\n",
        "        params,\n",
        "        dtrain,\n",
        "        num_boost_round=num_boost_round,\n",
        "        seed=42,\n",
        "        nfold=5,\n",
        "        metrics={'mae'},\n",
        "        early_stopping_rounds=10\n",
        "    )\n",
        "    # Update best score\n",
        "    mean_mae = cv_results['test-mae-mean'].min()\n",
        "    boost_rounds = cv_results['test-mae-mean'].argmin()\n",
        "    print(\"\\tMAE {} for {} rounds\".format(mean_mae, boost_rounds))\n",
        "    if mean_mae < min_mae:\n",
        "        min_mae = mean_mae\n",
        "        best_params = (subsample,colsample)\n",
        "print(\"Best params: {}, {}, MAE: {}\".format(best_params[0], best_params[1], min_mae))"
      ],
      "execution_count": null,
      "outputs": []
    },
    {
      "cell_type": "code",
      "metadata": {
        "id": "7IWmmJqggAQm",
        "colab_type": "code",
        "colab": {}
      },
      "source": [
        "params['subsample'] = 1\n",
        "params['colsample_bytree'] = 1"
      ],
      "execution_count": null,
      "outputs": []
    },
    {
      "cell_type": "code",
      "metadata": {
        "id": "X95_9JvPhBsP",
        "colab_type": "code",
        "colab": {}
      },
      "source": [
        "%time\n",
        "# This can take some time…\n",
        "min_mae = float(\"Inf\")\n",
        "best_params = None\n",
        "for eta in [.3, .2, .1, .05, .01, .005]:\n",
        "    print(\"CV with eta={}\".format(eta))\n",
        "    # We update our parameters\n",
        "    params['eta'] = eta\n",
        "    # Run and time CV\n",
        "    %time cv_results = xgb.cv(params,dtrain,num_boost_round=num_boost_round,seed=42,nfold=5,metrics=['mae'], early_stopping_rounds=10)\n",
        "    # Update best score\n",
        "    mean_mae = cv_results['test-mae-mean'].min()\n",
        "    boost_rounds = cv_results['test-mae-mean'].argmin()\n",
        "    print(\"\\tMAE {} for {} rounds\\n\".format(mean_mae, boost_rounds))\n",
        "    if mean_mae < min_mae:\n",
        "        min_mae = mean_mae\n",
        "        best_params = eta\n",
        "print(\"Best params: {}, MAE: {}\".format(best_params, min_mae))"
      ],
      "execution_count": null,
      "outputs": []
    },
    {
      "cell_type": "code",
      "metadata": {
        "id": "SPkjzd6ThB8X",
        "colab_type": "code",
        "colab": {}
      },
      "source": [
        "params['eta'] = .2"
      ],
      "execution_count": null,
      "outputs": []
    },
    {
      "cell_type": "code",
      "metadata": {
        "id": "iuS5socHhCOu",
        "colab_type": "code",
        "colab": {}
      },
      "source": [
        "#training model using tuned parameters\n",
        "model = xgb.train(\n",
        "    params,\n",
        "    dtrain,\n",
        "    num_boost_round=num_boost_round,\n",
        "    evals=[(ddev, \"DEV\")],\n",
        "    early_stopping_rounds=10\n",
        ")"
      ],
      "execution_count": null,
      "outputs": []
    },
    {
      "cell_type": "code",
      "metadata": {
        "id": "jncYODG3hCco",
        "colab_type": "code",
        "colab": {}
      },
      "source": [
        "num_boost_round = model.best_iteration + 1\n",
        "best_model = xgb.train(\n",
        "    params,\n",
        "    dtrain,\n",
        "    num_boost_round=num_boost_round,\n",
        "    evals=[(ddev, \"DEV\")]\n",
        ")"
      ],
      "execution_count": null,
      "outputs": []
    },
    {
      "cell_type": "code",
      "metadata": {
        "id": "mRNrUwg4hCrv",
        "colab_type": "code",
        "colab": {}
      },
      "source": [
        "mean_absolute_error(best_model.predict(ddev), y_dev)"
      ],
      "execution_count": null,
      "outputs": []
    },
    {
      "cell_type": "code",
      "metadata": {
        "id": "tv90dXIihC5t",
        "colab_type": "code",
        "colab": {}
      },
      "source": [
        "best_model.save_model(\"my_model.model\")"
      ],
      "execution_count": null,
      "outputs": []
    },
    {
      "cell_type": "code",
      "metadata": {
        "id": "JK7Jt9bYieZP",
        "colab_type": "code",
        "colab": {}
      },
      "source": [
        "loaded_model = xgb.Booster()\n",
        "loaded_model.load_model(\"my_model.model\")\n",
        "# And use it for predictions.\n",
        "y_test_pred = loaded_model.predict(dtest1)\n",
        "y_train_pred = loaded_model.predict(dtrain)"
      ],
      "execution_count": null,
      "outputs": []
    },
    {
      "cell_type": "code",
      "metadata": {
        "id": "e-TmGLbxiem1",
        "colab_type": "code",
        "colab": {}
      },
      "source": [
        "plt.scatter(y_test_1,y_test_pred)"
      ],
      "execution_count": null,
      "outputs": []
    },
    {
      "cell_type": "code",
      "metadata": {
        "id": "RCFYuI2chDIP",
        "colab_type": "code",
        "colab": {}
      },
      "source": [
        "plt.scatter(y_train,y_train_pred)"
      ],
      "execution_count": null,
      "outputs": []
    },
    {
      "cell_type": "code",
      "metadata": {
        "id": "81OFJ_BZnRbO",
        "colab_type": "code",
        "colab": {}
      },
      "source": [
        "rmse_train = np.sqrt(mean_squared_error(y_train,y_train_pred))\n",
        "r2_train = r2_score(y_train, y_train_pred)\n",
        "# evaluating the model on test dataset\n",
        "rmse_test = np.sqrt(mean_squared_error(y_test_1, y_test_pred))\n",
        "r2_test = r2_score(y_test_1, y_test_pred)\n",
        "\n",
        "print(\"The model performance for the training set\")\n",
        "print(\"-------------------------------------------\")\n",
        "print(\"RMSE of training set is {}\".format(rmse_train))\n",
        "print(\"R2 score of training set is {}\".format(r2_train))\n",
        "\n",
        "print(\"\\n\")\n",
        "\n",
        "print(\"The model performance for the test set\")\n",
        "print(\"-------------------------------------------\")\n",
        "print(\"RMSE of test set is {}\".format(rmse_test))\n",
        "print(\"R2 score of test set is {}\".format(r2_test))"
      ],
      "execution_count": null,
      "outputs": []
    },
    {
      "cell_type": "code",
      "metadata": {
        "id": "IzmrZgygpTH_",
        "colab_type": "code",
        "colab": {}
      },
      "source": [
        ""
      ],
      "execution_count": null,
      "outputs": []
    }
  ]
}