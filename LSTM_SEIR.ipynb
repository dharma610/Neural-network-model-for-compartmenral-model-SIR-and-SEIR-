{
  "nbformat": 4,
  "nbformat_minor": 0,
  "metadata": {
    "colab": {
      "name": "Untitled7.ipynb",
      "provenance": [],
      "include_colab_link": true
    },
    "kernelspec": {
      "name": "python3",
      "display_name": "Python 3"
    }
  },
  "cells": [
    {
      "cell_type": "markdown",
      "metadata": {
        "id": "view-in-github",
        "colab_type": "text"
      },
      "source": [
        "<a href=\"https://colab.research.google.com/github/dharma610/Project/blob/master/LSTM_SEIR.ipynb\" target=\"_parent\"><img src=\"https://colab.research.google.com/assets/colab-badge.svg\" alt=\"Open In Colab\"/></a>"
      ]
    },
    {
      "cell_type": "code",
      "metadata": {
        "id": "9geIYv3d-3Rb",
        "colab_type": "code",
        "colab": {
          "base_uri": "https://localhost:8080/",
          "height": 185
        },
        "outputId": "11cf2709-d27d-434f-eb43-3bee4169d6d6"
      },
      "source": [
        "from scipy.integrate import odeint\n",
        "import numpy as np\n",
        "import pandas as pd\n",
        "from random import sample\n",
        "import matplotlib.pyplot as plt\n",
        "%matplotlib inline \n",
        "!pip install mpld3\n",
        "import mpld3\n",
        "mpld3.enable_notebook()"
      ],
      "execution_count": 373,
      "outputs": [
        {
          "output_type": "stream",
          "text": [
            "Requirement already satisfied: mpld3 in /usr/local/lib/python3.6/dist-packages (0.5.1)\n",
            "Requirement already satisfied: jinja2 in /usr/local/lib/python3.6/dist-packages (from mpld3) (2.11.2)\n",
            "Requirement already satisfied: matplotlib in /usr/local/lib/python3.6/dist-packages (from mpld3) (3.2.2)\n",
            "Requirement already satisfied: MarkupSafe>=0.23 in /usr/local/lib/python3.6/dist-packages (from jinja2->mpld3) (1.1.1)\n",
            "Requirement already satisfied: kiwisolver>=1.0.1 in /usr/local/lib/python3.6/dist-packages (from matplotlib->mpld3) (1.2.0)\n",
            "Requirement already satisfied: cycler>=0.10 in /usr/local/lib/python3.6/dist-packages (from matplotlib->mpld3) (0.10.0)\n",
            "Requirement already satisfied: numpy>=1.11 in /usr/local/lib/python3.6/dist-packages (from matplotlib->mpld3) (1.18.5)\n",
            "Requirement already satisfied: python-dateutil>=2.1 in /usr/local/lib/python3.6/dist-packages (from matplotlib->mpld3) (2.8.1)\n",
            "Requirement already satisfied: pyparsing!=2.0.4,!=2.1.2,!=2.1.6,>=2.0.1 in /usr/local/lib/python3.6/dist-packages (from matplotlib->mpld3) (2.4.7)\n",
            "Requirement already satisfied: six in /usr/local/lib/python3.6/dist-packages (from cycler>=0.10->matplotlib->mpld3) (1.15.0)\n"
          ],
          "name": "stdout"
        }
      ]
    },
    {
      "cell_type": "code",
      "metadata": {
        "id": "vGyZypLL-4TT",
        "colab_type": "code",
        "colab": {}
      },
      "source": [
        "def deriv(y, t, N, beta, gamma, alpha, mu):\n",
        "    S, E, I, R = y\n",
        "    dSdt = mu - (beta * S * I) - mu*S\n",
        "    dEdt = (beta * S * I)  - (mu + alpha)*E\n",
        "    dIdt = (alpha*E) - (mu + gamma)*I\n",
        "    dRdt = gamma*I   -  mu*R\n",
        "    return dSdt, dEdt, dIdt, dRdt"
      ],
      "execution_count": 374,
      "outputs": []
    },
    {
      "cell_type": "code",
      "metadata": {
        "id": "T0zByu9t_AxY",
        "colab_type": "code",
        "colab": {}
      },
      "source": [
        "\"\"\" gamma is a list of 1000 random number in (0,1) \"\"\"\n",
        "\n",
        "import random\n",
        "gamma = []\n",
        "for i in range(1000):\n",
        "    gamma.append(random.uniform(0, 1))\n",
        "    \n"
      ],
      "execution_count": 375,
      "outputs": []
    },
    {
      "cell_type": "code",
      "metadata": {
        "id": "rKbT-EMtlTVo",
        "colab_type": "code",
        "colab": {}
      },
      "source": [
        "\"\"\" alpha is a list of 1000 random number in (0.05,1) \"\"\"\n",
        "\n",
        "import random\n",
        "alpha = []\n",
        "for i in range(1000):\n",
        "    alpha.append(random.uniform(0, 1))\n",
        "    \n"
      ],
      "execution_count": 376,
      "outputs": []
    },
    {
      "cell_type": "code",
      "metadata": {
        "id": "SQai82rJBYEj",
        "colab_type": "code",
        "colab": {}
      },
      "source": [
        "\"\"\" multiplier is a list of 1000 random number in (1,3) \"\"\"\n",
        "\n",
        "import random\n",
        "multiplier = []\n",
        "for i in range(1000):\n",
        "    multiplier.append(random.uniform(1,3))"
      ],
      "execution_count": 377,
      "outputs": []
    },
    {
      "cell_type": "code",
      "metadata": {
        "id": "DGDcS-V_k8Nh",
        "colab_type": "code",
        "colab": {}
      },
      "source": [
        "\"\"\" beta is (1,3) times of gamma values \"\"\"\n",
        "# Multiplying two lists \n",
        "beta = [] \n",
        "for i in range(1000): \n",
        "    beta.append(gamma[i] * multiplier[i])"
      ],
      "execution_count": 378,
      "outputs": []
    },
    {
      "cell_type": "code",
      "metadata": {
        "id": "J4PX6OWqlZwQ",
        "colab_type": "code",
        "colab": {}
      },
      "source": [
        "mu =  0.01333   #death or birth rate"
      ],
      "execution_count": 379,
      "outputs": []
    },
    {
      "cell_type": "code",
      "metadata": {
        "id": "cq0qRsEj_DMb",
        "colab_type": "code",
        "colab": {}
      },
      "source": [
        "\"\"\" P, Q, M, T are the list of S, E, I, R respectievely calculated for 100 days for each of  1000 sets of parameter (beta,gamma).\"\"\"\n",
        "    \n",
        "P = []\n",
        "Q = []\n",
        "M = []\n",
        "T = []\n",
        "for i in range(1000): #Plotted for 2 sets\n",
        "  N = 1\n",
        "  S0, E0, I0, R0 = 0.99,0.005,0.005,0   # initial conditions: one infected, rest susceptible\n",
        "  t = np.linspace(0, 99, 100) # Grid of time points (in days)\n",
        "  y0 = S0, E0, I0, R0 # Initial conditions vector\n",
        "  # Integrate the SEIR equations over the time grid, t.\n",
        "  ret = odeint(deriv, y0, t, args=(N, beta[i], gamma[i], alpha[i],mu))\n",
        "  S, E, I, R = ret.T\n",
        "  P.append(S)\n",
        "  Q.append(E)\n",
        "  M.append(I)\n",
        "  T.append(R)\n",
        "\n",
        "  "
      ],
      "execution_count": 380,
      "outputs": []
    },
    {
      "cell_type": "code",
      "metadata": {
        "id": "B3TshUSGPk4k",
        "colab_type": "code",
        "colab": {}
      },
      "source": [
        "\"\"\" list to dataftrame \"\"\"\n",
        "\n",
        "S_value = pd.DataFrame(P)\n",
        "E_value = pd.DataFrame(Q)\n",
        "I_value = pd.DataFrame(M)\n",
        "R_value = pd.DataFrame(T)"
      ],
      "execution_count": 381,
      "outputs": []
    },
    {
      "cell_type": "code",
      "metadata": {
        "id": "iiQ04UPmoMpU",
        "colab_type": "code",
        "colab": {}
      },
      "source": [
        "train  = S_value.iloc[0][0:70]\n",
        "test  = S_value.iloc[0][70:]"
      ],
      "execution_count": 382,
      "outputs": []
    },
    {
      "cell_type": "code",
      "metadata": {
        "id": "gqOQbjBwoe-Z",
        "colab_type": "code",
        "colab": {}
      },
      "source": [
        "train = np.array(train).reshape(70,1)\n",
        "test = np.array(test).reshape(30,1)\n",
        "#train"
      ],
      "execution_count": 383,
      "outputs": []
    },
    {
      "cell_type": "code",
      "metadata": {
        "id": "45S7BgOmVL2S",
        "colab_type": "code",
        "colab": {}
      },
      "source": [
        "from sklearn.preprocessing import MinMaxScaler"
      ],
      "execution_count": 384,
      "outputs": []
    },
    {
      "cell_type": "code",
      "metadata": {
        "id": "Z1WpVu4KmuYz",
        "colab_type": "code",
        "colab": {
          "base_uri": "https://localhost:8080/",
          "height": 34
        },
        "outputId": "28f2014b-abb9-4253-ce46-d6c88a757f8c"
      },
      "source": [
        "scaler = MinMaxScaler()\n",
        "# IGNORE WARNING ITS JUST CONVERTING TO FLOATS\n",
        "# WE ONLY FIT TO TRAININ DATA, OTHERWISE WE ARE CHEATING ASSUMING INFO ABOUT TEST SET\n",
        "scaler.fit(train)"
      ],
      "execution_count": 385,
      "outputs": [
        {
          "output_type": "execute_result",
          "data": {
            "text/plain": [
              "MinMaxScaler(copy=True, feature_range=(0, 1))"
            ]
          },
          "metadata": {
            "tags": []
          },
          "execution_count": 385
        }
      ]
    },
    {
      "cell_type": "code",
      "metadata": {
        "id": "CJcB29kTm0Gg",
        "colab_type": "code",
        "colab": {}
      },
      "source": [
        "scaled_train = scaler.transform(train)\n",
        "scaled_test = scaler.transform(test)"
      ],
      "execution_count": 386,
      "outputs": []
    },
    {
      "cell_type": "code",
      "metadata": {
        "id": "YMDvgkajKsUZ",
        "colab_type": "code",
        "colab": {}
      },
      "source": [
        "from keras.models import Sequential\n",
        "from keras.layers import Dense\n",
        "from keras.layers import LSTM\n",
        "from keras.preprocessing.sequence import TimeseriesGenerator"
      ],
      "execution_count": 387,
      "outputs": []
    },
    {
      "cell_type": "code",
      "metadata": {
        "id": "0X80dXFNLD63",
        "colab_type": "code",
        "colab": {}
      },
      "source": [
        "# define generator\n",
        "n_input = 12\n",
        "n_features = 1\n",
        "generator = TimeseriesGenerator(scaled_train, scaled_train, length=n_input, batch_size=1)"
      ],
      "execution_count": 389,
      "outputs": []
    },
    {
      "cell_type": "code",
      "metadata": {
        "id": "DdnQPzFyKskH",
        "colab_type": "code",
        "colab": {}
      },
      "source": [
        "# What does the first batch look like?\n",
        "X,y = generator[0]"
      ],
      "execution_count": 390,
      "outputs": []
    },
    {
      "cell_type": "code",
      "metadata": {
        "id": "DmSyAnNBKsyv",
        "colab_type": "code",
        "colab": {}
      },
      "source": [
        "\n",
        "# define model\n",
        "model = Sequential()\n",
        "model.add(LSTM(64, activation='relu', input_shape=(n_input, n_features)))\n",
        "model.add(Dense(1))\n",
        "model.compile(optimizer='adam', loss='mse')"
      ],
      "execution_count": 391,
      "outputs": []
    },
    {
      "cell_type": "code",
      "metadata": {
        "id": "dIQuStmlKtAA",
        "colab_type": "code",
        "colab": {
          "base_uri": "https://localhost:8080/",
          "height": 218
        },
        "outputId": "4df0f69b-1b5d-4721-8058-49d4b7bf8acb"
      },
      "source": [
        "model.summary()"
      ],
      "execution_count": 392,
      "outputs": [
        {
          "output_type": "stream",
          "text": [
            "Model: \"sequential_16\"\n",
            "_________________________________________________________________\n",
            "Layer (type)                 Output Shape              Param #   \n",
            "=================================================================\n",
            "lstm_16 (LSTM)               (None, 64)                16896     \n",
            "_________________________________________________________________\n",
            "dense_16 (Dense)             (None, 1)                 65        \n",
            "=================================================================\n",
            "Total params: 16,961\n",
            "Trainable params: 16,961\n",
            "Non-trainable params: 0\n",
            "_________________________________________________________________\n"
          ],
          "name": "stdout"
        }
      ]
    },
    {
      "cell_type": "code",
      "metadata": {
        "id": "5YlC7Y62swlq",
        "colab_type": "code",
        "colab": {
          "base_uri": "https://localhost:8080/",
          "height": 1000
        },
        "outputId": "5cdffc69-c3be-41fd-b359-499dbecc31fd"
      },
      "source": [
        "# fit model\n",
        "model.fit_generator(generator,epochs=50)"
      ],
      "execution_count": 393,
      "outputs": [
        {
          "output_type": "stream",
          "text": [
            "Epoch 1/50\n",
            "58/58 [==============================] - 1s 11ms/step - loss: 0.0263\n",
            "Epoch 2/50\n",
            "58/58 [==============================] - 0s 5ms/step - loss: 5.7862e-04\n",
            "Epoch 3/50\n",
            "58/58 [==============================] - 0s 6ms/step - loss: 1.2290e-04\n",
            "Epoch 4/50\n",
            "58/58 [==============================] - 0s 6ms/step - loss: 1.2364e-04\n",
            "Epoch 5/50\n",
            "58/58 [==============================] - 0s 5ms/step - loss: 2.0644e-04\n",
            "Epoch 6/50\n",
            "58/58 [==============================] - 0s 6ms/step - loss: 4.1261e-05\n",
            "Epoch 7/50\n",
            "58/58 [==============================] - 0s 5ms/step - loss: 3.1844e-05\n",
            "Epoch 8/50\n",
            "58/58 [==============================] - 0s 5ms/step - loss: 3.8925e-05\n",
            "Epoch 9/50\n",
            "58/58 [==============================] - 0s 7ms/step - loss: 4.2406e-05\n",
            "Epoch 10/50\n",
            "58/58 [==============================] - 0s 6ms/step - loss: 6.1412e-05\n",
            "Epoch 11/50\n",
            "58/58 [==============================] - 0s 6ms/step - loss: 2.2409e-05\n",
            "Epoch 12/50\n",
            "58/58 [==============================] - 0s 6ms/step - loss: 4.3836e-05\n",
            "Epoch 13/50\n",
            "58/58 [==============================] - 0s 6ms/step - loss: 1.0714e-04\n",
            "Epoch 14/50\n",
            "58/58 [==============================] - 0s 6ms/step - loss: 2.7615e-05\n",
            "Epoch 15/50\n",
            "58/58 [==============================] - 0s 6ms/step - loss: 2.6541e-05\n",
            "Epoch 16/50\n",
            "58/58 [==============================] - 0s 5ms/step - loss: 1.6519e-05\n",
            "Epoch 17/50\n",
            "58/58 [==============================] - 0s 6ms/step - loss: 1.0060e-05\n",
            "Epoch 18/50\n",
            "58/58 [==============================] - 0s 5ms/step - loss: 2.6984e-05\n",
            "Epoch 19/50\n",
            "58/58 [==============================] - 0s 6ms/step - loss: 3.8020e-05\n",
            "Epoch 20/50\n",
            "58/58 [==============================] - 0s 6ms/step - loss: 1.2855e-04\n",
            "Epoch 21/50\n",
            "58/58 [==============================] - 0s 6ms/step - loss: 1.0936e-04\n",
            "Epoch 22/50\n",
            "58/58 [==============================] - 0s 6ms/step - loss: 1.5285e-05\n",
            "Epoch 23/50\n",
            "58/58 [==============================] - 0s 5ms/step - loss: 2.0826e-05\n",
            "Epoch 24/50\n",
            "58/58 [==============================] - 0s 5ms/step - loss: 3.6265e-05\n",
            "Epoch 25/50\n",
            "58/58 [==============================] - 0s 6ms/step - loss: 2.9717e-05\n",
            "Epoch 26/50\n",
            "58/58 [==============================] - 0s 6ms/step - loss: 1.4383e-05\n",
            "Epoch 27/50\n",
            "58/58 [==============================] - 0s 6ms/step - loss: 1.9215e-05\n",
            "Epoch 28/50\n",
            "58/58 [==============================] - 0s 6ms/step - loss: 2.5228e-05\n",
            "Epoch 29/50\n",
            "58/58 [==============================] - 0s 6ms/step - loss: 2.8005e-04\n",
            "Epoch 30/50\n",
            "58/58 [==============================] - 0s 6ms/step - loss: 3.4263e-04\n",
            "Epoch 31/50\n",
            "58/58 [==============================] - 0s 6ms/step - loss: 1.2888e-04\n",
            "Epoch 32/50\n",
            "58/58 [==============================] - 0s 6ms/step - loss: 2.3786e-05\n",
            "Epoch 33/50\n",
            "58/58 [==============================] - 0s 7ms/step - loss: 1.5155e-05\n",
            "Epoch 34/50\n",
            "58/58 [==============================] - 0s 6ms/step - loss: 2.4861e-05\n",
            "Epoch 35/50\n",
            "58/58 [==============================] - 0s 7ms/step - loss: 1.5129e-05\n",
            "Epoch 36/50\n",
            "58/58 [==============================] - 0s 6ms/step - loss: 3.0117e-05\n",
            "Epoch 37/50\n",
            "58/58 [==============================] - 0s 6ms/step - loss: 1.8180e-05\n",
            "Epoch 38/50\n",
            "58/58 [==============================] - 0s 6ms/step - loss: 1.4531e-05\n",
            "Epoch 39/50\n",
            "58/58 [==============================] - 0s 6ms/step - loss: 1.8786e-05\n",
            "Epoch 40/50\n",
            "58/58 [==============================] - 0s 6ms/step - loss: 9.2027e-05\n",
            "Epoch 41/50\n",
            "58/58 [==============================] - 0s 6ms/step - loss: 4.8481e-05\n",
            "Epoch 42/50\n",
            "58/58 [==============================] - 0s 6ms/step - loss: 7.6816e-05\n",
            "Epoch 43/50\n",
            "58/58 [==============================] - 0s 5ms/step - loss: 4.4552e-05\n",
            "Epoch 44/50\n",
            "58/58 [==============================] - 0s 6ms/step - loss: 7.1243e-04\n",
            "Epoch 45/50\n",
            "58/58 [==============================] - 0s 6ms/step - loss: 3.6857e-05\n",
            "Epoch 46/50\n",
            "58/58 [==============================] - 0s 5ms/step - loss: 1.2052e-04\n",
            "Epoch 47/50\n",
            "58/58 [==============================] - 0s 6ms/step - loss: 2.1853e-04\n",
            "Epoch 48/50\n",
            "58/58 [==============================] - 0s 6ms/step - loss: 4.6849e-05\n",
            "Epoch 49/50\n",
            "58/58 [==============================] - 0s 6ms/step - loss: 5.4510e-05\n",
            "Epoch 50/50\n",
            "58/58 [==============================] - 0s 6ms/step - loss: 8.9701e-06\n"
          ],
          "name": "stdout"
        },
        {
          "output_type": "execute_result",
          "data": {
            "text/plain": [
              "<keras.callbacks.callbacks.History at 0x7f9e7d705780>"
            ]
          },
          "metadata": {
            "tags": []
          },
          "execution_count": 393
        }
      ]
    },
    {
      "cell_type": "code",
      "metadata": {
        "id": "CwcyQdXdKta_",
        "colab_type": "code",
        "colab": {
          "base_uri": "https://localhost:8080/",
          "height": 34
        },
        "outputId": "fc6b5e2b-c407-4691-9473-f2efc123595b"
      },
      "source": [
        "model.history.history.keys()"
      ],
      "execution_count": 394,
      "outputs": [
        {
          "output_type": "execute_result",
          "data": {
            "text/plain": [
              "dict_keys(['loss'])"
            ]
          },
          "metadata": {
            "tags": []
          },
          "execution_count": 394
        }
      ]
    },
    {
      "cell_type": "code",
      "metadata": {
        "id": "2FSJT6kKKtnH",
        "colab_type": "code",
        "colab": {
          "base_uri": "https://localhost:8080/",
          "height": 326
        },
        "outputId": "77081161-cb8b-422e-e02d-35051a181993"
      },
      "source": [
        "loss_per_epoch = model.history.history['loss']\n",
        "plt.plot(range(len(loss_per_epoch)),loss_per_epoch)"
      ],
      "execution_count": 395,
      "outputs": [
        {
          "output_type": "execute_result",
          "data": {
            "text/plain": [
              "[<matplotlib.lines.Line2D at 0x7f9e7e82c1d0>]"
            ]
          },
          "metadata": {
            "tags": []
          },
          "execution_count": 395
        },
        {
          "output_type": "display_data",
          "data": {
            "image/png": "[encoded data removed]",
            "text/html": [
              "\n",
              "\n",
              "<style>\n",
              "\n",
              "</style>\n",
              "\n",
              "<div id=\"fig_el1211403187039711843227223182\"></div>\n",
              "<script>\n",
              "function mpld3_load_lib(url, callback){\n",
              "  var s = document.createElement('script');\n",
              "  s.src = url;\n",
              "  s.async = true;\n",
              "  s.onreadystatechange = s.onload = callback;\n",
              "  s.onerror = function(){console.warn(\"failed to load library \" + url);};\n",
              "  document.getElementsByTagName(\"head\")[0].appendChild(s);\n",
              "}\n",
              "\n",
              "if(typeof(mpld3) !== \"undefined\" && mpld3._mpld3IsLoaded){\n",
              "   // already loaded: just create the figure\n",
              "   !function(mpld3){\n",
              "       \n",
              "       mpld3.draw_figure(\"fig_el1211403187039711843227223182\", {\"width\": 432.0, \"height\": 288.0, \"axes\": [{\"bbox\": [0.125, 0.125, 0.775, 0.755], \"xlim\": [-2.45, 51.45], \"ylim\": [-0.0013045919581008646, 0.027593772301133364], \"xdomain\": [-2.45, 51.45], \"ydomain\": [-0.0013045919581008646, 0.027593772301133364], \"xscale\": \"linear\", \"yscale\": \"linear\", \"axes\": [{\"position\": \"bottom\", \"nticks\": 8, \"tickvalues\": null, \"tickformat_formatter\": \"\", \"tickformat\": null, \"scale\": \"linear\", \"fontsize\": 10.0, \"grid\": {\"gridOn\": false}, \"visible\": true}, {\"position\": \"left\", \"nticks\": 8, \"tickvalues\": null, \"tickformat_formatter\": \"\", \"tickformat\": null, \"scale\": \"linear\", \"fontsize\": 10.0, \"grid\": {\"gridOn\": false}, \"visible\": true}], \"axesbg\": \"#FFFFFF\", \"axesbgalpha\": null, \"zoomable\": true, \"id\": \"el121140318704704760\", \"lines\": [{\"data\": \"data01\", \"xindex\": 0, \"yindex\": 1, \"coordinates\": \"data\", \"id\": \"el121140318704058832\", \"color\": \"#1F77B4\", \"linewidth\": 1.5, \"dasharray\": \"none\", \"alpha\": 1, \"zorder\": 2, \"drawstyle\": \"default\"}], \"paths\": [], \"markers\": [], \"texts\": [], \"collections\": [], \"images\": [], \"sharex\": [], \"sharey\": []}], \"data\": {\"data01\": [[0.0, 0.02628021028934999], [1.0, 0.0005786231358547607], [2.0, 0.00012289673291470662], [3.0, 0.0001236411252437713], [4.0, 0.00020644373843420135], [5.0, 4.1260829897944285e-05], [6.0, 3.1844028578613836e-05], [7.0, 3.892490101454798e-05], [8.0, 4.240610365523057e-05], [9.0, 6.141180986306523e-05], [10.0, 2.2408966673443023e-05], [11.0, 4.3835510836129836e-05], [12.0, 0.00010714436745179659], [13.0, 2.761458887579826e-05], [14.0, 2.6540926237672952e-05], [15.0, 1.65189687417629e-05], [16.0, 1.0059975916788953e-05], [17.0, 2.698389503444652e-05], [18.0, 3.8019918751871765e-05], [19.0, 0.00012854621839006414], [20.0, 0.00010936141640334797], [21.0, 1.5284969727385066e-05], [22.0, 2.0825657354188503e-05], [23.0, 3.626509498811592e-05], [24.0, 2.9716810926568745e-05], [25.0, 1.4383213834301795e-05], [26.0, 1.9215047927012563e-05], [27.0, 2.5228490386369187e-05], [28.0, 0.0002800524979162944], [29.0, 0.00034263455700793085], [30.0, 0.00012888064267051622], [31.0, 2.3786331469270393e-05], [32.0, 1.5154581329915222e-05], [33.0, 2.4860572192374054e-05], [34.0, 1.5129261905499902e-05], [35.0, 3.0117098978817482e-05], [36.0, 1.8180290598546968e-05], [37.0, 1.4531478086196688e-05], [38.0, 1.878580306695785e-05], [39.0, 9.202736788242785e-05], [40.0, 4.848144031572318e-05], [41.0, 7.681640805082938e-05], [42.0, 4.455179804127669e-05], [43.0, 0.0007124254988151398], [44.0, 3.685680766929816e-05], [45.0, 0.000120520752431894], [46.0, 0.00021853455186970905], [47.0, 4.684861066183116e-05], [48.0, 5.4509872149419256e-05], [49.0, 8.970053682509495e-06]]}, \"id\": \"el121140318703971184\", \"plugins\": [{\"type\": \"reset\"}, {\"type\": \"zoom\", \"button\": true, \"enabled\": false}, {\"type\": \"boxzoom\", \"button\": true, \"enabled\": false}]});\n",
              "   }(mpld3);\n",
              "}else if(typeof define === \"function\" && define.amd){\n",
              "   // require.js is available: use it to load d3/mpld3\n",
              "   require.config({paths: {d3: \"https://d3js.org/d3.v5\"}});\n",
              "   require([\"d3\"], function(d3){\n",
              "      window.d3 = d3;\n",
              "      mpld3_load_lib(\"https://mpld3.github.io/js/mpld3.v0.5.1.js\", function(){\n",
              "         \n",
              "         mpld3.draw_figure(\"fig_el1211403187039711843227223182\", {\"width\": 432.0, \"height\": 288.0, \"axes\": [{\"bbox\": [0.125, 0.125, 0.775, 0.755], \"xlim\": [-2.45, 51.45], \"ylim\": [-0.0013045919581008646, 0.027593772301133364], \"xdomain\": [-2.45, 51.45], \"ydomain\": [-0.0013045919581008646, 0.027593772301133364], \"xscale\": \"linear\", \"yscale\": \"linear\", \"axes\": [{\"position\": \"bottom\", \"nticks\": 8, \"tickvalues\": null, \"tickformat_formatter\": \"\", \"tickformat\": null, \"scale\": \"linear\", \"fontsize\": 10.0, \"grid\": {\"gridOn\": false}, \"visible\": true}, {\"position\": \"left\", \"nticks\": 8, \"tickvalues\": null, \"tickformat_formatter\": \"\", \"tickformat\": null, \"scale\": \"linear\", \"fontsize\": 10.0, \"grid\": {\"gridOn\": false}, \"visible\": true}], \"axesbg\": \"#FFFFFF\", \"axesbgalpha\": null, \"zoomable\": true, \"id\": \"el121140318704704760\", \"lines\": [{\"data\": \"data01\", \"xindex\": 0, \"yindex\": 1, \"coordinates\": \"data\", \"id\": \"el121140318704058832\", \"color\": \"#1F77B4\", \"linewidth\": 1.5, \"dasharray\": \"none\", \"alpha\": 1, \"zorder\": 2, \"drawstyle\": \"default\"}], \"paths\": [], \"markers\": [], \"texts\": [], \"collections\": [], \"images\": [], \"sharex\": [], \"sharey\": []}], \"data\": {\"data01\": [[0.0, 0.02628021028934999], [1.0, 0.0005786231358547607], [2.0, 0.00012289673291470662], [3.0, 0.0001236411252437713], [4.0, 0.00020644373843420135], [5.0, 4.1260829897944285e-05], [6.0, 3.1844028578613836e-05], [7.0, 3.892490101454798e-05], [8.0, 4.240610365523057e-05], [9.0, 6.141180986306523e-05], [10.0, 2.2408966673443023e-05], [11.0, 4.3835510836129836e-05], [12.0, 0.00010714436745179659], [13.0, 2.761458887579826e-05], [14.0, 2.6540926237672952e-05], [15.0, 1.65189687417629e-05], [16.0, 1.0059975916788953e-05], [17.0, 2.698389503444652e-05], [18.0, 3.8019918751871765e-05], [19.0, 0.00012854621839006414], [20.0, 0.00010936141640334797], [21.0, 1.5284969727385066e-05], [22.0, 2.0825657354188503e-05], [23.0, 3.626509498811592e-05], [24.0, 2.9716810926568745e-05], [25.0, 1.4383213834301795e-05], [26.0, 1.9215047927012563e-05], [27.0, 2.5228490386369187e-05], [28.0, 0.0002800524979162944], [29.0, 0.00034263455700793085], [30.0, 0.00012888064267051622], [31.0, 2.3786331469270393e-05], [32.0, 1.5154581329915222e-05], [33.0, 2.4860572192374054e-05], [34.0, 1.5129261905499902e-05], [35.0, 3.0117098978817482e-05], [36.0, 1.8180290598546968e-05], [37.0, 1.4531478086196688e-05], [38.0, 1.878580306695785e-05], [39.0, 9.202736788242785e-05], [40.0, 4.848144031572318e-05], [41.0, 7.681640805082938e-05], [42.0, 4.455179804127669e-05], [43.0, 0.0007124254988151398], [44.0, 3.685680766929816e-05], [45.0, 0.000120520752431894], [46.0, 0.00021853455186970905], [47.0, 4.684861066183116e-05], [48.0, 5.4509872149419256e-05], [49.0, 8.970053682509495e-06]]}, \"id\": \"el121140318703971184\", \"plugins\": [{\"type\": \"reset\"}, {\"type\": \"zoom\", \"button\": true, \"enabled\": false}, {\"type\": \"boxzoom\", \"button\": true, \"enabled\": false}]});\n",
              "      });\n",
              "    });\n",
              "}else{\n",
              "    // require.js not available: dynamically load d3 & mpld3\n",
              "    mpld3_load_lib(\"https://d3js.org/d3.v5.js\", function(){\n",
              "         mpld3_load_lib(\"https://mpld3.github.io/js/mpld3.v0.5.1.js\", function(){\n",
              "                 \n",
              "                 mpld3.draw_figure(\"fig_el1211403187039711843227223182\", {\"width\": 432.0, \"height\": 288.0, \"axes\": [{\"bbox\": [0.125, 0.125, 0.775, 0.755], \"xlim\": [-2.45, 51.45], \"ylim\": [-0.0013045919581008646, 0.027593772301133364], \"xdomain\": [-2.45, 51.45], \"ydomain\": [-0.0013045919581008646, 0.027593772301133364], \"xscale\": \"linear\", \"yscale\": \"linear\", \"axes\": [{\"position\": \"bottom\", \"nticks\": 8, \"tickvalues\": null, \"tickformat_formatter\": \"\", \"tickformat\": null, \"scale\": \"linear\", \"fontsize\": 10.0, \"grid\": {\"gridOn\": false}, \"visible\": true}, {\"position\": \"left\", \"nticks\": 8, \"tickvalues\": null, \"tickformat_formatter\": \"\", \"tickformat\": null, \"scale\": \"linear\", \"fontsize\": 10.0, \"grid\": {\"gridOn\": false}, \"visible\": true}], \"axesbg\": \"#FFFFFF\", \"axesbgalpha\": null, \"zoomable\": true, \"id\": \"el121140318704704760\", \"lines\": [{\"data\": \"data01\", \"xindex\": 0, \"yindex\": 1, \"coordinates\": \"data\", \"id\": \"el121140318704058832\", \"color\": \"#1F77B4\", \"linewidth\": 1.5, \"dasharray\": \"none\", \"alpha\": 1, \"zorder\": 2, \"drawstyle\": \"default\"}], \"paths\": [], \"markers\": [], \"texts\": [], \"collections\": [], \"images\": [], \"sharex\": [], \"sharey\": []}], \"data\": {\"data01\": [[0.0, 0.02628021028934999], [1.0, 0.0005786231358547607], [2.0, 0.00012289673291470662], [3.0, 0.0001236411252437713], [4.0, 0.00020644373843420135], [5.0, 4.1260829897944285e-05], [6.0, 3.1844028578613836e-05], [7.0, 3.892490101454798e-05], [8.0, 4.240610365523057e-05], [9.0, 6.141180986306523e-05], [10.0, 2.2408966673443023e-05], [11.0, 4.3835510836129836e-05], [12.0, 0.00010714436745179659], [13.0, 2.761458887579826e-05], [14.0, 2.6540926237672952e-05], [15.0, 1.65189687417629e-05], [16.0, 1.0059975916788953e-05], [17.0, 2.698389503444652e-05], [18.0, 3.8019918751871765e-05], [19.0, 0.00012854621839006414], [20.0, 0.00010936141640334797], [21.0, 1.5284969727385066e-05], [22.0, 2.0825657354188503e-05], [23.0, 3.626509498811592e-05], [24.0, 2.9716810926568745e-05], [25.0, 1.4383213834301795e-05], [26.0, 1.9215047927012563e-05], [27.0, 2.5228490386369187e-05], [28.0, 0.0002800524979162944], [29.0, 0.00034263455700793085], [30.0, 0.00012888064267051622], [31.0, 2.3786331469270393e-05], [32.0, 1.5154581329915222e-05], [33.0, 2.4860572192374054e-05], [34.0, 1.5129261905499902e-05], [35.0, 3.0117098978817482e-05], [36.0, 1.8180290598546968e-05], [37.0, 1.4531478086196688e-05], [38.0, 1.878580306695785e-05], [39.0, 9.202736788242785e-05], [40.0, 4.848144031572318e-05], [41.0, 7.681640805082938e-05], [42.0, 4.455179804127669e-05], [43.0, 0.0007124254988151398], [44.0, 3.685680766929816e-05], [45.0, 0.000120520752431894], [46.0, 0.00021853455186970905], [47.0, 4.684861066183116e-05], [48.0, 5.4509872149419256e-05], [49.0, 8.970053682509495e-06]]}, \"id\": \"el121140318703971184\", \"plugins\": [{\"type\": \"reset\"}, {\"type\": \"zoom\", \"button\": true, \"enabled\": false}, {\"type\": \"boxzoom\", \"button\": true, \"enabled\": false}]});\n",
              "            })\n",
              "         });\n",
              "}\n",
              "</script>"
            ],
            "text/plain": [
              "<Figure size 432x288 with 1 Axes>"
            ]
          },
          "metadata": {
            "tags": [],
            "needs_background": "light"
          }
        }
      ]
    },
    {
      "cell_type": "code",
      "metadata": {
        "id": "5oOqXdZ01euq",
        "colab_type": "code",
        "colab": {
          "base_uri": "https://localhost:8080/",
          "height": 521
        },
        "outputId": "166a8551-507a-4e7d-b234-844bb8624ff3"
      },
      "source": [
        "scaled_test"
      ],
      "execution_count": 399,
      "outputs": [
        {
          "output_type": "execute_result",
          "data": {
            "text/plain": [
              "array([[-0.01004856],\n",
              "       [-0.02003412],\n",
              "       [-0.02995739],\n",
              "       [-0.03981912],\n",
              "       [-0.04962003],\n",
              "       [-0.05936083],\n",
              "       [-0.06904221],\n",
              "       [-0.07866484],\n",
              "       [-0.0882294 ],\n",
              "       [-0.09773655],\n",
              "       [-0.10718699],\n",
              "       [-0.11658136],\n",
              "       [-0.12592031],\n",
              "       [-0.13520448],\n",
              "       [-0.14443448],\n",
              "       [-0.15361096],\n",
              "       [-0.16273451],\n",
              "       [-0.17180574],\n",
              "       [-0.18082526],\n",
              "       [-0.18979365],\n",
              "       [-0.19871148],\n",
              "       [-0.20757989],\n",
              "       [-0.21639805],\n",
              "       [-0.22516747],\n",
              "       [-0.23388865],\n",
              "       [-0.2425621 ],\n",
              "       [-0.25118833],\n",
              "       [-0.25976784],\n",
              "       [-0.26830113],\n",
              "       [-0.27678871]])"
            ]
          },
          "metadata": {
            "tags": []
          },
          "execution_count": 399
        }
      ]
    },
    {
      "cell_type": "code",
      "metadata": {
        "id": "mYfzDB8vKtz4",
        "colab_type": "code",
        "colab": {}
      },
      "source": [
        "first_eval_batch = scaled_train[-12:]\n"
      ],
      "execution_count": 396,
      "outputs": []
    },
    {
      "cell_type": "code",
      "metadata": {
        "id": "RPgtuLYsKuAw",
        "colab_type": "code",
        "colab": {
          "base_uri": "https://localhost:8080/",
          "height": 218
        },
        "outputId": "c096c229-016c-4901-daf8-25fa23ecaeb5"
      },
      "source": [
        "first_eval_batch"
      ],
      "execution_count": 397,
      "outputs": [
        {
          "output_type": "execute_result",
          "data": {
            "text/plain": [
              "array([[0.11491417],\n",
              "       [0.10412082],\n",
              "       [0.09339929],\n",
              "       [0.08274873],\n",
              "       [0.0721683 ],\n",
              "       [0.06165716],\n",
              "       [0.05121447],\n",
              "       [0.04083944],\n",
              "       [0.03053126],\n",
              "       [0.02028915],\n",
              "       [0.01011232],\n",
              "       [0.        ]])"
            ]
          },
          "metadata": {
            "tags": []
          },
          "execution_count": 397
        }
      ]
    },
    {
      "cell_type": "code",
      "metadata": {
        "id": "0hFvMlcIQ6KH",
        "colab_type": "code",
        "colab": {}
      },
      "source": [
        "first_eval_batch = first_eval_batch.reshape((1, n_input, n_features))"
      ],
      "execution_count": 400,
      "outputs": []
    },
    {
      "cell_type": "code",
      "metadata": {
        "id": "3kYJrXKvKuPv",
        "colab_type": "code",
        "colab": {
          "base_uri": "https://localhost:8080/",
          "height": 34
        },
        "outputId": "eea2aa6c-ebde-4753-c51c-f4778654f7e7"
      },
      "source": [
        "model.predict(first_eval_batch)"
      ],
      "execution_count": 401,
      "outputs": [
        {
          "output_type": "execute_result",
          "data": {
            "text/plain": [
              "array([[-0.00011252]], dtype=float32)"
            ]
          },
          "metadata": {
            "tags": []
          },
          "execution_count": 401
        }
      ]
    },
    {
      "cell_type": "code",
      "metadata": {
        "id": "Rhfwwe-8Kuc3",
        "colab_type": "code",
        "colab": {
          "base_uri": "https://localhost:8080/",
          "height": 521
        },
        "outputId": "8eda6bd2-0894-4b1d-b724-463c8bd9760d"
      },
      "source": [
        "scaled_test"
      ],
      "execution_count": 402,
      "outputs": [
        {
          "output_type": "execute_result",
          "data": {
            "text/plain": [
              "array([[-0.01004856],\n",
              "       [-0.02003412],\n",
              "       [-0.02995739],\n",
              "       [-0.03981912],\n",
              "       [-0.04962003],\n",
              "       [-0.05936083],\n",
              "       [-0.06904221],\n",
              "       [-0.07866484],\n",
              "       [-0.0882294 ],\n",
              "       [-0.09773655],\n",
              "       [-0.10718699],\n",
              "       [-0.11658136],\n",
              "       [-0.12592031],\n",
              "       [-0.13520448],\n",
              "       [-0.14443448],\n",
              "       [-0.15361096],\n",
              "       [-0.16273451],\n",
              "       [-0.17180574],\n",
              "       [-0.18082526],\n",
              "       [-0.18979365],\n",
              "       [-0.19871148],\n",
              "       [-0.20757989],\n",
              "       [-0.21639805],\n",
              "       [-0.22516747],\n",
              "       [-0.23388865],\n",
              "       [-0.2425621 ],\n",
              "       [-0.25118833],\n",
              "       [-0.25976784],\n",
              "       [-0.26830113],\n",
              "       [-0.27678871]])"
            ]
          },
          "metadata": {
            "tags": []
          },
          "execution_count": 402
        }
      ]
    },
    {
      "cell_type": "code",
      "metadata": {
        "id": "OmZEUYy2Kusv",
        "colab_type": "code",
        "colab": {}
      },
      "source": [
        "test_predictions = []\n",
        "\n",
        "first_eval_batch = scaled_train[-n_input:]\n",
        "current_batch = first_eval_batch.reshape((1, n_input, n_features))\n",
        "\n",
        "for i in range(len(test)):\n",
        "    \n",
        "    # get prediction 1 time stamp ahead ([0] is for grabbing just the number instead of [array])\n",
        "    current_pred = model.predict(current_batch)[0]\n",
        "    \n",
        "    # store prediction\n",
        "    test_predictions.append(current_pred) \n",
        "    \n",
        "    # update batch to now include prediction and drop first value\n",
        "    current_batch = np.append(current_batch[:,1:,:],[[current_pred]],axis=1)"
      ],
      "execution_count": 403,
      "outputs": []
    },
    {
      "cell_type": "code",
      "metadata": {
        "id": "-HYdLfAPkR8t",
        "colab_type": "code",
        "colab": {
          "base_uri": "https://localhost:8080/",
          "height": 521
        },
        "outputId": "bec5feb0-d0b8-4a0f-f0d1-8b4da920a0ef"
      },
      "source": [
        "test_predictions"
      ],
      "execution_count": 404,
      "outputs": [
        {
          "output_type": "execute_result",
          "data": {
            "text/plain": [
              "[array([-0.00011252], dtype=float32),\n",
              " array([-0.00610308], dtype=float32),\n",
              " array([-0.01137662], dtype=float32),\n",
              " array([-0.01600512], dtype=float32),\n",
              " array([-0.02005669], dtype=float32),\n",
              " array([-0.0236209], dtype=float32),\n",
              " array([-0.02678539], dtype=float32),\n",
              " array([-0.02948019], dtype=float32),\n",
              " array([-0.0317805], dtype=float32),\n",
              " array([-0.03365509], dtype=float32),\n",
              " array([-0.03518806], dtype=float32),\n",
              " array([-0.03642934], dtype=float32),\n",
              " array([-0.03740679], dtype=float32),\n",
              " array([-0.03826379], dtype=float32),\n",
              " array([-0.03895856], dtype=float32),\n",
              " array([-0.03952676], dtype=float32),\n",
              " array([-0.03997985], dtype=float32),\n",
              " array([-0.04034994], dtype=float32),\n",
              " array([-0.04065148], dtype=float32),\n",
              " array([-0.04089138], dtype=float32),\n",
              " array([-0.04108649], dtype=float32),\n",
              " array([-0.04124453], dtype=float32),\n",
              " array([-0.0413713], dtype=float32),\n",
              " array([-0.0414735], dtype=float32),\n",
              " array([-0.04155524], dtype=float32),\n",
              " array([-0.04162176], dtype=float32),\n",
              " array([-0.04167488], dtype=float32),\n",
              " array([-0.04171755], dtype=float32),\n",
              " array([-0.04175191], dtype=float32),\n",
              " array([-0.04177966], dtype=float32)]"
            ]
          },
          "metadata": {
            "tags": []
          },
          "execution_count": 404
        }
      ]
    },
    {
      "cell_type": "code",
      "metadata": {
        "id": "njN_OLZakYu_",
        "colab_type": "code",
        "colab": {}
      },
      "source": [
        "true_predictions = scaler.inverse_transform(test_predictions)"
      ],
      "execution_count": 341,
      "outputs": []
    },
    {
      "cell_type": "code",
      "metadata": {
        "id": "5eUtGaTfmfJK",
        "colab_type": "code",
        "colab": {
          "base_uri": "https://localhost:8080/",
          "height": 521
        },
        "outputId": "487e8245-cc97-498c-bac8-6813bffaf1fb"
      },
      "source": [
        "true_predictions"
      ],
      "execution_count": 342,
      "outputs": [
        {
          "output_type": "execute_result",
          "data": {
            "text/plain": [
              "array([[0.49816855],\n",
              "       [0.49319427],\n",
              "       [0.48731189],\n",
              "       [0.48077314],\n",
              "       [0.47386985],\n",
              "       [0.46695595],\n",
              "       [0.46024642],\n",
              "       [0.45378842],\n",
              "       [0.44773735],\n",
              "       [0.44221442],\n",
              "       [0.43728263],\n",
              "       [0.43302219],\n",
              "       [0.42944304],\n",
              "       [0.42647407],\n",
              "       [0.42418252],\n",
              "       [0.42255501],\n",
              "       [0.42154498],\n",
              "       [0.4210728 ],\n",
              "       [0.42109301],\n",
              "       [0.4215675 ],\n",
              "       [0.4224429 ],\n",
              "       [0.42364709],\n",
              "       [0.42512746],\n",
              "       [0.42682681],\n",
              "       [0.42869724],\n",
              "       [0.43069325],\n",
              "       [0.43276082],\n",
              "       [0.43486395],\n",
              "       [0.43696856],\n",
              "       [0.43903019]])"
            ]
          },
          "metadata": {
            "tags": []
          },
          "execution_count": 342
        }
      ]
    },
    {
      "cell_type": "code",
      "metadata": {
        "id": "chyvp91rp3XH",
        "colab_type": "code",
        "colab": {}
      },
      "source": [
        "test = pd.DataFrame(test)"
      ],
      "execution_count": 343,
      "outputs": []
    },
    {
      "cell_type": "code",
      "metadata": {
        "id": "WDaMsmYNp5PO",
        "colab_type": "code",
        "colab": {}
      },
      "source": [
        "# IGNORE WARNINGS\n",
        "test['Predictions'] = true_predictions"
      ],
      "execution_count": 344,
      "outputs": []
    },
    {
      "cell_type": "code",
      "metadata": {
        "id": "w-VoR8Z6p_US",
        "colab_type": "code",
        "colab": {
          "base_uri": "https://localhost:8080/",
          "height": 935
        },
        "outputId": "15426fc0-6d08-4a06-a609-c3d90938fa67"
      },
      "source": [
        "test"
      ],
      "execution_count": 345,
      "outputs": [
        {
          "output_type": "execute_result",
          "data": {
            "text/html": [
              "<div>\n",
              "<style scoped>\n",
              "    .dataframe tbody tr th:only-of-type {\n",
              "        vertical-align: middle;\n",
              "    }\n",
              "\n",
              "    .dataframe tbody tr th {\n",
              "        vertical-align: top;\n",
              "    }\n",
              "\n",
              "    .dataframe thead th {\n",
              "        text-align: right;\n",
              "    }\n",
              "</style>\n",
              "<table border=\"1\" class=\"dataframe\">\n",
              "  <thead>\n",
              "    <tr style=\"text-align: right;\">\n",
              "      <th></th>\n",
              "      <th>0</th>\n",
              "      <th>Predictions</th>\n",
              "    </tr>\n",
              "  </thead>\n",
              "  <tbody>\n",
              "    <tr>\n",
              "      <th>0</th>\n",
              "      <td>0.499045</td>\n",
              "      <td>0.498169</td>\n",
              "    </tr>\n",
              "    <tr>\n",
              "      <th>1</th>\n",
              "      <td>0.490481</td>\n",
              "      <td>0.493194</td>\n",
              "    </tr>\n",
              "    <tr>\n",
              "      <th>2</th>\n",
              "      <td>0.479282</td>\n",
              "      <td>0.487312</td>\n",
              "    </tr>\n",
              "    <tr>\n",
              "      <th>3</th>\n",
              "      <td>0.465355</td>\n",
              "      <td>0.480773</td>\n",
              "    </tr>\n",
              "    <tr>\n",
              "      <th>4</th>\n",
              "      <td>0.448788</td>\n",
              "      <td>0.473870</td>\n",
              "    </tr>\n",
              "    <tr>\n",
              "      <th>5</th>\n",
              "      <td>0.429893</td>\n",
              "      <td>0.466956</td>\n",
              "    </tr>\n",
              "    <tr>\n",
              "      <th>6</th>\n",
              "      <td>0.409223</td>\n",
              "      <td>0.460246</td>\n",
              "    </tr>\n",
              "    <tr>\n",
              "      <th>7</th>\n",
              "      <td>0.387540</td>\n",
              "      <td>0.453788</td>\n",
              "    </tr>\n",
              "    <tr>\n",
              "      <th>8</th>\n",
              "      <td>0.365732</td>\n",
              "      <td>0.447737</td>\n",
              "    </tr>\n",
              "    <tr>\n",
              "      <th>9</th>\n",
              "      <td>0.344694</td>\n",
              "      <td>0.442214</td>\n",
              "    </tr>\n",
              "    <tr>\n",
              "      <th>10</th>\n",
              "      <td>0.325214</td>\n",
              "      <td>0.437283</td>\n",
              "    </tr>\n",
              "    <tr>\n",
              "      <th>11</th>\n",
              "      <td>0.307881</td>\n",
              "      <td>0.433022</td>\n",
              "    </tr>\n",
              "    <tr>\n",
              "      <th>12</th>\n",
              "      <td>0.293053</td>\n",
              "      <td>0.429443</td>\n",
              "    </tr>\n",
              "    <tr>\n",
              "      <th>13</th>\n",
              "      <td>0.280866</td>\n",
              "      <td>0.426474</td>\n",
              "    </tr>\n",
              "    <tr>\n",
              "      <th>14</th>\n",
              "      <td>0.271280</td>\n",
              "      <td>0.424183</td>\n",
              "    </tr>\n",
              "    <tr>\n",
              "      <th>15</th>\n",
              "      <td>0.264130</td>\n",
              "      <td>0.422555</td>\n",
              "    </tr>\n",
              "    <tr>\n",
              "      <th>16</th>\n",
              "      <td>0.259181</td>\n",
              "      <td>0.421545</td>\n",
              "    </tr>\n",
              "    <tr>\n",
              "      <th>17</th>\n",
              "      <td>0.256169</td>\n",
              "      <td>0.421073</td>\n",
              "    </tr>\n",
              "    <tr>\n",
              "      <th>18</th>\n",
              "      <td>0.254828</td>\n",
              "      <td>0.421093</td>\n",
              "    </tr>\n",
              "    <tr>\n",
              "      <th>19</th>\n",
              "      <td>0.254906</td>\n",
              "      <td>0.421567</td>\n",
              "    </tr>\n",
              "    <tr>\n",
              "      <th>20</th>\n",
              "      <td>0.256176</td>\n",
              "      <td>0.422443</td>\n",
              "    </tr>\n",
              "    <tr>\n",
              "      <th>21</th>\n",
              "      <td>0.258440</td>\n",
              "      <td>0.423647</td>\n",
              "    </tr>\n",
              "    <tr>\n",
              "      <th>22</th>\n",
              "      <td>0.261524</td>\n",
              "      <td>0.425127</td>\n",
              "    </tr>\n",
              "    <tr>\n",
              "      <th>23</th>\n",
              "      <td>0.265283</td>\n",
              "      <td>0.426827</td>\n",
              "    </tr>\n",
              "    <tr>\n",
              "      <th>24</th>\n",
              "      <td>0.269590</td>\n",
              "      <td>0.428697</td>\n",
              "    </tr>\n",
              "    <tr>\n",
              "      <th>25</th>\n",
              "      <td>0.274342</td>\n",
              "      <td>0.430693</td>\n",
              "    </tr>\n",
              "    <tr>\n",
              "      <th>26</th>\n",
              "      <td>0.279448</td>\n",
              "      <td>0.432761</td>\n",
              "    </tr>\n",
              "    <tr>\n",
              "      <th>27</th>\n",
              "      <td>0.284836</td>\n",
              "      <td>0.434864</td>\n",
              "    </tr>\n",
              "    <tr>\n",
              "      <th>28</th>\n",
              "      <td>0.290440</td>\n",
              "      <td>0.436969</td>\n",
              "    </tr>\n",
              "    <tr>\n",
              "      <th>29</th>\n",
              "      <td>0.296207</td>\n",
              "      <td>0.439030</td>\n",
              "    </tr>\n",
              "  </tbody>\n",
              "</table>\n",
              "</div>"
            ],
            "text/plain": [
              "           0  Predictions\n",
              "0   0.499045     0.498169\n",
              "1   0.490481     0.493194\n",
              "2   0.479282     0.487312\n",
              "3   0.465355     0.480773\n",
              "4   0.448788     0.473870\n",
              "5   0.429893     0.466956\n",
              "6   0.409223     0.460246\n",
              "7   0.387540     0.453788\n",
              "8   0.365732     0.447737\n",
              "9   0.344694     0.442214\n",
              "10  0.325214     0.437283\n",
              "11  0.307881     0.433022\n",
              "12  0.293053     0.429443\n",
              "13  0.280866     0.426474\n",
              "14  0.271280     0.424183\n",
              "15  0.264130     0.422555\n",
              "16  0.259181     0.421545\n",
              "17  0.256169     0.421073\n",
              "18  0.254828     0.421093\n",
              "19  0.254906     0.421567\n",
              "20  0.256176     0.422443\n",
              "21  0.258440     0.423647\n",
              "22  0.261524     0.425127\n",
              "23  0.265283     0.426827\n",
              "24  0.269590     0.428697\n",
              "25  0.274342     0.430693\n",
              "26  0.279448     0.432761\n",
              "27  0.284836     0.434864\n",
              "28  0.290440     0.436969\n",
              "29  0.296207     0.439030"
            ]
          },
          "metadata": {
            "tags": []
          },
          "execution_count": 345
        }
      ]
    },
    {
      "cell_type": "code",
      "metadata": {
        "id": "bl_20x1uqIKm",
        "colab_type": "code",
        "colab": {
          "base_uri": "https://localhost:8080/",
          "height": 614
        },
        "outputId": "065e8287-fb96-430e-a95f-d553d267f9f0"
      },
      "source": [
        "test.plot(figsize=(12,8))"
      ],
      "execution_count": 346,
      "outputs": [
        {
          "output_type": "execute_result",
          "data": {
            "text/plain": [
              "<matplotlib.axes._subplots.AxesSubplot at 0x7f9e7fcf56a0>"
            ]
          },
          "metadata": {
            "tags": []
          },
          "execution_count": 346
        },
        {
          "output_type": "display_data",
          "data": {
            "image/png": "[encoded data removed]",
            "text/html": [
              "\n",
              "\n",
              "<style>\n",
              "\n",
              "</style>\n",
              "\n",
              "<div id=\"fig_el1211403187260759529080136692\"></div>\n",
              "<script>\n",
              "function mpld3_load_lib(url, callback){\n",
              "  var s = document.createElement('script');\n",
              "  s.src = url;\n",
              "  s.async = true;\n",
              "  s.onreadystatechange = s.onload = callback;\n",
              "  s.onerror = function(){console.warn(\"failed to load library \" + url);};\n",
              "  document.getElementsByTagName(\"head\")[0].appendChild(s);\n",
              "}\n",
              "\n",
              "if(typeof(mpld3) !== \"undefined\" && mpld3._mpld3IsLoaded){\n",
              "   // already loaded: just create the figure\n",
              "   !function(mpld3){\n",
              "       \n",
              "       mpld3.draw_figure(\"fig_el1211403187260759529080136692\", {\"width\": 864.0, \"height\": 576.0, \"axes\": [{\"bbox\": [0.125, 0.125, 0.775, 0.755], \"xlim\": [-1.4500000000000002, 30.45], \"ylim\": [0.24261673606508707, 0.5112558847013535], \"xdomain\": [-1.4500000000000002, 30.45], \"ydomain\": [0.24261673606508707, 0.5112558847013535], \"xscale\": \"linear\", \"yscale\": \"linear\", \"axes\": [{\"position\": \"bottom\", \"nticks\": 9, \"tickvalues\": null, \"tickformat_formatter\": \"\", \"tickformat\": null, \"scale\": \"linear\", \"fontsize\": 10.0, \"grid\": {\"gridOn\": false}, \"visible\": true}, {\"position\": \"left\", \"nticks\": 8, \"tickvalues\": null, \"tickformat_formatter\": \"\", \"tickformat\": null, \"scale\": \"linear\", \"fontsize\": 10.0, \"grid\": {\"gridOn\": false}, \"visible\": true}], \"axesbg\": \"#FFFFFF\", \"axesbgalpha\": null, \"zoomable\": true, \"id\": \"el121140318725854880\", \"lines\": [{\"data\": \"data01\", \"xindex\": 0, \"yindex\": 1, \"coordinates\": \"data\", \"id\": \"el121140318725695696\", \"color\": \"#1F77B4\", \"linewidth\": 1.5, \"dasharray\": \"none\", \"alpha\": 1, \"zorder\": 2, \"drawstyle\": \"default\"}, {\"data\": \"data01\", \"xindex\": 0, \"yindex\": 2, \"coordinates\": \"data\", \"id\": \"el121140318725696032\", \"color\": \"#FF7F0E\", \"linewidth\": 1.5, \"dasharray\": \"none\", \"alpha\": 1, \"zorder\": 2, \"drawstyle\": \"default\"}, {\"data\": \"data02\", \"xindex\": 0, \"yindex\": 1, \"coordinates\": \"axes\", \"id\": \"el121140318725743504\", \"color\": \"#1F77B4\", \"linewidth\": 1.5, \"dasharray\": \"none\", \"alpha\": 1, \"zorder\": 1000002.0, \"drawstyle\": \"default\"}, {\"data\": \"data02\", \"xindex\": 0, \"yindex\": 2, \"coordinates\": \"axes\", \"id\": \"el121140318725744568\", \"color\": \"#FF7F0E\", \"linewidth\": 1.5, \"dasharray\": \"none\", \"alpha\": 1, \"zorder\": 1000002.0, \"drawstyle\": \"default\"}], \"paths\": [{\"data\": \"data03\", \"xindex\": 0, \"yindex\": 1, \"coordinates\": \"axes\", \"pathcodes\": [\"M\", \"L\", \"S\", \"L\", \"S\", \"L\", \"S\", \"L\", \"S\", \"Z\"], \"id\": \"el121140318725697264\", \"dasharray\": \"none\", \"alpha\": 0.8, \"facecolor\": \"rgba(255, 255, 255, 0.8)\", \"edgecolor\": \"rgba(204, 204, 204, 0.8)\", \"edgewidth\": 1.0, \"zorder\": 1000000.0}], \"markers\": [], \"texts\": [{\"text\": \"0\", \"position\": [0.9044205495818399, 0.9609087564385577], \"coordinates\": \"axes\", \"h_anchor\": \"start\", \"v_baseline\": \"auto\", \"rotation\": -0.0, \"fontsize\": 10.0, \"color\": \"#000000\", \"alpha\": 1, \"zorder\": 1000003.0, \"id\": \"el121140318725742888\"}, {\"text\": \"Predictions\", \"position\": [0.9044205495818399, 0.9264164827078734], \"coordinates\": \"axes\", \"h_anchor\": \"start\", \"v_baseline\": \"auto\", \"rotation\": -0.0, \"fontsize\": 10.0, \"color\": \"#000000\", \"alpha\": 1, \"zorder\": 1000003.0, \"id\": \"el121140318725744120\"}], \"collections\": [], \"images\": [], \"sharex\": [], \"sharey\": []}], \"data\": {\"data01\": [[0.0, 0.49904501430879594, 0.4981685479694055], [1.0, 0.4904813581889649, 0.4931942699744316], [2.0, 0.4792817005149251, 0.48731189098491745], [3.0, 0.4653550743991519, 0.480773144922227], [4.0, 0.4487882410557702, 0.4738698493929666], [5.0, 0.42989314962506436, 0.4669559504068001], [6.0, 0.40922300532303, 0.4602464232344834], [7.0, 0.3875399259818114, 0.4537884205325299], [8.0, 0.3657315735942921, 0.4477373549433957], [9.0, 0.344694105420763, 0.44221442005231154], [10.0, 0.3252137864634181, 0.43728263442908727], [11.0, 0.3078807551409691, 0.43302219162558336], [12.0, 0.2930526154332011, 0.42944304056432897], [13.0, 0.2808659708673739, 0.4264740726306154], [14.0, 0.2712796063478016, 0.42418252159563996], [15.0, 0.264129536642697, 0.42255500877673835], [16.0, 0.2591809259492235, 0.42154498368902404], [17.0, 0.2561690588440435, 0.4210728025895133], [18.0, 0.25482760645764463, 0.42109301461107257], [19.0, 0.254905569797484, 0.42156749967159013], [20.0, 0.25617612047793503, 0.42244290012865937], [21.0, 0.25843977834953136, 0.4236470862939435], [22.0, 0.26152427213478047, 0.42512745978491323], [23.0, 0.2652825604497393, 0.4268268142970256], [24.0, 0.26959004111327034, 0.42869723791389014], [25.0, 0.27434152994564476, 0.4306932535869982], [26.0, 0.279448314491762, 0.4327608229581913], [27.0, 0.2848355119502624, 0.4348639466367387], [28.0, 0.2904396961214763, 0.4369685626536655], [29.0, 0.29620689574534925, 0.43903018885271616]], \"data02\": [[0.8626045400238948, 0.968956953642384, 0.9344646799116997], [0.8924731182795698, 0.968956953642384, 0.9344646799116997]], \"data03\": [[0.8596176821983273, 0.9126195732155997], [0.9895459976105138, 0.9126195732155997], [0.9925328554360812, 0.9126195732155997], [0.9925328554360812, 0.9172185430463575], [0.9925328554360812, 0.9839036055923474], [0.9925328554360812, 0.9885025754231052], [0.9895459976105138, 0.9885025754231052], [0.8596176821983273, 0.9885025754231052], [0.8566308243727597, 0.9885025754231052], [0.8566308243727597, 0.9839036055923474], [0.8566308243727597, 0.9172185430463575], [0.8566308243727597, 0.9126195732155997], [0.8596176821983273, 0.9126195732155997]]}, \"id\": \"el121140318726075952\", \"plugins\": [{\"type\": \"reset\"}, {\"type\": \"zoom\", \"button\": true, \"enabled\": false}, {\"type\": \"boxzoom\", \"button\": true, \"enabled\": false}]});\n",
              "   }(mpld3);\n",
              "}else if(typeof define === \"function\" && define.amd){\n",
              "   // require.js is available: use it to load d3/mpld3\n",
              "   require.config({paths: {d3: \"https://d3js.org/d3.v5\"}});\n",
              "   require([\"d3\"], function(d3){\n",
              "      window.d3 = d3;\n",
              "      mpld3_load_lib(\"https://mpld3.github.io/js/mpld3.v0.5.1.js\", function(){\n",
              "         \n",
              "         mpld3.draw_figure(\"fig_el1211403187260759529080136692\", {\"width\": 864.0, \"height\": 576.0, \"axes\": [{\"bbox\": [0.125, 0.125, 0.775, 0.755], \"xlim\": [-1.4500000000000002, 30.45], \"ylim\": [0.24261673606508707, 0.5112558847013535], \"xdomain\": [-1.4500000000000002, 30.45], \"ydomain\": [0.24261673606508707, 0.5112558847013535], \"xscale\": \"linear\", \"yscale\": \"linear\", \"axes\": [{\"position\": \"bottom\", \"nticks\": 9, \"tickvalues\": null, \"tickformat_formatter\": \"\", \"tickformat\": null, \"scale\": \"linear\", \"fontsize\": 10.0, \"grid\": {\"gridOn\": false}, \"visible\": true}, {\"position\": \"left\", \"nticks\": 8, \"tickvalues\": null, \"tickformat_formatter\": \"\", \"tickformat\": null, \"scale\": \"linear\", \"fontsize\": 10.0, \"grid\": {\"gridOn\": false}, \"visible\": true}], \"axesbg\": \"#FFFFFF\", \"axesbgalpha\": null, \"zoomable\": true, \"id\": \"el121140318725854880\", \"lines\": [{\"data\": \"data01\", \"xindex\": 0, \"yindex\": 1, \"coordinates\": \"data\", \"id\": \"el121140318725695696\", \"color\": \"#1F77B4\", \"linewidth\": 1.5, \"dasharray\": \"none\", \"alpha\": 1, \"zorder\": 2, \"drawstyle\": \"default\"}, {\"data\": \"data01\", \"xindex\": 0, \"yindex\": 2, \"coordinates\": \"data\", \"id\": \"el121140318725696032\", \"color\": \"#FF7F0E\", \"linewidth\": 1.5, \"dasharray\": \"none\", \"alpha\": 1, \"zorder\": 2, \"drawstyle\": \"default\"}, {\"data\": \"data02\", \"xindex\": 0, \"yindex\": 1, \"coordinates\": \"axes\", \"id\": \"el121140318725743504\", \"color\": \"#1F77B4\", \"linewidth\": 1.5, \"dasharray\": \"none\", \"alpha\": 1, \"zorder\": 1000002.0, \"drawstyle\": \"default\"}, {\"data\": \"data02\", \"xindex\": 0, \"yindex\": 2, \"coordinates\": \"axes\", \"id\": \"el121140318725744568\", \"color\": \"#FF7F0E\", \"linewidth\": 1.5, \"dasharray\": \"none\", \"alpha\": 1, \"zorder\": 1000002.0, \"drawstyle\": \"default\"}], \"paths\": [{\"data\": \"data03\", \"xindex\": 0, \"yindex\": 1, \"coordinates\": \"axes\", \"pathcodes\": [\"M\", \"L\", \"S\", \"L\", \"S\", \"L\", \"S\", \"L\", \"S\", \"Z\"], \"id\": \"el121140318725697264\", \"dasharray\": \"none\", \"alpha\": 0.8, \"facecolor\": \"rgba(255, 255, 255, 0.8)\", \"edgecolor\": \"rgba(204, 204, 204, 0.8)\", \"edgewidth\": 1.0, \"zorder\": 1000000.0}], \"markers\": [], \"texts\": [{\"text\": \"0\", \"position\": [0.9044205495818399, 0.9609087564385577], \"coordinates\": \"axes\", \"h_anchor\": \"start\", \"v_baseline\": \"auto\", \"rotation\": -0.0, \"fontsize\": 10.0, \"color\": \"#000000\", \"alpha\": 1, \"zorder\": 1000003.0, \"id\": \"el121140318725742888\"}, {\"text\": \"Predictions\", \"position\": [0.9044205495818399, 0.9264164827078734], \"coordinates\": \"axes\", \"h_anchor\": \"start\", \"v_baseline\": \"auto\", \"rotation\": -0.0, \"fontsize\": 10.0, \"color\": \"#000000\", \"alpha\": 1, \"zorder\": 1000003.0, \"id\": \"el121140318725744120\"}], \"collections\": [], \"images\": [], \"sharex\": [], \"sharey\": []}], \"data\": {\"data01\": [[0.0, 0.49904501430879594, 0.4981685479694055], [1.0, 0.4904813581889649, 0.4931942699744316], [2.0, 0.4792817005149251, 0.48731189098491745], [3.0, 0.4653550743991519, 0.480773144922227], [4.0, 0.4487882410557702, 0.4738698493929666], [5.0, 0.42989314962506436, 0.4669559504068001], [6.0, 0.40922300532303, 0.4602464232344834], [7.0, 0.3875399259818114, 0.4537884205325299], [8.0, 0.3657315735942921, 0.4477373549433957], [9.0, 0.344694105420763, 0.44221442005231154], [10.0, 0.3252137864634181, 0.43728263442908727], [11.0, 0.3078807551409691, 0.43302219162558336], [12.0, 0.2930526154332011, 0.42944304056432897], [13.0, 0.2808659708673739, 0.4264740726306154], [14.0, 0.2712796063478016, 0.42418252159563996], [15.0, 0.264129536642697, 0.42255500877673835], [16.0, 0.2591809259492235, 0.42154498368902404], [17.0, 0.2561690588440435, 0.4210728025895133], [18.0, 0.25482760645764463, 0.42109301461107257], [19.0, 0.254905569797484, 0.42156749967159013], [20.0, 0.25617612047793503, 0.42244290012865937], [21.0, 0.25843977834953136, 0.4236470862939435], [22.0, 0.26152427213478047, 0.42512745978491323], [23.0, 0.2652825604497393, 0.4268268142970256], [24.0, 0.26959004111327034, 0.42869723791389014], [25.0, 0.27434152994564476, 0.4306932535869982], [26.0, 0.279448314491762, 0.4327608229581913], [27.0, 0.2848355119502624, 0.4348639466367387], [28.0, 0.2904396961214763, 0.4369685626536655], [29.0, 0.29620689574534925, 0.43903018885271616]], \"data02\": [[0.8626045400238948, 0.968956953642384, 0.9344646799116997], [0.8924731182795698, 0.968956953642384, 0.9344646799116997]], \"data03\": [[0.8596176821983273, 0.9126195732155997], [0.9895459976105138, 0.9126195732155997], [0.9925328554360812, 0.9126195732155997], [0.9925328554360812, 0.9172185430463575], [0.9925328554360812, 0.9839036055923474], [0.9925328554360812, 0.9885025754231052], [0.9895459976105138, 0.9885025754231052], [0.8596176821983273, 0.9885025754231052], [0.8566308243727597, 0.9885025754231052], [0.8566308243727597, 0.9839036055923474], [0.8566308243727597, 0.9172185430463575], [0.8566308243727597, 0.9126195732155997], [0.8596176821983273, 0.9126195732155997]]}, \"id\": \"el121140318726075952\", \"plugins\": [{\"type\": \"reset\"}, {\"type\": \"zoom\", \"button\": true, \"enabled\": false}, {\"type\": \"boxzoom\", \"button\": true, \"enabled\": false}]});\n",
              "      });\n",
              "    });\n",
              "}else{\n",
              "    // require.js not available: dynamically load d3 & mpld3\n",
              "    mpld3_load_lib(\"https://d3js.org/d3.v5.js\", function(){\n",
              "         mpld3_load_lib(\"https://mpld3.github.io/js/mpld3.v0.5.1.js\", function(){\n",
              "                 \n",
              "                 mpld3.draw_figure(\"fig_el1211403187260759529080136692\", {\"width\": 864.0, \"height\": 576.0, \"axes\": [{\"bbox\": [0.125, 0.125, 0.775, 0.755], \"xlim\": [-1.4500000000000002, 30.45], \"ylim\": [0.24261673606508707, 0.5112558847013535], \"xdomain\": [-1.4500000000000002, 30.45], \"ydomain\": [0.24261673606508707, 0.5112558847013535], \"xscale\": \"linear\", \"yscale\": \"linear\", \"axes\": [{\"position\": \"bottom\", \"nticks\": 9, \"tickvalues\": null, \"tickformat_formatter\": \"\", \"tickformat\": null, \"scale\": \"linear\", \"fontsize\": 10.0, \"grid\": {\"gridOn\": false}, \"visible\": true}, {\"position\": \"left\", \"nticks\": 8, \"tickvalues\": null, \"tickformat_formatter\": \"\", \"tickformat\": null, \"scale\": \"linear\", \"fontsize\": 10.0, \"grid\": {\"gridOn\": false}, \"visible\": true}], \"axesbg\": \"#FFFFFF\", \"axesbgalpha\": null, \"zoomable\": true, \"id\": \"el121140318725854880\", \"lines\": [{\"data\": \"data01\", \"xindex\": 0, \"yindex\": 1, \"coordinates\": \"data\", \"id\": \"el121140318725695696\", \"color\": \"#1F77B4\", \"linewidth\": 1.5, \"dasharray\": \"none\", \"alpha\": 1, \"zorder\": 2, \"drawstyle\": \"default\"}, {\"data\": \"data01\", \"xindex\": 0, \"yindex\": 2, \"coordinates\": \"data\", \"id\": \"el121140318725696032\", \"color\": \"#FF7F0E\", \"linewidth\": 1.5, \"dasharray\": \"none\", \"alpha\": 1, \"zorder\": 2, \"drawstyle\": \"default\"}, {\"data\": \"data02\", \"xindex\": 0, \"yindex\": 1, \"coordinates\": \"axes\", \"id\": \"el121140318725743504\", \"color\": \"#1F77B4\", \"linewidth\": 1.5, \"dasharray\": \"none\", \"alpha\": 1, \"zorder\": 1000002.0, \"drawstyle\": \"default\"}, {\"data\": \"data02\", \"xindex\": 0, \"yindex\": 2, \"coordinates\": \"axes\", \"id\": \"el121140318725744568\", \"color\": \"#FF7F0E\", \"linewidth\": 1.5, \"dasharray\": \"none\", \"alpha\": 1, \"zorder\": 1000002.0, \"drawstyle\": \"default\"}], \"paths\": [{\"data\": \"data03\", \"xindex\": 0, \"yindex\": 1, \"coordinates\": \"axes\", \"pathcodes\": [\"M\", \"L\", \"S\", \"L\", \"S\", \"L\", \"S\", \"L\", \"S\", \"Z\"], \"id\": \"el121140318725697264\", \"dasharray\": \"none\", \"alpha\": 0.8, \"facecolor\": \"rgba(255, 255, 255, 0.8)\", \"edgecolor\": \"rgba(204, 204, 204, 0.8)\", \"edgewidth\": 1.0, \"zorder\": 1000000.0}], \"markers\": [], \"texts\": [{\"text\": \"0\", \"position\": [0.9044205495818399, 0.9609087564385577], \"coordinates\": \"axes\", \"h_anchor\": \"start\", \"v_baseline\": \"auto\", \"rotation\": -0.0, \"fontsize\": 10.0, \"color\": \"#000000\", \"alpha\": 1, \"zorder\": 1000003.0, \"id\": \"el121140318725742888\"}, {\"text\": \"Predictions\", \"position\": [0.9044205495818399, 0.9264164827078734], \"coordinates\": \"axes\", \"h_anchor\": \"start\", \"v_baseline\": \"auto\", \"rotation\": -0.0, \"fontsize\": 10.0, \"color\": \"#000000\", \"alpha\": 1, \"zorder\": 1000003.0, \"id\": \"el121140318725744120\"}], \"collections\": [], \"images\": [], \"sharex\": [], \"sharey\": []}], \"data\": {\"data01\": [[0.0, 0.49904501430879594, 0.4981685479694055], [1.0, 0.4904813581889649, 0.4931942699744316], [2.0, 0.4792817005149251, 0.48731189098491745], [3.0, 0.4653550743991519, 0.480773144922227], [4.0, 0.4487882410557702, 0.4738698493929666], [5.0, 0.42989314962506436, 0.4669559504068001], [6.0, 0.40922300532303, 0.4602464232344834], [7.0, 0.3875399259818114, 0.4537884205325299], [8.0, 0.3657315735942921, 0.4477373549433957], [9.0, 0.344694105420763, 0.44221442005231154], [10.0, 0.3252137864634181, 0.43728263442908727], [11.0, 0.3078807551409691, 0.43302219162558336], [12.0, 0.2930526154332011, 0.42944304056432897], [13.0, 0.2808659708673739, 0.4264740726306154], [14.0, 0.2712796063478016, 0.42418252159563996], [15.0, 0.264129536642697, 0.42255500877673835], [16.0, 0.2591809259492235, 0.42154498368902404], [17.0, 0.2561690588440435, 0.4210728025895133], [18.0, 0.25482760645764463, 0.42109301461107257], [19.0, 0.254905569797484, 0.42156749967159013], [20.0, 0.25617612047793503, 0.42244290012865937], [21.0, 0.25843977834953136, 0.4236470862939435], [22.0, 0.26152427213478047, 0.42512745978491323], [23.0, 0.2652825604497393, 0.4268268142970256], [24.0, 0.26959004111327034, 0.42869723791389014], [25.0, 0.27434152994564476, 0.4306932535869982], [26.0, 0.279448314491762, 0.4327608229581913], [27.0, 0.2848355119502624, 0.4348639466367387], [28.0, 0.2904396961214763, 0.4369685626536655], [29.0, 0.29620689574534925, 0.43903018885271616]], \"data02\": [[0.8626045400238948, 0.968956953642384, 0.9344646799116997], [0.8924731182795698, 0.968956953642384, 0.9344646799116997]], \"data03\": [[0.8596176821983273, 0.9126195732155997], [0.9895459976105138, 0.9126195732155997], [0.9925328554360812, 0.9126195732155997], [0.9925328554360812, 0.9172185430463575], [0.9925328554360812, 0.9839036055923474], [0.9925328554360812, 0.9885025754231052], [0.9895459976105138, 0.9885025754231052], [0.8596176821983273, 0.9885025754231052], [0.8566308243727597, 0.9885025754231052], [0.8566308243727597, 0.9839036055923474], [0.8566308243727597, 0.9172185430463575], [0.8566308243727597, 0.9126195732155997], [0.8596176821983273, 0.9126195732155997]]}, \"id\": \"el121140318726075952\", \"plugins\": [{\"type\": \"reset\"}, {\"type\": \"zoom\", \"button\": true, \"enabled\": false}, {\"type\": \"boxzoom\", \"button\": true, \"enabled\": false}]});\n",
              "            })\n",
              "         });\n",
              "}\n",
              "</script>"
            ],
            "text/plain": [
              "<Figure size 864x576 with 1 Axes>"
            ]
          },
          "metadata": {
            "tags": [],
            "needs_background": "light"
          }
        }
      ]
    },
    {
      "cell_type": "code",
      "metadata": {
        "id": "U0WGjedkqP22",
        "colab_type": "code",
        "colab": {}
      },
      "source": [
        ""
      ],
      "execution_count": 271,
      "outputs": []
    }
  ]
}