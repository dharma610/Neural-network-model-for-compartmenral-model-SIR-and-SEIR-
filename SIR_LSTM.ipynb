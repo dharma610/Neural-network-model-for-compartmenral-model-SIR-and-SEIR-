{
  "nbformat": 4,
  "nbformat_minor": 0,
  "metadata": {
    "kernelspec": {
      "display_name": "Python 3",
      "language": "python",
      "name": "python3"
    },
    "language_info": {
      "codemirror_mode": {
        "name": "ipython",
        "version": 3
      },
      "file_extension": ".py",
      "mimetype": "text/x-python",
      "name": "python",
      "nbconvert_exporter": "python",
      "pygments_lexer": "ipython3",
      "version": "3.7.3"
    },
    "colab": {
      "name": "01-RNN-Example.ipynb",
      "provenance": [],
      "include_colab_link": true
    }
  },
  "cells": [
    {
      "cell_type": "markdown",
      "metadata": {
        "id": "view-in-github",
        "colab_type": "text"
      },
      "source": [
        "<a href=\"https://colab.research.google.com/github/dharma610/Project/blob/master/SIR_LSTM.ipynb\" target=\"_parent\"><img src=\"https://colab.research.google.com/assets/colab-badge.svg\" alt=\"Open In Colab\"/></a>"
      ]
    },
    {
      "cell_type": "code",
      "metadata": {
        "id": "OEert8fd2_Hg",
        "colab_type": "code",
        "colab": {
          "base_uri": "https://localhost:8080/",
          "height": 336
        },
        "outputId": "80b97edd-a844-47af-c87f-fb3c7cd11d12"
      },
      "source": [
        "from scipy.integrate import odeint\n",
        "import numpy as np\n",
        "import pandas as pd\n",
        "from random import sample\n",
        "import matplotlib.pyplot as plt\n",
        "%matplotlib inline \n",
        "!pip install mpld3\n",
        "import mpld3\n",
        "mpld3.enable_notebook()"
      ],
      "execution_count": 2,
      "outputs": [
        {
          "output_type": "stream",
          "text": [
            "Collecting mpld3\n",
            "\u001b[?25l  Downloading https://files.pythonhosted.org/packages/66/31/89bd2afd21b920e3612996623e7b3aac14d741537aa77600ea5102a34be0/mpld3-0.5.1.tar.gz (1.0MB)\n",
            "\r\u001b[K     |▎                               | 10kB 16.2MB/s eta 0:00:01\r\u001b[K     |▋                               | 20kB 1.7MB/s eta 0:00:01\r\u001b[K     |█                               | 30kB 2.0MB/s eta 0:00:01\r\u001b[K     |█▎                              | 40kB 2.3MB/s eta 0:00:01\r\u001b[K     |█▋                              | 51kB 1.9MB/s eta 0:00:01\r\u001b[K     |██                              | 61kB 2.2MB/s eta 0:00:01\r\u001b[K     |██▏                             | 71kB 2.4MB/s eta 0:00:01\r\u001b[K     |██▌                             | 81kB 2.6MB/s eta 0:00:01\r\u001b[K     |██▉                             | 92kB 2.7MB/s eta 0:00:01\r\u001b[K     |███▏                            | 102kB 2.7MB/s eta 0:00:01\r\u001b[K     |███▌                            | 112kB 2.7MB/s eta 0:00:01\r\u001b[K     |███▉                            | 122kB 2.7MB/s eta 0:00:01\r\u001b[K     |████                            | 133kB 2.7MB/s eta 0:00:01\r\u001b[K     |████▍                           | 143kB 2.7MB/s eta 0:00:01\r\u001b[K     |████▊                           | 153kB 2.7MB/s eta 0:00:01\r\u001b[K     |█████                           | 163kB 2.7MB/s eta 0:00:01\r\u001b[K     |█████▍                          | 174kB 2.7MB/s eta 0:00:01\r\u001b[K     |█████▊                          | 184kB 2.7MB/s eta 0:00:01\r\u001b[K     |██████                          | 194kB 2.7MB/s eta 0:00:01\r\u001b[K     |██████▎                         | 204kB 2.7MB/s eta 0:00:01\r\u001b[K     |██████▋                         | 215kB 2.7MB/s eta 0:00:01\r\u001b[K     |███████                         | 225kB 2.7MB/s eta 0:00:01\r\u001b[K     |███████▎                        | 235kB 2.7MB/s eta 0:00:01\r\u001b[K     |███████▋                        | 245kB 2.7MB/s eta 0:00:01\r\u001b[K     |███████▉                        | 256kB 2.7MB/s eta 0:00:01\r\u001b[K     |████████▏                       | 266kB 2.7MB/s eta 0:00:01\r\u001b[K     |████████▌                       | 276kB 2.7MB/s eta 0:00:01\r\u001b[K     |████████▉                       | 286kB 2.7MB/s eta 0:00:01\r\u001b[K     |█████████▏                      | 296kB 2.7MB/s eta 0:00:01\r\u001b[K     |█████████▌                      | 307kB 2.7MB/s eta 0:00:01\r\u001b[K     |█████████▊                      | 317kB 2.7MB/s eta 0:00:01\r\u001b[K     |██████████                      | 327kB 2.7MB/s eta 0:00:01\r\u001b[K     |██████████▍                     | 337kB 2.7MB/s eta 0:00:01\r\u001b[K     |██████████▊                     | 348kB 2.7MB/s eta 0:00:01\r\u001b[K     |███████████                     | 358kB 2.7MB/s eta 0:00:01\r\u001b[K     |███████████▍                    | 368kB 2.7MB/s eta 0:00:01\r\u001b[K     |███████████▋                    | 378kB 2.7MB/s eta 0:00:01\r\u001b[K     |████████████                    | 389kB 2.7MB/s eta 0:00:01\r\u001b[K     |████████████▎                   | 399kB 2.7MB/s eta 0:00:01\r\u001b[K     |████████████▋                   | 409kB 2.7MB/s eta 0:00:01\r\u001b[K     |█████████████                   | 419kB 2.7MB/s eta 0:00:01\r\u001b[K     |█████████████▎                  | 430kB 2.7MB/s eta 0:00:01\r\u001b[K     |█████████████▌                  | 440kB 2.7MB/s eta 0:00:01\r\u001b[K     |█████████████▉                  | 450kB 2.7MB/s eta 0:00:01\r\u001b[K     |██████████████▏                 | 460kB 2.7MB/s eta 0:00:01\r\u001b[K     |██████████████▌                 | 471kB 2.7MB/s eta 0:00:01\r\u001b[K     |██████████████▉                 | 481kB 2.7MB/s eta 0:00:01\r\u001b[K     |███████████████▏                | 491kB 2.7MB/s eta 0:00:01\r\u001b[K     |███████████████▍                | 501kB 2.7MB/s eta 0:00:01\r\u001b[K     |███████████████▊                | 512kB 2.7MB/s eta 0:00:01\r\u001b[K     |████████████████                | 522kB 2.7MB/s eta 0:00:01\r\u001b[K     |████████████████▍               | 532kB 2.7MB/s eta 0:00:01\r\u001b[K     |████████████████▊               | 542kB 2.7MB/s eta 0:00:01\r\u001b[K     |█████████████████               | 552kB 2.7MB/s eta 0:00:01\r\u001b[K     |█████████████████▎              | 563kB 2.7MB/s eta 0:00:01\r\u001b[K     |█████████████████▋              | 573kB 2.7MB/s eta 0:00:01\r\u001b[K     |██████████████████              | 583kB 2.7MB/s eta 0:00:01\r\u001b[K     |██████████████████▎             | 593kB 2.7MB/s eta 0:00:01\r\u001b[K     |██████████████████▋             | 604kB 2.7MB/s eta 0:00:01\r\u001b[K     |███████████████████             | 614kB 2.7MB/s eta 0:00:01\r\u001b[K     |███████████████████▏            | 624kB 2.7MB/s eta 0:00:01\r\u001b[K     |███████████████████▌            | 634kB 2.7MB/s eta 0:00:01\r\u001b[K     |███████████████████▉            | 645kB 2.7MB/s eta 0:00:01\r\u001b[K     |████████████████████▏           | 655kB 2.7MB/s eta 0:00:01\r\u001b[K     |████████████████████▌           | 665kB 2.7MB/s eta 0:00:01\r\u001b[K     |████████████████████▉           | 675kB 2.7MB/s eta 0:00:01\r\u001b[K     |█████████████████████           | 686kB 2.7MB/s eta 0:00:01\r\u001b[K     |█████████████████████▍          | 696kB 2.7MB/s eta 0:00:01\r\u001b[K     |█████████████████████▊          | 706kB 2.7MB/s eta 0:00:01\r\u001b[K     |██████████████████████          | 716kB 2.7MB/s eta 0:00:01\r\u001b[K     |██████████████████████▍         | 727kB 2.7MB/s eta 0:00:01\r\u001b[K     |██████████████████████▊         | 737kB 2.7MB/s eta 0:00:01\r\u001b[K     |███████████████████████         | 747kB 2.7MB/s eta 0:00:01\r\u001b[K     |███████████████████████▎        | 757kB 2.7MB/s eta 0:00:01\r\u001b[K     |███████████████████████▋        | 768kB 2.7MB/s eta 0:00:01\r\u001b[K     |████████████████████████        | 778kB 2.7MB/s eta 0:00:01\r\u001b[K     |████████████████████████▎       | 788kB 2.7MB/s eta 0:00:01\r\u001b[K     |████████████████████████▋       | 798kB 2.7MB/s eta 0:00:01\r\u001b[K     |████████████████████████▉       | 808kB 2.7MB/s eta 0:00:01\r\u001b[K     |█████████████████████████▏      | 819kB 2.7MB/s eta 0:00:01\r\u001b[K     |█████████████████████████▌      | 829kB 2.7MB/s eta 0:00:01\r\u001b[K     |█████████████████████████▉      | 839kB 2.7MB/s eta 0:00:01\r\u001b[K     |██████████████████████████▏     | 849kB 2.7MB/s eta 0:00:01\r\u001b[K     |██████████████████████████▌     | 860kB 2.7MB/s eta 0:00:01\r\u001b[K     |██████████████████████████▊     | 870kB 2.7MB/s eta 0:00:01\r\u001b[K     |███████████████████████████     | 880kB 2.7MB/s eta 0:00:01\r\u001b[K     |███████████████████████████▍    | 890kB 2.7MB/s eta 0:00:01\r\u001b[K     |███████████████████████████▊    | 901kB 2.7MB/s eta 0:00:01\r\u001b[K     |████████████████████████████    | 911kB 2.7MB/s eta 0:00:01\r\u001b[K     |████████████████████████████▍   | 921kB 2.7MB/s eta 0:00:01\r\u001b[K     |████████████████████████████▋   | 931kB 2.7MB/s eta 0:00:01\r\u001b[K     |█████████████████████████████   | 942kB 2.7MB/s eta 0:00:01\r\u001b[K     |█████████████████████████████▎  | 952kB 2.7MB/s eta 0:00:01\r\u001b[K     |█████████████████████████████▋  | 962kB 2.7MB/s eta 0:00:01\r\u001b[K     |██████████████████████████████  | 972kB 2.7MB/s eta 0:00:01\r\u001b[K     |██████████████████████████████▎ | 983kB 2.7MB/s eta 0:00:01\r\u001b[K     |██████████████████████████████▌ | 993kB 2.7MB/s eta 0:00:01\r\u001b[K     |██████████████████████████████▉ | 1.0MB 2.7MB/s eta 0:00:01\r\u001b[K     |███████████████████████████████▏| 1.0MB 2.7MB/s eta 0:00:01\r\u001b[K     |███████████████████████████████▌| 1.0MB 2.7MB/s eta 0:00:01\r\u001b[K     |███████████████████████████████▉| 1.0MB 2.7MB/s eta 0:00:01\r\u001b[K     |████████████████████████████████| 1.0MB 2.7MB/s \n",
            "\u001b[?25hRequirement already satisfied: jinja2 in /usr/local/lib/python3.6/dist-packages (from mpld3) (2.11.2)\n",
            "Requirement already satisfied: matplotlib in /usr/local/lib/python3.6/dist-packages (from mpld3) (3.2.2)\n",
            "Requirement already satisfied: MarkupSafe>=0.23 in /usr/local/lib/python3.6/dist-packages (from jinja2->mpld3) (1.1.1)\n",
            "Requirement already satisfied: kiwisolver>=1.0.1 in /usr/local/lib/python3.6/dist-packages (from matplotlib->mpld3) (1.2.0)\n",
            "Requirement already satisfied: cycler>=0.10 in /usr/local/lib/python3.6/dist-packages (from matplotlib->mpld3) (0.10.0)\n",
            "Requirement already satisfied: python-dateutil>=2.1 in /usr/local/lib/python3.6/dist-packages (from matplotlib->mpld3) (2.8.1)\n",
            "Requirement already satisfied: numpy>=1.11 in /usr/local/lib/python3.6/dist-packages (from matplotlib->mpld3) (1.18.5)\n",
            "Requirement already satisfied: pyparsing!=2.0.4,!=2.1.2,!=2.1.6,>=2.0.1 in /usr/local/lib/python3.6/dist-packages (from matplotlib->mpld3) (2.4.7)\n",
            "Requirement already satisfied: six in /usr/local/lib/python3.6/dist-packages (from cycler>=0.10->matplotlib->mpld3) (1.15.0)\n",
            "Building wheels for collected packages: mpld3\n",
            "  Building wheel for mpld3 (setup.py) ... \u001b[?25l\u001b[?25hdone\n",
            "  Created wheel for mpld3: filename=mpld3-0.5.1-cp36-none-any.whl size=364065 sha256=e976f2f68c29eb031a908c9da565f32dec3bc89545f185f0f913259e0ec79d05\n",
            "  Stored in directory: /root/.cache/pip/wheels/38/68/06/d119af6c3f9a2d1e123c1f72d276576b457131b3a7bf94e402\n",
            "Successfully built mpld3\n",
            "Installing collected packages: mpld3\n",
            "Successfully installed mpld3-0.5.1\n"
          ],
          "name": "stdout"
        }
      ]
    },
    {
      "cell_type": "code",
      "metadata": {
        "id": "Q-5sqjDr3F1e",
        "colab_type": "code",
        "colab": {}
      },
      "source": [
        "def deriv(y, t, N, beta, gamma):\n",
        "    S, I, R = y\n",
        "    dSdt = -beta * S * I / N\n",
        "    dIdt = beta * S * I / N - gamma * I\n",
        "    dRdt = gamma * I\n",
        "    return dSdt, dIdt, dRdt"
      ],
      "execution_count": 3,
      "outputs": []
    },
    {
      "cell_type": "code",
      "metadata": {
        "id": "Eh2qv55q3Hpe",
        "colab_type": "code",
        "colab": {}
      },
      "source": [
        "def plotsir(t, S, I, R):\n",
        "  f, ax = plt.subplots(1,1,figsize=(10,4))\n",
        "  ax.plot(t, S, 'b', alpha=0.7, linewidth=2, label='Susceptible')\n",
        "  ax.plot(t, I, 'y', alpha=0.7, linewidth=2, label='Infected')\n",
        "  ax.plot(t, R, 'g', alpha=0.7, linewidth=2, label='Recovered')\n",
        "  ax.set_xlabel('Time (days)')\n",
        "  ax.yaxis.set_tick_params(length=0)\n",
        "  ax.xaxis.set_tick_params(length=0)\n",
        "  ax.grid(b=True, which='major', c='w', lw=2, ls='-')\n",
        "  legend = ax.legend()\n",
        "  legend.get_frame().set_alpha(0.5)\n",
        "  for spine in ('top', 'right', 'bottom', 'left'):\n",
        "      ax.spines[spine].set_visible(False)\n",
        "  plt.show();"
      ],
      "execution_count": 4,
      "outputs": []
    },
    {
      "cell_type": "code",
      "metadata": {
        "id": "57Sj0WsF3P3_",
        "colab_type": "code",
        "colab": {}
      },
      "source": [
        "\"\"\" gamma is a list of 1000 random number in (0,1) \"\"\"\n",
        "\n",
        "import random\n",
        "gamma = []\n",
        "for i in range(1000):\n",
        "    gamma.append(random.uniform(0, 1))\n",
        "    \n"
      ],
      "execution_count": 5,
      "outputs": []
    },
    {
      "cell_type": "code",
      "metadata": {
        "id": "kc3Hi5vN3QJH",
        "colab_type": "code",
        "colab": {}
      },
      "source": [
        "\"\"\" beta is twice of each of 1000 gamma values \"\"\"\n",
        "beta = []\n",
        "for i in range(1000):\n",
        "  beta.append(2*gamma[i])  "
      ],
      "execution_count": 6,
      "outputs": []
    },
    {
      "cell_type": "code",
      "metadata": {
        "id": "OwpvcU_m3QXf",
        "colab_type": "code",
        "colab": {}
      },
      "source": [
        "\"\"\" P, Q, M are the list of S, I, R respectievely calculated for 100 days for each of  1000 sets of parameter (beta,gamma).\"\"\"\n",
        "    \n",
        "P = []\n",
        "Q = []\n",
        "M  = []\n",
        "for i in range(1000): #Plotted for 2 sets\n",
        "  N = 1000\n",
        "  S0, I0, R0 = 999, 1, 0  # initial conditions: one infected, rest susceptible\n",
        "  t = np.linspace(0, 99, 100) # Grid of time points (in days)\n",
        "  y0 = S0, I0, R0 # Initial conditions vector\n",
        "  # Integrate the SIR equations over the time grid, t.\n",
        "  ret = odeint(deriv, y0, t, args=(N, beta[i], gamma[i]))\n",
        "  S, I, R = ret.T\n",
        "  P.append(S)\n",
        "  Q.append(I)\n",
        "  M.append(R)\n",
        "\n",
        "  "
      ],
      "execution_count": 7,
      "outputs": []
    },
    {
      "cell_type": "code",
      "metadata": {
        "id": "IvHINPOi3ULn",
        "colab_type": "code",
        "colab": {}
      },
      "source": [
        "\"\"\" list to dataftrame \"\"\"\n",
        "\n",
        "S_value = pd.DataFrame(P)\n",
        "I_value = pd.DataFrame(Q)\n",
        "R_value = pd.DataFrame(M)"
      ],
      "execution_count": 8,
      "outputs": []
    },
    {
      "cell_type": "code",
      "metadata": {
        "id": "n7cUGfRanQMq",
        "colab_type": "code",
        "colab": {}
      },
      "source": [
        "data = np.array(S_value.iloc[0]).reshape(100,1)"
      ],
      "execution_count": 9,
      "outputs": []
    },
    {
      "cell_type": "code",
      "metadata": {
        "id": "Y3HdZzDrnQMv",
        "colab_type": "code",
        "colab": {
          "base_uri": "https://localhost:8080/",
          "height": 326
        },
        "outputId": "69d441be-fb09-4c12-cca2-36223b2d7391"
      },
      "source": [
        "plt.plot(data)"
      ],
      "execution_count": 10,
      "outputs": [
        {
          "output_type": "execute_result",
          "data": {
            "text/plain": [
              "[<matplotlib.lines.Line2D at 0x7f2c683275f8>]"
            ]
          },
          "metadata": {
            "tags": []
          },
          "execution_count": 10
        },
        {
          "output_type": "display_data",
          "data": {
            "image/png": "[encoded data removed]",
            "text/html": [
              "\n",
              "\n",
              "<style>\n",
              "\n",
              "</style>\n",
              "\n",
              "<div id=\"fig_el1231398288539852328052056870\"></div>\n",
              "<script>\n",
              "function mpld3_load_lib(url, callback){\n",
              "  var s = document.createElement('script');\n",
              "  s.src = url;\n",
              "  s.async = true;\n",
              "  s.onreadystatechange = s.onload = callback;\n",
              "  s.onerror = function(){console.warn(\"failed to load library \" + url);};\n",
              "  document.getElementsByTagName(\"head\")[0].appendChild(s);\n",
              "}\n",
              "\n",
              "if(typeof(mpld3) !== \"undefined\" && mpld3._mpld3IsLoaded){\n",
              "   // already loaded: just create the figure\n",
              "   !function(mpld3){\n",
              "       \n",
              "       mpld3.draw_figure(\"fig_el1231398288539852328052056870\", {\"width\": 432.0, \"height\": 288.0, \"axes\": [{\"bbox\": [0.125, 0.125, 0.775, 0.755], \"xlim\": [-4.95, 103.95], \"ylim\": [479.14244144821424, 1023.7551218357993], \"xdomain\": [-4.95, 103.95], \"ydomain\": [479.14244144821424, 1023.7551218357993], \"xscale\": \"linear\", \"yscale\": \"linear\", \"axes\": [{\"position\": \"bottom\", \"nticks\": 8, \"tickvalues\": null, \"tickformat_formatter\": \"\", \"tickformat\": null, \"scale\": \"linear\", \"fontsize\": 10.0, \"grid\": {\"gridOn\": false}, \"visible\": true}, {\"position\": \"left\", \"nticks\": 8, \"tickvalues\": null, \"tickformat_formatter\": \"\", \"tickformat\": null, \"scale\": \"linear\", \"fontsize\": 10.0, \"grid\": {\"gridOn\": false}, \"visible\": true}], \"axesbg\": \"#FFFFFF\", \"axesbgalpha\": null, \"zoomable\": true, \"id\": \"el123139828706466952\", \"lines\": [{\"data\": \"data01\", \"xindex\": 0, \"yindex\": 1, \"coordinates\": \"data\", \"id\": \"el123139828703426040\", \"color\": \"#1F77B4\", \"linewidth\": 1.5, \"dasharray\": \"none\", \"alpha\": 1, \"zorder\": 2, \"drawstyle\": \"default\"}], \"paths\": [], \"markers\": [], \"texts\": [], \"collections\": [], \"images\": [], \"sharex\": [], \"sharey\": []}], \"data\": {\"data01\": [[0.0, 999.0], [1.0, 998.8594283571796], [2.0, 998.7090104979131], [3.0, 998.5480616936647], [4.0, 998.3758503110288], [5.0, 998.1915947571102], [6.0, 997.9944600480978], [7.0, 997.7835544484059], [8.0, 997.5579257004237], [9.0, 997.316557093752], [10.0, 997.0583633018751], [11.0, 996.7821861252405], [12.0, 996.4867895964888], [13.0, 996.1708552411227], [14.0, 995.8329769066269], [15.0, 995.471655307451], [16.0, 995.0852923395164], [17.0, 994.6721850424241], [18.0, 994.230519341412], [19.0, 993.7583634669104], [20.0, 993.2536610993216], [21.0, 992.7142242163001], [22.0, 992.1377256721994], [23.0, 991.5216914835378], [24.0, 990.8634929004008], [25.0, 990.1603381839775], [26.0, 989.4092642326739], [27.0, 988.6071279765547], [28.0, 987.7505976566408], [29.0, 986.8361440050794], [30.0, 985.8600313642746], [31.0, 984.8183089039943], [32.0, 983.7068018268922], [33.0, 982.5211029506484], [34.0, 981.2565643687855], [35.0, 979.9082898496509], [36.0, 978.4711274417349], [37.0, 976.9396632487344], [38.0, 975.3082156438693], [39.0, 973.5708311251184], [40.0, 971.7212809784111], [41.0, 969.753060086694], [42.0, 967.6593870792983], [43.0, 965.4332071436696], [44.0, 963.067196899491], [45.0, 960.5537724521494], [46.0, 957.8851004098412], [47.0, 955.0531125992192], [48.0, 952.049524774844], [49.0, 948.8658595716672], [50.0, 945.4934744943687], [51.0, 941.9235947756569], [52.0, 938.1473521306528], [53.0, 934.1558291704372], [54.0, 929.9401101266157], [55.0, 925.4913382315883], [56.0, 920.8007791780522], [57.0, 915.8598922928834], [58.0, 910.6604068638352], [59.0, 905.1944069580168], [60.0, 899.4544198687736], [61.0, 893.4335130516878], [62.0, 887.1253927883953], [63.0, 880.5245099874203], [64.0, 873.6261657218711], [65.0, 866.426620727329], [66.0, 858.9232027794988], [67.0, 851.1144128883894], [68.0, 843.000027642207], [69.0, 834.5811937054726], [70.0, 825.8605164768036], [71.0, 816.8421339324976], [72.0, 807.5317815338755], [73.0, 797.9368370413949], [74.0, 788.0663511843667], [75.0, 777.931056468378], [76.0, 767.5433546840151], [77.0, 756.9172845543318], [78.0, 746.0684607006516], [79.0, 735.013996844013], [80.0, 723.7724007273089], [81.0, 712.3634478538661], [82.0, 700.8080356220754], [83.0, 689.1280216882433], [84.0, 677.3460437471236], [85.0, 665.4853285732761], [86.0, 653.5694935364887], [87.0, 641.6223410742257], [88.0, 629.6676550798935], [89.0, 617.7289975141755], [90.0, 605.8295136895111], [91.0, 593.9917463800089], [92.0, 582.2374642563188], [93.0, 570.5875048467062], [94.0, 559.0616373647575], [95.0, 547.6784427969233], [96.0, 536.4552172547302], [97.0, 525.4078941331461], [98.0, 514.5509886028633], [99.0, 503.8975632840136]]}, \"id\": \"el123139828853985232\", \"plugins\": [{\"type\": \"reset\"}, {\"type\": \"zoom\", \"button\": true, \"enabled\": false}, {\"type\": \"boxzoom\", \"button\": true, \"enabled\": false}]});\n",
              "   }(mpld3);\n",
              "}else if(typeof define === \"function\" && define.amd){\n",
              "   // require.js is available: use it to load d3/mpld3\n",
              "   require.config({paths: {d3: \"https://d3js.org/d3.v5\"}});\n",
              "   require([\"d3\"], function(d3){\n",
              "      window.d3 = d3;\n",
              "      mpld3_load_lib(\"https://mpld3.github.io/js/mpld3.v0.5.1.js\", function(){\n",
              "         \n",
              "         mpld3.draw_figure(\"fig_el1231398288539852328052056870\", {\"width\": 432.0, \"height\": 288.0, \"axes\": [{\"bbox\": [0.125, 0.125, 0.775, 0.755], \"xlim\": [-4.95, 103.95], \"ylim\": [479.14244144821424, 1023.7551218357993], \"xdomain\": [-4.95, 103.95], \"ydomain\": [479.14244144821424, 1023.7551218357993], \"xscale\": \"linear\", \"yscale\": \"linear\", \"axes\": [{\"position\": \"bottom\", \"nticks\": 8, \"tickvalues\": null, \"tickformat_formatter\": \"\", \"tickformat\": null, \"scale\": \"linear\", \"fontsize\": 10.0, \"grid\": {\"gridOn\": false}, \"visible\": true}, {\"position\": \"left\", \"nticks\": 8, \"tickvalues\": null, \"tickformat_formatter\": \"\", \"tickformat\": null, \"scale\": \"linear\", \"fontsize\": 10.0, \"grid\": {\"gridOn\": false}, \"visible\": true}], \"axesbg\": \"#FFFFFF\", \"axesbgalpha\": null, \"zoomable\": true, \"id\": \"el123139828706466952\", \"lines\": [{\"data\": \"data01\", \"xindex\": 0, \"yindex\": 1, \"coordinates\": \"data\", \"id\": \"el123139828703426040\", \"color\": \"#1F77B4\", \"linewidth\": 1.5, \"dasharray\": \"none\", \"alpha\": 1, \"zorder\": 2, \"drawstyle\": \"default\"}], \"paths\": [], \"markers\": [], \"texts\": [], \"collections\": [], \"images\": [], \"sharex\": [], \"sharey\": []}], \"data\": {\"data01\": [[0.0, 999.0], [1.0, 998.8594283571796], [2.0, 998.7090104979131], [3.0, 998.5480616936647], [4.0, 998.3758503110288], [5.0, 998.1915947571102], [6.0, 997.9944600480978], [7.0, 997.7835544484059], [8.0, 997.5579257004237], [9.0, 997.316557093752], [10.0, 997.0583633018751], [11.0, 996.7821861252405], [12.0, 996.4867895964888], [13.0, 996.1708552411227], [14.0, 995.8329769066269], [15.0, 995.471655307451], [16.0, 995.0852923395164], [17.0, 994.6721850424241], [18.0, 994.230519341412], [19.0, 993.7583634669104], [20.0, 993.2536610993216], [21.0, 992.7142242163001], [22.0, 992.1377256721994], [23.0, 991.5216914835378], [24.0, 990.8634929004008], [25.0, 990.1603381839775], [26.0, 989.4092642326739], [27.0, 988.6071279765547], [28.0, 987.7505976566408], [29.0, 986.8361440050794], [30.0, 985.8600313642746], [31.0, 984.8183089039943], [32.0, 983.7068018268922], [33.0, 982.5211029506484], [34.0, 981.2565643687855], [35.0, 979.9082898496509], [36.0, 978.4711274417349], [37.0, 976.9396632487344], [38.0, 975.3082156438693], [39.0, 973.5708311251184], [40.0, 971.7212809784111], [41.0, 969.753060086694], [42.0, 967.6593870792983], [43.0, 965.4332071436696], [44.0, 963.067196899491], [45.0, 960.5537724521494], [46.0, 957.8851004098412], [47.0, 955.0531125992192], [48.0, 952.049524774844], [49.0, 948.8658595716672], [50.0, 945.4934744943687], [51.0, 941.9235947756569], [52.0, 938.1473521306528], [53.0, 934.1558291704372], [54.0, 929.9401101266157], [55.0, 925.4913382315883], [56.0, 920.8007791780522], [57.0, 915.8598922928834], [58.0, 910.6604068638352], [59.0, 905.1944069580168], [60.0, 899.4544198687736], [61.0, 893.4335130516878], [62.0, 887.1253927883953], [63.0, 880.5245099874203], [64.0, 873.6261657218711], [65.0, 866.426620727329], [66.0, 858.9232027794988], [67.0, 851.1144128883894], [68.0, 843.000027642207], [69.0, 834.5811937054726], [70.0, 825.8605164768036], [71.0, 816.8421339324976], [72.0, 807.5317815338755], [73.0, 797.9368370413949], [74.0, 788.0663511843667], [75.0, 777.931056468378], [76.0, 767.5433546840151], [77.0, 756.9172845543318], [78.0, 746.0684607006516], [79.0, 735.013996844013], [80.0, 723.7724007273089], [81.0, 712.3634478538661], [82.0, 700.8080356220754], [83.0, 689.1280216882433], [84.0, 677.3460437471236], [85.0, 665.4853285732761], [86.0, 653.5694935364887], [87.0, 641.6223410742257], [88.0, 629.6676550798935], [89.0, 617.7289975141755], [90.0, 605.8295136895111], [91.0, 593.9917463800089], [92.0, 582.2374642563188], [93.0, 570.5875048467062], [94.0, 559.0616373647575], [95.0, 547.6784427969233], [96.0, 536.4552172547302], [97.0, 525.4078941331461], [98.0, 514.5509886028633], [99.0, 503.8975632840136]]}, \"id\": \"el123139828853985232\", \"plugins\": [{\"type\": \"reset\"}, {\"type\": \"zoom\", \"button\": true, \"enabled\": false}, {\"type\": \"boxzoom\", \"button\": true, \"enabled\": false}]});\n",
              "      });\n",
              "    });\n",
              "}else{\n",
              "    // require.js not available: dynamically load d3 & mpld3\n",
              "    mpld3_load_lib(\"https://d3js.org/d3.v5.js\", function(){\n",
              "         mpld3_load_lib(\"https://mpld3.github.io/js/mpld3.v0.5.1.js\", function(){\n",
              "                 \n",
              "                 mpld3.draw_figure(\"fig_el1231398288539852328052056870\", {\"width\": 432.0, \"height\": 288.0, \"axes\": [{\"bbox\": [0.125, 0.125, 0.775, 0.755], \"xlim\": [-4.95, 103.95], \"ylim\": [479.14244144821424, 1023.7551218357993], \"xdomain\": [-4.95, 103.95], \"ydomain\": [479.14244144821424, 1023.7551218357993], \"xscale\": \"linear\", \"yscale\": \"linear\", \"axes\": [{\"position\": \"bottom\", \"nticks\": 8, \"tickvalues\": null, \"tickformat_formatter\": \"\", \"tickformat\": null, \"scale\": \"linear\", \"fontsize\": 10.0, \"grid\": {\"gridOn\": false}, \"visible\": true}, {\"position\": \"left\", \"nticks\": 8, \"tickvalues\": null, \"tickformat_formatter\": \"\", \"tickformat\": null, \"scale\": \"linear\", \"fontsize\": 10.0, \"grid\": {\"gridOn\": false}, \"visible\": true}], \"axesbg\": \"#FFFFFF\", \"axesbgalpha\": null, \"zoomable\": true, \"id\": \"el123139828706466952\", \"lines\": [{\"data\": \"data01\", \"xindex\": 0, \"yindex\": 1, \"coordinates\": \"data\", \"id\": \"el123139828703426040\", \"color\": \"#1F77B4\", \"linewidth\": 1.5, \"dasharray\": \"none\", \"alpha\": 1, \"zorder\": 2, \"drawstyle\": \"default\"}], \"paths\": [], \"markers\": [], \"texts\": [], \"collections\": [], \"images\": [], \"sharex\": [], \"sharey\": []}], \"data\": {\"data01\": [[0.0, 999.0], [1.0, 998.8594283571796], [2.0, 998.7090104979131], [3.0, 998.5480616936647], [4.0, 998.3758503110288], [5.0, 998.1915947571102], [6.0, 997.9944600480978], [7.0, 997.7835544484059], [8.0, 997.5579257004237], [9.0, 997.316557093752], [10.0, 997.0583633018751], [11.0, 996.7821861252405], [12.0, 996.4867895964888], [13.0, 996.1708552411227], [14.0, 995.8329769066269], [15.0, 995.471655307451], [16.0, 995.0852923395164], [17.0, 994.6721850424241], [18.0, 994.230519341412], [19.0, 993.7583634669104], [20.0, 993.2536610993216], [21.0, 992.7142242163001], [22.0, 992.1377256721994], [23.0, 991.5216914835378], [24.0, 990.8634929004008], [25.0, 990.1603381839775], [26.0, 989.4092642326739], [27.0, 988.6071279765547], [28.0, 987.7505976566408], [29.0, 986.8361440050794], [30.0, 985.8600313642746], [31.0, 984.8183089039943], [32.0, 983.7068018268922], [33.0, 982.5211029506484], [34.0, 981.2565643687855], [35.0, 979.9082898496509], [36.0, 978.4711274417349], [37.0, 976.9396632487344], [38.0, 975.3082156438693], [39.0, 973.5708311251184], [40.0, 971.7212809784111], [41.0, 969.753060086694], [42.0, 967.6593870792983], [43.0, 965.4332071436696], [44.0, 963.067196899491], [45.0, 960.5537724521494], [46.0, 957.8851004098412], [47.0, 955.0531125992192], [48.0, 952.049524774844], [49.0, 948.8658595716672], [50.0, 945.4934744943687], [51.0, 941.9235947756569], [52.0, 938.1473521306528], [53.0, 934.1558291704372], [54.0, 929.9401101266157], [55.0, 925.4913382315883], [56.0, 920.8007791780522], [57.0, 915.8598922928834], [58.0, 910.6604068638352], [59.0, 905.1944069580168], [60.0, 899.4544198687736], [61.0, 893.4335130516878], [62.0, 887.1253927883953], [63.0, 880.5245099874203], [64.0, 873.6261657218711], [65.0, 866.426620727329], [66.0, 858.9232027794988], [67.0, 851.1144128883894], [68.0, 843.000027642207], [69.0, 834.5811937054726], [70.0, 825.8605164768036], [71.0, 816.8421339324976], [72.0, 807.5317815338755], [73.0, 797.9368370413949], [74.0, 788.0663511843667], [75.0, 777.931056468378], [76.0, 767.5433546840151], [77.0, 756.9172845543318], [78.0, 746.0684607006516], [79.0, 735.013996844013], [80.0, 723.7724007273089], [81.0, 712.3634478538661], [82.0, 700.8080356220754], [83.0, 689.1280216882433], [84.0, 677.3460437471236], [85.0, 665.4853285732761], [86.0, 653.5694935364887], [87.0, 641.6223410742257], [88.0, 629.6676550798935], [89.0, 617.7289975141755], [90.0, 605.8295136895111], [91.0, 593.9917463800089], [92.0, 582.2374642563188], [93.0, 570.5875048467062], [94.0, 559.0616373647575], [95.0, 547.6784427969233], [96.0, 536.4552172547302], [97.0, 525.4078941331461], [98.0, 514.5509886028633], [99.0, 503.8975632840136]]}, \"id\": \"el123139828853985232\", \"plugins\": [{\"type\": \"reset\"}, {\"type\": \"zoom\", \"button\": true, \"enabled\": false}, {\"type\": \"boxzoom\", \"button\": true, \"enabled\": false}]});\n",
              "            })\n",
              "         });\n",
              "}\n",
              "</script>"
            ],
            "text/plain": [
              "<Figure size 432x288 with 1 Axes>"
            ]
          },
          "metadata": {
            "tags": [],
            "needs_background": "light"
          }
        }
      ]
    },
    {
      "cell_type": "code",
      "metadata": {
        "id": "kslRPscynQNA",
        "colab_type": "code",
        "colab": {}
      },
      "source": [
        "train = data[0:70]\n",
        "test = data[70:]"
      ],
      "execution_count": 93,
      "outputs": []
    },
    {
      "cell_type": "code",
      "metadata": {
        "id": "_GyskCZo5ILD",
        "colab_type": "code",
        "colab": {
          "base_uri": "https://localhost:8080/",
          "height": 1000
        },
        "outputId": "09e2194f-a65c-4ab8-a452-b09511b57ce6"
      },
      "source": [
        "train"
      ],
      "execution_count": 14,
      "outputs": [
        {
          "output_type": "execute_result",
          "data": {
            "text/plain": [
              "array([[999.        ],\n",
              "       [998.85942836],\n",
              "       [998.7090105 ],\n",
              "       [998.54806169],\n",
              "       [998.37585031],\n",
              "       [998.19159476],\n",
              "       [997.99446005],\n",
              "       [997.78355445],\n",
              "       [997.5579257 ],\n",
              "       [997.31655709],\n",
              "       [997.0583633 ],\n",
              "       [996.78218613],\n",
              "       [996.4867896 ],\n",
              "       [996.17085524],\n",
              "       [995.83297691],\n",
              "       [995.47165531],\n",
              "       [995.08529234],\n",
              "       [994.67218504],\n",
              "       [994.23051934],\n",
              "       [993.75836347],\n",
              "       [993.2536611 ],\n",
              "       [992.71422422],\n",
              "       [992.13772567],\n",
              "       [991.52169148],\n",
              "       [990.8634929 ],\n",
              "       [990.16033818],\n",
              "       [989.40926423],\n",
              "       [988.60712798],\n",
              "       [987.75059766],\n",
              "       [986.83614401],\n",
              "       [985.86003136],\n",
              "       [984.8183089 ],\n",
              "       [983.70680183],\n",
              "       [982.52110295],\n",
              "       [981.25656437],\n",
              "       [979.90828985],\n",
              "       [978.47112744],\n",
              "       [976.93966325],\n",
              "       [975.30821564],\n",
              "       [973.57083113],\n",
              "       [971.72128098],\n",
              "       [969.75306009],\n",
              "       [967.65938708],\n",
              "       [965.43320714],\n",
              "       [963.0671969 ],\n",
              "       [960.55377245],\n",
              "       [957.88510041],\n",
              "       [955.0531126 ],\n",
              "       [952.04952477],\n",
              "       [948.86585957],\n",
              "       [945.49347449],\n",
              "       [941.92359478],\n",
              "       [938.14735213],\n",
              "       [934.15582917],\n",
              "       [929.94011013],\n",
              "       [925.49133823],\n",
              "       [920.80077918],\n",
              "       [915.85989229],\n",
              "       [910.66040686],\n",
              "       [905.19440696],\n",
              "       [899.45441987],\n",
              "       [893.43351305],\n",
              "       [887.12539279],\n",
              "       [880.52450999],\n",
              "       [873.62616572],\n",
              "       [866.42662073],\n",
              "       [858.92320278],\n",
              "       [851.11441289],\n",
              "       [843.00002764],\n",
              "       [834.58119371]])"
            ]
          },
          "metadata": {
            "tags": []
          },
          "execution_count": 14
        }
      ]
    },
    {
      "cell_type": "code",
      "metadata": {
        "id": "oTWce3nznQNG",
        "colab_type": "code",
        "colab": {}
      },
      "source": [
        "from sklearn.preprocessing import MinMaxScaler"
      ],
      "execution_count": 15,
      "outputs": []
    },
    {
      "cell_type": "code",
      "metadata": {
        "id": "nhMCBLgynQNJ",
        "colab_type": "code",
        "colab": {}
      },
      "source": [
        "scaler = MinMaxScaler()"
      ],
      "execution_count": 16,
      "outputs": []
    },
    {
      "cell_type": "code",
      "metadata": {
        "id": "gihyHQXUnQNP",
        "colab_type": "code",
        "colab": {
          "base_uri": "https://localhost:8080/",
          "height": 34
        },
        "outputId": "df49450a-2ee5-433d-ec48-bcd463ec39f9"
      },
      "source": [
        "# IGNORE WARNING ITS JUST CONVERTING TO FLOATS\n",
        "# WE ONLY FIT TO TRAININ DATA, OTHERWISE WE ARE CHEATING ASSUMING INFO ABOUT TEST SET\n",
        "scaler.fit(train)"
      ],
      "execution_count": 17,
      "outputs": [
        {
          "output_type": "execute_result",
          "data": {
            "text/plain": [
              "MinMaxScaler(copy=True, feature_range=(0, 1))"
            ]
          },
          "metadata": {
            "tags": []
          },
          "execution_count": 17
        }
      ]
    },
    {
      "cell_type": "code",
      "metadata": {
        "id": "c1kXaUv5nQNS",
        "colab_type": "code",
        "colab": {}
      },
      "source": [
        "scaled_train = scaler.transform(train)\n",
        "scaled_test = scaler.transform(test)"
      ],
      "execution_count": 18,
      "outputs": []
    },
    {
      "cell_type": "code",
      "metadata": {
        "id": "AaJW0bfmkMEV",
        "colab_type": "code",
        "colab": {
          "base_uri": "https://localhost:8080/",
          "height": 34
        },
        "outputId": "281e38f4-5159-4b12-ce97-35b6d3888fc3"
      },
      "source": [
        "from keras.models import Sequential\n",
        "from keras.layers import Dense\n",
        "from keras.layers import LSTM\n",
        "from keras.preprocessing.sequence import TimeseriesGenerator"
      ],
      "execution_count": 19,
      "outputs": [
        {
          "output_type": "stream",
          "text": [
            "Using TensorFlow backend.\n"
          ],
          "name": "stderr"
        }
      ]
    },
    {
      "cell_type": "code",
      "metadata": {
        "id": "CQUayskCkMTN",
        "colab_type": "code",
        "colab": {}
      },
      "source": [
        "# define generator\n",
        "n_input = 9\n",
        "n_features = 1\n",
        "generator = TimeseriesGenerator(scaled_train, scaled_train, length=n_input, batch_size=1)"
      ],
      "execution_count": 20,
      "outputs": []
    },
    {
      "cell_type": "code",
      "metadata": {
        "id": "QgL5AWlKkMhs",
        "colab_type": "code",
        "colab": {}
      },
      "source": [
        "X,y = generator[0]"
      ],
      "execution_count": 21,
      "outputs": []
    },
    {
      "cell_type": "code",
      "metadata": {
        "id": "397EFP4SkMvl",
        "colab_type": "code",
        "colab": {}
      },
      "source": [
        "# define model\n",
        "model = Sequential()\n",
        "model.add(LSTM(64, activation='relu',return_sequences=True, input_shape=(n_input, n_features)))\n",
        "model.add(LSTM(64, return_sequences=True))\n",
        "model.add(LSTM(32, return_sequences=True))\n",
        "model.add(LSTM(32, return_sequences=True))\n",
        "model.add(LSTM(16))\n",
        "model.add(Dense(1))\n",
        "model.compile(optimizer='adam', loss='mse')"
      ],
      "execution_count": 97,
      "outputs": []
    },
    {
      "cell_type": "code",
      "metadata": {
        "id": "A6Mu4nIEkM9E",
        "colab_type": "code",
        "colab": {
          "base_uri": "https://localhost:8080/",
          "height": 353
        },
        "outputId": "b79ccc66-1fb1-4175-dd1c-2d6ecb0d531c"
      },
      "source": [
        "model.summary()\n"
      ],
      "execution_count": 98,
      "outputs": [
        {
          "output_type": "stream",
          "text": [
            "Model: \"sequential_5\"\n",
            "_________________________________________________________________\n",
            "Layer (type)                 Output Shape              Param #   \n",
            "=================================================================\n",
            "lstm_19 (LSTM)               (None, 9, 64)             16896     \n",
            "_________________________________________________________________\n",
            "lstm_20 (LSTM)               (None, 9, 64)             33024     \n",
            "_________________________________________________________________\n",
            "lstm_21 (LSTM)               (None, 9, 32)             12416     \n",
            "_________________________________________________________________\n",
            "lstm_22 (LSTM)               (None, 9, 32)             8320      \n",
            "_________________________________________________________________\n",
            "lstm_23 (LSTM)               (None, 16)                3136      \n",
            "_________________________________________________________________\n",
            "dense_5 (Dense)              (None, 1)                 17        \n",
            "=================================================================\n",
            "Total params: 73,809\n",
            "Trainable params: 73,809\n",
            "Non-trainable params: 0\n",
            "_________________________________________________________________\n"
          ],
          "name": "stdout"
        }
      ]
    },
    {
      "cell_type": "code",
      "metadata": {
        "id": "X5Dqwl8ykNK0",
        "colab_type": "code",
        "colab": {
          "base_uri": "https://localhost:8080/",
          "height": 1000
        },
        "outputId": "77f4e449-cef1-4883-8c41-7cd79d2bfd9c"
      },
      "source": [
        "# fit model\n",
        "model.fit_generator(generator,epochs=50)"
      ],
      "execution_count": 99,
      "outputs": [
        {
          "output_type": "stream",
          "text": [
            "Epoch 1/50\n",
            "61/61 [==============================] - 3s 41ms/step - loss: 0.1480\n",
            "Epoch 2/50\n",
            "61/61 [==============================] - 1s 19ms/step - loss: 0.0336\n",
            "Epoch 3/50\n",
            "61/61 [==============================] - 1s 18ms/step - loss: 0.0046\n",
            "Epoch 4/50\n",
            "61/61 [==============================] - 1s 18ms/step - loss: 0.0012\n",
            "Epoch 5/50\n",
            "61/61 [==============================] - 1s 18ms/step - loss: 7.1186e-04\n",
            "Epoch 6/50\n",
            "61/61 [==============================] - 1s 17ms/step - loss: 3.6672e-04\n",
            "Epoch 7/50\n",
            "61/61 [==============================] - 1s 20ms/step - loss: 1.2728e-04\n",
            "Epoch 8/50\n",
            "61/61 [==============================] - 1s 19ms/step - loss: 2.1855e-04\n",
            "Epoch 9/50\n",
            "61/61 [==============================] - 1s 17ms/step - loss: 1.7746e-04\n",
            "Epoch 10/50\n",
            "61/61 [==============================] - 1s 17ms/step - loss: 6.9557e-05\n",
            "Epoch 11/50\n",
            "61/61 [==============================] - 1s 18ms/step - loss: 7.0083e-05\n",
            "Epoch 12/50\n",
            "61/61 [==============================] - 1s 18ms/step - loss: 1.1525e-04\n",
            "Epoch 13/50\n",
            "61/61 [==============================] - 1s 17ms/step - loss: 1.1489e-04\n",
            "Epoch 14/50\n",
            "61/61 [==============================] - 1s 18ms/step - loss: 1.0561e-04\n",
            "Epoch 15/50\n",
            "61/61 [==============================] - 1s 23ms/step - loss: 5.5717e-05\n",
            "Epoch 16/50\n",
            "61/61 [==============================] - 2s 30ms/step - loss: 7.9156e-05\n",
            "Epoch 17/50\n",
            "61/61 [==============================] - 2s 27ms/step - loss: 4.9889e-05\n",
            "Epoch 18/50\n",
            "61/61 [==============================] - 2s 27ms/step - loss: 8.6329e-05\n",
            "Epoch 19/50\n",
            "61/61 [==============================] - 2s 29ms/step - loss: 2.4332e-04\n",
            "Epoch 20/50\n",
            "61/61 [==============================] - 2s 29ms/step - loss: 7.8055e-04\n",
            "Epoch 21/50\n",
            "61/61 [==============================] - 1s 23ms/step - loss: 1.0770e-04\n",
            "Epoch 22/50\n",
            "61/61 [==============================] - 1s 17ms/step - loss: 3.5246e-05\n",
            "Epoch 23/50\n",
            "61/61 [==============================] - 1s 17ms/step - loss: 4.0256e-05\n",
            "Epoch 24/50\n",
            "61/61 [==============================] - 1s 18ms/step - loss: 2.5398e-04\n",
            "Epoch 25/50\n",
            "61/61 [==============================] - 1s 17ms/step - loss: 6.9661e-04\n",
            "Epoch 26/50\n",
            "61/61 [==============================] - 1s 17ms/step - loss: 0.0011\n",
            "Epoch 27/50\n",
            "61/61 [==============================] - 1s 17ms/step - loss: 4.5628e-04\n",
            "Epoch 28/50\n",
            "61/61 [==============================] - 1s 20ms/step - loss: 1.7137e-04\n",
            "Epoch 29/50\n",
            "61/61 [==============================] - 1s 18ms/step - loss: 6.2854e-04\n",
            "Epoch 30/50\n",
            "61/61 [==============================] - 1s 17ms/step - loss: 2.3478e-04\n",
            "Epoch 31/50\n",
            "61/61 [==============================] - 1s 17ms/step - loss: 1.5302e-04\n",
            "Epoch 32/50\n",
            "61/61 [==============================] - 1s 19ms/step - loss: 3.5384e-04\n",
            "Epoch 33/50\n",
            "61/61 [==============================] - 1s 17ms/step - loss: 4.8220e-04\n",
            "Epoch 34/50\n",
            "61/61 [==============================] - 1s 17ms/step - loss: 1.4839e-04\n",
            "Epoch 35/50\n",
            "61/61 [==============================] - 1s 18ms/step - loss: 1.1496e-04\n",
            "Epoch 36/50\n",
            "61/61 [==============================] - 1s 17ms/step - loss: 1.8750e-04\n",
            "Epoch 37/50\n",
            "61/61 [==============================] - 1s 18ms/step - loss: 2.7007e-04\n",
            "Epoch 38/50\n",
            "61/61 [==============================] - 1s 18ms/step - loss: 2.2142e-04\n",
            "Epoch 39/50\n",
            "61/61 [==============================] - 1s 18ms/step - loss: 7.2854e-05\n",
            "Epoch 40/50\n",
            "61/61 [==============================] - 1s 19ms/step - loss: 4.0897e-04\n",
            "Epoch 41/50\n",
            "61/61 [==============================] - 1s 18ms/step - loss: 3.5057e-04\n",
            "Epoch 42/50\n",
            "61/61 [==============================] - 1s 21ms/step - loss: 3.1709e-04\n",
            "Epoch 43/50\n",
            "61/61 [==============================] - 1s 18ms/step - loss: 2.5564e-04\n",
            "Epoch 44/50\n",
            "61/61 [==============================] - 1s 18ms/step - loss: 1.2595e-04\n",
            "Epoch 45/50\n",
            "61/61 [==============================] - 1s 18ms/step - loss: 2.1276e-04\n",
            "Epoch 46/50\n",
            "61/61 [==============================] - 1s 19ms/step - loss: 1.0346e-04\n",
            "Epoch 47/50\n",
            "61/61 [==============================] - 1s 17ms/step - loss: 5.4781e-05\n",
            "Epoch 48/50\n",
            "61/61 [==============================] - 1s 17ms/step - loss: 1.6815e-04\n",
            "Epoch 49/50\n",
            "61/61 [==============================] - 1s 17ms/step - loss: 2.5745e-04\n",
            "Epoch 50/50\n",
            "61/61 [==============================] - 1s 18ms/step - loss: 6.8291e-04\n"
          ],
          "name": "stdout"
        },
        {
          "output_type": "execute_result",
          "data": {
            "text/plain": [
              "<keras.callbacks.callbacks.History at 0x7f2c17be2898>"
            ]
          },
          "metadata": {
            "tags": []
          },
          "execution_count": 99
        }
      ]
    },
    {
      "cell_type": "code",
      "metadata": {
        "id": "9kYtpZnUm04E",
        "colab_type": "code",
        "colab": {
          "base_uri": "https://localhost:8080/",
          "height": 34
        },
        "outputId": "099081d3-9f01-41fd-95c4-4fdde2469cd4"
      },
      "source": [
        "model.history.history.keys()"
      ],
      "execution_count": 100,
      "outputs": [
        {
          "output_type": "execute_result",
          "data": {
            "text/plain": [
              "dict_keys(['loss'])"
            ]
          },
          "metadata": {
            "tags": []
          },
          "execution_count": 100
        }
      ]
    },
    {
      "cell_type": "code",
      "metadata": {
        "id": "LQspyIUam1GL",
        "colab_type": "code",
        "colab": {
          "base_uri": "https://localhost:8080/",
          "height": 326
        },
        "outputId": "8db9a9b2-7e42-416f-9fbf-e0eedd1a7c20"
      },
      "source": [
        "loss_per_epoch = model.history.history['loss']\n",
        "plt.plot(range(len(loss_per_epoch)),loss_per_epoch)"
      ],
      "execution_count": 101,
      "outputs": [
        {
          "output_type": "execute_result",
          "data": {
            "text/plain": [
              "[<matplotlib.lines.Line2D at 0x7f2c17418400>]"
            ]
          },
          "metadata": {
            "tags": []
          },
          "execution_count": 101
        },
        {
          "output_type": "display_data",
          "data": {
            "image/png": "[encoded data removed]",
            "text/html": [
              "\n",
              "\n",
              "<style>\n",
              "\n",
              "</style>\n",
              "\n",
              "<div id=\"fig_el1231398273427184009761268599\"></div>\n",
              "<script>\n",
              "function mpld3_load_lib(url, callback){\n",
              "  var s = document.createElement('script');\n",
              "  s.src = url;\n",
              "  s.async = true;\n",
              "  s.onreadystatechange = s.onload = callback;\n",
              "  s.onerror = function(){console.warn(\"failed to load library \" + url);};\n",
              "  document.getElementsByTagName(\"head\")[0].appendChild(s);\n",
              "}\n",
              "\n",
              "if(typeof(mpld3) !== \"undefined\" && mpld3._mpld3IsLoaded){\n",
              "   // already loaded: just create the figure\n",
              "   !function(mpld3){\n",
              "       \n",
              "       mpld3.draw_figure(\"fig_el1231398273427184009761268599\", {\"width\": 432.0, \"height\": 288.0, \"axes\": [{\"bbox\": [0.125, 0.125, 0.775, 0.755], \"xlim\": [-2.45, 51.45], \"ylim\": [-0.007363344670550657, 0.15540565020118172], \"xdomain\": [-2.45, 51.45], \"ydomain\": [-0.007363344670550657, 0.15540565020118172], \"xscale\": \"linear\", \"yscale\": \"linear\", \"axes\": [{\"position\": \"bottom\", \"nticks\": 8, \"tickvalues\": null, \"tickformat_formatter\": \"\", \"tickformat\": null, \"scale\": \"linear\", \"fontsize\": 10.0, \"grid\": {\"gridOn\": false}, \"visible\": true}, {\"position\": \"left\", \"nticks\": 10, \"tickvalues\": null, \"tickformat_formatter\": \"\", \"tickformat\": null, \"scale\": \"linear\", \"fontsize\": 10.0, \"grid\": {\"gridOn\": false}, \"visible\": true}], \"axesbg\": \"#FFFFFF\", \"axesbgalpha\": null, \"zoomable\": true, \"id\": \"el123139827343729160\", \"lines\": [{\"data\": \"data01\", \"xindex\": 0, \"yindex\": 1, \"coordinates\": \"data\", \"id\": \"el123139827345458176\", \"color\": \"#1F77B4\", \"linewidth\": 1.5, \"dasharray\": \"none\", \"alpha\": 1, \"zorder\": 2, \"drawstyle\": \"default\"}], \"paths\": [], \"markers\": [], \"texts\": [], \"collections\": [], \"images\": [], \"sharex\": [], \"sharey\": []}], \"data\": {\"data01\": [[0.0, 0.14800705952519388], [1.0, 0.03355737189861534], [2.0, 0.0046377266041145795], [3.0, 0.0011699485485545196], [4.0, 0.0007118618445817491], [5.0, 0.00036671578601877843], [6.0, 0.0001272846329888606], [7.0, 0.00021854567477744781], [8.0, 0.00017745596392486373], [9.0, 6.955679045827691e-05], [10.0, 7.008337195120792e-05], [11.0, 0.00011524662430277941], [12.0, 0.00011489382838751456], [13.0, 0.0001056094704398284], [14.0, 5.571665584334667e-05], [15.0, 7.915592755715237e-05], [16.0, 4.988935360868664e-05], [17.0, 8.632882342432307e-05], [18.0, 0.00024331924976661227], [19.0, 0.000780550732080704], [20.0, 0.00010769886187652494], [21.0, 3.524600543717956e-05], [22.0, 4.02563564201574e-05], [23.0, 0.0002539753668940171], [24.0, 0.0006966083927025346], [25.0, 0.001094272434778683], [26.0, 0.00045628087984189985], [27.0, 0.00017136877389792624], [28.0, 0.0006285385329274654], [29.0, 0.0002347777280764955], [30.0, 0.00015302365626100532], [31.0, 0.0003538418406366582], [32.0, 0.0004821956262715123], [33.0, 0.00014839499285854198], [34.0, 0.00011496273282464328], [35.0, 0.00018749740030210753], [36.0, 0.00027006757992550966], [37.0, 0.00022141825015527592], [38.0, 7.285360143712893e-05], [39.0, 0.0004089727128874723], [40.0, 0.0003505687634292134], [41.0, 0.00031708647548886335], [42.0, 0.0002556367353463429], [43.0, 0.00012595447575300628], [44.0, 0.00021276175911846056], [45.0, 0.00010345708239582775], [46.0, 5.4781003030675994e-05], [47.0, 0.00016815328923029693], [48.0, 0.0002574496064090821], [49.0, 0.0006829118410170485]]}, \"id\": \"el123139827342718400\", \"plugins\": [{\"type\": \"reset\"}, {\"type\": \"zoom\", \"button\": true, \"enabled\": false}, {\"type\": \"boxzoom\", \"button\": true, \"enabled\": false}]});\n",
              "   }(mpld3);\n",
              "}else if(typeof define === \"function\" && define.amd){\n",
              "   // require.js is available: use it to load d3/mpld3\n",
              "   require.config({paths: {d3: \"https://d3js.org/d3.v5\"}});\n",
              "   require([\"d3\"], function(d3){\n",
              "      window.d3 = d3;\n",
              "      mpld3_load_lib(\"https://mpld3.github.io/js/mpld3.v0.5.1.js\", function(){\n",
              "         \n",
              "         mpld3.draw_figure(\"fig_el1231398273427184009761268599\", {\"width\": 432.0, \"height\": 288.0, \"axes\": [{\"bbox\": [0.125, 0.125, 0.775, 0.755], \"xlim\": [-2.45, 51.45], \"ylim\": [-0.007363344670550657, 0.15540565020118172], \"xdomain\": [-2.45, 51.45], \"ydomain\": [-0.007363344670550657, 0.15540565020118172], \"xscale\": \"linear\", \"yscale\": \"linear\", \"axes\": [{\"position\": \"bottom\", \"nticks\": 8, \"tickvalues\": null, \"tickformat_formatter\": \"\", \"tickformat\": null, \"scale\": \"linear\", \"fontsize\": 10.0, \"grid\": {\"gridOn\": false}, \"visible\": true}, {\"position\": \"left\", \"nticks\": 10, \"tickvalues\": null, \"tickformat_formatter\": \"\", \"tickformat\": null, \"scale\": \"linear\", \"fontsize\": 10.0, \"grid\": {\"gridOn\": false}, \"visible\": true}], \"axesbg\": \"#FFFFFF\", \"axesbgalpha\": null, \"zoomable\": true, \"id\": \"el123139827343729160\", \"lines\": [{\"data\": \"data01\", \"xindex\": 0, \"yindex\": 1, \"coordinates\": \"data\", \"id\": \"el123139827345458176\", \"color\": \"#1F77B4\", \"linewidth\": 1.5, \"dasharray\": \"none\", \"alpha\": 1, \"zorder\": 2, \"drawstyle\": \"default\"}], \"paths\": [], \"markers\": [], \"texts\": [], \"collections\": [], \"images\": [], \"sharex\": [], \"sharey\": []}], \"data\": {\"data01\": [[0.0, 0.14800705952519388], [1.0, 0.03355737189861534], [2.0, 0.0046377266041145795], [3.0, 0.0011699485485545196], [4.0, 0.0007118618445817491], [5.0, 0.00036671578601877843], [6.0, 0.0001272846329888606], [7.0, 0.00021854567477744781], [8.0, 0.00017745596392486373], [9.0, 6.955679045827691e-05], [10.0, 7.008337195120792e-05], [11.0, 0.00011524662430277941], [12.0, 0.00011489382838751456], [13.0, 0.0001056094704398284], [14.0, 5.571665584334667e-05], [15.0, 7.915592755715237e-05], [16.0, 4.988935360868664e-05], [17.0, 8.632882342432307e-05], [18.0, 0.00024331924976661227], [19.0, 0.000780550732080704], [20.0, 0.00010769886187652494], [21.0, 3.524600543717956e-05], [22.0, 4.02563564201574e-05], [23.0, 0.0002539753668940171], [24.0, 0.0006966083927025346], [25.0, 0.001094272434778683], [26.0, 0.00045628087984189985], [27.0, 0.00017136877389792624], [28.0, 0.0006285385329274654], [29.0, 0.0002347777280764955], [30.0, 0.00015302365626100532], [31.0, 0.0003538418406366582], [32.0, 0.0004821956262715123], [33.0, 0.00014839499285854198], [34.0, 0.00011496273282464328], [35.0, 0.00018749740030210753], [36.0, 0.00027006757992550966], [37.0, 0.00022141825015527592], [38.0, 7.285360143712893e-05], [39.0, 0.0004089727128874723], [40.0, 0.0003505687634292134], [41.0, 0.00031708647548886335], [42.0, 0.0002556367353463429], [43.0, 0.00012595447575300628], [44.0, 0.00021276175911846056], [45.0, 0.00010345708239582775], [46.0, 5.4781003030675994e-05], [47.0, 0.00016815328923029693], [48.0, 0.0002574496064090821], [49.0, 0.0006829118410170485]]}, \"id\": \"el123139827342718400\", \"plugins\": [{\"type\": \"reset\"}, {\"type\": \"zoom\", \"button\": true, \"enabled\": false}, {\"type\": \"boxzoom\", \"button\": true, \"enabled\": false}]});\n",
              "      });\n",
              "    });\n",
              "}else{\n",
              "    // require.js not available: dynamically load d3 & mpld3\n",
              "    mpld3_load_lib(\"https://d3js.org/d3.v5.js\", function(){\n",
              "         mpld3_load_lib(\"https://mpld3.github.io/js/mpld3.v0.5.1.js\", function(){\n",
              "                 \n",
              "                 mpld3.draw_figure(\"fig_el1231398273427184009761268599\", {\"width\": 432.0, \"height\": 288.0, \"axes\": [{\"bbox\": [0.125, 0.125, 0.775, 0.755], \"xlim\": [-2.45, 51.45], \"ylim\": [-0.007363344670550657, 0.15540565020118172], \"xdomain\": [-2.45, 51.45], \"ydomain\": [-0.007363344670550657, 0.15540565020118172], \"xscale\": \"linear\", \"yscale\": \"linear\", \"axes\": [{\"position\": \"bottom\", \"nticks\": 8, \"tickvalues\": null, \"tickformat_formatter\": \"\", \"tickformat\": null, \"scale\": \"linear\", \"fontsize\": 10.0, \"grid\": {\"gridOn\": false}, \"visible\": true}, {\"position\": \"left\", \"nticks\": 10, \"tickvalues\": null, \"tickformat_formatter\": \"\", \"tickformat\": null, \"scale\": \"linear\", \"fontsize\": 10.0, \"grid\": {\"gridOn\": false}, \"visible\": true}], \"axesbg\": \"#FFFFFF\", \"axesbgalpha\": null, \"zoomable\": true, \"id\": \"el123139827343729160\", \"lines\": [{\"data\": \"data01\", \"xindex\": 0, \"yindex\": 1, \"coordinates\": \"data\", \"id\": \"el123139827345458176\", \"color\": \"#1F77B4\", \"linewidth\": 1.5, \"dasharray\": \"none\", \"alpha\": 1, \"zorder\": 2, \"drawstyle\": \"default\"}], \"paths\": [], \"markers\": [], \"texts\": [], \"collections\": [], \"images\": [], \"sharex\": [], \"sharey\": []}], \"data\": {\"data01\": [[0.0, 0.14800705952519388], [1.0, 0.03355737189861534], [2.0, 0.0046377266041145795], [3.0, 0.0011699485485545196], [4.0, 0.0007118618445817491], [5.0, 0.00036671578601877843], [6.0, 0.0001272846329888606], [7.0, 0.00021854567477744781], [8.0, 0.00017745596392486373], [9.0, 6.955679045827691e-05], [10.0, 7.008337195120792e-05], [11.0, 0.00011524662430277941], [12.0, 0.00011489382838751456], [13.0, 0.0001056094704398284], [14.0, 5.571665584334667e-05], [15.0, 7.915592755715237e-05], [16.0, 4.988935360868664e-05], [17.0, 8.632882342432307e-05], [18.0, 0.00024331924976661227], [19.0, 0.000780550732080704], [20.0, 0.00010769886187652494], [21.0, 3.524600543717956e-05], [22.0, 4.02563564201574e-05], [23.0, 0.0002539753668940171], [24.0, 0.0006966083927025346], [25.0, 0.001094272434778683], [26.0, 0.00045628087984189985], [27.0, 0.00017136877389792624], [28.0, 0.0006285385329274654], [29.0, 0.0002347777280764955], [30.0, 0.00015302365626100532], [31.0, 0.0003538418406366582], [32.0, 0.0004821956262715123], [33.0, 0.00014839499285854198], [34.0, 0.00011496273282464328], [35.0, 0.00018749740030210753], [36.0, 0.00027006757992550966], [37.0, 0.00022141825015527592], [38.0, 7.285360143712893e-05], [39.0, 0.0004089727128874723], [40.0, 0.0003505687634292134], [41.0, 0.00031708647548886335], [42.0, 0.0002556367353463429], [43.0, 0.00012595447575300628], [44.0, 0.00021276175911846056], [45.0, 0.00010345708239582775], [46.0, 5.4781003030675994e-05], [47.0, 0.00016815328923029693], [48.0, 0.0002574496064090821], [49.0, 0.0006829118410170485]]}, \"id\": \"el123139827342718400\", \"plugins\": [{\"type\": \"reset\"}, {\"type\": \"zoom\", \"button\": true, \"enabled\": false}, {\"type\": \"boxzoom\", \"button\": true, \"enabled\": false}]});\n",
              "            })\n",
              "         });\n",
              "}\n",
              "</script>"
            ],
            "text/plain": [
              "<Figure size 432x288 with 1 Axes>"
            ]
          },
          "metadata": {
            "tags": [],
            "needs_background": "light"
          }
        }
      ]
    },
    {
      "cell_type": "code",
      "metadata": {
        "id": "oaiUjddqm1S8",
        "colab_type": "code",
        "colab": {
          "base_uri": "https://localhost:8080/",
          "height": 521
        },
        "outputId": "aa2fe6fb-8c1c-4df4-afc5-adcd49cd72e8"
      },
      "source": [
        "scaled_test"
      ],
      "execution_count": 102,
      "outputs": [
        {
          "output_type": "execute_result",
          "data": {
            "text/plain": [
              "array([[-0.05303941],\n",
              "       [-0.10788948],\n",
              "       [-0.16451532],\n",
              "       [-0.22287205],\n",
              "       [-0.28290464],\n",
              "       [-0.3445478 ],\n",
              "       [-0.4077261 ],\n",
              "       [-0.47235417],\n",
              "       [-0.53833704],\n",
              "       [-0.60557061],\n",
              "       [-0.67394233],\n",
              "       [-0.74333191],\n",
              "       [-0.81361227],\n",
              "       [-0.88465046],\n",
              "       [-0.95630879],\n",
              "       [-1.02844601],\n",
              "       [-1.10091847],\n",
              "       [-1.1735814 ],\n",
              "       [-1.24629015],\n",
              "       [-1.31890141],\n",
              "       [-1.39127442],\n",
              "       [-1.46327207],\n",
              "       [-1.53476196],\n",
              "       [-1.60561735],\n",
              "       [-1.67571802],\n",
              "       [-1.74495094],\n",
              "       [-1.81321093],\n",
              "       [-1.88040107],\n",
              "       [-1.94643309],\n",
              "       [-2.01122753]])"
            ]
          },
          "metadata": {
            "tags": []
          },
          "execution_count": 102
        }
      ]
    },
    {
      "cell_type": "code",
      "metadata": {
        "id": "Dgw2aXZgm1gT",
        "colab_type": "code",
        "colab": {}
      },
      "source": [
        "first_eval_batch = scaled_train[-9:]"
      ],
      "execution_count": 103,
      "outputs": []
    },
    {
      "cell_type": "code",
      "metadata": {
        "id": "N4UPlmImm1r7",
        "colab_type": "code",
        "colab": {
          "base_uri": "https://localhost:8080/",
          "height": 168
        },
        "outputId": "f0546227-2117-4d6c-c33e-e2d0adf3869f"
      },
      "source": [
        "first_eval_batch"
      ],
      "execution_count": 104,
      "outputs": [
        {
          "output_type": "execute_result",
          "data": {
            "text/plain": [
              "array([[0.35794153],\n",
              "       [0.31957536],\n",
              "       [0.2794286 ],\n",
              "       [0.23747266],\n",
              "       [0.19368482],\n",
              "       [0.14804881],\n",
              "       [0.10055552],\n",
              "       [0.05120359],\n",
              "       [0.        ]])"
            ]
          },
          "metadata": {
            "tags": []
          },
          "execution_count": 104
        }
      ]
    },
    {
      "cell_type": "code",
      "metadata": {
        "id": "wcnYs3NKm9OT",
        "colab_type": "code",
        "colab": {}
      },
      "source": [
        "first_eval_batch = first_eval_batch.reshape((1, n_input, n_features))"
      ],
      "execution_count": 105,
      "outputs": []
    },
    {
      "cell_type": "code",
      "metadata": {
        "id": "KreviEFsm9e7",
        "colab_type": "code",
        "colab": {
          "base_uri": "https://localhost:8080/",
          "height": 34
        },
        "outputId": "264219b8-2e0f-4abf-dbec-aa191cbd2fea"
      },
      "source": [
        "\n",
        "model.predict(first_eval_batch)"
      ],
      "execution_count": 106,
      "outputs": [
        {
          "output_type": "execute_result",
          "data": {
            "text/plain": [
              "array([[-0.07557888]], dtype=float32)"
            ]
          },
          "metadata": {
            "tags": []
          },
          "execution_count": 106
        }
      ]
    },
    {
      "cell_type": "code",
      "metadata": {
        "id": "fiaGLcd3m9rT",
        "colab_type": "code",
        "colab": {
          "base_uri": "https://localhost:8080/",
          "height": 521
        },
        "outputId": "21b6de16-921f-40df-a306-d88e8fa26532"
      },
      "source": [
        "scaled_test"
      ],
      "execution_count": 107,
      "outputs": [
        {
          "output_type": "execute_result",
          "data": {
            "text/plain": [
              "array([[-0.05303941],\n",
              "       [-0.10788948],\n",
              "       [-0.16451532],\n",
              "       [-0.22287205],\n",
              "       [-0.28290464],\n",
              "       [-0.3445478 ],\n",
              "       [-0.4077261 ],\n",
              "       [-0.47235417],\n",
              "       [-0.53833704],\n",
              "       [-0.60557061],\n",
              "       [-0.67394233],\n",
              "       [-0.74333191],\n",
              "       [-0.81361227],\n",
              "       [-0.88465046],\n",
              "       [-0.95630879],\n",
              "       [-1.02844601],\n",
              "       [-1.10091847],\n",
              "       [-1.1735814 ],\n",
              "       [-1.24629015],\n",
              "       [-1.31890141],\n",
              "       [-1.39127442],\n",
              "       [-1.46327207],\n",
              "       [-1.53476196],\n",
              "       [-1.60561735],\n",
              "       [-1.67571802],\n",
              "       [-1.74495094],\n",
              "       [-1.81321093],\n",
              "       [-1.88040107],\n",
              "       [-1.94643309],\n",
              "       [-2.01122753]])"
            ]
          },
          "metadata": {
            "tags": []
          },
          "execution_count": 107
        }
      ]
    },
    {
      "cell_type": "code",
      "metadata": {
        "id": "PQK4vCLQm96D",
        "colab_type": "code",
        "colab": {}
      },
      "source": [
        "test_predictions = []\n",
        "\n",
        "first_eval_batch = scaled_train[-n_input:]\n",
        "current_batch = first_eval_batch.reshape((1, n_input, n_features))\n",
        "\n",
        "for i in range(len(test)):\n",
        "    \n",
        "    # get prediction 1 time stamp ahead ([0] is for grabbing just the number instead of [array])\n",
        "    current_pred = model.predict(current_batch)[0]\n",
        "    \n",
        "    # store prediction\n",
        "    test_predictions.append(current_pred) \n",
        "    \n",
        "    # update batch to now include prediction and drop first value\n",
        "    current_batch = np.append(current_batch[:,1:,:],[[current_pred]],axis=1)"
      ],
      "execution_count": 108,
      "outputs": []
    },
    {
      "cell_type": "code",
      "metadata": {
        "id": "ZgkQVwfBnGfc",
        "colab_type": "code",
        "colab": {
          "base_uri": "https://localhost:8080/",
          "height": 521
        },
        "outputId": "55eecb59-53f6-4405-cb74-47907449e6b2"
      },
      "source": [
        "test_predictions"
      ],
      "execution_count": 109,
      "outputs": [
        {
          "output_type": "execute_result",
          "data": {
            "text/plain": [
              "[array([-0.07557888], dtype=float32),\n",
              " array([-0.10947171], dtype=float32),\n",
              " array([-0.14020592], dtype=float32),\n",
              " array([-0.16767529], dtype=float32),\n",
              " array([-0.19190763], dtype=float32),\n",
              " array([-0.21281743], dtype=float32),\n",
              " array([-0.23051594], dtype=float32),\n",
              " array([-0.24528244], dtype=float32),\n",
              " array([-0.25760087], dtype=float32),\n",
              " array([-0.26876155], dtype=float32),\n",
              " array([-0.27596104], dtype=float32),\n",
              " array([-0.2822133], dtype=float32),\n",
              " array([-0.2876384], dtype=float32),\n",
              " array([-0.29229385], dtype=float32),\n",
              " array([-0.29621238], dtype=float32),\n",
              " array([-0.29947087], dtype=float32),\n",
              " array([-0.30215704], dtype=float32),\n",
              " array([-0.30436125], dtype=float32),\n",
              " array([-0.30615592], dtype=float32),\n",
              " array([-0.30752793], dtype=float32),\n",
              " array([-0.30870518], dtype=float32),\n",
              " array([-0.30970737], dtype=float32),\n",
              " array([-0.3105501], dtype=float32),\n",
              " array([-0.31124955], dtype=float32),\n",
              " array([-0.31182507], dtype=float32),\n",
              " array([-0.31229568], dtype=float32),\n",
              " array([-0.31267893], dtype=float32),\n",
              " array([-0.31299043], dtype=float32),\n",
              " array([-0.31324407], dtype=float32),\n",
              " array([-0.31345886], dtype=float32)]"
            ]
          },
          "metadata": {
            "tags": []
          },
          "execution_count": 109
        }
      ]
    },
    {
      "cell_type": "code",
      "metadata": {
        "id": "8Ahf2EaUnGuD",
        "colab_type": "code",
        "colab": {}
      },
      "source": [
        "true_predictions = scaler.inverse_transform(test_predictions)"
      ],
      "execution_count": 110,
      "outputs": []
    },
    {
      "cell_type": "code",
      "metadata": {
        "id": "Zu-2GFBenG7b",
        "colab_type": "code",
        "colab": {
          "base_uri": "https://localhost:8080/",
          "height": 521
        },
        "outputId": "2e724ec4-f7be-4c9d-fd37-c026a8b1d21b"
      },
      "source": [
        "true_predictions"
      ],
      "execution_count": 111,
      "outputs": [
        {
          "output_type": "execute_result",
          "data": {
            "text/plain": [
              "array([[822.15460393],\n",
              "       [816.58198606],\n",
              "       [811.52870375],\n",
              "       [807.01222325],\n",
              "       [803.02797037],\n",
              "       [799.59000582],\n",
              "       [796.68003769],\n",
              "       [794.25214749],\n",
              "       [792.22676555],\n",
              "       [790.39174123],\n",
              "       [789.20800869],\n",
              "       [788.18001972],\n",
              "       [787.28803199],\n",
              "       [786.52258836],\n",
              "       [785.87830857],\n",
              "       [785.34255046],\n",
              "       [784.90089315],\n",
              "       [784.53847964],\n",
              "       [784.24340279],\n",
              "       [784.01781863],\n",
              "       [783.82425637],\n",
              "       [783.65947707],\n",
              "       [783.52091801],\n",
              "       [783.40591355],\n",
              "       [783.31128845],\n",
              "       [783.23391157],\n",
              "       [783.17089676],\n",
              "       [783.11968131],\n",
              "       [783.07797688],\n",
              "       [783.04266213]])"
            ]
          },
          "metadata": {
            "tags": []
          },
          "execution_count": 111
        }
      ]
    },
    {
      "cell_type": "code",
      "metadata": {
        "id": "F7e2lpz5nQuk",
        "colab_type": "code",
        "colab": {}
      },
      "source": [
        "test = pd.DataFrame(test)"
      ],
      "execution_count": 112,
      "outputs": []
    },
    {
      "cell_type": "code",
      "metadata": {
        "id": "9tN6pGKanQ8c",
        "colab_type": "code",
        "colab": {}
      },
      "source": [
        "# IGNORE WARNINGS\n",
        "test['Predictions'] = true_predictions"
      ],
      "execution_count": 113,
      "outputs": []
    },
    {
      "cell_type": "code",
      "metadata": {
        "id": "PJ9LRAgCnRJc",
        "colab_type": "code",
        "colab": {
          "base_uri": "https://localhost:8080/",
          "height": 935
        },
        "outputId": "933191d6-4ea7-4d2b-aa59-5e4eb5668eed"
      },
      "source": [
        "test"
      ],
      "execution_count": 114,
      "outputs": [
        {
          "output_type": "execute_result",
          "data": {
            "text/html": [
              "<div>\n",
              "<style scoped>\n",
              "    .dataframe tbody tr th:only-of-type {\n",
              "        vertical-align: middle;\n",
              "    }\n",
              "\n",
              "    .dataframe tbody tr th {\n",
              "        vertical-align: top;\n",
              "    }\n",
              "\n",
              "    .dataframe thead th {\n",
              "        text-align: right;\n",
              "    }\n",
              "</style>\n",
              "<table border=\"1\" class=\"dataframe\">\n",
              "  <thead>\n",
              "    <tr style=\"text-align: right;\">\n",
              "      <th></th>\n",
              "      <th>0</th>\n",
              "      <th>Predictions</th>\n",
              "    </tr>\n",
              "  </thead>\n",
              "  <tbody>\n",
              "    <tr>\n",
              "      <th>0</th>\n",
              "      <td>825.860516</td>\n",
              "      <td>822.154604</td>\n",
              "    </tr>\n",
              "    <tr>\n",
              "      <th>1</th>\n",
              "      <td>816.842134</td>\n",
              "      <td>816.581986</td>\n",
              "    </tr>\n",
              "    <tr>\n",
              "      <th>2</th>\n",
              "      <td>807.531782</td>\n",
              "      <td>811.528704</td>\n",
              "    </tr>\n",
              "    <tr>\n",
              "      <th>3</th>\n",
              "      <td>797.936837</td>\n",
              "      <td>807.012223</td>\n",
              "    </tr>\n",
              "    <tr>\n",
              "      <th>4</th>\n",
              "      <td>788.066351</td>\n",
              "      <td>803.027970</td>\n",
              "    </tr>\n",
              "    <tr>\n",
              "      <th>5</th>\n",
              "      <td>777.931056</td>\n",
              "      <td>799.590006</td>\n",
              "    </tr>\n",
              "    <tr>\n",
              "      <th>6</th>\n",
              "      <td>767.543355</td>\n",
              "      <td>796.680038</td>\n",
              "    </tr>\n",
              "    <tr>\n",
              "      <th>7</th>\n",
              "      <td>756.917285</td>\n",
              "      <td>794.252147</td>\n",
              "    </tr>\n",
              "    <tr>\n",
              "      <th>8</th>\n",
              "      <td>746.068461</td>\n",
              "      <td>792.226766</td>\n",
              "    </tr>\n",
              "    <tr>\n",
              "      <th>9</th>\n",
              "      <td>735.013997</td>\n",
              "      <td>790.391741</td>\n",
              "    </tr>\n",
              "    <tr>\n",
              "      <th>10</th>\n",
              "      <td>723.772401</td>\n",
              "      <td>789.208009</td>\n",
              "    </tr>\n",
              "    <tr>\n",
              "      <th>11</th>\n",
              "      <td>712.363448</td>\n",
              "      <td>788.180020</td>\n",
              "    </tr>\n",
              "    <tr>\n",
              "      <th>12</th>\n",
              "      <td>700.808036</td>\n",
              "      <td>787.288032</td>\n",
              "    </tr>\n",
              "    <tr>\n",
              "      <th>13</th>\n",
              "      <td>689.128022</td>\n",
              "      <td>786.522588</td>\n",
              "    </tr>\n",
              "    <tr>\n",
              "      <th>14</th>\n",
              "      <td>677.346044</td>\n",
              "      <td>785.878309</td>\n",
              "    </tr>\n",
              "    <tr>\n",
              "      <th>15</th>\n",
              "      <td>665.485329</td>\n",
              "      <td>785.342550</td>\n",
              "    </tr>\n",
              "    <tr>\n",
              "      <th>16</th>\n",
              "      <td>653.569494</td>\n",
              "      <td>784.900893</td>\n",
              "    </tr>\n",
              "    <tr>\n",
              "      <th>17</th>\n",
              "      <td>641.622341</td>\n",
              "      <td>784.538480</td>\n",
              "    </tr>\n",
              "    <tr>\n",
              "      <th>18</th>\n",
              "      <td>629.667655</td>\n",
              "      <td>784.243403</td>\n",
              "    </tr>\n",
              "    <tr>\n",
              "      <th>19</th>\n",
              "      <td>617.728998</td>\n",
              "      <td>784.017819</td>\n",
              "    </tr>\n",
              "    <tr>\n",
              "      <th>20</th>\n",
              "      <td>605.829514</td>\n",
              "      <td>783.824256</td>\n",
              "    </tr>\n",
              "    <tr>\n",
              "      <th>21</th>\n",
              "      <td>593.991746</td>\n",
              "      <td>783.659477</td>\n",
              "    </tr>\n",
              "    <tr>\n",
              "      <th>22</th>\n",
              "      <td>582.237464</td>\n",
              "      <td>783.520918</td>\n",
              "    </tr>\n",
              "    <tr>\n",
              "      <th>23</th>\n",
              "      <td>570.587505</td>\n",
              "      <td>783.405914</td>\n",
              "    </tr>\n",
              "    <tr>\n",
              "      <th>24</th>\n",
              "      <td>559.061637</td>\n",
              "      <td>783.311288</td>\n",
              "    </tr>\n",
              "    <tr>\n",
              "      <th>25</th>\n",
              "      <td>547.678443</td>\n",
              "      <td>783.233912</td>\n",
              "    </tr>\n",
              "    <tr>\n",
              "      <th>26</th>\n",
              "      <td>536.455217</td>\n",
              "      <td>783.170897</td>\n",
              "    </tr>\n",
              "    <tr>\n",
              "      <th>27</th>\n",
              "      <td>525.407894</td>\n",
              "      <td>783.119681</td>\n",
              "    </tr>\n",
              "    <tr>\n",
              "      <th>28</th>\n",
              "      <td>514.550989</td>\n",
              "      <td>783.077977</td>\n",
              "    </tr>\n",
              "    <tr>\n",
              "      <th>29</th>\n",
              "      <td>503.897563</td>\n",
              "      <td>783.042662</td>\n",
              "    </tr>\n",
              "  </tbody>\n",
              "</table>\n",
              "</div>"
            ],
            "text/plain": [
              "             0  Predictions\n",
              "0   825.860516   822.154604\n",
              "1   816.842134   816.581986\n",
              "2   807.531782   811.528704\n",
              "3   797.936837   807.012223\n",
              "4   788.066351   803.027970\n",
              "5   777.931056   799.590006\n",
              "6   767.543355   796.680038\n",
              "7   756.917285   794.252147\n",
              "8   746.068461   792.226766\n",
              "9   735.013997   790.391741\n",
              "10  723.772401   789.208009\n",
              "11  712.363448   788.180020\n",
              "12  700.808036   787.288032\n",
              "13  689.128022   786.522588\n",
              "14  677.346044   785.878309\n",
              "15  665.485329   785.342550\n",
              "16  653.569494   784.900893\n",
              "17  641.622341   784.538480\n",
              "18  629.667655   784.243403\n",
              "19  617.728998   784.017819\n",
              "20  605.829514   783.824256\n",
              "21  593.991746   783.659477\n",
              "22  582.237464   783.520918\n",
              "23  570.587505   783.405914\n",
              "24  559.061637   783.311288\n",
              "25  547.678443   783.233912\n",
              "26  536.455217   783.170897\n",
              "27  525.407894   783.119681\n",
              "28  514.550989   783.077977\n",
              "29  503.897563   783.042662"
            ]
          },
          "metadata": {
            "tags": []
          },
          "execution_count": 114
        }
      ]
    },
    {
      "cell_type": "code",
      "metadata": {
        "id": "uoX71CManRWM",
        "colab_type": "code",
        "colab": {
          "base_uri": "https://localhost:8080/",
          "height": 614
        },
        "outputId": "1ed23938-722b-4a78-db03-e484a84d1d9f"
      },
      "source": [
        "test.plot(figsize=(12,8))"
      ],
      "execution_count": 115,
      "outputs": [
        {
          "output_type": "execute_result",
          "data": {
            "text/plain": [
              "<matplotlib.axes._subplots.AxesSubplot at 0x7f2c1d2af208>"
            ]
          },
          "metadata": {
            "tags": []
          },
          "execution_count": 115
        },
        {
          "output_type": "display_data",
          "data": {
            "image/png": "[encoded data removed]",
            "text/html": [
              "\n",
              "\n",
              "<style>\n",
              "\n",
              "</style>\n",
              "\n",
              "<div id=\"fig_el1231398274446441048030830194\"></div>\n",
              "<script>\n",
              "function mpld3_load_lib(url, callback){\n",
              "  var s = document.createElement('script');\n",
              "  s.src = url;\n",
              "  s.async = true;\n",
              "  s.onreadystatechange = s.onload = callback;\n",
              "  s.onerror = function(){console.warn(\"failed to load library \" + url);};\n",
              "  document.getElementsByTagName(\"head\")[0].appendChild(s);\n",
              "}\n",
              "\n",
              "if(typeof(mpld3) !== \"undefined\" && mpld3._mpld3IsLoaded){\n",
              "   // already loaded: just create the figure\n",
              "   !function(mpld3){\n",
              "       \n",
              "       mpld3.draw_figure(\"fig_el1231398274446441048030830194\", {\"width\": 864.0, \"height\": 576.0, \"axes\": [{\"bbox\": [0.125, 0.125, 0.775, 0.755], \"xlim\": [-1.4500000000000002, 30.45], \"ylim\": [487.7994156243741, 841.9586641364431], \"xdomain\": [-1.4500000000000002, 30.45], \"ydomain\": [487.7994156243741, 841.9586641364431], \"xscale\": \"linear\", \"yscale\": \"linear\", \"axes\": [{\"position\": \"bottom\", \"nticks\": 9, \"tickvalues\": null, \"tickformat_formatter\": \"\", \"tickformat\": null, \"scale\": \"linear\", \"fontsize\": 10.0, \"grid\": {\"gridOn\": false}, \"visible\": true}, {\"position\": \"left\", \"nticks\": 9, \"tickvalues\": null, \"tickformat_formatter\": \"\", \"tickformat\": null, \"scale\": \"linear\", \"fontsize\": 10.0, \"grid\": {\"gridOn\": false}, \"visible\": true}], \"axesbg\": \"#FFFFFF\", \"axesbgalpha\": null, \"zoomable\": true, \"id\": \"el123139827444642312\", \"lines\": [{\"data\": \"data01\", \"xindex\": 0, \"yindex\": 1, \"coordinates\": \"data\", \"id\": \"el123139827444209144\", \"color\": \"#1F77B4\", \"linewidth\": 1.5, \"dasharray\": \"none\", \"alpha\": 1, \"zorder\": 2, \"drawstyle\": \"default\"}, {\"data\": \"data01\", \"xindex\": 0, \"yindex\": 2, \"coordinates\": \"data\", \"id\": \"el123139827444209480\", \"color\": \"#FF7F0E\", \"linewidth\": 1.5, \"dasharray\": \"none\", \"alpha\": 1, \"zorder\": 2, \"drawstyle\": \"default\"}, {\"data\": \"data02\", \"xindex\": 0, \"yindex\": 1, \"coordinates\": \"axes\", \"id\": \"el123139827444261048\", \"color\": \"#1F77B4\", \"linewidth\": 1.5, \"dasharray\": \"none\", \"alpha\": 1, \"zorder\": 1000002.0, \"drawstyle\": \"default\"}, {\"data\": \"data02\", \"xindex\": 0, \"yindex\": 2, \"coordinates\": \"axes\", \"id\": \"el123139827444262112\", \"color\": \"#FF7F0E\", \"linewidth\": 1.5, \"dasharray\": \"none\", \"alpha\": 1, \"zorder\": 1000002.0, \"drawstyle\": \"default\"}], \"paths\": [{\"data\": \"data03\", \"xindex\": 0, \"yindex\": 1, \"coordinates\": \"axes\", \"pathcodes\": [\"M\", \"L\", \"S\", \"L\", \"S\", \"L\", \"S\", \"L\", \"S\", \"Z\"], \"id\": \"el123139827444210712\", \"dasharray\": \"none\", \"alpha\": 0.8, \"facecolor\": \"rgba(255, 255, 255, 0.8)\", \"edgecolor\": \"rgba(204, 204, 204, 0.8)\", \"edgewidth\": 1.0, \"zorder\": 1000000.0}], \"markers\": [], \"texts\": [{\"text\": \"0\", \"position\": [0.9044205495818399, 0.9609087564385577], \"coordinates\": \"axes\", \"h_anchor\": \"start\", \"v_baseline\": \"auto\", \"rotation\": -0.0, \"fontsize\": 10.0, \"color\": \"#000000\", \"alpha\": 1, \"zorder\": 1000003.0, \"id\": \"el123139827444211216\"}, {\"text\": \"Predictions\", \"position\": [0.9044205495818399, 0.9264164827078734], \"coordinates\": \"axes\", \"h_anchor\": \"start\", \"v_baseline\": \"auto\", \"rotation\": -0.0, \"fontsize\": 10.0, \"color\": \"#000000\", \"alpha\": 1, \"zorder\": 1000003.0, \"id\": \"el123139827444261664\"}], \"collections\": [], \"images\": [], \"sharex\": [], \"sharey\": []}], \"data\": {\"data01\": [[0.0, 825.8605164768036, 822.1546039338095], [1.0, 816.8421339324976, 816.5819860649367], [2.0, 807.5317815338755, 811.5287037459706], [3.0, 797.9368370413949, 807.012223248879], [4.0, 788.0663511843667, 803.0279703655312], [5.0, 777.931056468378, 799.5900058246162], [6.0, 767.5433546840151, 796.6800376936734], [7.0, 756.9172845543318, 794.2521474891537], [8.0, 746.0684607006516, 792.2267655498567], [9.0, 735.013996844013, 790.3917412296943], [10.0, 723.7724007273089, 789.2080086863867], [11.0, 712.3634478538661, 788.1800197223257], [12.0, 700.8080356220754, 787.2880319866182], [13.0, 689.1280216882433, 786.5225883590797], [14.0, 677.3460437471236, 785.8783085713358], [15.0, 665.4853285732761, 785.3425504627251], [16.0, 653.5694935364887, 784.9008931499819], [17.0, 641.6223410742257, 784.538479644298], [18.0, 629.6676550798935, 784.2434027943532], [19.0, 617.7289975141755, 784.0178186275468], [20.0, 605.8295136895111, 783.8242563676865], [21.0, 593.9917463800089, 783.6594770736108], [22.0, 582.2374642563188, 783.5209180127514], [23.0, 570.5875048467062, 783.4059135512325], [24.0, 559.0616373647575, 783.311288448702], [25.0, 547.6784427969233, 783.2339115653682], [26.0, 536.4552172547302, 783.1708967645529], [27.0, 525.4078941331461, 783.1196813136883], [28.0, 514.5509886028633, 783.077976883693], [29.0, 503.8975632840136, 783.0426621349002]], \"data02\": [[0.8626045400238948, 0.968956953642384, 0.9344646799116997], [0.8924731182795698, 0.968956953642384, 0.9344646799116997]], \"data03\": [[0.8596176821983273, 0.9126195732155997], [0.9895459976105138, 0.9126195732155997], [0.9925328554360812, 0.9126195732155997], [0.9925328554360812, 0.9172185430463575], [0.9925328554360812, 0.9839036055923474], [0.9925328554360812, 0.9885025754231052], [0.9895459976105138, 0.9885025754231052], [0.8596176821983273, 0.9885025754231052], [0.8566308243727597, 0.9885025754231052], [0.8566308243727597, 0.9839036055923474], [0.8566308243727597, 0.9172185430463575], [0.8566308243727597, 0.9126195732155997], [0.8596176821983273, 0.9126195732155997]]}, \"id\": \"el123139827444644104\", \"plugins\": [{\"type\": \"reset\"}, {\"type\": \"zoom\", \"button\": true, \"enabled\": false}, {\"type\": \"boxzoom\", \"button\": true, \"enabled\": false}]});\n",
              "   }(mpld3);\n",
              "}else if(typeof define === \"function\" && define.amd){\n",
              "   // require.js is available: use it to load d3/mpld3\n",
              "   require.config({paths: {d3: \"https://d3js.org/d3.v5\"}});\n",
              "   require([\"d3\"], function(d3){\n",
              "      window.d3 = d3;\n",
              "      mpld3_load_lib(\"https://mpld3.github.io/js/mpld3.v0.5.1.js\", function(){\n",
              "         \n",
              "         mpld3.draw_figure(\"fig_el1231398274446441048030830194\", {\"width\": 864.0, \"height\": 576.0, \"axes\": [{\"bbox\": [0.125, 0.125, 0.775, 0.755], \"xlim\": [-1.4500000000000002, 30.45], \"ylim\": [487.7994156243741, 841.9586641364431], \"xdomain\": [-1.4500000000000002, 30.45], \"ydomain\": [487.7994156243741, 841.9586641364431], \"xscale\": \"linear\", \"yscale\": \"linear\", \"axes\": [{\"position\": \"bottom\", \"nticks\": 9, \"tickvalues\": null, \"tickformat_formatter\": \"\", \"tickformat\": null, \"scale\": \"linear\", \"fontsize\": 10.0, \"grid\": {\"gridOn\": false}, \"visible\": true}, {\"position\": \"left\", \"nticks\": 9, \"tickvalues\": null, \"tickformat_formatter\": \"\", \"tickformat\": null, \"scale\": \"linear\", \"fontsize\": 10.0, \"grid\": {\"gridOn\": false}, \"visible\": true}], \"axesbg\": \"#FFFFFF\", \"axesbgalpha\": null, \"zoomable\": true, \"id\": \"el123139827444642312\", \"lines\": [{\"data\": \"data01\", \"xindex\": 0, \"yindex\": 1, \"coordinates\": \"data\", \"id\": \"el123139827444209144\", \"color\": \"#1F77B4\", \"linewidth\": 1.5, \"dasharray\": \"none\", \"alpha\": 1, \"zorder\": 2, \"drawstyle\": \"default\"}, {\"data\": \"data01\", \"xindex\": 0, \"yindex\": 2, \"coordinates\": \"data\", \"id\": \"el123139827444209480\", \"color\": \"#FF7F0E\", \"linewidth\": 1.5, \"dasharray\": \"none\", \"alpha\": 1, \"zorder\": 2, \"drawstyle\": \"default\"}, {\"data\": \"data02\", \"xindex\": 0, \"yindex\": 1, \"coordinates\": \"axes\", \"id\": \"el123139827444261048\", \"color\": \"#1F77B4\", \"linewidth\": 1.5, \"dasharray\": \"none\", \"alpha\": 1, \"zorder\": 1000002.0, \"drawstyle\": \"default\"}, {\"data\": \"data02\", \"xindex\": 0, \"yindex\": 2, \"coordinates\": \"axes\", \"id\": \"el123139827444262112\", \"color\": \"#FF7F0E\", \"linewidth\": 1.5, \"dasharray\": \"none\", \"alpha\": 1, \"zorder\": 1000002.0, \"drawstyle\": \"default\"}], \"paths\": [{\"data\": \"data03\", \"xindex\": 0, \"yindex\": 1, \"coordinates\": \"axes\", \"pathcodes\": [\"M\", \"L\", \"S\", \"L\", \"S\", \"L\", \"S\", \"L\", \"S\", \"Z\"], \"id\": \"el123139827444210712\", \"dasharray\": \"none\", \"alpha\": 0.8, \"facecolor\": \"rgba(255, 255, 255, 0.8)\", \"edgecolor\": \"rgba(204, 204, 204, 0.8)\", \"edgewidth\": 1.0, \"zorder\": 1000000.0}], \"markers\": [], \"texts\": [{\"text\": \"0\", \"position\": [0.9044205495818399, 0.9609087564385577], \"coordinates\": \"axes\", \"h_anchor\": \"start\", \"v_baseline\": \"auto\", \"rotation\": -0.0, \"fontsize\": 10.0, \"color\": \"#000000\", \"alpha\": 1, \"zorder\": 1000003.0, \"id\": \"el123139827444211216\"}, {\"text\": \"Predictions\", \"position\": [0.9044205495818399, 0.9264164827078734], \"coordinates\": \"axes\", \"h_anchor\": \"start\", \"v_baseline\": \"auto\", \"rotation\": -0.0, \"fontsize\": 10.0, \"color\": \"#000000\", \"alpha\": 1, \"zorder\": 1000003.0, \"id\": \"el123139827444261664\"}], \"collections\": [], \"images\": [], \"sharex\": [], \"sharey\": []}], \"data\": {\"data01\": [[0.0, 825.8605164768036, 822.1546039338095], [1.0, 816.8421339324976, 816.5819860649367], [2.0, 807.5317815338755, 811.5287037459706], [3.0, 797.9368370413949, 807.012223248879], [4.0, 788.0663511843667, 803.0279703655312], [5.0, 777.931056468378, 799.5900058246162], [6.0, 767.5433546840151, 796.6800376936734], [7.0, 756.9172845543318, 794.2521474891537], [8.0, 746.0684607006516, 792.2267655498567], [9.0, 735.013996844013, 790.3917412296943], [10.0, 723.7724007273089, 789.2080086863867], [11.0, 712.3634478538661, 788.1800197223257], [12.0, 700.8080356220754, 787.2880319866182], [13.0, 689.1280216882433, 786.5225883590797], [14.0, 677.3460437471236, 785.8783085713358], [15.0, 665.4853285732761, 785.3425504627251], [16.0, 653.5694935364887, 784.9008931499819], [17.0, 641.6223410742257, 784.538479644298], [18.0, 629.6676550798935, 784.2434027943532], [19.0, 617.7289975141755, 784.0178186275468], [20.0, 605.8295136895111, 783.8242563676865], [21.0, 593.9917463800089, 783.6594770736108], [22.0, 582.2374642563188, 783.5209180127514], [23.0, 570.5875048467062, 783.4059135512325], [24.0, 559.0616373647575, 783.311288448702], [25.0, 547.6784427969233, 783.2339115653682], [26.0, 536.4552172547302, 783.1708967645529], [27.0, 525.4078941331461, 783.1196813136883], [28.0, 514.5509886028633, 783.077976883693], [29.0, 503.8975632840136, 783.0426621349002]], \"data02\": [[0.8626045400238948, 0.968956953642384, 0.9344646799116997], [0.8924731182795698, 0.968956953642384, 0.9344646799116997]], \"data03\": [[0.8596176821983273, 0.9126195732155997], [0.9895459976105138, 0.9126195732155997], [0.9925328554360812, 0.9126195732155997], [0.9925328554360812, 0.9172185430463575], [0.9925328554360812, 0.9839036055923474], [0.9925328554360812, 0.9885025754231052], [0.9895459976105138, 0.9885025754231052], [0.8596176821983273, 0.9885025754231052], [0.8566308243727597, 0.9885025754231052], [0.8566308243727597, 0.9839036055923474], [0.8566308243727597, 0.9172185430463575], [0.8566308243727597, 0.9126195732155997], [0.8596176821983273, 0.9126195732155997]]}, \"id\": \"el123139827444644104\", \"plugins\": [{\"type\": \"reset\"}, {\"type\": \"zoom\", \"button\": true, \"enabled\": false}, {\"type\": \"boxzoom\", \"button\": true, \"enabled\": false}]});\n",
              "      });\n",
              "    });\n",
              "}else{\n",
              "    // require.js not available: dynamically load d3 & mpld3\n",
              "    mpld3_load_lib(\"https://d3js.org/d3.v5.js\", function(){\n",
              "         mpld3_load_lib(\"https://mpld3.github.io/js/mpld3.v0.5.1.js\", function(){\n",
              "                 \n",
              "                 mpld3.draw_figure(\"fig_el1231398274446441048030830194\", {\"width\": 864.0, \"height\": 576.0, \"axes\": [{\"bbox\": [0.125, 0.125, 0.775, 0.755], \"xlim\": [-1.4500000000000002, 30.45], \"ylim\": [487.7994156243741, 841.9586641364431], \"xdomain\": [-1.4500000000000002, 30.45], \"ydomain\": [487.7994156243741, 841.9586641364431], \"xscale\": \"linear\", \"yscale\": \"linear\", \"axes\": [{\"position\": \"bottom\", \"nticks\": 9, \"tickvalues\": null, \"tickformat_formatter\": \"\", \"tickformat\": null, \"scale\": \"linear\", \"fontsize\": 10.0, \"grid\": {\"gridOn\": false}, \"visible\": true}, {\"position\": \"left\", \"nticks\": 9, \"tickvalues\": null, \"tickformat_formatter\": \"\", \"tickformat\": null, \"scale\": \"linear\", \"fontsize\": 10.0, \"grid\": {\"gridOn\": false}, \"visible\": true}], \"axesbg\": \"#FFFFFF\", \"axesbgalpha\": null, \"zoomable\": true, \"id\": \"el123139827444642312\", \"lines\": [{\"data\": \"data01\", \"xindex\": 0, \"yindex\": 1, \"coordinates\": \"data\", \"id\": \"el123139827444209144\", \"color\": \"#1F77B4\", \"linewidth\": 1.5, \"dasharray\": \"none\", \"alpha\": 1, \"zorder\": 2, \"drawstyle\": \"default\"}, {\"data\": \"data01\", \"xindex\": 0, \"yindex\": 2, \"coordinates\": \"data\", \"id\": \"el123139827444209480\", \"color\": \"#FF7F0E\", \"linewidth\": 1.5, \"dasharray\": \"none\", \"alpha\": 1, \"zorder\": 2, \"drawstyle\": \"default\"}, {\"data\": \"data02\", \"xindex\": 0, \"yindex\": 1, \"coordinates\": \"axes\", \"id\": \"el123139827444261048\", \"color\": \"#1F77B4\", \"linewidth\": 1.5, \"dasharray\": \"none\", \"alpha\": 1, \"zorder\": 1000002.0, \"drawstyle\": \"default\"}, {\"data\": \"data02\", \"xindex\": 0, \"yindex\": 2, \"coordinates\": \"axes\", \"id\": \"el123139827444262112\", \"color\": \"#FF7F0E\", \"linewidth\": 1.5, \"dasharray\": \"none\", \"alpha\": 1, \"zorder\": 1000002.0, \"drawstyle\": \"default\"}], \"paths\": [{\"data\": \"data03\", \"xindex\": 0, \"yindex\": 1, \"coordinates\": \"axes\", \"pathcodes\": [\"M\", \"L\", \"S\", \"L\", \"S\", \"L\", \"S\", \"L\", \"S\", \"Z\"], \"id\": \"el123139827444210712\", \"dasharray\": \"none\", \"alpha\": 0.8, \"facecolor\": \"rgba(255, 255, 255, 0.8)\", \"edgecolor\": \"rgba(204, 204, 204, 0.8)\", \"edgewidth\": 1.0, \"zorder\": 1000000.0}], \"markers\": [], \"texts\": [{\"text\": \"0\", \"position\": [0.9044205495818399, 0.9609087564385577], \"coordinates\": \"axes\", \"h_anchor\": \"start\", \"v_baseline\": \"auto\", \"rotation\": -0.0, \"fontsize\": 10.0, \"color\": \"#000000\", \"alpha\": 1, \"zorder\": 1000003.0, \"id\": \"el123139827444211216\"}, {\"text\": \"Predictions\", \"position\": [0.9044205495818399, 0.9264164827078734], \"coordinates\": \"axes\", \"h_anchor\": \"start\", \"v_baseline\": \"auto\", \"rotation\": -0.0, \"fontsize\": 10.0, \"color\": \"#000000\", \"alpha\": 1, \"zorder\": 1000003.0, \"id\": \"el123139827444261664\"}], \"collections\": [], \"images\": [], \"sharex\": [], \"sharey\": []}], \"data\": {\"data01\": [[0.0, 825.8605164768036, 822.1546039338095], [1.0, 816.8421339324976, 816.5819860649367], [2.0, 807.5317815338755, 811.5287037459706], [3.0, 797.9368370413949, 807.012223248879], [4.0, 788.0663511843667, 803.0279703655312], [5.0, 777.931056468378, 799.5900058246162], [6.0, 767.5433546840151, 796.6800376936734], [7.0, 756.9172845543318, 794.2521474891537], [8.0, 746.0684607006516, 792.2267655498567], [9.0, 735.013996844013, 790.3917412296943], [10.0, 723.7724007273089, 789.2080086863867], [11.0, 712.3634478538661, 788.1800197223257], [12.0, 700.8080356220754, 787.2880319866182], [13.0, 689.1280216882433, 786.5225883590797], [14.0, 677.3460437471236, 785.8783085713358], [15.0, 665.4853285732761, 785.3425504627251], [16.0, 653.5694935364887, 784.9008931499819], [17.0, 641.6223410742257, 784.538479644298], [18.0, 629.6676550798935, 784.2434027943532], [19.0, 617.7289975141755, 784.0178186275468], [20.0, 605.8295136895111, 783.8242563676865], [21.0, 593.9917463800089, 783.6594770736108], [22.0, 582.2374642563188, 783.5209180127514], [23.0, 570.5875048467062, 783.4059135512325], [24.0, 559.0616373647575, 783.311288448702], [25.0, 547.6784427969233, 783.2339115653682], [26.0, 536.4552172547302, 783.1708967645529], [27.0, 525.4078941331461, 783.1196813136883], [28.0, 514.5509886028633, 783.077976883693], [29.0, 503.8975632840136, 783.0426621349002]], \"data02\": [[0.8626045400238948, 0.968956953642384, 0.9344646799116997], [0.8924731182795698, 0.968956953642384, 0.9344646799116997]], \"data03\": [[0.8596176821983273, 0.9126195732155997], [0.9895459976105138, 0.9126195732155997], [0.9925328554360812, 0.9126195732155997], [0.9925328554360812, 0.9172185430463575], [0.9925328554360812, 0.9839036055923474], [0.9925328554360812, 0.9885025754231052], [0.9895459976105138, 0.9885025754231052], [0.8596176821983273, 0.9885025754231052], [0.8566308243727597, 0.9885025754231052], [0.8566308243727597, 0.9839036055923474], [0.8566308243727597, 0.9172185430463575], [0.8566308243727597, 0.9126195732155997], [0.8596176821983273, 0.9126195732155997]]}, \"id\": \"el123139827444644104\", \"plugins\": [{\"type\": \"reset\"}, {\"type\": \"zoom\", \"button\": true, \"enabled\": false}, {\"type\": \"boxzoom\", \"button\": true, \"enabled\": false}]});\n",
              "            })\n",
              "         });\n",
              "}\n",
              "</script>"
            ],
            "text/plain": [
              "<Figure size 864x576 with 1 Axes>"
            ]
          },
          "metadata": {
            "tags": [],
            "needs_background": "light"
          }
        }
      ]
    },
    {
      "cell_type": "code",
      "metadata": {
        "id": "VBqWR60hwZT6",
        "colab_type": "code",
        "colab": {}
      },
      "source": [
        ""
      ],
      "execution_count": 115,
      "outputs": []
    }
  ]
}