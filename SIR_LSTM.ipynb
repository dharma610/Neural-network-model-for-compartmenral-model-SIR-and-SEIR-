{
  "nbformat": 4,
  "nbformat_minor": 0,
  "metadata": {
    "kernelspec": {
      "display_name": "Python 3",
      "language": "python",
      "name": "python3"
    },
    "language_info": {
      "codemirror_mode": {
        "name": "ipython",
        "version": 3
      },
      "file_extension": ".py",
      "mimetype": "text/x-python",
      "name": "python",
      "nbconvert_exporter": "python",
      "pygments_lexer": "ipython3",
      "version": "3.7.3"
    },
    "colab": {
      "name": "01-RNN-Example.ipynb",
      "provenance": [],
      "include_colab_link": true
    }
  },
  "cells": [
    {
      "cell_type": "markdown",
      "metadata": {
        "id": "view-in-github",
        "colab_type": "text"
      },
      "source": [
        "<a href=\"https://colab.research.google.com/github/dharma610/Project/blob/master/SIR_LSTM.ipynb\" target=\"_parent\"><img src=\"https://colab.research.google.com/assets/colab-badge.svg\" alt=\"Open In Colab\"/></a>"
      ]
    },
    {
      "cell_type": "code",
      "metadata": {
        "id": "OEert8fd2_Hg",
        "colab_type": "code",
        "colab": {
          "base_uri": "https://localhost:8080/",
          "height": 336
        },
        "outputId": "7f8236ac-cb37-4461-f0d3-a187fdc3f09a"
      },
      "source": [
        "from scipy.integrate import odeint\n",
        "import numpy as np\n",
        "import pandas as pd\n",
        "from random import sample\n",
        "import matplotlib.pyplot as plt\n",
        "%matplotlib inline \n",
        "!pip install mpld3\n",
        "import mpld3\n",
        "mpld3.enable_notebook()"
      ],
      "execution_count": 1,
      "outputs": [
        {
          "output_type": "stream",
          "text": [
            "Collecting mpld3\n",
            "\u001b[?25l  Downloading https://files.pythonhosted.org/packages/66/31/89bd2afd21b920e3612996623e7b3aac14d741537aa77600ea5102a34be0/mpld3-0.5.1.tar.gz (1.0MB)\n",
            "\u001b[K     |████████████████████████████████| 1.0MB 2.7MB/s \n",
            "\u001b[?25hRequirement already satisfied: jinja2 in /usr/local/lib/python3.6/dist-packages (from mpld3) (2.11.2)\n",
            "Requirement already satisfied: matplotlib in /usr/local/lib/python3.6/dist-packages (from mpld3) (3.2.2)\n",
            "Requirement already satisfied: MarkupSafe>=0.23 in /usr/local/lib/python3.6/dist-packages (from jinja2->mpld3) (1.1.1)\n",
            "Requirement already satisfied: kiwisolver>=1.0.1 in /usr/local/lib/python3.6/dist-packages (from matplotlib->mpld3) (1.2.0)\n",
            "Requirement already satisfied: cycler>=0.10 in /usr/local/lib/python3.6/dist-packages (from matplotlib->mpld3) (0.10.0)\n",
            "Requirement already satisfied: pyparsing!=2.0.4,!=2.1.2,!=2.1.6,>=2.0.1 in /usr/local/lib/python3.6/dist-packages (from matplotlib->mpld3) (2.4.7)\n",
            "Requirement already satisfied: numpy>=1.11 in /usr/local/lib/python3.6/dist-packages (from matplotlib->mpld3) (1.18.5)\n",
            "Requirement already satisfied: python-dateutil>=2.1 in /usr/local/lib/python3.6/dist-packages (from matplotlib->mpld3) (2.8.1)\n",
            "Requirement already satisfied: six in /usr/local/lib/python3.6/dist-packages (from cycler>=0.10->matplotlib->mpld3) (1.15.0)\n",
            "Building wheels for collected packages: mpld3\n",
            "  Building wheel for mpld3 (setup.py) ... \u001b[?25l\u001b[?25hdone\n",
            "  Created wheel for mpld3: filename=mpld3-0.5.1-cp36-none-any.whl size=364065 sha256=39b78169fe802adddcbdeb520c8e3128987ace81aff0d955736113d27c2de687\n",
            "  Stored in directory: /root/.cache/pip/wheels/38/68/06/d119af6c3f9a2d1e123c1f72d276576b457131b3a7bf94e402\n",
            "Successfully built mpld3\n",
            "Installing collected packages: mpld3\n",
            "Successfully installed mpld3-0.5.1\n"
          ],
          "name": "stdout"
        }
      ]
    },
    {
      "cell_type": "code",
      "metadata": {
        "id": "Q-5sqjDr3F1e",
        "colab_type": "code",
        "colab": {}
      },
      "source": [
        "def deriv(y, t, N, beta, gamma):\n",
        "    S, I, R = y\n",
        "    dSdt = -beta * S * I / N\n",
        "    dIdt = beta * S * I / N - gamma * I\n",
        "    dRdt = gamma * I\n",
        "    return dSdt, dIdt, dRdt"
      ],
      "execution_count": 2,
      "outputs": []
    },
    {
      "cell_type": "code",
      "metadata": {
        "id": "Eh2qv55q3Hpe",
        "colab_type": "code",
        "colab": {}
      },
      "source": [
        "def plotsir(t, S, I, R):\n",
        "  f, ax = plt.subplots(1,1,figsize=(10,4))\n",
        "  ax.plot(t, S, 'b', alpha=0.7, linewidth=2, label='Susceptible')\n",
        "  ax.plot(t, I, 'y', alpha=0.7, linewidth=2, label='Infected')\n",
        "  ax.plot(t, R, 'g', alpha=0.7, linewidth=2, label='Recovered')\n",
        "  ax.set_xlabel('Time (days)')\n",
        "  ax.yaxis.set_tick_params(length=0)\n",
        "  ax.xaxis.set_tick_params(length=0)\n",
        "  ax.grid(b=True, which='major', c='w', lw=2, ls='-')\n",
        "  legend = ax.legend()\n",
        "  legend.get_frame().set_alpha(0.5)\n",
        "  for spine in ('top', 'right', 'bottom', 'left'):\n",
        "      ax.spines[spine].set_visible(False)\n",
        "  plt.show();"
      ],
      "execution_count": 3,
      "outputs": []
    },
    {
      "cell_type": "code",
      "metadata": {
        "id": "57Sj0WsF3P3_",
        "colab_type": "code",
        "colab": {}
      },
      "source": [
        "\"\"\" gamma is a list of 1000 random number in (0,1) \"\"\"\n",
        "\n",
        "import random\n",
        "gamma = []\n",
        "for i in range(1000):\n",
        "    gamma.append(random.uniform(0, 1))\n",
        "    \n"
      ],
      "execution_count": 4,
      "outputs": []
    },
    {
      "cell_type": "code",
      "metadata": {
        "id": "kc3Hi5vN3QJH",
        "colab_type": "code",
        "colab": {}
      },
      "source": [
        "\"\"\" beta is twice of each of 1000 gamma values \"\"\"\n",
        "beta = []\n",
        "for i in range(1000):\n",
        "  beta.append(2*gamma[i])  "
      ],
      "execution_count": 5,
      "outputs": []
    },
    {
      "cell_type": "code",
      "metadata": {
        "id": "OwpvcU_m3QXf",
        "colab_type": "code",
        "colab": {}
      },
      "source": [
        "\"\"\" P, Q, M are the list of S, I, R respectievely calculated for 100 days for each of  1000 sets of parameter (beta,gamma).\"\"\"\n",
        "    \n",
        "P = []\n",
        "Q = []\n",
        "M  = []\n",
        "for i in range(1000): #Plotted for 2 sets\n",
        "  N = 1000\n",
        "  S0, I0, R0 = 999, 1, 0  # initial conditions: one infected, rest susceptible\n",
        "  t = np.linspace(0, 99, 100) # Grid of time points (in days)\n",
        "  y0 = S0, I0, R0 # Initial conditions vector\n",
        "  # Integrate the SIR equations over the time grid, t.\n",
        "  ret = odeint(deriv, y0, t, args=(N, beta[i], gamma[i]))\n",
        "  S, I, R = ret.T\n",
        "  P.append(S)\n",
        "  Q.append(I)\n",
        "  M.append(R)\n",
        "\n",
        "  "
      ],
      "execution_count": 6,
      "outputs": []
    },
    {
      "cell_type": "code",
      "metadata": {
        "id": "IvHINPOi3ULn",
        "colab_type": "code",
        "colab": {}
      },
      "source": [
        "\"\"\" list to dataftrame \"\"\"\n",
        "\n",
        "S_value = pd.DataFrame(P)\n",
        "I_value = pd.DataFrame(Q)\n",
        "R_value = pd.DataFrame(M)"
      ],
      "execution_count": 7,
      "outputs": []
    },
    {
      "cell_type": "code",
      "metadata": {
        "id": "BMNCmnzsKGnI",
        "colab_type": "code",
        "colab": {}
      },
      "source": [
        "from numpy import array\n",
        "from numpy import hstack\n",
        "from keras.models import Sequential\n",
        "from keras.layers import Dense\n",
        "from keras.layers import LSTM\n",
        "from keras.preprocessing.sequence import TimeseriesGenerator\n",
        "# define dataset\n",
        "s_list = []\n",
        "i_list = []\n",
        "r_list = []\n",
        "s_list1 = []\n",
        "i_list1= []\n",
        "r_list1= []\n",
        "for i in range(1000):\n",
        "  s_list.append(array(S_value.iloc[i][0:70]))\n",
        "  i_list.append(array(I_value.iloc[i][0:70]))\n",
        "  r_list.append(array(R_value.iloc[i][0:70]))\n",
        "\n",
        "\n",
        "for i in range(1000):\n",
        "  s_list1.append(array(S_value.iloc[i][70:]))\n",
        "  i_list1.append(array(I_value.iloc[i][70:]))\n",
        "  r_list1.append(array(R_value.iloc[i][70:]))  "
      ],
      "execution_count": 26,
      "outputs": []
    },
    {
      "cell_type": "code",
      "metadata": {
        "id": "nWKhhsDmLymL",
        "colab_type": "code",
        "colab": {}
      },
      "source": [
        "# reshape series\n",
        "for i in range(1000):\n",
        "  s_list[i] =s_list[i].reshape(70,1)\n",
        "  i_list[i] =i_list[i].reshape(70,1)\n",
        "  r_list[i] =r_list[i].reshape(70,1)\n",
        "\n",
        "for i in range(1000):\n",
        "  s_list1[i] =s_list1[i].reshape(30,1)\n",
        "  i_list1[i] =i_list1[i].reshape(30,1)\n",
        "  r_list1[i] =r_list1[i].reshape(30,1)  "
      ],
      "execution_count": 27,
      "outputs": []
    },
    {
      "cell_type": "code",
      "metadata": {
        "id": "iiPTgrRAMJXa",
        "colab_type": "code",
        "colab": {}
      },
      "source": [
        "p = []\n",
        "q = []\n",
        "r = []\n",
        "p1 = []\n",
        "q1 = []\n",
        "r1 = []\n",
        "for i in range(1000):\n",
        "  p.append(s_list[i])\n",
        "  q.append(i_list[i])\n",
        "  r.append(r_list[i])\n",
        "for i in range(1000):\n",
        "  p1.append(s_list1[i])\n",
        "  q1.append(i_list1[i])\n",
        "  r1.append(r_list1[i])  \n",
        "\n"
      ],
      "execution_count": 28,
      "outputs": []
    },
    {
      "cell_type": "code",
      "metadata": {
        "id": "XrZ_AJfgQZ9E",
        "colab_type": "code",
        "colab": {}
      },
      "source": [
        "s = tuple(p)\n",
        "t = tuple(q)\n",
        "u = tuple(r)\n",
        "\n",
        "s1 = tuple(p1)\n",
        "t1 = tuple(q1)\n",
        "u1 = tuple(r1)"
      ],
      "execution_count": 29,
      "outputs": []
    },
    {
      "cell_type": "code",
      "metadata": {
        "id": "4eVJHpVjW94r",
        "colab_type": "code",
        "colab": {
          "base_uri": "https://localhost:8080/",
          "height": 34
        },
        "outputId": "6b07aa70-e962-49a4-c72d-2a98f8a8ea9d"
      },
      "source": [
        "# horizontally stack columns\n",
        "dataset = hstack(s)\n",
        "# define generator\n",
        "n_input = 2\n",
        "n_features = dataset.shape[1]\n",
        "generator = TimeseriesGenerator(dataset, dataset, length=n_input, batch_size=1)\n",
        "# number of samples\n",
        "print('Samples: %d' % len(generator))"
      ],
      "execution_count": 34,
      "outputs": [
        {
          "output_type": "stream",
          "text": [
            "Samples: 68\n"
          ],
          "name": "stdout"
        }
      ]
    },
    {
      "cell_type": "code",
      "metadata": {
        "id": "HMcADG82M8Ca",
        "colab_type": "code",
        "colab": {
          "base_uri": "https://localhost:8080/",
          "height": 34
        },
        "outputId": "1f1096ff-2894-461b-e2eb-5d2e3a6226e6"
      },
      "source": [
        "# horizontally stack columns\n",
        "dataset1 = hstack(s1)\n",
        "# define generator\n",
        "n_input = 2\n",
        "n_features = dataset.shape[1]\n",
        "generator1 = TimeseriesGenerator(dataset1, dataset1, length=n_input, batch_size=1)\n",
        "# number of samples\n",
        "print('Samples: %d' % len(generator1))"
      ],
      "execution_count": 35,
      "outputs": [
        {
          "output_type": "stream",
          "text": [
            "Samples: 28\n"
          ],
          "name": "stdout"
        }
      ]
    },
    {
      "cell_type": "code",
      "metadata": {
        "id": "IxktHsrBQz6_",
        "colab_type": "code",
        "colab": {}
      },
      "source": [
        "train = []\n",
        "# print each sample\n",
        "for i in range(len(generator)):\n",
        "  x, y = generator[i]\n",
        "  train.append(x)\n",
        "\t\n"
      ],
      "execution_count": 47,
      "outputs": []
    },
    {
      "cell_type": "code",
      "metadata": {
        "id": "Y7jErzFjNWfn",
        "colab_type": "code",
        "colab": {}
      },
      "source": [
        "test = []\n",
        "# print each sample\n",
        "for i in range(len(generator1)):\n",
        "  x, y = generator1[i]\n",
        "  test.append(x)\n",
        "\t\n"
      ],
      "execution_count": 48,
      "outputs": []
    },
    {
      "cell_type": "code",
      "metadata": {
        "id": "3eLwmfmRQifZ",
        "colab_type": "code",
        "colab": {
          "base_uri": "https://localhost:8080/",
          "height": 84
        },
        "outputId": "aee2559d-2e04-469b-e42a-06867ddddae2"
      },
      "source": [
        "train[67]"
      ],
      "execution_count": 52,
      "outputs": [
        {
          "output_type": "execute_result",
          "data": {
            "text/plain": [
              "array([[[202.84589962, 202.846255  , 995.92145751, ..., 202.8458996 ,\n",
              "         202.84589959, 202.84593225],\n",
              "        [202.84589961, 202.84617276, 995.85052336, ..., 202.8458996 ,\n",
              "         202.84589959, 202.84592381]]])"
            ]
          },
          "metadata": {
            "tags": []
          },
          "execution_count": 52
        }
      ]
    },
    {
      "cell_type": "code",
      "metadata": {
        "id": "S-jgyc9KXmCY",
        "colab_type": "code",
        "colab": {
          "base_uri": "https://localhost:8080/",
          "height": 34
        },
        "outputId": "78fc3d70-dde5-440c-b420-4c74187fb565"
      },
      "source": [
        "# define model\n",
        "model = Sequential()\n",
        "model.add(LSTM(100, activation='relu', input_shape=(n_input, n_features)))\n",
        "model.add(Dense(1000))\n",
        "model.compile(optimizer='adam', loss='mse')\n",
        "# fit model\n",
        "model.fit_generator(generator1, steps_per_epoch=1, epochs=500, verbose=0)"
      ],
      "execution_count": 25,
      "outputs": [
        {
          "output_type": "execute_result",
          "data": {
            "text/plain": [
              "<tensorflow.python.keras.callbacks.History at 0x7efe3609a278>"
            ]
          },
          "metadata": {
            "tags": []
          },
          "execution_count": 25
        }
      ]
    },
    {
      "cell_type": "code",
      "metadata": {
        "id": "joASKvqGI1eD",
        "colab_type": "code",
        "colab": {
          "base_uri": "https://localhost:8080/",
          "height": 1000
        },
        "outputId": "605dfacd-ff4c-4052-ec92-5cda348138f2"
      },
      "source": [
        "# make a one step prediction out of sample\n",
        "x_input = train[67].reshape((1, n_input, n_features))\n",
        "yhat = model.predict(x_input, verbose=0)\n",
        "print(yhat)"
      ],
      "execution_count": 53,
      "outputs": [
        {
          "output_type": "stream",
          "text": [
            "[[138.296    181.18126  754.4353   745.2052   153.92651  117.607666\n",
            "  143.25935  189.35825  145.04874  141.35876  657.28314  108.34371\n",
            "  150.08466  141.32596  629.3311   161.56831  139.8554   187.48482\n",
            "  204.76076  121.84758  159.53491  161.65225  191.07329  175.72287\n",
            "  155.6861   234.82674  143.59225  144.15923  127.93743  366.10233\n",
            "  484.70282  190.65999  408.02222  173.61964  123.62829  134.78964\n",
            "  313.674    184.97865  101.70715  180.69864  151.02322  625.45197\n",
            "  708.11487  141.93088  141.39545  707.69     167.9371   189.47392\n",
            "  175.0791   152.92464  155.6652   707.3489   720.632    150.87503\n",
            "  232.74574  462.16006  178.46492  180.89359  191.04904  161.07866\n",
            "  392.24875  618.71826  547.13446  280.6033   161.8739   201.76955\n",
            "  122.793816 284.37262  178.71318  140.9439   164.90842  141.52162\n",
            "  174.24866  100.69433  259.32086  129.65085  163.79228  115.41591\n",
            "  156.4945   129.18767  353.81793  153.91637  123.278    310.7012\n",
            "  365.35635  184.9939   164.28261  146.14503  742.61456  137.14558\n",
            "  175.32784  709.706    121.12072  142.12834  144.40004  278.77435\n",
            "  180.72418  153.11104  204.11897  412.1399   131.88956  739.194\n",
            "  177.18286  163.67845  130.00188  234.54132  158.93044  140.11044\n",
            "  182.13153  123.470184 152.43904  152.11942  624.67267  196.85245\n",
            "  103.228035 150.62279  204.51082  220.75516  266.50003  201.51538\n",
            "  292.77292  682.0705   320.9702   186.69852  204.72023  224.12024\n",
            "  414.82037  693.44556  377.71188  135.45839  346.13638  169.83463\n",
            "  602.80396  191.58282  152.45547  235.33142  474.05917  177.79585\n",
            "  141.53094  206.25993  180.27097  467.19     155.46198  166.69554\n",
            "  538.6682   157.04225  161.88474  152.91118  275.54727  701.36145\n",
            "  140.08862  151.23964  282.5282   141.19531  140.47481  161.40895\n",
            "  253.46982  695.03625  155.4277   147.67532  221.70537  176.81868\n",
            "  190.31364  365.33014  304.1892   126.95258  249.36751  583.88074\n",
            "  129.30452  136.62784  184.77487  205.41295  145.55922  156.19844\n",
            "  273.0385   669.9907   166.12717  118.6412   218.19185  150.80772\n",
            "  170.03752  163.61603  341.13     593.0948   138.06572  132.7925\n",
            "  144.46552  665.71594  162.59357  106.52483  175.51921  189.2128\n",
            "  232.79408  170.35727  176.2531   174.88683  152.97241  172.71638\n",
            "  576.1747   157.97508  569.5429   156.73674  189.43085  373.56244\n",
            "  159.62473  141.79794  156.0894   355.39676  160.25742  301.67407\n",
            "  145.91975  236.14996  122.22173  169.21645  269.264    751.71735\n",
            "  155.9137   125.507164 149.11105  171.74084  335.3639   123.92757\n",
            "  122.86866  224.77989  236.555    183.16481  131.42766  136.21492\n",
            "  663.30634  311.83347  228.54161  144.601    290.19962  184.94524\n",
            "  108.6536   124.19928  134.12285  602.6325   423.94952  221.85979\n",
            "  139.75941  702.7336   242.93265  128.14859  181.76457  131.21613\n",
            "  165.04422  307.77957  138.26724  131.09566  717.7579   163.4278\n",
            "  136.43658  122.60941  524.05383  136.01338  731.5199   186.81168\n",
            "  154.9685   709.48193  209.50777  140.20967  697.59546  236.88077\n",
            "  173.14073  188.35672  303.95114  131.50343  116.7795   148.70401\n",
            "  130.62688  139.3551   660.78     172.00478  307.04956  146.29568\n",
            "  134.88304  252.103    113.94328  181.24646  157.20247  691.8095\n",
            "  344.13937  248.99039  695.46216  582.641    139.97528  743.5691\n",
            "  159.37909  135.68474  134.94354  130.50766  234.41072  257.56848\n",
            "  155.28107  227.4344   236.5965   172.53244  130.65556  225.35413\n",
            "  131.3669   686.7179   148.04262  171.58685  138.93819  209.98447\n",
            "  169.08823  238.97363  196.85909  204.75444  190.5265   159.40073\n",
            "  555.88855  145.94606  136.97316  124.94948  130.83823  323.8197\n",
            "  457.1615   272.6928   101.95906  157.24304  341.5167   506.0424\n",
            "  127.56608  216.4344   159.50954  210.16219  200.37358  232.49371\n",
            "  162.59357  149.51907  135.87527  748.55414  197.10414  740.60034\n",
            "  190.56645  580.5656   138.28694  108.08671  354.24493  698.3808\n",
            "  250.46095  165.46672  215.22784  162.82487  113.250786 259.5098\n",
            "  353.1065   114.38484  209.93015  141.45871  268.79697  126.34148\n",
            "  147.67282  319.12012  685.2735   739.4533   656.8034   128.67491\n",
            "  707.1701   152.36554  677.0465   199.36842  130.94038  291.4874\n",
            "  151.02887  247.38837  354.7725   542.3903   227.5557   231.07118\n",
            "  165.26337  689.0949   207.03561  217.91113  299.5997   204.3571\n",
            "  735.27106  288.32587  724.97534  165.53757  153.9222   265.04532\n",
            "  352.062    152.76704  477.707    179.75414  179.47401  499.89462\n",
            "  106.3691   143.82806  720.3698   156.7354   160.69182  134.86594\n",
            "  340.58905  500.6068   170.155    680.23804  294.10712  132.192\n",
            "  148.24043  131.00812  147.05315  433.24127  254.76715  242.36304\n",
            "  155.36316  170.02667  186.93742  125.01117  147.92528  282.6684\n",
            "  268.8965   211.73889  165.9092   147.22554  417.2593   167.70012\n",
            "  510.00443  133.66597  496.6184   678.57513  173.54987  261.73505\n",
            "  274.00937  182.44434  629.8944   151.65416  236.3659   136.55463\n",
            "  124.36482  127.887276 184.57028  458.4639   667.02155  161.75777\n",
            "  141.41318  215.7011   718.67456  712.47943  727.6275   147.1136\n",
            "  178.18016  262.77197  254.11665  439.30182  174.52179  116.64623\n",
            "  719.78955  431.4464   155.84819  135.068    671.40576  186.68024\n",
            "  132.37408  238.88336  393.26413  201.04794  150.27843  165.12831\n",
            "  122.24832  217.95192  148.86554  723.6907   158.71242  223.85387\n",
            "  148.31987  157.25894  176.00165  557.6825   124.341095 281.51627\n",
            "  164.62933  306.3451   274.88773  338.5088   161.44966  527.7352\n",
            "  150.76512  723.33185  324.27902  444.95657  737.09955  147.01965\n",
            "  197.6598   160.3823   221.9967   674.1459   156.97589  168.83888\n",
            "  436.6472   134.55257  242.14856  146.70894  158.55797  133.34677\n",
            "  179.12701  184.03297  744.6291   496.54413  115.4437   138.79086\n",
            "  432.8017   137.54785  202.74199  319.2477   527.3726   123.73326\n",
            "  159.41455  360.49796  331.8359   208.38614  536.9935   121.45155\n",
            "  173.9137   177.22957  123.03821  289.2494   135.3403   147.4059\n",
            "  152.73967  138.62148  174.5831   118.53779  108.075    668.064\n",
            "  108.55286  236.01012  142.99954  659.70636  235.68759  205.33514\n",
            "  749.3727   187.82318  480.93033  148.14621  163.00159  581.4358\n",
            "  406.58987  134.0748   170.73311  181.18825  586.026    189.74243\n",
            "  183.39534  177.03229  274.68222  139.96608  204.89703  130.9187\n",
            "  173.33488  289.77863  200.06802  172.37372  157.50116  144.70659\n",
            "  205.05946  105.5635   146.86273  496.811    182.28915  166.15488\n",
            "  135.73053  204.29008  274.0152   243.17487  223.72495  694.71564\n",
            "  142.17383  743.43286  228.90604  668.9872   664.34845  175.66939\n",
            "  178.33913  148.58847  141.82198  227.93796  346.72656  190.58691\n",
            "  131.40286  126.28109  264.39313  246.22612  185.84251  163.02768\n",
            "  123.055695 221.68938  158.49715  153.44412  138.91542  131.26105\n",
            "  186.8496   727.41766  140.0989   184.96526  291.63034  117.96834\n",
            "  660.3516   289.46982  156.46036  509.09525  235.0806   157.84015\n",
            "  170.77812  149.6282   176.94331  718.659    267.42297  179.274\n",
            "  131.82831  142.857    309.36212  310.1401   181.60373  192.2565\n",
            "  143.57593  167.20868  269.06656  201.5282   422.31488  307.3528\n",
            "  169.82967  371.9341   118.23247  263.52472  303.9403   245.65244\n",
            "  132.407    110.18257  221.27501  157.3864   189.78548  302.48883\n",
            "  110.85953  728.4609   211.46355  148.1607   303.98312  280.35474\n",
            "  145.34592  105.7525   208.45683  161.16281  169.05211  175.05185\n",
            "  172.98792  347.0449   131.66594  688.80444  184.72227  148.06357\n",
            "  218.81438  547.2749   186.92383  143.07973  182.99933  159.89684\n",
            "  154.5006   179.97897  295.01706  168.38608  156.83879  120.33899\n",
            "  146.94077  161.31389  173.15775  126.919945 188.12674  151.14598\n",
            "  189.043    158.79668  228.46877  148.1243   662.0316   187.31741\n",
            "  370.01947  173.97617  146.3653   109.506744 146.38191  192.65033\n",
            "  140.29129  131.69531  143.62369  144.07967  126.049774 138.66676\n",
            "  208.63222  173.27467  565.1075   156.21599  229.43648  107.11353\n",
            "  158.5015   116.71505  458.0762   340.21512  275.68784  172.38403\n",
            "  163.61595  330.34515  129.26639  250.70586  152.89706  323.50183\n",
            "  156.41986  207.54338  202.12721  140.1978   136.39508  173.61308\n",
            "  139.6904   201.46573  149.92062  463.05014  239.27428  709.48486\n",
            "  727.6472   194.16194  159.0845   435.31125  312.4423   169.02013\n",
            "  192.59325  134.11723  396.18805  189.97871  646.0097   174.02618\n",
            "  141.14598  132.89029  153.3844   205.96703  123.031075 115.229904\n",
            "  136.02249  670.8705   185.42189  249.97217  577.3619   705.94794\n",
            "  173.58044  133.64413  181.47437  301.49185  385.20215  144.56133\n",
            "  151.73923  161.01405  179.21954  138.49991  162.94308  186.20863\n",
            "  271.68042  138.90883  719.05817  251.66805  553.1831   276.19318\n",
            "  229.06442  149.0937   228.32666  589.6494   755.3071   181.93765\n",
            "  135.82156  175.38626  133.25302  139.88623  175.35863  217.67871\n",
            "  142.12437  706.5182   279.8145   657.39874  215.12122  147.72137\n",
            "  164.52927  108.35677  699.5106   212.5469   156.60854  167.29498\n",
            "  754.70984  129.41943  184.84973  166.77751  198.70753  160.22124\n",
            "  180.65297  129.28337  158.75389  300.7557   206.00996  126.374374\n",
            "  159.06186  135.94078  140.4099   283.32837  156.50911  139.15076\n",
            "  219.1114   715.00806  195.77388  264.1531   479.65057  132.37894\n",
            "  165.67839  171.50607  714.45544  215.69653  181.23784  126.69129\n",
            "  186.7984   141.2541   479.14468  169.992    147.047    141.8638\n",
            "  147.23422  289.30988  146.04205  364.8974   192.87985  138.23694\n",
            "  140.65437  168.26962  218.91684  643.189    186.35367  218.34601\n",
            "  136.23569  404.5091   179.30374  176.49127  736.2902   168.9322\n",
            "  179.70898  182.01346  125.42559  330.33664  148.80167  395.23633\n",
            "  337.4177   147.86256  463.87033  165.54156  569.3423   693.2451\n",
            "  340.40433  119.35103  662.8659   182.83179  747.83295  459.55658\n",
            "  169.43114  172.91692  154.06264  172.7515   611.9999   140.9958\n",
            "  667.77954  161.05464  263.3329   165.62569  111.0263   176.50255\n",
            "  142.26721  151.34901  202.3158   230.93582  171.19212  704.2274\n",
            "  152.51471  181.45921  296.70187  183.26102  710.7221   519.4224\n",
            "  160.84193  383.5986   122.18768  603.4455   185.6803   699.07367\n",
            "  202.69438  149.17163  140.19435  244.03517  207.08005  120.16489\n",
            "  710.93176  137.40125  233.16699  122.76632  221.57324  142.33902\n",
            "  140.5348   189.57271  151.8575   182.33377  172.75537  159.53969\n",
            "  127.08232  140.52141  317.49115  237.89162  208.10976  172.13948\n",
            "  587.84045  171.28275  200.70569  160.19185  269.27704  144.84491\n",
            "  362.6133   210.9736   511.5917   242.2892   196.25856  146.39883\n",
            "  727.92175  134.97704  120.71703  180.06235  207.01678  163.90865\n",
            "  153.51935  124.18255  166.33615  149.45123  500.281    129.96419\n",
            "  731.283    225.5545   170.58368  157.92719  153.6421   137.51172\n",
            "  692.77045  717.48065  172.43094  149.03383  158.05869  378.14172\n",
            "  145.12515  167.4668   183.28104  198.147    239.6276   215.18642\n",
            "  139.93896  303.79095  142.50327  118.19534  268.26804  177.45363\n",
            "  167.86322  543.0538   156.01505  205.77751  157.78568  411.50348\n",
            "  191.30273  141.31883  133.4344   217.71683  111.85895  535.15656\n",
            "  365.10757  758.14276  138.60658  112.49152  399.79126  225.44467\n",
            "  617.5814   180.22028  145.06804  149.8427   152.38115  145.2694\n",
            "  612.2723   134.76028  154.13942  240.43935  157.18419  327.0787\n",
            "  209.98679  701.6097   200.7956   156.30322  199.58228  134.76045\n",
            "  188.49042  155.89296  122.397285 165.13074 ]]\n"
          ],
          "name": "stdout"
        }
      ]
    },
    {
      "cell_type": "code",
      "metadata": {
        "id": "HSyVCfpRI1uy",
        "colab_type": "code",
        "colab": {
          "base_uri": "https://localhost:8080/",
          "height": 84
        },
        "outputId": "6214a75d-6c63-4081-8e36-6da6b7594963"
      },
      "source": [
        "test[1]"
      ],
      "execution_count": 54,
      "outputs": [
        {
          "output_type": "execute_result",
          "data": {
            "text/plain": [
              "array([[[202.8458996 , 202.84602362, 995.6317693 , ..., 202.84589959,\n",
              "         202.84589959, 202.84590947],\n",
              "        [202.8458996 , 202.84599492, 995.55682215, ..., 202.84589959,\n",
              "         202.84589959, 202.84590692]]])"
            ]
          },
          "metadata": {
            "tags": []
          },
          "execution_count": 54
        }
      ]
    },
    {
      "cell_type": "code",
      "metadata": {
        "id": "thLSaHjNI16y",
        "colab_type": "code",
        "colab": {}
      },
      "source": [
        ""
      ],
      "execution_count": null,
      "outputs": []
    },
    {
      "cell_type": "code",
      "metadata": {
        "id": "QVexozHSI2Hi",
        "colab_type": "code",
        "colab": {}
      },
      "source": [
        ""
      ],
      "execution_count": null,
      "outputs": []
    },
    {
      "cell_type": "code",
      "metadata": {
        "id": "xUCF7maCI2Ta",
        "colab_type": "code",
        "colab": {}
      },
      "source": [
        ""
      ],
      "execution_count": null,
      "outputs": []
    },
    {
      "cell_type": "code",
      "metadata": {
        "id": "qn59ESSZI2fK",
        "colab_type": "code",
        "colab": {}
      },
      "source": [
        ""
      ],
      "execution_count": null,
      "outputs": []
    },
    {
      "cell_type": "code",
      "metadata": {
        "id": "Ku3jbzrII2rK",
        "colab_type": "code",
        "colab": {}
      },
      "source": [
        ""
      ],
      "execution_count": null,
      "outputs": []
    },
    {
      "cell_type": "code",
      "metadata": {
        "id": "f9eE9KkHI22a",
        "colab_type": "code",
        "colab": {}
      },
      "source": [
        ""
      ],
      "execution_count": null,
      "outputs": []
    },
    {
      "cell_type": "code",
      "metadata": {
        "id": "10PWMAyAI3A7",
        "colab_type": "code",
        "colab": {}
      },
      "source": [
        ""
      ],
      "execution_count": null,
      "outputs": []
    }
  ]
}