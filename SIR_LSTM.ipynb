{
  "nbformat": 4,
  "nbformat_minor": 0,
  "metadata": {
    "kernelspec": {
      "display_name": "Python 3",
      "language": "python",
      "name": "python3"
    },
    "language_info": {
      "codemirror_mode": {
        "name": "ipython",
        "version": 3
      },
      "file_extension": ".py",
      "mimetype": "text/x-python",
      "name": "python",
      "nbconvert_exporter": "python",
      "pygments_lexer": "ipython3",
      "version": "3.7.3"
    },
    "colab": {
      "name": "01-RNN-Example.ipynb",
      "provenance": [],
      "include_colab_link": true
    }
  },
  "cells": [
    {
      "cell_type": "markdown",
      "metadata": {
        "id": "view-in-github",
        "colab_type": "text"
      },
      "source": [
        "<a href=\"https://colab.research.google.com/github/dharma610/Project/blob/master/SIR_LSTM.ipynb\" target=\"_parent\"><img src=\"https://colab.research.google.com/assets/colab-badge.svg\" alt=\"Open In Colab\"/></a>"
      ]
    },
    {
      "cell_type": "code",
      "metadata": {
        "id": "dZki72NpnQMl",
        "colab_type": "code",
        "colab": {}
      },
      "source": [
        "import pandas as pd\n",
        "import numpy as np\n",
        "%matplotlib inline\n",
        "import matplotlib.pyplot as plt"
      ],
      "execution_count": 65,
      "outputs": []
    },
    {
      "cell_type": "code",
      "metadata": {
        "id": "OEert8fd2_Hg",
        "colab_type": "code",
        "colab": {
          "base_uri": "https://localhost:8080/",
          "height": 185
        },
        "outputId": "d9fefe0c-06bf-461f-8cf4-8722f4c768f6"
      },
      "source": [
        "from scipy.integrate import odeint\n",
        "import numpy as np\n",
        "import pandas as pd\n",
        "from random import sample\n",
        "import matplotlib.pyplot as plt\n",
        "%matplotlib inline \n",
        "!pip install mpld3\n",
        "import mpld3\n",
        "mpld3.enable_notebook()"
      ],
      "execution_count": 66,
      "outputs": [
        {
          "output_type": "stream",
          "text": [
            "Requirement already satisfied: mpld3 in /usr/local/lib/python3.6/dist-packages (0.5.1)\n",
            "Requirement already satisfied: matplotlib in /usr/local/lib/python3.6/dist-packages (from mpld3) (3.2.2)\n",
            "Requirement already satisfied: jinja2 in /usr/local/lib/python3.6/dist-packages (from mpld3) (2.11.2)\n",
            "Requirement already satisfied: cycler>=0.10 in /usr/local/lib/python3.6/dist-packages (from matplotlib->mpld3) (0.10.0)\n",
            "Requirement already satisfied: pyparsing!=2.0.4,!=2.1.2,!=2.1.6,>=2.0.1 in /usr/local/lib/python3.6/dist-packages (from matplotlib->mpld3) (2.4.7)\n",
            "Requirement already satisfied: python-dateutil>=2.1 in /usr/local/lib/python3.6/dist-packages (from matplotlib->mpld3) (2.8.1)\n",
            "Requirement already satisfied: numpy>=1.11 in /usr/local/lib/python3.6/dist-packages (from matplotlib->mpld3) (1.18.5)\n",
            "Requirement already satisfied: kiwisolver>=1.0.1 in /usr/local/lib/python3.6/dist-packages (from matplotlib->mpld3) (1.2.0)\n",
            "Requirement already satisfied: MarkupSafe>=0.23 in /usr/local/lib/python3.6/dist-packages (from jinja2->mpld3) (1.1.1)\n",
            "Requirement already satisfied: six in /usr/local/lib/python3.6/dist-packages (from cycler>=0.10->matplotlib->mpld3) (1.15.0)\n"
          ],
          "name": "stdout"
        }
      ]
    },
    {
      "cell_type": "code",
      "metadata": {
        "id": "Q-5sqjDr3F1e",
        "colab_type": "code",
        "colab": {}
      },
      "source": [
        "def deriv(y, t, N, beta, gamma):\n",
        "    S, I, R = y\n",
        "    dSdt = -beta * S * I / N\n",
        "    dIdt = beta * S * I / N - gamma * I\n",
        "    dRdt = gamma * I\n",
        "    return dSdt, dIdt, dRdt"
      ],
      "execution_count": 67,
      "outputs": []
    },
    {
      "cell_type": "code",
      "metadata": {
        "id": "Eh2qv55q3Hpe",
        "colab_type": "code",
        "colab": {}
      },
      "source": [
        "def plotsir(t, S, I, R):\n",
        "  f, ax = plt.subplots(1,1,figsize=(10,4))\n",
        "  ax.plot(t, S, 'b', alpha=0.7, linewidth=2, label='Susceptible')\n",
        "  ax.plot(t, I, 'y', alpha=0.7, linewidth=2, label='Infected')\n",
        "  ax.plot(t, R, 'g', alpha=0.7, linewidth=2, label='Recovered')\n",
        "  ax.set_xlabel('Time (days)')\n",
        "  ax.yaxis.set_tick_params(length=0)\n",
        "  ax.xaxis.set_tick_params(length=0)\n",
        "  ax.grid(b=True, which='major', c='w', lw=2, ls='-')\n",
        "  legend = ax.legend()\n",
        "  legend.get_frame().set_alpha(0.5)\n",
        "  for spine in ('top', 'right', 'bottom', 'left'):\n",
        "      ax.spines[spine].set_visible(False)\n",
        "  plt.show();"
      ],
      "execution_count": 68,
      "outputs": []
    },
    {
      "cell_type": "code",
      "metadata": {
        "id": "57Sj0WsF3P3_",
        "colab_type": "code",
        "colab": {}
      },
      "source": [
        "\"\"\" gamma is a list of 1000 random number in (0,1) \"\"\"\n",
        "\n",
        "import random\n",
        "gamma = []\n",
        "for i in range(1000):\n",
        "    gamma.append(random.uniform(0, 1))\n",
        "    \n"
      ],
      "execution_count": 69,
      "outputs": []
    },
    {
      "cell_type": "code",
      "metadata": {
        "id": "kc3Hi5vN3QJH",
        "colab_type": "code",
        "colab": {}
      },
      "source": [
        "\"\"\" beta is twice of each of 1000 gamma values \"\"\"\n",
        "beta = []\n",
        "for i in range(1000):\n",
        "  beta.append(2*gamma[i])  "
      ],
      "execution_count": 70,
      "outputs": []
    },
    {
      "cell_type": "code",
      "metadata": {
        "id": "OwpvcU_m3QXf",
        "colab_type": "code",
        "colab": {}
      },
      "source": [
        "\"\"\" P, Q, M are the list of S, I, R respectievely calculated for 100 days for each of  1000 sets of parameter (beta,gamma).\"\"\"\n",
        "    \n",
        "P = []\n",
        "Q = []\n",
        "M  = []\n",
        "for i in range(1000): #Plotted for 2 sets\n",
        "  N = 1000\n",
        "  S0, I0, R0 = 999, 1, 0  # initial conditions: one infected, rest susceptible\n",
        "  t = np.linspace(0, 99, 100) # Grid of time points (in days)\n",
        "  y0 = S0, I0, R0 # Initial conditions vector\n",
        "  # Integrate the SIR equations over the time grid, t.\n",
        "  ret = odeint(deriv, y0, t, args=(N, beta[i], gamma[i]))\n",
        "  S, I, R = ret.T\n",
        "  P.append(S)\n",
        "  Q.append(I)\n",
        "  M.append(R)\n",
        "\n",
        "  "
      ],
      "execution_count": 71,
      "outputs": []
    },
    {
      "cell_type": "code",
      "metadata": {
        "id": "IvHINPOi3ULn",
        "colab_type": "code",
        "colab": {}
      },
      "source": [
        "\"\"\" list to dataftrame \"\"\"\n",
        "\n",
        "S_value = pd.DataFrame(P)\n",
        "I_value = pd.DataFrame(Q)\n",
        "R_value = pd.DataFrame(M)"
      ],
      "execution_count": 72,
      "outputs": []
    },
    {
      "cell_type": "code",
      "metadata": {
        "id": "n7cUGfRanQMq",
        "colab_type": "code",
        "colab": {}
      },
      "source": [
        "data = np.array(S_value.iloc[0]).reshape(100,1)"
      ],
      "execution_count": 83,
      "outputs": []
    },
    {
      "cell_type": "code",
      "metadata": {
        "id": "Y3HdZzDrnQMv",
        "colab_type": "code",
        "colab": {
          "base_uri": "https://localhost:8080/",
          "height": 326
        },
        "outputId": "55c42fc5-8b61-4535-ec63-6caaeb7adc3c"
      },
      "source": [
        "plt.plot(data)"
      ],
      "execution_count": 74,
      "outputs": [
        {
          "output_type": "execute_result",
          "data": {
            "text/plain": [
              "[<matplotlib.lines.Line2D at 0x7f413dde2ef0>]"
            ]
          },
          "metadata": {
            "tags": []
          },
          "execution_count": 74
        },
        {
          "output_type": "display_data",
          "data": {
            "image/png": "[encoded data removed]",
            "text/html": [
              "\n",
              "\n",
              "<style>\n",
              "\n",
              "</style>\n",
              "\n",
              "<div id=\"fig_el1251399169204840803639063418\"></div>\n",
              "<script>\n",
              "function mpld3_load_lib(url, callback){\n",
              "  var s = document.createElement('script');\n",
              "  s.src = url;\n",
              "  s.async = true;\n",
              "  s.onreadystatechange = s.onload = callback;\n",
              "  s.onerror = function(){console.warn(\"failed to load library \" + url);};\n",
              "  document.getElementsByTagName(\"head\")[0].appendChild(s);\n",
              "}\n",
              "\n",
              "if(typeof(mpld3) !== \"undefined\" && mpld3._mpld3IsLoaded){\n",
              "   // already loaded: just create the figure\n",
              "   !function(mpld3){\n",
              "       \n",
              "       mpld3.draw_figure(\"fig_el1251399169204840803639063418\", {\"width\": 432.0, \"height\": 288.0, \"axes\": [{\"bbox\": [0.125, 0.125, 0.775, 0.755], \"xlim\": [-4.95, 103.95], \"ylim\": [198.76783771529256, 1037.1062934421288], \"xdomain\": [-4.95, 103.95], \"ydomain\": [198.76783771529256, 1037.1062934421288], \"xscale\": \"linear\", \"yscale\": \"linear\", \"axes\": [{\"position\": \"bottom\", \"nticks\": 8, \"tickvalues\": null, \"tickformat_formatter\": \"\", \"tickformat\": null, \"scale\": \"linear\", \"fontsize\": 10.0, \"grid\": {\"gridOn\": false}, \"visible\": true}, {\"position\": \"left\", \"nticks\": 11, \"tickvalues\": null, \"tickformat_formatter\": \"\", \"tickformat\": null, \"scale\": \"linear\", \"fontsize\": 10.0, \"grid\": {\"gridOn\": false}, \"visible\": true}], \"axesbg\": \"#FFFFFF\", \"axesbgalpha\": null, \"zoomable\": true, \"id\": \"el125139916920487552\", \"lines\": [{\"data\": \"data01\", \"xindex\": 0, \"yindex\": 1, \"coordinates\": \"data\", \"id\": \"el125139918187572976\", \"color\": \"#1F77B4\", \"linewidth\": 1.5, \"dasharray\": \"none\", \"alpha\": 1, \"zorder\": 2, \"drawstyle\": \"default\"}], \"paths\": [], \"markers\": [], \"texts\": [], \"collections\": [], \"images\": [], \"sharex\": [], \"sharey\": []}], \"data\": {\"data01\": [[0.0, 999.0], [1.0, 998.7785227390566], [2.0, 998.532610224832], [3.0, 998.2595877856961], [4.0, 997.9564929009666], [5.0, 997.620045401169], [6.0, 997.2466148166211], [7.0, 996.8321847650784], [8.0, 996.3723140956332], [9.0, 995.862094412104], [10.0, 995.2961043727194], [11.0, 994.6683600631053], [12.0, 993.9722614303582], [13.0, 993.2005348986389], [14.0, 992.3451720089037], [15.0, 991.3973642016341], [16.0, 990.3474339516064], [17.0, 989.1847625601761], [18.0, 987.8977151959518], [19.0, 986.4735638463011], [20.0, 984.8984092244756], [21.0, 983.15710297839], [22.0, 981.2331719736698], [23.0, 979.108746746318], [24.0, 976.7644968633869], [25.0, 974.1795765277624], [26.0, 971.3315844996125], [27.0, 968.1965427729463], [28.0, 964.7488996647229], [29.0, 960.9615636155122], [30.0, 956.8059746798165], [31.0, 952.252221183918], [32.0, 947.2692100549046], [33.0, 941.8248993244529], [34.0, 935.8866009054282], [35.0, 929.4213616790654], [36.0, 922.3964296691172], [37.0, 914.7798093784199], [38.0, 906.5409082641974], [39.0, 897.6512723427962], [40.0, 888.0854034249805], [41.0, 877.8216434854213], [42.0, 866.8431084764042], [43.0, 855.1386428306715], [44.0, 842.7037591492509], [45.0, 829.5415221278279], [46.0, 815.6633323765952], [47.0, 801.0895575128185], [48.0, 785.8499618122886], [49.0, 769.9838920023335], [50.0, 753.5401793807811], [51.0, 736.5767317143076], [52.0, 719.1598189831923], [53.0, 701.3630398334584], [54.0, 683.2660211063402], [55.0, 664.952885029058], [56.0, 646.5105508017265], [57.0, 628.0269462752774], [58.0, 609.5892096198663], [59.0, 591.2819601621281], [60.0, 573.185712451464], [61.0, 555.3754938722811], [62.0, 537.9197119348214], [63.0, 520.8792986225681], [64.0, 504.3071415509325], [65.0, 488.24779780327987], [66.0, 472.73745856775025], [67.0, 457.8041526439668], [68.0, 443.46813200816115], [69.0, 429.7424068907093], [70.0, 416.63338815551685], [71.0, 404.14159481707304], [72.0, 392.2623942360219], [73.0, 380.98674454643566], [74.0, 370.30191552404824], [75.0, 360.1921702909286], [76.0, 350.6393943673259], [77.0, 341.62366537335896], [78.0, 333.12375866038445], [79.0, 325.1175886750206], [80.0, 317.58258735414705], [81.0, 310.4960223751307], [82.0, 303.83526341393167], [83.0, 297.5779943922712], [84.0, 291.7023874803058], [85.0, 286.1872330143897], [86.0, 281.01204091450995], [87.0, 276.15711117058277], [88.0, 271.60358176075255], [89.0, 267.3334571955551], [90.0, 263.32962042883514], [91.0, 259.57583271963784], [92.0, 256.05672280667886], [93.0, 252.75776864875607], [94.0, 249.66527261276522], [95.0, 246.76633291985803], [96.0, 244.04881203197496], [97.0, 241.50130259184786], [98.0, 239.11309285943756], [99.0, 236.8741311574215]]}, \"id\": \"el125139916920484080\", \"plugins\": [{\"type\": \"reset\"}, {\"type\": \"zoom\", \"button\": true, \"enabled\": false}, {\"type\": \"boxzoom\", \"button\": true, \"enabled\": false}]});\n",
              "   }(mpld3);\n",
              "}else if(typeof define === \"function\" && define.amd){\n",
              "   // require.js is available: use it to load d3/mpld3\n",
              "   require.config({paths: {d3: \"https://d3js.org/d3.v5\"}});\n",
              "   require([\"d3\"], function(d3){\n",
              "      window.d3 = d3;\n",
              "      mpld3_load_lib(\"https://mpld3.github.io/js/mpld3.v0.5.1.js\", function(){\n",
              "         \n",
              "         mpld3.draw_figure(\"fig_el1251399169204840803639063418\", {\"width\": 432.0, \"height\": 288.0, \"axes\": [{\"bbox\": [0.125, 0.125, 0.775, 0.755], \"xlim\": [-4.95, 103.95], \"ylim\": [198.76783771529256, 1037.1062934421288], \"xdomain\": [-4.95, 103.95], \"ydomain\": [198.76783771529256, 1037.1062934421288], \"xscale\": \"linear\", \"yscale\": \"linear\", \"axes\": [{\"position\": \"bottom\", \"nticks\": 8, \"tickvalues\": null, \"tickformat_formatter\": \"\", \"tickformat\": null, \"scale\": \"linear\", \"fontsize\": 10.0, \"grid\": {\"gridOn\": false}, \"visible\": true}, {\"position\": \"left\", \"nticks\": 11, \"tickvalues\": null, \"tickformat_formatter\": \"\", \"tickformat\": null, \"scale\": \"linear\", \"fontsize\": 10.0, \"grid\": {\"gridOn\": false}, \"visible\": true}], \"axesbg\": \"#FFFFFF\", \"axesbgalpha\": null, \"zoomable\": true, \"id\": \"el125139916920487552\", \"lines\": [{\"data\": \"data01\", \"xindex\": 0, \"yindex\": 1, \"coordinates\": \"data\", \"id\": \"el125139918187572976\", \"color\": \"#1F77B4\", \"linewidth\": 1.5, \"dasharray\": \"none\", \"alpha\": 1, \"zorder\": 2, \"drawstyle\": \"default\"}], \"paths\": [], \"markers\": [], \"texts\": [], \"collections\": [], \"images\": [], \"sharex\": [], \"sharey\": []}], \"data\": {\"data01\": [[0.0, 999.0], [1.0, 998.7785227390566], [2.0, 998.532610224832], [3.0, 998.2595877856961], [4.0, 997.9564929009666], [5.0, 997.620045401169], [6.0, 997.2466148166211], [7.0, 996.8321847650784], [8.0, 996.3723140956332], [9.0, 995.862094412104], [10.0, 995.2961043727194], [11.0, 994.6683600631053], [12.0, 993.9722614303582], [13.0, 993.2005348986389], [14.0, 992.3451720089037], [15.0, 991.3973642016341], [16.0, 990.3474339516064], [17.0, 989.1847625601761], [18.0, 987.8977151959518], [19.0, 986.4735638463011], [20.0, 984.8984092244756], [21.0, 983.15710297839], [22.0, 981.2331719736698], [23.0, 979.108746746318], [24.0, 976.7644968633869], [25.0, 974.1795765277624], [26.0, 971.3315844996125], [27.0, 968.1965427729463], [28.0, 964.7488996647229], [29.0, 960.9615636155122], [30.0, 956.8059746798165], [31.0, 952.252221183918], [32.0, 947.2692100549046], [33.0, 941.8248993244529], [34.0, 935.8866009054282], [35.0, 929.4213616790654], [36.0, 922.3964296691172], [37.0, 914.7798093784199], [38.0, 906.5409082641974], [39.0, 897.6512723427962], [40.0, 888.0854034249805], [41.0, 877.8216434854213], [42.0, 866.8431084764042], [43.0, 855.1386428306715], [44.0, 842.7037591492509], [45.0, 829.5415221278279], [46.0, 815.6633323765952], [47.0, 801.0895575128185], [48.0, 785.8499618122886], [49.0, 769.9838920023335], [50.0, 753.5401793807811], [51.0, 736.5767317143076], [52.0, 719.1598189831923], [53.0, 701.3630398334584], [54.0, 683.2660211063402], [55.0, 664.952885029058], [56.0, 646.5105508017265], [57.0, 628.0269462752774], [58.0, 609.5892096198663], [59.0, 591.2819601621281], [60.0, 573.185712451464], [61.0, 555.3754938722811], [62.0, 537.9197119348214], [63.0, 520.8792986225681], [64.0, 504.3071415509325], [65.0, 488.24779780327987], [66.0, 472.73745856775025], [67.0, 457.8041526439668], [68.0, 443.46813200816115], [69.0, 429.7424068907093], [70.0, 416.63338815551685], [71.0, 404.14159481707304], [72.0, 392.2623942360219], [73.0, 380.98674454643566], [74.0, 370.30191552404824], [75.0, 360.1921702909286], [76.0, 350.6393943673259], [77.0, 341.62366537335896], [78.0, 333.12375866038445], [79.0, 325.1175886750206], [80.0, 317.58258735414705], [81.0, 310.4960223751307], [82.0, 303.83526341393167], [83.0, 297.5779943922712], [84.0, 291.7023874803058], [85.0, 286.1872330143897], [86.0, 281.01204091450995], [87.0, 276.15711117058277], [88.0, 271.60358176075255], [89.0, 267.3334571955551], [90.0, 263.32962042883514], [91.0, 259.57583271963784], [92.0, 256.05672280667886], [93.0, 252.75776864875607], [94.0, 249.66527261276522], [95.0, 246.76633291985803], [96.0, 244.04881203197496], [97.0, 241.50130259184786], [98.0, 239.11309285943756], [99.0, 236.8741311574215]]}, \"id\": \"el125139916920484080\", \"plugins\": [{\"type\": \"reset\"}, {\"type\": \"zoom\", \"button\": true, \"enabled\": false}, {\"type\": \"boxzoom\", \"button\": true, \"enabled\": false}]});\n",
              "      });\n",
              "    });\n",
              "}else{\n",
              "    // require.js not available: dynamically load d3 & mpld3\n",
              "    mpld3_load_lib(\"https://d3js.org/d3.v5.js\", function(){\n",
              "         mpld3_load_lib(\"https://mpld3.github.io/js/mpld3.v0.5.1.js\", function(){\n",
              "                 \n",
              "                 mpld3.draw_figure(\"fig_el1251399169204840803639063418\", {\"width\": 432.0, \"height\": 288.0, \"axes\": [{\"bbox\": [0.125, 0.125, 0.775, 0.755], \"xlim\": [-4.95, 103.95], \"ylim\": [198.76783771529256, 1037.1062934421288], \"xdomain\": [-4.95, 103.95], \"ydomain\": [198.76783771529256, 1037.1062934421288], \"xscale\": \"linear\", \"yscale\": \"linear\", \"axes\": [{\"position\": \"bottom\", \"nticks\": 8, \"tickvalues\": null, \"tickformat_formatter\": \"\", \"tickformat\": null, \"scale\": \"linear\", \"fontsize\": 10.0, \"grid\": {\"gridOn\": false}, \"visible\": true}, {\"position\": \"left\", \"nticks\": 11, \"tickvalues\": null, \"tickformat_formatter\": \"\", \"tickformat\": null, \"scale\": \"linear\", \"fontsize\": 10.0, \"grid\": {\"gridOn\": false}, \"visible\": true}], \"axesbg\": \"#FFFFFF\", \"axesbgalpha\": null, \"zoomable\": true, \"id\": \"el125139916920487552\", \"lines\": [{\"data\": \"data01\", \"xindex\": 0, \"yindex\": 1, \"coordinates\": \"data\", \"id\": \"el125139918187572976\", \"color\": \"#1F77B4\", \"linewidth\": 1.5, \"dasharray\": \"none\", \"alpha\": 1, \"zorder\": 2, \"drawstyle\": \"default\"}], \"paths\": [], \"markers\": [], \"texts\": [], \"collections\": [], \"images\": [], \"sharex\": [], \"sharey\": []}], \"data\": {\"data01\": [[0.0, 999.0], [1.0, 998.7785227390566], [2.0, 998.532610224832], [3.0, 998.2595877856961], [4.0, 997.9564929009666], [5.0, 997.620045401169], [6.0, 997.2466148166211], [7.0, 996.8321847650784], [8.0, 996.3723140956332], [9.0, 995.862094412104], [10.0, 995.2961043727194], [11.0, 994.6683600631053], [12.0, 993.9722614303582], [13.0, 993.2005348986389], [14.0, 992.3451720089037], [15.0, 991.3973642016341], [16.0, 990.3474339516064], [17.0, 989.1847625601761], [18.0, 987.8977151959518], [19.0, 986.4735638463011], [20.0, 984.8984092244756], [21.0, 983.15710297839], [22.0, 981.2331719736698], [23.0, 979.108746746318], [24.0, 976.7644968633869], [25.0, 974.1795765277624], [26.0, 971.3315844996125], [27.0, 968.1965427729463], [28.0, 964.7488996647229], [29.0, 960.9615636155122], [30.0, 956.8059746798165], [31.0, 952.252221183918], [32.0, 947.2692100549046], [33.0, 941.8248993244529], [34.0, 935.8866009054282], [35.0, 929.4213616790654], [36.0, 922.3964296691172], [37.0, 914.7798093784199], [38.0, 906.5409082641974], [39.0, 897.6512723427962], [40.0, 888.0854034249805], [41.0, 877.8216434854213], [42.0, 866.8431084764042], [43.0, 855.1386428306715], [44.0, 842.7037591492509], [45.0, 829.5415221278279], [46.0, 815.6633323765952], [47.0, 801.0895575128185], [48.0, 785.8499618122886], [49.0, 769.9838920023335], [50.0, 753.5401793807811], [51.0, 736.5767317143076], [52.0, 719.1598189831923], [53.0, 701.3630398334584], [54.0, 683.2660211063402], [55.0, 664.952885029058], [56.0, 646.5105508017265], [57.0, 628.0269462752774], [58.0, 609.5892096198663], [59.0, 591.2819601621281], [60.0, 573.185712451464], [61.0, 555.3754938722811], [62.0, 537.9197119348214], [63.0, 520.8792986225681], [64.0, 504.3071415509325], [65.0, 488.24779780327987], [66.0, 472.73745856775025], [67.0, 457.8041526439668], [68.0, 443.46813200816115], [69.0, 429.7424068907093], [70.0, 416.63338815551685], [71.0, 404.14159481707304], [72.0, 392.2623942360219], [73.0, 380.98674454643566], [74.0, 370.30191552404824], [75.0, 360.1921702909286], [76.0, 350.6393943673259], [77.0, 341.62366537335896], [78.0, 333.12375866038445], [79.0, 325.1175886750206], [80.0, 317.58258735414705], [81.0, 310.4960223751307], [82.0, 303.83526341393167], [83.0, 297.5779943922712], [84.0, 291.7023874803058], [85.0, 286.1872330143897], [86.0, 281.01204091450995], [87.0, 276.15711117058277], [88.0, 271.60358176075255], [89.0, 267.3334571955551], [90.0, 263.32962042883514], [91.0, 259.57583271963784], [92.0, 256.05672280667886], [93.0, 252.75776864875607], [94.0, 249.66527261276522], [95.0, 246.76633291985803], [96.0, 244.04881203197496], [97.0, 241.50130259184786], [98.0, 239.11309285943756], [99.0, 236.8741311574215]]}, \"id\": \"el125139916920484080\", \"plugins\": [{\"type\": \"reset\"}, {\"type\": \"zoom\", \"button\": true, \"enabled\": false}, {\"type\": \"boxzoom\", \"button\": true, \"enabled\": false}]});\n",
              "            })\n",
              "         });\n",
              "}\n",
              "</script>"
            ],
            "text/plain": [
              "<Figure size 432x288 with 1 Axes>"
            ]
          },
          "metadata": {
            "tags": [],
            "needs_background": "light"
          }
        }
      ]
    },
    {
      "cell_type": "code",
      "metadata": {
        "id": "kslRPscynQNA",
        "colab_type": "code",
        "colab": {}
      },
      "source": [
        "train = data[0:10]\n",
        "test = data[10:20]"
      ],
      "execution_count": 36,
      "outputs": []
    },
    {
      "cell_type": "code",
      "metadata": {
        "id": "_GyskCZo5ILD",
        "colab_type": "code",
        "colab": {
          "base_uri": "https://localhost:8080/",
          "height": 185
        },
        "outputId": "d4bf8a3a-560f-4edd-bf61-185cd9780f00"
      },
      "source": [
        "train"
      ],
      "execution_count": 37,
      "outputs": [
        {
          "output_type": "execute_result",
          "data": {
            "text/plain": [
              "array([[999.        ],\n",
              "       [998.1651592 ],\n",
              "       [996.98393956],\n",
              "       [995.31473469],\n",
              "       [992.96014665],\n",
              "       [989.64708173],\n",
              "       [985.00178779],\n",
              "       [978.52061948],\n",
              "       [969.53988012],\n",
              "       [957.21289669]])"
            ]
          },
          "metadata": {
            "tags": []
          },
          "execution_count": 37
        }
      ]
    },
    {
      "cell_type": "code",
      "metadata": {
        "id": "oTWce3nznQNG",
        "colab_type": "code",
        "colab": {}
      },
      "source": [
        "from sklearn.preprocessing import MinMaxScaler"
      ],
      "execution_count": 38,
      "outputs": []
    },
    {
      "cell_type": "code",
      "metadata": {
        "id": "nhMCBLgynQNJ",
        "colab_type": "code",
        "colab": {}
      },
      "source": [
        "scaler = MinMaxScaler()"
      ],
      "execution_count": 39,
      "outputs": []
    },
    {
      "cell_type": "code",
      "metadata": {
        "id": "gihyHQXUnQNP",
        "colab_type": "code",
        "colab": {
          "base_uri": "https://localhost:8080/",
          "height": 34
        },
        "outputId": "36eac4d7-2f80-4815-f170-0a264ce04469"
      },
      "source": [
        "# IGNORE WARNING ITS JUST CONVERTING TO FLOATS\n",
        "# WE ONLY FIT TO TRAININ DATA, OTHERWISE WE ARE CHEATING ASSUMING INFO ABOUT TEST SET\n",
        "scaler.fit(train)"
      ],
      "execution_count": 40,
      "outputs": [
        {
          "output_type": "execute_result",
          "data": {
            "text/plain": [
              "MinMaxScaler(copy=True, feature_range=(0, 1))"
            ]
          },
          "metadata": {
            "tags": []
          },
          "execution_count": 40
        }
      ]
    },
    {
      "cell_type": "code",
      "metadata": {
        "id": "c1kXaUv5nQNS",
        "colab_type": "code",
        "colab": {}
      },
      "source": [
        "scaled_train = scaler.transform(train)\n",
        "scaled_test = scaler.transform(test)"
      ],
      "execution_count": 41,
      "outputs": []
    },
    {
      "cell_type": "code",
      "metadata": {
        "id": "AaJW0bfmkMEV",
        "colab_type": "code",
        "colab": {}
      },
      "source": [
        "from keras.models import Sequential\n",
        "from keras.layers import Dense\n",
        "from keras.layers import LSTM\n",
        "from keras.preprocessing.sequence import TimeseriesGenerator"
      ],
      "execution_count": 42,
      "outputs": []
    },
    {
      "cell_type": "code",
      "metadata": {
        "id": "CQUayskCkMTN",
        "colab_type": "code",
        "colab": {}
      },
      "source": [
        "# define generator\n",
        "n_input = 9\n",
        "n_features = 1\n",
        "generator = TimeseriesGenerator(scaled_train, scaled_train, length=n_input, batch_size=1)"
      ],
      "execution_count": 44,
      "outputs": []
    },
    {
      "cell_type": "code",
      "metadata": {
        "id": "QgL5AWlKkMhs",
        "colab_type": "code",
        "colab": {}
      },
      "source": [
        "X,y = generator[0]"
      ],
      "execution_count": 45,
      "outputs": []
    },
    {
      "cell_type": "code",
      "metadata": {
        "id": "397EFP4SkMvl",
        "colab_type": "code",
        "colab": {}
      },
      "source": [
        "# define model\n",
        "model = Sequential()\n",
        "model.add(LSTM(64, activation='relu', input_shape=(n_input, n_features)))\n",
        "model.add(Dense(1))\n",
        "model.compile(optimizer='adam', loss='mse')"
      ],
      "execution_count": 46,
      "outputs": []
    },
    {
      "cell_type": "code",
      "metadata": {
        "id": "A6Mu4nIEkM9E",
        "colab_type": "code",
        "colab": {
          "base_uri": "https://localhost:8080/",
          "height": 218
        },
        "outputId": "4912a468-a915-4f37-aa80-b74a0c50ec2c"
      },
      "source": [
        "model.summary()\n"
      ],
      "execution_count": 47,
      "outputs": [
        {
          "output_type": "stream",
          "text": [
            "Model: \"sequential_2\"\n",
            "_________________________________________________________________\n",
            "Layer (type)                 Output Shape              Param #   \n",
            "=================================================================\n",
            "lstm_2 (LSTM)                (None, 64)                16896     \n",
            "_________________________________________________________________\n",
            "dense_2 (Dense)              (None, 1)                 65        \n",
            "=================================================================\n",
            "Total params: 16,961\n",
            "Trainable params: 16,961\n",
            "Non-trainable params: 0\n",
            "_________________________________________________________________\n"
          ],
          "name": "stdout"
        }
      ]
    },
    {
      "cell_type": "code",
      "metadata": {
        "id": "X5Dqwl8ykNK0",
        "colab_type": "code",
        "colab": {
          "base_uri": "https://localhost:8080/",
          "height": 1000
        },
        "outputId": "e6454e66-a9cf-4cb8-e261-f3f333a341f9"
      },
      "source": [
        "# fit model\n",
        "model.fit_generator(generator,epochs=50)"
      ],
      "execution_count": 48,
      "outputs": [
        {
          "output_type": "stream",
          "text": [
            "Epoch 1/50\n",
            "1/1 [==============================] - 0s 244ms/step - loss: 0.0063\n",
            "Epoch 2/50\n",
            "1/1 [==============================] - 0s 7ms/step - loss: 0.0039\n",
            "Epoch 3/50\n",
            "1/1 [==============================] - 0s 5ms/step - loss: 0.0021\n",
            "Epoch 4/50\n",
            "1/1 [==============================] - 0s 6ms/step - loss: 9.1095e-04\n",
            "Epoch 5/50\n",
            "1/1 [==============================] - 0s 6ms/step - loss: 2.3306e-04\n",
            "Epoch 6/50\n",
            "1/1 [==============================] - 0s 6ms/step - loss: 2.9531e-06\n",
            "Epoch 7/50\n",
            "1/1 [==============================] - 0s 6ms/step - loss: 1.0124e-04\n",
            "Epoch 8/50\n",
            "1/1 [==============================] - 0s 5ms/step - loss: 3.8138e-04\n",
            "Epoch 9/50\n",
            "1/1 [==============================] - 0s 5ms/step - loss: 6.7949e-04\n",
            "Epoch 10/50\n",
            "1/1 [==============================] - 0s 5ms/step - loss: 8.7967e-04\n",
            "Epoch 11/50\n",
            "1/1 [==============================] - 0s 5ms/step - loss: 9.4178e-04\n",
            "Epoch 12/50\n",
            "1/1 [==============================] - 0s 5ms/step - loss: 8.7942e-04\n",
            "Epoch 13/50\n",
            "1/1 [==============================] - 0s 5ms/step - loss: 7.3118e-04\n",
            "Epoch 14/50\n",
            "1/1 [==============================] - 0s 6ms/step - loss: 5.4465e-04\n",
            "Epoch 15/50\n",
            "1/1 [==============================] - 0s 6ms/step - loss: 3.5903e-04\n",
            "Epoch 16/50\n",
            "1/1 [==============================] - 0s 6ms/step - loss: 1.9987e-04\n",
            "Epoch 17/50\n",
            "1/1 [==============================] - 0s 6ms/step - loss: 8.4025e-05\n",
            "Epoch 18/50\n",
            "1/1 [==============================] - 0s 6ms/step - loss: 1.8455e-05\n",
            "Epoch 19/50\n",
            "1/1 [==============================] - 0s 6ms/step - loss: 5.0327e-08\n",
            "Epoch 20/50\n",
            "1/1 [==============================] - 0s 6ms/step - loss: 1.8014e-05\n",
            "Epoch 21/50\n",
            "1/1 [==============================] - 0s 6ms/step - loss: 5.8347e-05\n",
            "Epoch 22/50\n",
            "1/1 [==============================] - 0s 5ms/step - loss: 1.0644e-04\n",
            "Epoch 23/50\n",
            "1/1 [==============================] - 0s 6ms/step - loss: 1.4989e-04\n",
            "Epoch 24/50\n",
            "1/1 [==============================] - 0s 6ms/step - loss: 1.7931e-04\n",
            "Epoch 25/50\n",
            "1/1 [==============================] - 0s 5ms/step - loss: 1.9067e-04\n",
            "Epoch 26/50\n",
            "1/1 [==============================] - 0s 5ms/step - loss: 1.8356e-04\n",
            "Epoch 27/50\n",
            "1/1 [==============================] - 0s 6ms/step - loss: 1.6095e-04\n",
            "Epoch 28/50\n",
            "1/1 [==============================] - 0s 5ms/step - loss: 1.2808e-04\n",
            "Epoch 29/50\n",
            "1/1 [==============================] - 0s 9ms/step - loss: 9.1130e-05\n",
            "Epoch 30/50\n",
            "1/1 [==============================] - 0s 5ms/step - loss: 5.6066e-05\n",
            "Epoch 31/50\n",
            "1/1 [==============================] - 0s 6ms/step - loss: 2.7663e-05\n",
            "Epoch 32/50\n",
            "1/1 [==============================] - 0s 5ms/step - loss: 8.9096e-06\n",
            "Epoch 33/50\n",
            "1/1 [==============================] - 0s 6ms/step - loss: 6.2358e-07\n",
            "Epoch 34/50\n",
            "1/1 [==============================] - 0s 7ms/step - loss: 1.5613e-06\n",
            "Epoch 35/50\n",
            "1/1 [==============================] - 0s 5ms/step - loss: 9.2818e-06\n",
            "Epoch 36/50\n",
            "1/1 [==============================] - 0s 7ms/step - loss: 2.0517e-05\n",
            "Epoch 37/50\n",
            "1/1 [==============================] - 0s 6ms/step - loss: 3.1888e-05\n",
            "Epoch 38/50\n",
            "1/1 [==============================] - 0s 5ms/step - loss: 4.0587e-05\n",
            "Epoch 39/50\n",
            "1/1 [==============================] - 0s 9ms/step - loss: 4.4833e-05\n",
            "Epoch 40/50\n",
            "1/1 [==============================] - 0s 6ms/step - loss: 4.4066e-05\n",
            "Epoch 41/50\n",
            "1/1 [==============================] - 0s 6ms/step - loss: 3.8862e-05\n",
            "Epoch 42/50\n",
            "1/1 [==============================] - 0s 5ms/step - loss: 3.0664e-05\n",
            "Epoch 43/50\n",
            "1/1 [==============================] - 0s 6ms/step - loss: 2.1246e-05\n",
            "Epoch 44/50\n",
            "1/1 [==============================] - 0s 5ms/step - loss: 1.2384e-05\n",
            "Epoch 45/50\n",
            "1/1 [==============================] - 0s 5ms/step - loss: 5.4734e-06\n",
            "Epoch 46/50\n",
            "1/1 [==============================] - 0s 5ms/step - loss: 1.3042e-06\n",
            "Epoch 47/50\n",
            "1/1 [==============================] - 0s 5ms/step - loss: 4.7651e-11\n",
            "Epoch 48/50\n",
            "1/1 [==============================] - 0s 5ms/step - loss: 1.0997e-06\n",
            "Epoch 49/50\n",
            "1/1 [==============================] - 0s 5ms/step - loss: 3.7453e-06\n",
            "Epoch 50/50\n",
            "1/1 [==============================] - 0s 6ms/step - loss: 6.9227e-06\n"
          ],
          "name": "stdout"
        },
        {
          "output_type": "execute_result",
          "data": {
            "text/plain": [
              "<keras.callbacks.callbacks.History at 0x7f40f31ff5c0>"
            ]
          },
          "metadata": {
            "tags": []
          },
          "execution_count": 48
        }
      ]
    },
    {
      "cell_type": "code",
      "metadata": {
        "id": "9kYtpZnUm04E",
        "colab_type": "code",
        "colab": {
          "base_uri": "https://localhost:8080/",
          "height": 34
        },
        "outputId": "d00d5543-ce19-43e0-f022-c8a9f6916c46"
      },
      "source": [
        "model.history.history.keys()"
      ],
      "execution_count": 49,
      "outputs": [
        {
          "output_type": "execute_result",
          "data": {
            "text/plain": [
              "dict_keys(['loss'])"
            ]
          },
          "metadata": {
            "tags": []
          },
          "execution_count": 49
        }
      ]
    },
    {
      "cell_type": "code",
      "metadata": {
        "id": "LQspyIUam1GL",
        "colab_type": "code",
        "colab": {
          "base_uri": "https://localhost:8080/",
          "height": 326
        },
        "outputId": "2c287f34-e00e-4fd2-f258-407541e9f51b"
      },
      "source": [
        "loss_per_epoch = model.history.history['loss']\n",
        "plt.plot(range(len(loss_per_epoch)),loss_per_epoch)"
      ],
      "execution_count": 50,
      "outputs": [
        {
          "output_type": "execute_result",
          "data": {
            "text/plain": [
              "[<matplotlib.lines.Line2D at 0x7f40f2f14518>]"
            ]
          },
          "metadata": {
            "tags": []
          },
          "execution_count": 50
        },
        {
          "output_type": "display_data",
          "data": {
            "image/png": "[encoded data removed]",
            "text/html": [
              "\n",
              "\n",
              "<style>\n",
              "\n",
              "</style>\n",
              "\n",
              "<div id=\"fig_el1251399169308341602372885081\"></div>\n",
              "<script>\n",
              "function mpld3_load_lib(url, callback){\n",
              "  var s = document.createElement('script');\n",
              "  s.src = url;\n",
              "  s.async = true;\n",
              "  s.onreadystatechange = s.onload = callback;\n",
              "  s.onerror = function(){console.warn(\"failed to load library \" + url);};\n",
              "  document.getElementsByTagName(\"head\")[0].appendChild(s);\n",
              "}\n",
              "\n",
              "if(typeof(mpld3) !== \"undefined\" && mpld3._mpld3IsLoaded){\n",
              "   // already loaded: just create the figure\n",
              "   !function(mpld3){\n",
              "       \n",
              "       mpld3.draw_figure(\"fig_el1251399169308341602372885081\", {\"width\": 432.0, \"height\": 288.0, \"axes\": [{\"bbox\": [0.125, 0.125, 0.775, 0.755], \"xlim\": [-2.45, 51.45], \"ylim\": [-0.0003168068791525446, 0.006652945510523172], \"xdomain\": [-2.45, 51.45], \"ydomain\": [-0.0003168068791525446, 0.006652945510523172], \"xscale\": \"linear\", \"yscale\": \"linear\", \"axes\": [{\"position\": \"bottom\", \"nticks\": 8, \"tickvalues\": null, \"tickformat_formatter\": \"\", \"tickformat\": null, \"scale\": \"linear\", \"fontsize\": 10.0, \"grid\": {\"gridOn\": false}, \"visible\": true}, {\"position\": \"left\", \"nticks\": 9, \"tickvalues\": null, \"tickformat_formatter\": \"\", \"tickformat\": null, \"scale\": \"linear\", \"fontsize\": 10.0, \"grid\": {\"gridOn\": false}, \"visible\": true}], \"axesbg\": \"#FFFFFF\", \"axesbgalpha\": null, \"zoomable\": true, \"id\": \"el125139916930960240\", \"lines\": [{\"data\": \"data01\", \"xindex\": 0, \"yindex\": 1, \"coordinates\": \"data\", \"id\": \"el125139916930532632\", \"color\": \"#1F77B4\", \"linewidth\": 1.5, \"dasharray\": \"none\", \"alpha\": 1, \"zorder\": 2, \"drawstyle\": \"default\"}], \"paths\": [], \"markers\": [], \"texts\": [], \"collections\": [], \"images\": [], \"sharex\": [], \"sharey\": []}], \"data\": {\"data01\": [[0.0, 0.00633613858371973], [1.0, 0.003915521316230297], [2.0, 0.0021115208510309458], [3.0, 0.0009109511156566441], [4.0, 0.00023305628565140069], [5.0, 2.953065177280223e-06], [6.0, 0.00010123941319761798], [7.0, 0.0003813780494965613], [8.0, 0.0006794871296733618], [9.0, 0.0008796730544418097], [10.0, 0.0009417809196747839], [11.0, 0.0008794246823526919], [12.0, 0.0007311833905987442], [13.0, 0.0005446462309919298], [14.0, 0.00035902915988117456], [15.0, 0.00019987467385362834], [16.0, 8.402527600992471e-05], [17.0, 1.845524093369022e-05], [18.0, 5.032708116914364e-08], [19.0, 1.8013774024439044e-05], [20.0, 5.8347075537312776e-05], [21.0, 0.00010644497524481267], [22.0, 0.0001498900819569826], [23.0, 0.00017931322508957237], [24.0, 0.00019067019456997514], [25.0, 0.00018355829524807632], [26.0, 0.00016095423779916018], [27.0, 0.0001280808064620942], [28.0, 9.112996485782787e-05], [29.0, 5.606608829111792e-05], [30.0, 2.766262332443148e-05], [31.0, 8.909602911444381e-06], [32.0, 6.23578387148882e-07], [33.0, 1.561323756504862e-06], [34.0, 9.281793609261513e-06], [35.0, 2.0517161829047836e-05], [36.0, 3.188798655173741e-05], [37.0, 4.0586561226518825e-05], [38.0, 4.4833006541011855e-05], [39.0, 4.406606967677362e-05], [40.0, 3.886182093992829e-05], [41.0, 3.066398130613379e-05], [42.0, 2.1245828975224867e-05], [43.0, 1.2384111869323533e-05], [44.0, 5.4733777687943075e-06], [45.0, 1.3041636748312158e-06], [46.0, 4.765089711700199e-11], [47.0, 1.0996866421919549e-06], [48.0, 3.7453100958373398e-06], [49.0, 6.922730790392961e-06]]}, \"id\": \"el125139916930834160\", \"plugins\": [{\"type\": \"reset\"}, {\"type\": \"zoom\", \"button\": true, \"enabled\": false}, {\"type\": \"boxzoom\", \"button\": true, \"enabled\": false}]});\n",
              "   }(mpld3);\n",
              "}else if(typeof define === \"function\" && define.amd){\n",
              "   // require.js is available: use it to load d3/mpld3\n",
              "   require.config({paths: {d3: \"https://d3js.org/d3.v5\"}});\n",
              "   require([\"d3\"], function(d3){\n",
              "      window.d3 = d3;\n",
              "      mpld3_load_lib(\"https://mpld3.github.io/js/mpld3.v0.5.1.js\", function(){\n",
              "         \n",
              "         mpld3.draw_figure(\"fig_el1251399169308341602372885081\", {\"width\": 432.0, \"height\": 288.0, \"axes\": [{\"bbox\": [0.125, 0.125, 0.775, 0.755], \"xlim\": [-2.45, 51.45], \"ylim\": [-0.0003168068791525446, 0.006652945510523172], \"xdomain\": [-2.45, 51.45], \"ydomain\": [-0.0003168068791525446, 0.006652945510523172], \"xscale\": \"linear\", \"yscale\": \"linear\", \"axes\": [{\"position\": \"bottom\", \"nticks\": 8, \"tickvalues\": null, \"tickformat_formatter\": \"\", \"tickformat\": null, \"scale\": \"linear\", \"fontsize\": 10.0, \"grid\": {\"gridOn\": false}, \"visible\": true}, {\"position\": \"left\", \"nticks\": 9, \"tickvalues\": null, \"tickformat_formatter\": \"\", \"tickformat\": null, \"scale\": \"linear\", \"fontsize\": 10.0, \"grid\": {\"gridOn\": false}, \"visible\": true}], \"axesbg\": \"#FFFFFF\", \"axesbgalpha\": null, \"zoomable\": true, \"id\": \"el125139916930960240\", \"lines\": [{\"data\": \"data01\", \"xindex\": 0, \"yindex\": 1, \"coordinates\": \"data\", \"id\": \"el125139916930532632\", \"color\": \"#1F77B4\", \"linewidth\": 1.5, \"dasharray\": \"none\", \"alpha\": 1, \"zorder\": 2, \"drawstyle\": \"default\"}], \"paths\": [], \"markers\": [], \"texts\": [], \"collections\": [], \"images\": [], \"sharex\": [], \"sharey\": []}], \"data\": {\"data01\": [[0.0, 0.00633613858371973], [1.0, 0.003915521316230297], [2.0, 0.0021115208510309458], [3.0, 0.0009109511156566441], [4.0, 0.00023305628565140069], [5.0, 2.953065177280223e-06], [6.0, 0.00010123941319761798], [7.0, 0.0003813780494965613], [8.0, 0.0006794871296733618], [9.0, 0.0008796730544418097], [10.0, 0.0009417809196747839], [11.0, 0.0008794246823526919], [12.0, 0.0007311833905987442], [13.0, 0.0005446462309919298], [14.0, 0.00035902915988117456], [15.0, 0.00019987467385362834], [16.0, 8.402527600992471e-05], [17.0, 1.845524093369022e-05], [18.0, 5.032708116914364e-08], [19.0, 1.8013774024439044e-05], [20.0, 5.8347075537312776e-05], [21.0, 0.00010644497524481267], [22.0, 0.0001498900819569826], [23.0, 0.00017931322508957237], [24.0, 0.00019067019456997514], [25.0, 0.00018355829524807632], [26.0, 0.00016095423779916018], [27.0, 0.0001280808064620942], [28.0, 9.112996485782787e-05], [29.0, 5.606608829111792e-05], [30.0, 2.766262332443148e-05], [31.0, 8.909602911444381e-06], [32.0, 6.23578387148882e-07], [33.0, 1.561323756504862e-06], [34.0, 9.281793609261513e-06], [35.0, 2.0517161829047836e-05], [36.0, 3.188798655173741e-05], [37.0, 4.0586561226518825e-05], [38.0, 4.4833006541011855e-05], [39.0, 4.406606967677362e-05], [40.0, 3.886182093992829e-05], [41.0, 3.066398130613379e-05], [42.0, 2.1245828975224867e-05], [43.0, 1.2384111869323533e-05], [44.0, 5.4733777687943075e-06], [45.0, 1.3041636748312158e-06], [46.0, 4.765089711700199e-11], [47.0, 1.0996866421919549e-06], [48.0, 3.7453100958373398e-06], [49.0, 6.922730790392961e-06]]}, \"id\": \"el125139916930834160\", \"plugins\": [{\"type\": \"reset\"}, {\"type\": \"zoom\", \"button\": true, \"enabled\": false}, {\"type\": \"boxzoom\", \"button\": true, \"enabled\": false}]});\n",
              "      });\n",
              "    });\n",
              "}else{\n",
              "    // require.js not available: dynamically load d3 & mpld3\n",
              "    mpld3_load_lib(\"https://d3js.org/d3.v5.js\", function(){\n",
              "         mpld3_load_lib(\"https://mpld3.github.io/js/mpld3.v0.5.1.js\", function(){\n",
              "                 \n",
              "                 mpld3.draw_figure(\"fig_el1251399169308341602372885081\", {\"width\": 432.0, \"height\": 288.0, \"axes\": [{\"bbox\": [0.125, 0.125, 0.775, 0.755], \"xlim\": [-2.45, 51.45], \"ylim\": [-0.0003168068791525446, 0.006652945510523172], \"xdomain\": [-2.45, 51.45], \"ydomain\": [-0.0003168068791525446, 0.006652945510523172], \"xscale\": \"linear\", \"yscale\": \"linear\", \"axes\": [{\"position\": \"bottom\", \"nticks\": 8, \"tickvalues\": null, \"tickformat_formatter\": \"\", \"tickformat\": null, \"scale\": \"linear\", \"fontsize\": 10.0, \"grid\": {\"gridOn\": false}, \"visible\": true}, {\"position\": \"left\", \"nticks\": 9, \"tickvalues\": null, \"tickformat_formatter\": \"\", \"tickformat\": null, \"scale\": \"linear\", \"fontsize\": 10.0, \"grid\": {\"gridOn\": false}, \"visible\": true}], \"axesbg\": \"#FFFFFF\", \"axesbgalpha\": null, \"zoomable\": true, \"id\": \"el125139916930960240\", \"lines\": [{\"data\": \"data01\", \"xindex\": 0, \"yindex\": 1, \"coordinates\": \"data\", \"id\": \"el125139916930532632\", \"color\": \"#1F77B4\", \"linewidth\": 1.5, \"dasharray\": \"none\", \"alpha\": 1, \"zorder\": 2, \"drawstyle\": \"default\"}], \"paths\": [], \"markers\": [], \"texts\": [], \"collections\": [], \"images\": [], \"sharex\": [], \"sharey\": []}], \"data\": {\"data01\": [[0.0, 0.00633613858371973], [1.0, 0.003915521316230297], [2.0, 0.0021115208510309458], [3.0, 0.0009109511156566441], [4.0, 0.00023305628565140069], [5.0, 2.953065177280223e-06], [6.0, 0.00010123941319761798], [7.0, 0.0003813780494965613], [8.0, 0.0006794871296733618], [9.0, 0.0008796730544418097], [10.0, 0.0009417809196747839], [11.0, 0.0008794246823526919], [12.0, 0.0007311833905987442], [13.0, 0.0005446462309919298], [14.0, 0.00035902915988117456], [15.0, 0.00019987467385362834], [16.0, 8.402527600992471e-05], [17.0, 1.845524093369022e-05], [18.0, 5.032708116914364e-08], [19.0, 1.8013774024439044e-05], [20.0, 5.8347075537312776e-05], [21.0, 0.00010644497524481267], [22.0, 0.0001498900819569826], [23.0, 0.00017931322508957237], [24.0, 0.00019067019456997514], [25.0, 0.00018355829524807632], [26.0, 0.00016095423779916018], [27.0, 0.0001280808064620942], [28.0, 9.112996485782787e-05], [29.0, 5.606608829111792e-05], [30.0, 2.766262332443148e-05], [31.0, 8.909602911444381e-06], [32.0, 6.23578387148882e-07], [33.0, 1.561323756504862e-06], [34.0, 9.281793609261513e-06], [35.0, 2.0517161829047836e-05], [36.0, 3.188798655173741e-05], [37.0, 4.0586561226518825e-05], [38.0, 4.4833006541011855e-05], [39.0, 4.406606967677362e-05], [40.0, 3.886182093992829e-05], [41.0, 3.066398130613379e-05], [42.0, 2.1245828975224867e-05], [43.0, 1.2384111869323533e-05], [44.0, 5.4733777687943075e-06], [45.0, 1.3041636748312158e-06], [46.0, 4.765089711700199e-11], [47.0, 1.0996866421919549e-06], [48.0, 3.7453100958373398e-06], [49.0, 6.922730790392961e-06]]}, \"id\": \"el125139916930834160\", \"plugins\": [{\"type\": \"reset\"}, {\"type\": \"zoom\", \"button\": true, \"enabled\": false}, {\"type\": \"boxzoom\", \"button\": true, \"enabled\": false}]});\n",
              "            })\n",
              "         });\n",
              "}\n",
              "</script>"
            ],
            "text/plain": [
              "<Figure size 432x288 with 1 Axes>"
            ]
          },
          "metadata": {
            "tags": [],
            "needs_background": "light"
          }
        }
      ]
    },
    {
      "cell_type": "code",
      "metadata": {
        "id": "oaiUjddqm1S8",
        "colab_type": "code",
        "colab": {
          "base_uri": "https://localhost:8080/",
          "height": 185
        },
        "outputId": "cf56635c-7279-4472-ec8b-df0e7b54e2df"
      },
      "source": [
        "scaled_test"
      ],
      "execution_count": 51,
      "outputs": [
        {
          "output_type": "execute_result",
          "data": {
            "text/plain": [
              "array([[ -0.39970942],\n",
              "       [ -0.93197134],\n",
              "       [ -1.62469458],\n",
              "       [ -2.50014162],\n",
              "       [ -3.56689548],\n",
              "       [ -4.81157562],\n",
              "       [ -6.19427393],\n",
              "       [ -7.65175461],\n",
              "       [ -9.10918075],\n",
              "       [-10.496035  ]])"
            ]
          },
          "metadata": {
            "tags": []
          },
          "execution_count": 51
        }
      ]
    },
    {
      "cell_type": "code",
      "metadata": {
        "id": "Dgw2aXZgm1gT",
        "colab_type": "code",
        "colab": {}
      },
      "source": [
        "first_eval_batch = scaled_train[-9:]"
      ],
      "execution_count": 52,
      "outputs": []
    },
    {
      "cell_type": "code",
      "metadata": {
        "id": "N4UPlmImm1r7",
        "colab_type": "code",
        "colab": {
          "base_uri": "https://localhost:8080/",
          "height": 168
        },
        "outputId": "2ebae890-d560-4fcb-8316-8443e48c77ac"
      },
      "source": [
        "first_eval_batch"
      ],
      "execution_count": 53,
      "outputs": [
        {
          "output_type": "execute_result",
          "data": {
            "text/plain": [
              "array([[0.98002157],\n",
              "       [0.951754  ],\n",
              "       [0.91180855],\n",
              "       [0.85546131],\n",
              "       [0.77617692],\n",
              "       [0.66501119],\n",
              "       [0.50991146],\n",
              "       [0.29499493],\n",
              "       [0.        ]])"
            ]
          },
          "metadata": {
            "tags": []
          },
          "execution_count": 53
        }
      ]
    },
    {
      "cell_type": "code",
      "metadata": {
        "id": "wcnYs3NKm9OT",
        "colab_type": "code",
        "colab": {}
      },
      "source": [
        "first_eval_batch = first_eval_batch.reshape((1, n_input, n_features))"
      ],
      "execution_count": 54,
      "outputs": []
    },
    {
      "cell_type": "code",
      "metadata": {
        "id": "KreviEFsm9e7",
        "colab_type": "code",
        "colab": {
          "base_uri": "https://localhost:8080/",
          "height": 34
        },
        "outputId": "0eab929d-7d2d-4e9f-8463-b19aeba6b0b1"
      },
      "source": [
        "\n",
        "model.predict(first_eval_batch)"
      ],
      "execution_count": 55,
      "outputs": [
        {
          "output_type": "execute_result",
          "data": {
            "text/plain": [
              "array([[0.00373216]], dtype=float32)"
            ]
          },
          "metadata": {
            "tags": []
          },
          "execution_count": 55
        }
      ]
    },
    {
      "cell_type": "code",
      "metadata": {
        "id": "fiaGLcd3m9rT",
        "colab_type": "code",
        "colab": {
          "base_uri": "https://localhost:8080/",
          "height": 185
        },
        "outputId": "1252b46e-542b-45f7-a112-ff19f4b60f8d"
      },
      "source": [
        "scaled_test"
      ],
      "execution_count": 56,
      "outputs": [
        {
          "output_type": "execute_result",
          "data": {
            "text/plain": [
              "array([[ -0.39970942],\n",
              "       [ -0.93197134],\n",
              "       [ -1.62469458],\n",
              "       [ -2.50014162],\n",
              "       [ -3.56689548],\n",
              "       [ -4.81157562],\n",
              "       [ -6.19427393],\n",
              "       [ -7.65175461],\n",
              "       [ -9.10918075],\n",
              "       [-10.496035  ]])"
            ]
          },
          "metadata": {
            "tags": []
          },
          "execution_count": 56
        }
      ]
    },
    {
      "cell_type": "code",
      "metadata": {
        "id": "PQK4vCLQm96D",
        "colab_type": "code",
        "colab": {}
      },
      "source": [
        "test_predictions = []\n",
        "\n",
        "first_eval_batch = scaled_train[-n_input:]\n",
        "current_batch = first_eval_batch.reshape((1, n_input, n_features))\n",
        "\n",
        "for i in range(len(test)):\n",
        "    \n",
        "    # get prediction 1 time stamp ahead ([0] is for grabbing just the number instead of [array])\n",
        "    current_pred = model.predict(current_batch)[0]\n",
        "    \n",
        "    # store prediction\n",
        "    test_predictions.append(current_pred) \n",
        "    \n",
        "    # update batch to now include prediction and drop first value\n",
        "    current_batch = np.append(current_batch[:,1:,:],[[current_pred]],axis=1)"
      ],
      "execution_count": 57,
      "outputs": []
    },
    {
      "cell_type": "code",
      "metadata": {
        "id": "ZgkQVwfBnGfc",
        "colab_type": "code",
        "colab": {
          "base_uri": "https://localhost:8080/",
          "height": 185
        },
        "outputId": "330e8a49-bc12-4db0-fdfb-c0bf48f3c626"
      },
      "source": [
        "test_predictions"
      ],
      "execution_count": 58,
      "outputs": [
        {
          "output_type": "execute_result",
          "data": {
            "text/plain": [
              "[array([0.00373216], dtype=float32),\n",
              " array([0.0075497], dtype=float32),\n",
              " array([0.00971445], dtype=float32),\n",
              " array([0.01091411], dtype=float32),\n",
              " array([0.01151202], dtype=float32),\n",
              " array([0.01161082], dtype=float32),\n",
              " array([0.01142826], dtype=float32),\n",
              " array([0.01121727], dtype=float32),\n",
              " array([0.01106316], dtype=float32),\n",
              " array([0.01110716], dtype=float32)]"
            ]
          },
          "metadata": {
            "tags": []
          },
          "execution_count": 58
        }
      ]
    },
    {
      "cell_type": "code",
      "metadata": {
        "id": "8Ahf2EaUnGuD",
        "colab_type": "code",
        "colab": {}
      },
      "source": [
        "true_predictions = scaler.inverse_transform(test_predictions)"
      ],
      "execution_count": 59,
      "outputs": []
    },
    {
      "cell_type": "code",
      "metadata": {
        "id": "Zu-2GFBenG7b",
        "colab_type": "code",
        "colab": {
          "base_uri": "https://localhost:8080/",
          "height": 185
        },
        "outputId": "d4378982-b4f8-46a6-952e-71f6510767d7"
      },
      "source": [
        "true_predictions"
      ],
      "execution_count": 60,
      "outputs": [
        {
          "output_type": "execute_result",
          "data": {
            "text/plain": [
              "array([[957.36885272],\n",
              "       [957.5283768 ],\n",
              "       [957.61883529],\n",
              "       [957.66896576],\n",
              "       [957.69395076],\n",
              "       [957.69807926],\n",
              "       [957.69045074],\n",
              "       [957.68163383],\n",
              "       [957.67519423],\n",
              "       [957.67703288]])"
            ]
          },
          "metadata": {
            "tags": []
          },
          "execution_count": 60
        }
      ]
    },
    {
      "cell_type": "code",
      "metadata": {
        "id": "F7e2lpz5nQuk",
        "colab_type": "code",
        "colab": {}
      },
      "source": [
        "test = pd.DataFrame(test)"
      ],
      "execution_count": 61,
      "outputs": []
    },
    {
      "cell_type": "code",
      "metadata": {
        "id": "9tN6pGKanQ8c",
        "colab_type": "code",
        "colab": {}
      },
      "source": [
        "# IGNORE WARNINGS\n",
        "test['Predictions'] = true_predictions"
      ],
      "execution_count": 62,
      "outputs": []
    },
    {
      "cell_type": "code",
      "metadata": {
        "id": "PJ9LRAgCnRJc",
        "colab_type": "code",
        "colab": {
          "base_uri": "https://localhost:8080/",
          "height": 343
        },
        "outputId": "47ebada3-2315-4c27-9b20-54284ed9b60c"
      },
      "source": [
        "test"
      ],
      "execution_count": 63,
      "outputs": [
        {
          "output_type": "execute_result",
          "data": {
            "text/html": [
              "<div>\n",
              "<style scoped>\n",
              "    .dataframe tbody tr th:only-of-type {\n",
              "        vertical-align: middle;\n",
              "    }\n",
              "\n",
              "    .dataframe tbody tr th {\n",
              "        vertical-align: top;\n",
              "    }\n",
              "\n",
              "    .dataframe thead th {\n",
              "        text-align: right;\n",
              "    }\n",
              "</style>\n",
              "<table border=\"1\" class=\"dataframe\">\n",
              "  <thead>\n",
              "    <tr style=\"text-align: right;\">\n",
              "      <th></th>\n",
              "      <th>0</th>\n",
              "      <th>Predictions</th>\n",
              "    </tr>\n",
              "  </thead>\n",
              "  <tbody>\n",
              "    <tr>\n",
              "      <th>0</th>\n",
              "      <td>940.510198</td>\n",
              "      <td>957.368853</td>\n",
              "    </tr>\n",
              "    <tr>\n",
              "      <th>1</th>\n",
              "      <td>918.268514</td>\n",
              "      <td>957.528377</td>\n",
              "    </tr>\n",
              "    <tr>\n",
              "      <th>2</th>\n",
              "      <td>889.321616</td>\n",
              "      <td>957.618835</td>\n",
              "    </tr>\n",
              "    <tr>\n",
              "      <th>3</th>\n",
              "      <td>852.739221</td>\n",
              "      <td>957.668966</td>\n",
              "    </tr>\n",
              "    <tr>\n",
              "      <th>4</th>\n",
              "      <td>808.162667</td>\n",
              "      <td>957.693951</td>\n",
              "    </tr>\n",
              "    <tr>\n",
              "      <th>5</th>\n",
              "      <td>756.151089</td>\n",
              "      <td>957.698079</td>\n",
              "    </tr>\n",
              "    <tr>\n",
              "      <th>6</th>\n",
              "      <td>698.372132</td>\n",
              "      <td>957.690451</td>\n",
              "    </tr>\n",
              "    <tr>\n",
              "      <th>7</th>\n",
              "      <td>637.468236</td>\n",
              "      <td>957.681634</td>\n",
              "    </tr>\n",
              "    <tr>\n",
              "      <th>8</th>\n",
              "      <td>576.566619</td>\n",
              "      <td>957.675194</td>\n",
              "    </tr>\n",
              "    <tr>\n",
              "      <th>9</th>\n",
              "      <td>518.613998</td>\n",
              "      <td>957.677033</td>\n",
              "    </tr>\n",
              "  </tbody>\n",
              "</table>\n",
              "</div>"
            ],
            "text/plain": [
              "            0  Predictions\n",
              "0  940.510198   957.368853\n",
              "1  918.268514   957.528377\n",
              "2  889.321616   957.618835\n",
              "3  852.739221   957.668966\n",
              "4  808.162667   957.693951\n",
              "5  756.151089   957.698079\n",
              "6  698.372132   957.690451\n",
              "7  637.468236   957.681634\n",
              "8  576.566619   957.675194\n",
              "9  518.613998   957.677033"
            ]
          },
          "metadata": {
            "tags": []
          },
          "execution_count": 63
        }
      ]
    },
    {
      "cell_type": "code",
      "metadata": {
        "id": "uoX71CManRWM",
        "colab_type": "code",
        "colab": {
          "base_uri": "https://localhost:8080/",
          "height": 614
        },
        "outputId": "8b781378-f135-469b-e726-b31f8945a587"
      },
      "source": [
        "test.plot(figsize=(12,8))"
      ],
      "execution_count": 64,
      "outputs": [
        {
          "output_type": "execute_result",
          "data": {
            "text/plain": [
              "<matplotlib.axes._subplots.AxesSubplot at 0x7f40f266c160>"
            ]
          },
          "metadata": {
            "tags": []
          },
          "execution_count": 64
        },
        {
          "output_type": "display_data",
          "data": {
            "image/png": "[encoded data removed]",
            "text/html": [
              "\n",
              "\n",
              "<style>\n",
              "\n",
              "</style>\n",
              "\n",
              "<div id=\"fig_el1251399169213914244855325062\"></div>\n",
              "<script>\n",
              "function mpld3_load_lib(url, callback){\n",
              "  var s = document.createElement('script');\n",
              "  s.src = url;\n",
              "  s.async = true;\n",
              "  s.onreadystatechange = s.onload = callback;\n",
              "  s.onerror = function(){console.warn(\"failed to load library \" + url);};\n",
              "  document.getElementsByTagName(\"head\")[0].appendChild(s);\n",
              "}\n",
              "\n",
              "if(typeof(mpld3) !== \"undefined\" && mpld3._mpld3IsLoaded){\n",
              "   // already loaded: just create the figure\n",
              "   !function(mpld3){\n",
              "       \n",
              "       mpld3.draw_figure(\"fig_el1251399169213914244855325062\", {\"width\": 864.0, \"height\": 576.0, \"axes\": [{\"bbox\": [0.125, 0.125, 0.775, 0.755], \"xlim\": [-0.45, 9.45], \"ylim\": [496.65979352077335, 979.6522833440364], \"xdomain\": [-0.45, 9.45], \"ydomain\": [496.65979352077335, 979.6522833440364], \"xscale\": \"linear\", \"yscale\": \"linear\", \"axes\": [{\"position\": \"bottom\", \"nticks\": 7, \"tickvalues\": null, \"tickformat_formatter\": \"\", \"tickformat\": null, \"scale\": \"linear\", \"fontsize\": 10.0, \"grid\": {\"gridOn\": false}, \"visible\": true}, {\"position\": \"left\", \"nticks\": 7, \"tickvalues\": null, \"tickformat_formatter\": \"\", \"tickformat\": null, \"scale\": \"linear\", \"fontsize\": 10.0, \"grid\": {\"gridOn\": false}, \"visible\": true}], \"axesbg\": \"#FFFFFF\", \"axesbgalpha\": null, \"zoomable\": true, \"id\": \"el125139916921454944\", \"lines\": [{\"data\": \"data01\", \"xindex\": 0, \"yindex\": 1, \"coordinates\": \"data\", \"id\": \"el125139916921132760\", \"color\": \"#1F77B4\", \"linewidth\": 1.5, \"dasharray\": \"none\", \"alpha\": 1, \"zorder\": 2, \"drawstyle\": \"default\"}, {\"data\": \"data01\", \"xindex\": 0, \"yindex\": 2, \"coordinates\": \"data\", \"id\": \"el125139916921133096\", \"color\": \"#FF7F0E\", \"linewidth\": 1.5, \"dasharray\": \"none\", \"alpha\": 1, \"zorder\": 2, \"drawstyle\": \"default\"}, {\"data\": \"data02\", \"xindex\": 0, \"yindex\": 1, \"coordinates\": \"axes\", \"id\": \"el125139916920705488\", \"color\": \"#1F77B4\", \"linewidth\": 1.5, \"dasharray\": \"none\", \"alpha\": 1, \"zorder\": 1000002.0, \"drawstyle\": \"default\"}, {\"data\": \"data02\", \"xindex\": 0, \"yindex\": 2, \"coordinates\": \"axes\", \"id\": \"el125139916920706552\", \"color\": \"#FF7F0E\", \"linewidth\": 1.5, \"dasharray\": \"none\", \"alpha\": 1, \"zorder\": 1000002.0, \"drawstyle\": \"default\"}], \"paths\": [{\"data\": \"data03\", \"xindex\": 0, \"yindex\": 1, \"coordinates\": \"axes\", \"pathcodes\": [\"M\", \"L\", \"S\", \"L\", \"S\", \"L\", \"S\", \"L\", \"S\", \"Z\"], \"id\": \"el125139916921134048\", \"dasharray\": \"none\", \"alpha\": 0.8, \"facecolor\": \"rgba(255, 255, 255, 0.8)\", \"edgecolor\": \"rgba(204, 204, 204, 0.8)\", \"edgewidth\": 1.0, \"zorder\": 1000000.0}], \"markers\": [], \"texts\": [{\"text\": \"0\", \"position\": [0.05525686977299879, 0.05978660779985284], \"coordinates\": \"axes\", \"h_anchor\": \"start\", \"v_baseline\": \"auto\", \"rotation\": -0.0, \"fontsize\": 10.0, \"color\": \"#000000\", \"alpha\": 1, \"zorder\": 1000003.0, \"id\": \"el125139916921135000\"}, {\"text\": \"Predictions\", \"position\": [0.05525686977299879, 0.025294334069168506], \"coordinates\": \"axes\", \"h_anchor\": \"start\", \"v_baseline\": \"auto\", \"rotation\": -0.0, \"fontsize\": 10.0, \"color\": \"#000000\", \"alpha\": 1, \"zorder\": 1000003.0, \"id\": \"el125139916920706104\"}], \"collections\": [], \"images\": [], \"sharex\": [], \"sharey\": []}], \"data\": {\"data01\": [[0.0, 940.5101977358331, 957.3688527167444], [1.0, 918.2685142091419, 957.528376796668], [2.0, 889.3216162675986, 957.6188352879325], [3.0, 852.739220669648, 957.6689657554225], [4.0, 808.1626668159416, 957.69395076121], [5.0, 756.1510890704888, 957.6980792611608], [6.0, 698.37213219262, 957.690450736295], [7.0, 637.4682364456945, 957.6816338335917], [8.0, 576.5666194759857, 957.675194231405], [9.0, 518.613997603649, 957.677032877951]], \"data02\": [[0.013440860215053752, 0.06783480500367918, 0.03334253127299485], [0.04330943847072878, 0.06783480500367918, 0.03334253127299485]], \"data03\": [[0.010454002389486239, 0.011497424576894788], [0.14038231780167262, 0.011497424576894788], [0.14336917562724014, 0.011497424576894788], [0.14336917562724014, 0.016096394407652703], [0.14336917562724014, 0.08278145695364239], [0.14336917562724014, 0.0873804267844003], [0.14038231780167262, 0.0873804267844003], [0.010454002389486239, 0.0873804267844003], [0.007467144563918754, 0.0873804267844003], [0.007467144563918754, 0.08278145695364239], [0.007467144563918754, 0.016096394407652703], [0.007467144563918754, 0.011497424576894788], [0.010454002389486239, 0.011497424576894788]]}, \"id\": \"el125139916921391424\", \"plugins\": [{\"type\": \"reset\"}, {\"type\": \"zoom\", \"button\": true, \"enabled\": false}, {\"type\": \"boxzoom\", \"button\": true, \"enabled\": false}]});\n",
              "   }(mpld3);\n",
              "}else if(typeof define === \"function\" && define.amd){\n",
              "   // require.js is available: use it to load d3/mpld3\n",
              "   require.config({paths: {d3: \"https://d3js.org/d3.v5\"}});\n",
              "   require([\"d3\"], function(d3){\n",
              "      window.d3 = d3;\n",
              "      mpld3_load_lib(\"https://mpld3.github.io/js/mpld3.v0.5.1.js\", function(){\n",
              "         \n",
              "         mpld3.draw_figure(\"fig_el1251399169213914244855325062\", {\"width\": 864.0, \"height\": 576.0, \"axes\": [{\"bbox\": [0.125, 0.125, 0.775, 0.755], \"xlim\": [-0.45, 9.45], \"ylim\": [496.65979352077335, 979.6522833440364], \"xdomain\": [-0.45, 9.45], \"ydomain\": [496.65979352077335, 979.6522833440364], \"xscale\": \"linear\", \"yscale\": \"linear\", \"axes\": [{\"position\": \"bottom\", \"nticks\": 7, \"tickvalues\": null, \"tickformat_formatter\": \"\", \"tickformat\": null, \"scale\": \"linear\", \"fontsize\": 10.0, \"grid\": {\"gridOn\": false}, \"visible\": true}, {\"position\": \"left\", \"nticks\": 7, \"tickvalues\": null, \"tickformat_formatter\": \"\", \"tickformat\": null, \"scale\": \"linear\", \"fontsize\": 10.0, \"grid\": {\"gridOn\": false}, \"visible\": true}], \"axesbg\": \"#FFFFFF\", \"axesbgalpha\": null, \"zoomable\": true, \"id\": \"el125139916921454944\", \"lines\": [{\"data\": \"data01\", \"xindex\": 0, \"yindex\": 1, \"coordinates\": \"data\", \"id\": \"el125139916921132760\", \"color\": \"#1F77B4\", \"linewidth\": 1.5, \"dasharray\": \"none\", \"alpha\": 1, \"zorder\": 2, \"drawstyle\": \"default\"}, {\"data\": \"data01\", \"xindex\": 0, \"yindex\": 2, \"coordinates\": \"data\", \"id\": \"el125139916921133096\", \"color\": \"#FF7F0E\", \"linewidth\": 1.5, \"dasharray\": \"none\", \"alpha\": 1, \"zorder\": 2, \"drawstyle\": \"default\"}, {\"data\": \"data02\", \"xindex\": 0, \"yindex\": 1, \"coordinates\": \"axes\", \"id\": \"el125139916920705488\", \"color\": \"#1F77B4\", \"linewidth\": 1.5, \"dasharray\": \"none\", \"alpha\": 1, \"zorder\": 1000002.0, \"drawstyle\": \"default\"}, {\"data\": \"data02\", \"xindex\": 0, \"yindex\": 2, \"coordinates\": \"axes\", \"id\": \"el125139916920706552\", \"color\": \"#FF7F0E\", \"linewidth\": 1.5, \"dasharray\": \"none\", \"alpha\": 1, \"zorder\": 1000002.0, \"drawstyle\": \"default\"}], \"paths\": [{\"data\": \"data03\", \"xindex\": 0, \"yindex\": 1, \"coordinates\": \"axes\", \"pathcodes\": [\"M\", \"L\", \"S\", \"L\", \"S\", \"L\", \"S\", \"L\", \"S\", \"Z\"], \"id\": \"el125139916921134048\", \"dasharray\": \"none\", \"alpha\": 0.8, \"facecolor\": \"rgba(255, 255, 255, 0.8)\", \"edgecolor\": \"rgba(204, 204, 204, 0.8)\", \"edgewidth\": 1.0, \"zorder\": 1000000.0}], \"markers\": [], \"texts\": [{\"text\": \"0\", \"position\": [0.05525686977299879, 0.05978660779985284], \"coordinates\": \"axes\", \"h_anchor\": \"start\", \"v_baseline\": \"auto\", \"rotation\": -0.0, \"fontsize\": 10.0, \"color\": \"#000000\", \"alpha\": 1, \"zorder\": 1000003.0, \"id\": \"el125139916921135000\"}, {\"text\": \"Predictions\", \"position\": [0.05525686977299879, 0.025294334069168506], \"coordinates\": \"axes\", \"h_anchor\": \"start\", \"v_baseline\": \"auto\", \"rotation\": -0.0, \"fontsize\": 10.0, \"color\": \"#000000\", \"alpha\": 1, \"zorder\": 1000003.0, \"id\": \"el125139916920706104\"}], \"collections\": [], \"images\": [], \"sharex\": [], \"sharey\": []}], \"data\": {\"data01\": [[0.0, 940.5101977358331, 957.3688527167444], [1.0, 918.2685142091419, 957.528376796668], [2.0, 889.3216162675986, 957.6188352879325], [3.0, 852.739220669648, 957.6689657554225], [4.0, 808.1626668159416, 957.69395076121], [5.0, 756.1510890704888, 957.6980792611608], [6.0, 698.37213219262, 957.690450736295], [7.0, 637.4682364456945, 957.6816338335917], [8.0, 576.5666194759857, 957.675194231405], [9.0, 518.613997603649, 957.677032877951]], \"data02\": [[0.013440860215053752, 0.06783480500367918, 0.03334253127299485], [0.04330943847072878, 0.06783480500367918, 0.03334253127299485]], \"data03\": [[0.010454002389486239, 0.011497424576894788], [0.14038231780167262, 0.011497424576894788], [0.14336917562724014, 0.011497424576894788], [0.14336917562724014, 0.016096394407652703], [0.14336917562724014, 0.08278145695364239], [0.14336917562724014, 0.0873804267844003], [0.14038231780167262, 0.0873804267844003], [0.010454002389486239, 0.0873804267844003], [0.007467144563918754, 0.0873804267844003], [0.007467144563918754, 0.08278145695364239], [0.007467144563918754, 0.016096394407652703], [0.007467144563918754, 0.011497424576894788], [0.010454002389486239, 0.011497424576894788]]}, \"id\": \"el125139916921391424\", \"plugins\": [{\"type\": \"reset\"}, {\"type\": \"zoom\", \"button\": true, \"enabled\": false}, {\"type\": \"boxzoom\", \"button\": true, \"enabled\": false}]});\n",
              "      });\n",
              "    });\n",
              "}else{\n",
              "    // require.js not available: dynamically load d3 & mpld3\n",
              "    mpld3_load_lib(\"https://d3js.org/d3.v5.js\", function(){\n",
              "         mpld3_load_lib(\"https://mpld3.github.io/js/mpld3.v0.5.1.js\", function(){\n",
              "                 \n",
              "                 mpld3.draw_figure(\"fig_el1251399169213914244855325062\", {\"width\": 864.0, \"height\": 576.0, \"axes\": [{\"bbox\": [0.125, 0.125, 0.775, 0.755], \"xlim\": [-0.45, 9.45], \"ylim\": [496.65979352077335, 979.6522833440364], \"xdomain\": [-0.45, 9.45], \"ydomain\": [496.65979352077335, 979.6522833440364], \"xscale\": \"linear\", \"yscale\": \"linear\", \"axes\": [{\"position\": \"bottom\", \"nticks\": 7, \"tickvalues\": null, \"tickformat_formatter\": \"\", \"tickformat\": null, \"scale\": \"linear\", \"fontsize\": 10.0, \"grid\": {\"gridOn\": false}, \"visible\": true}, {\"position\": \"left\", \"nticks\": 7, \"tickvalues\": null, \"tickformat_formatter\": \"\", \"tickformat\": null, \"scale\": \"linear\", \"fontsize\": 10.0, \"grid\": {\"gridOn\": false}, \"visible\": true}], \"axesbg\": \"#FFFFFF\", \"axesbgalpha\": null, \"zoomable\": true, \"id\": \"el125139916921454944\", \"lines\": [{\"data\": \"data01\", \"xindex\": 0, \"yindex\": 1, \"coordinates\": \"data\", \"id\": \"el125139916921132760\", \"color\": \"#1F77B4\", \"linewidth\": 1.5, \"dasharray\": \"none\", \"alpha\": 1, \"zorder\": 2, \"drawstyle\": \"default\"}, {\"data\": \"data01\", \"xindex\": 0, \"yindex\": 2, \"coordinates\": \"data\", \"id\": \"el125139916921133096\", \"color\": \"#FF7F0E\", \"linewidth\": 1.5, \"dasharray\": \"none\", \"alpha\": 1, \"zorder\": 2, \"drawstyle\": \"default\"}, {\"data\": \"data02\", \"xindex\": 0, \"yindex\": 1, \"coordinates\": \"axes\", \"id\": \"el125139916920705488\", \"color\": \"#1F77B4\", \"linewidth\": 1.5, \"dasharray\": \"none\", \"alpha\": 1, \"zorder\": 1000002.0, \"drawstyle\": \"default\"}, {\"data\": \"data02\", \"xindex\": 0, \"yindex\": 2, \"coordinates\": \"axes\", \"id\": \"el125139916920706552\", \"color\": \"#FF7F0E\", \"linewidth\": 1.5, \"dasharray\": \"none\", \"alpha\": 1, \"zorder\": 1000002.0, \"drawstyle\": \"default\"}], \"paths\": [{\"data\": \"data03\", \"xindex\": 0, \"yindex\": 1, \"coordinates\": \"axes\", \"pathcodes\": [\"M\", \"L\", \"S\", \"L\", \"S\", \"L\", \"S\", \"L\", \"S\", \"Z\"], \"id\": \"el125139916921134048\", \"dasharray\": \"none\", \"alpha\": 0.8, \"facecolor\": \"rgba(255, 255, 255, 0.8)\", \"edgecolor\": \"rgba(204, 204, 204, 0.8)\", \"edgewidth\": 1.0, \"zorder\": 1000000.0}], \"markers\": [], \"texts\": [{\"text\": \"0\", \"position\": [0.05525686977299879, 0.05978660779985284], \"coordinates\": \"axes\", \"h_anchor\": \"start\", \"v_baseline\": \"auto\", \"rotation\": -0.0, \"fontsize\": 10.0, \"color\": \"#000000\", \"alpha\": 1, \"zorder\": 1000003.0, \"id\": \"el125139916921135000\"}, {\"text\": \"Predictions\", \"position\": [0.05525686977299879, 0.025294334069168506], \"coordinates\": \"axes\", \"h_anchor\": \"start\", \"v_baseline\": \"auto\", \"rotation\": -0.0, \"fontsize\": 10.0, \"color\": \"#000000\", \"alpha\": 1, \"zorder\": 1000003.0, \"id\": \"el125139916920706104\"}], \"collections\": [], \"images\": [], \"sharex\": [], \"sharey\": []}], \"data\": {\"data01\": [[0.0, 940.5101977358331, 957.3688527167444], [1.0, 918.2685142091419, 957.528376796668], [2.0, 889.3216162675986, 957.6188352879325], [3.0, 852.739220669648, 957.6689657554225], [4.0, 808.1626668159416, 957.69395076121], [5.0, 756.1510890704888, 957.6980792611608], [6.0, 698.37213219262, 957.690450736295], [7.0, 637.4682364456945, 957.6816338335917], [8.0, 576.5666194759857, 957.675194231405], [9.0, 518.613997603649, 957.677032877951]], \"data02\": [[0.013440860215053752, 0.06783480500367918, 0.03334253127299485], [0.04330943847072878, 0.06783480500367918, 0.03334253127299485]], \"data03\": [[0.010454002389486239, 0.011497424576894788], [0.14038231780167262, 0.011497424576894788], [0.14336917562724014, 0.011497424576894788], [0.14336917562724014, 0.016096394407652703], [0.14336917562724014, 0.08278145695364239], [0.14336917562724014, 0.0873804267844003], [0.14038231780167262, 0.0873804267844003], [0.010454002389486239, 0.0873804267844003], [0.007467144563918754, 0.0873804267844003], [0.007467144563918754, 0.08278145695364239], [0.007467144563918754, 0.016096394407652703], [0.007467144563918754, 0.011497424576894788], [0.010454002389486239, 0.011497424576894788]]}, \"id\": \"el125139916921391424\", \"plugins\": [{\"type\": \"reset\"}, {\"type\": \"zoom\", \"button\": true, \"enabled\": false}, {\"type\": \"boxzoom\", \"button\": true, \"enabled\": false}]});\n",
              "            })\n",
              "         });\n",
              "}\n",
              "</script>"
            ],
            "text/plain": [
              "<Figure size 864x576 with 1 Axes>"
            ]
          },
          "metadata": {
            "tags": [],
            "needs_background": "light"
          }
        }
      ]
    }
  ]
}