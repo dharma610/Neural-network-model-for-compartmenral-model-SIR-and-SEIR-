{
  "nbformat": 4,
  "nbformat_minor": 0,
  "metadata": {
    "kernelspec": {
      "display_name": "Python 3",
      "language": "python",
      "name": "python3"
    },
    "language_info": {
      "codemirror_mode": {
        "name": "ipython",
        "version": 3
      },
      "file_extension": ".py",
      "mimetype": "text/x-python",
      "name": "python",
      "nbconvert_exporter": "python",
      "pygments_lexer": "ipython3",
      "version": "3.7.3"
    },
    "colab": {
      "name": "01-RNN-Example.ipynb",
      "provenance": [],
      "include_colab_link": true
    }
  },
  "cells": [
    {
      "cell_type": "markdown",
      "metadata": {
        "id": "view-in-github",
        "colab_type": "text"
      },
      "source": [
        "<a href=\"https://colab.research.google.com/github/dharma610/Project/blob/master/SIR_LSTM.ipynb\" target=\"_parent\"><img src=\"https://colab.research.google.com/assets/colab-badge.svg\" alt=\"Open In Colab\"/></a>"
      ]
    },
    {
      "cell_type": "code",
      "metadata": {
        "id": "OEert8fd2_Hg",
        "colab_type": "code",
        "colab": {
          "base_uri": "https://localhost:8080/",
          "height": 336
        },
        "outputId": "f1bd34a6-8968-40d5-b476-eab5f2d325e4"
      },
      "source": [
        "from scipy.integrate import odeint\n",
        "import numpy as np\n",
        "import pandas as pd\n",
        "from random import sample\n",
        "import matplotlib.pyplot as plt\n",
        "%matplotlib inline \n",
        "!pip install mpld3\n",
        "import mpld3\n",
        "mpld3.enable_notebook()"
      ],
      "execution_count": 1,
      "outputs": [
        {
          "output_type": "stream",
          "text": [
            "Collecting mpld3\n",
            "\u001b[?25l  Downloading https://files.pythonhosted.org/packages/66/31/89bd2afd21b920e3612996623e7b3aac14d741537aa77600ea5102a34be0/mpld3-0.5.1.tar.gz (1.0MB)\n",
            "\r\u001b[K     |▎                               | 10kB 18.0MB/s eta 0:00:01\r\u001b[K     |▋                               | 20kB 1.7MB/s eta 0:00:01\r\u001b[K     |█                               | 30kB 2.1MB/s eta 0:00:01\r\u001b[K     |█▎                              | 40kB 2.3MB/s eta 0:00:01\r\u001b[K     |█▋                              | 51kB 1.9MB/s eta 0:00:01\r\u001b[K     |██                              | 61kB 2.2MB/s eta 0:00:01\r\u001b[K     |██▏                             | 71kB 2.4MB/s eta 0:00:01\r\u001b[K     |██▌                             | 81kB 2.6MB/s eta 0:00:01\r\u001b[K     |██▉                             | 92kB 2.8MB/s eta 0:00:01\r\u001b[K     |███▏                            | 102kB 2.7MB/s eta 0:00:01\r\u001b[K     |███▌                            | 112kB 2.7MB/s eta 0:00:01\r\u001b[K     |███▉                            | 122kB 2.7MB/s eta 0:00:01\r\u001b[K     |████                            | 133kB 2.7MB/s eta 0:00:01\r\u001b[K     |████▍                           | 143kB 2.7MB/s eta 0:00:01\r\u001b[K     |████▊                           | 153kB 2.7MB/s eta 0:00:01\r\u001b[K     |█████                           | 163kB 2.7MB/s eta 0:00:01\r\u001b[K     |█████▍                          | 174kB 2.7MB/s eta 0:00:01\r\u001b[K     |█████▊                          | 184kB 2.7MB/s eta 0:00:01\r\u001b[K     |██████                          | 194kB 2.7MB/s eta 0:00:01\r\u001b[K     |██████▎                         | 204kB 2.7MB/s eta 0:00:01\r\u001b[K     |██████▋                         | 215kB 2.7MB/s eta 0:00:01\r\u001b[K     |███████                         | 225kB 2.7MB/s eta 0:00:01\r\u001b[K     |███████▎                        | 235kB 2.7MB/s eta 0:00:01\r\u001b[K     |███████▋                        | 245kB 2.7MB/s eta 0:00:01\r\u001b[K     |███████▉                        | 256kB 2.7MB/s eta 0:00:01\r\u001b[K     |████████▏                       | 266kB 2.7MB/s eta 0:00:01\r\u001b[K     |████████▌                       | 276kB 2.7MB/s eta 0:00:01\r\u001b[K     |████████▉                       | 286kB 2.7MB/s eta 0:00:01\r\u001b[K     |█████████▏                      | 296kB 2.7MB/s eta 0:00:01\r\u001b[K     |█████████▌                      | 307kB 2.7MB/s eta 0:00:01\r\u001b[K     |█████████▊                      | 317kB 2.7MB/s eta 0:00:01\r\u001b[K     |██████████                      | 327kB 2.7MB/s eta 0:00:01\r\u001b[K     |██████████▍                     | 337kB 2.7MB/s eta 0:00:01\r\u001b[K     |██████████▊                     | 348kB 2.7MB/s eta 0:00:01\r\u001b[K     |███████████                     | 358kB 2.7MB/s eta 0:00:01\r\u001b[K     |███████████▍                    | 368kB 2.7MB/s eta 0:00:01\r\u001b[K     |███████████▋                    | 378kB 2.7MB/s eta 0:00:01\r\u001b[K     |████████████                    | 389kB 2.7MB/s eta 0:00:01\r\u001b[K     |████████████▎                   | 399kB 2.7MB/s eta 0:00:01\r\u001b[K     |████████████▋                   | 409kB 2.7MB/s eta 0:00:01\r\u001b[K     |█████████████                   | 419kB 2.7MB/s eta 0:00:01\r\u001b[K     |█████████████▎                  | 430kB 2.7MB/s eta 0:00:01\r\u001b[K     |█████████████▌                  | 440kB 2.7MB/s eta 0:00:01\r\u001b[K     |█████████████▉                  | 450kB 2.7MB/s eta 0:00:01\r\u001b[K     |██████████████▏                 | 460kB 2.7MB/s eta 0:00:01\r\u001b[K     |██████████████▌                 | 471kB 2.7MB/s eta 0:00:01\r\u001b[K     |██████████████▉                 | 481kB 2.7MB/s eta 0:00:01\r\u001b[K     |███████████████▏                | 491kB 2.7MB/s eta 0:00:01\r\u001b[K     |███████████████▍                | 501kB 2.7MB/s eta 0:00:01\r\u001b[K     |███████████████▊                | 512kB 2.7MB/s eta 0:00:01\r\u001b[K     |████████████████                | 522kB 2.7MB/s eta 0:00:01\r\u001b[K     |████████████████▍               | 532kB 2.7MB/s eta 0:00:01\r\u001b[K     |████████████████▊               | 542kB 2.7MB/s eta 0:00:01\r\u001b[K     |█████████████████               | 552kB 2.7MB/s eta 0:00:01\r\u001b[K     |█████████████████▎              | 563kB 2.7MB/s eta 0:00:01\r\u001b[K     |█████████████████▋              | 573kB 2.7MB/s eta 0:00:01\r\u001b[K     |██████████████████              | 583kB 2.7MB/s eta 0:00:01\r\u001b[K     |██████████████████▎             | 593kB 2.7MB/s eta 0:00:01\r\u001b[K     |██████████████████▋             | 604kB 2.7MB/s eta 0:00:01\r\u001b[K     |███████████████████             | 614kB 2.7MB/s eta 0:00:01\r\u001b[K     |███████████████████▏            | 624kB 2.7MB/s eta 0:00:01\r\u001b[K     |███████████████████▌            | 634kB 2.7MB/s eta 0:00:01\r\u001b[K     |███████████████████▉            | 645kB 2.7MB/s eta 0:00:01\r\u001b[K     |████████████████████▏           | 655kB 2.7MB/s eta 0:00:01\r\u001b[K     |████████████████████▌           | 665kB 2.7MB/s eta 0:00:01\r\u001b[K     |████████████████████▉           | 675kB 2.7MB/s eta 0:00:01\r\u001b[K     |█████████████████████           | 686kB 2.7MB/s eta 0:00:01\r\u001b[K     |█████████████████████▍          | 696kB 2.7MB/s eta 0:00:01\r\u001b[K     |█████████████████████▊          | 706kB 2.7MB/s eta 0:00:01\r\u001b[K     |██████████████████████          | 716kB 2.7MB/s eta 0:00:01\r\u001b[K     |██████████████████████▍         | 727kB 2.7MB/s eta 0:00:01\r\u001b[K     |██████████████████████▊         | 737kB 2.7MB/s eta 0:00:01\r\u001b[K     |███████████████████████         | 747kB 2.7MB/s eta 0:00:01\r\u001b[K     |███████████████████████▎        | 757kB 2.7MB/s eta 0:00:01\r\u001b[K     |███████████████████████▋        | 768kB 2.7MB/s eta 0:00:01\r\u001b[K     |████████████████████████        | 778kB 2.7MB/s eta 0:00:01\r\u001b[K     |████████████████████████▎       | 788kB 2.7MB/s eta 0:00:01\r\u001b[K     |████████████████████████▋       | 798kB 2.7MB/s eta 0:00:01\r\u001b[K     |████████████████████████▉       | 808kB 2.7MB/s eta 0:00:01\r\u001b[K     |█████████████████████████▏      | 819kB 2.7MB/s eta 0:00:01\r\u001b[K     |█████████████████████████▌      | 829kB 2.7MB/s eta 0:00:01\r\u001b[K     |█████████████████████████▉      | 839kB 2.7MB/s eta 0:00:01\r\u001b[K     |██████████████████████████▏     | 849kB 2.7MB/s eta 0:00:01\r\u001b[K     |██████████████████████████▌     | 860kB 2.7MB/s eta 0:00:01\r\u001b[K     |██████████████████████████▊     | 870kB 2.7MB/s eta 0:00:01\r\u001b[K     |███████████████████████████     | 880kB 2.7MB/s eta 0:00:01\r\u001b[K     |███████████████████████████▍    | 890kB 2.7MB/s eta 0:00:01\r\u001b[K     |███████████████████████████▊    | 901kB 2.7MB/s eta 0:00:01\r\u001b[K     |████████████████████████████    | 911kB 2.7MB/s eta 0:00:01\r\u001b[K     |████████████████████████████▍   | 921kB 2.7MB/s eta 0:00:01\r\u001b[K     |████████████████████████████▋   | 931kB 2.7MB/s eta 0:00:01\r\u001b[K     |█████████████████████████████   | 942kB 2.7MB/s eta 0:00:01\r\u001b[K     |█████████████████████████████▎  | 952kB 2.7MB/s eta 0:00:01\r\u001b[K     |█████████████████████████████▋  | 962kB 2.7MB/s eta 0:00:01\r\u001b[K     |██████████████████████████████  | 972kB 2.7MB/s eta 0:00:01\r\u001b[K     |██████████████████████████████▎ | 983kB 2.7MB/s eta 0:00:01\r\u001b[K     |██████████████████████████████▌ | 993kB 2.7MB/s eta 0:00:01\r\u001b[K     |██████████████████████████████▉ | 1.0MB 2.7MB/s eta 0:00:01\r\u001b[K     |███████████████████████████████▏| 1.0MB 2.7MB/s eta 0:00:01\r\u001b[K     |███████████████████████████████▌| 1.0MB 2.7MB/s eta 0:00:01\r\u001b[K     |███████████████████████████████▉| 1.0MB 2.7MB/s eta 0:00:01\r\u001b[K     |████████████████████████████████| 1.0MB 2.7MB/s \n",
            "\u001b[?25hRequirement already satisfied: jinja2 in /usr/local/lib/python3.6/dist-packages (from mpld3) (2.11.2)\n",
            "Requirement already satisfied: matplotlib in /usr/local/lib/python3.6/dist-packages (from mpld3) (3.2.2)\n",
            "Requirement already satisfied: MarkupSafe>=0.23 in /usr/local/lib/python3.6/dist-packages (from jinja2->mpld3) (1.1.1)\n",
            "Requirement already satisfied: python-dateutil>=2.1 in /usr/local/lib/python3.6/dist-packages (from matplotlib->mpld3) (2.8.1)\n",
            "Requirement already satisfied: cycler>=0.10 in /usr/local/lib/python3.6/dist-packages (from matplotlib->mpld3) (0.10.0)\n",
            "Requirement already satisfied: kiwisolver>=1.0.1 in /usr/local/lib/python3.6/dist-packages (from matplotlib->mpld3) (1.2.0)\n",
            "Requirement already satisfied: numpy>=1.11 in /usr/local/lib/python3.6/dist-packages (from matplotlib->mpld3) (1.18.5)\n",
            "Requirement already satisfied: pyparsing!=2.0.4,!=2.1.2,!=2.1.6,>=2.0.1 in /usr/local/lib/python3.6/dist-packages (from matplotlib->mpld3) (2.4.7)\n",
            "Requirement already satisfied: six>=1.5 in /usr/local/lib/python3.6/dist-packages (from python-dateutil>=2.1->matplotlib->mpld3) (1.15.0)\n",
            "Building wheels for collected packages: mpld3\n",
            "  Building wheel for mpld3 (setup.py) ... \u001b[?25l\u001b[?25hdone\n",
            "  Created wheel for mpld3: filename=mpld3-0.5.1-cp36-none-any.whl size=364065 sha256=35453895979cef77f96953c5054314d59762ef28908da55e58b98ca1244949e1\n",
            "  Stored in directory: /root/.cache/pip/wheels/38/68/06/d119af6c3f9a2d1e123c1f72d276576b457131b3a7bf94e402\n",
            "Successfully built mpld3\n",
            "Installing collected packages: mpld3\n",
            "Successfully installed mpld3-0.5.1\n"
          ],
          "name": "stdout"
        }
      ]
    },
    {
      "cell_type": "code",
      "metadata": {
        "id": "Q-5sqjDr3F1e",
        "colab_type": "code",
        "colab": {}
      },
      "source": [
        "def deriv(y, t, N, beta, gamma):\n",
        "    S, I, R = y\n",
        "    dSdt = -beta * S * I / N\n",
        "    dIdt = beta * S * I / N - gamma * I\n",
        "    dRdt = gamma * I\n",
        "    return dSdt, dIdt, dRdt"
      ],
      "execution_count": 2,
      "outputs": []
    },
    {
      "cell_type": "code",
      "metadata": {
        "id": "Eh2qv55q3Hpe",
        "colab_type": "code",
        "colab": {}
      },
      "source": [
        "def plotsir(t, S, I, R):\n",
        "  f, ax = plt.subplots(1,1,figsize=(10,4))\n",
        "  ax.plot(t, S, 'b', alpha=0.7, linewidth=2, label='Susceptible')\n",
        "  ax.plot(t, I, 'y', alpha=0.7, linewidth=2, label='Infected')\n",
        "  ax.plot(t, R, 'g', alpha=0.7, linewidth=2, label='Recovered')\n",
        "  ax.set_xlabel('Time (days)')\n",
        "  ax.yaxis.set_tick_params(length=0)\n",
        "  ax.xaxis.set_tick_params(length=0)\n",
        "  ax.grid(b=True, which='major', c='w', lw=2, ls='-')\n",
        "  legend = ax.legend()\n",
        "  legend.get_frame().set_alpha(0.5)\n",
        "  for spine in ('top', 'right', 'bottom', 'left'):\n",
        "      ax.spines[spine].set_visible(False)\n",
        "  plt.show();"
      ],
      "execution_count": 3,
      "outputs": []
    },
    {
      "cell_type": "code",
      "metadata": {
        "id": "57Sj0WsF3P3_",
        "colab_type": "code",
        "colab": {}
      },
      "source": [
        "\"\"\" gamma is a list of 1000 random number in (0,1) \"\"\"\n",
        "\n",
        "import random\n",
        "gamma = []\n",
        "for i in range(1000):\n",
        "    gamma.append(random.uniform(0, 1))\n",
        "    \n"
      ],
      "execution_count": 4,
      "outputs": []
    },
    {
      "cell_type": "code",
      "metadata": {
        "id": "kc3Hi5vN3QJH",
        "colab_type": "code",
        "colab": {}
      },
      "source": [
        "\"\"\" beta is twice of each of 1000 gamma values \"\"\"\n",
        "beta = []\n",
        "for i in range(1000):\n",
        "  beta.append(2*gamma[i])  "
      ],
      "execution_count": 5,
      "outputs": []
    },
    {
      "cell_type": "code",
      "metadata": {
        "id": "OwpvcU_m3QXf",
        "colab_type": "code",
        "colab": {}
      },
      "source": [
        "\"\"\" P, Q, M are the list of S, I, R respectievely calculated for 100 days for each of  1000 sets of parameter (beta,gamma).\"\"\"\n",
        "    \n",
        "P = []\n",
        "Q = []\n",
        "M  = []\n",
        "for i in range(1000): #Plotted for 2 sets\n",
        "  N = 1000\n",
        "  S0, I0, R0 = 999, 1, 0  # initial conditions: one infected, rest susceptible\n",
        "  t = np.linspace(0, 99, 100) # Grid of time points (in days)\n",
        "  y0 = S0, I0, R0 # Initial conditions vector\n",
        "  # Integrate the SIR equations over the time grid, t.\n",
        "  ret = odeint(deriv, y0, t, args=(N, beta[i], gamma[i]))\n",
        "  S, I, R = ret.T\n",
        "  P.append(S)\n",
        "  Q.append(I)\n",
        "  M.append(R)\n",
        "\n",
        "  "
      ],
      "execution_count": 6,
      "outputs": []
    },
    {
      "cell_type": "code",
      "metadata": {
        "id": "IvHINPOi3ULn",
        "colab_type": "code",
        "colab": {}
      },
      "source": [
        "\"\"\" list to dataftrame \"\"\"\n",
        "\n",
        "S_value = pd.DataFrame(P)\n",
        "I_value = pd.DataFrame(Q)\n",
        "R_value = pd.DataFrame(M)"
      ],
      "execution_count": 7,
      "outputs": []
    },
    {
      "cell_type": "code",
      "metadata": {
        "id": "BMNCmnzsKGnI",
        "colab_type": "code",
        "colab": {}
      },
      "source": [
        "from numpy import array\n",
        "from numpy import hstack\n",
        "from keras.models import Sequential\n",
        "from keras.layers import Dense\n",
        "from keras.layers import LSTM\n",
        "from keras.preprocessing.sequence import TimeseriesGenerator\n",
        "# define dataset\n",
        "s_list = []\n",
        "i_list = []\n",
        "r_list = []\n",
        "s_list1 = []\n",
        "i_list1= []\n",
        "r_list1= []\n",
        "for i in range(1000):\n",
        "  s_list.append(array(S_value.iloc[i][0:70]))\n",
        "  i_list.append(array(I_value.iloc[i][0:70]))\n",
        "  r_list.append(array(R_value.iloc[i][0:70]))\n",
        "\n",
        "\n",
        "for i in range(1000):\n",
        "  s_list1.append(array(S_value.iloc[i][70:]))\n",
        "  i_list1.append(array(I_value.iloc[i][70:]))\n",
        "  r_list1.append(array(R_value.iloc[i][70:]))  "
      ],
      "execution_count": 8,
      "outputs": []
    },
    {
      "cell_type": "code",
      "metadata": {
        "id": "nWKhhsDmLymL",
        "colab_type": "code",
        "colab": {}
      },
      "source": [
        "# reshape series\n",
        "for i in range(1000):\n",
        "  s_list[i] =s_list[i].reshape(70,1)\n",
        "  i_list[i] =i_list[i].reshape(70,1)\n",
        "  r_list[i] =r_list[i].reshape(70,1)\n",
        "\n",
        "for i in range(1000):\n",
        "  s_list1[i] =s_list1[i].reshape(30,1)\n",
        "  i_list1[i] =i_list1[i].reshape(30,1)\n",
        "  r_list1[i] =r_list1[i].reshape(30,1)  "
      ],
      "execution_count": 9,
      "outputs": []
    },
    {
      "cell_type": "code",
      "metadata": {
        "id": "iiPTgrRAMJXa",
        "colab_type": "code",
        "colab": {}
      },
      "source": [
        "p = []\n",
        "q = []\n",
        "r = []\n",
        "p1 = []\n",
        "q1 = []\n",
        "r1 = []\n",
        "for i in range(1000):\n",
        "  p.append(s_list[i])\n",
        "  q.append(i_list[i])\n",
        "  r.append(r_list[i])\n",
        "for i in range(1000):\n",
        "  p1.append(s_list1[i])\n",
        "  q1.append(i_list1[i])\n",
        "  r1.append(r_list1[i])  \n",
        "\n"
      ],
      "execution_count": 10,
      "outputs": []
    },
    {
      "cell_type": "code",
      "metadata": {
        "id": "XrZ_AJfgQZ9E",
        "colab_type": "code",
        "colab": {}
      },
      "source": [
        "s = tuple(p)\n",
        "t = tuple(q)\n",
        "u = tuple(r)\n",
        "\n",
        "s1 = tuple(p1)\n",
        "t1 = tuple(q1)\n",
        "u1 = tuple(r1)"
      ],
      "execution_count": 11,
      "outputs": []
    },
    {
      "cell_type": "code",
      "metadata": {
        "id": "4eVJHpVjW94r",
        "colab_type": "code",
        "colab": {
          "base_uri": "https://localhost:8080/",
          "height": 34
        },
        "outputId": "30b66d49-8f6b-4fec-898f-bced9fb2e311"
      },
      "source": [
        "# horizontally stack columns\n",
        "dataset = hstack(s)\n",
        "# define generator\n",
        "n_input = 2\n",
        "n_features = dataset.shape[1]\n",
        "generator = TimeseriesGenerator(dataset, dataset, length=n_input, batch_size=1)\n",
        "# number of samples\n",
        "print('Samples: %d' % len(generator))"
      ],
      "execution_count": 12,
      "outputs": [
        {
          "output_type": "stream",
          "text": [
            "Samples: 68\n"
          ],
          "name": "stdout"
        }
      ]
    },
    {
      "cell_type": "code",
      "metadata": {
        "id": "HMcADG82M8Ca",
        "colab_type": "code",
        "colab": {
          "base_uri": "https://localhost:8080/",
          "height": 34
        },
        "outputId": "03edb2b1-877e-4ccf-83bb-92a74dcb3dda"
      },
      "source": [
        "# horizontally stack columns\n",
        "dataset1 = hstack(s1)\n",
        "# define generator\n",
        "n_input = 2\n",
        "n_features = dataset.shape[1]\n",
        "generator1 = TimeseriesGenerator(dataset1, dataset1, length=n_input, batch_size=1)\n",
        "# number of samples\n",
        "print('Samples: %d' % len(generator1))"
      ],
      "execution_count": 13,
      "outputs": [
        {
          "output_type": "stream",
          "text": [
            "Samples: 28\n"
          ],
          "name": "stdout"
        }
      ]
    },
    {
      "cell_type": "code",
      "metadata": {
        "id": "IxktHsrBQz6_",
        "colab_type": "code",
        "colab": {}
      },
      "source": [
        "train = []\n",
        "# print each sample\n",
        "for i in range(len(generator)):\n",
        "  x, y = generator[i]\n",
        "  train.append(x)\n",
        "\t\n"
      ],
      "execution_count": 14,
      "outputs": []
    },
    {
      "cell_type": "code",
      "metadata": {
        "id": "Y7jErzFjNWfn",
        "colab_type": "code",
        "colab": {}
      },
      "source": [
        "test = []\n",
        "# print each sample\n",
        "for i in range(len(generator1)):\n",
        "  x, y = generator1[i]\n",
        "  test.append(x)\n",
        "\t\n"
      ],
      "execution_count": 15,
      "outputs": []
    },
    {
      "cell_type": "code",
      "metadata": {
        "id": "3eLwmfmRQifZ",
        "colab_type": "code",
        "colab": {
          "base_uri": "https://localhost:8080/",
          "height": 84
        },
        "outputId": "4b51f952-eea0-4d18-c312-b591950e9d83"
      },
      "source": [
        "train[67]"
      ],
      "execution_count": 16,
      "outputs": [
        {
          "output_type": "execute_result",
          "data": {
            "text/plain": [
              "array([[[202.84590276, 203.44312057, 202.84589959, ..., 202.84589959,\n",
              "         202.84590005, 216.51119493],\n",
              "        [202.84590186, 203.35869571, 202.84589959, ..., 202.84589959,\n",
              "         202.84589991, 215.12796429]]])"
            ]
          },
          "metadata": {
            "tags": []
          },
          "execution_count": 16
        }
      ]
    },
    {
      "cell_type": "code",
      "metadata": {
        "id": "S-jgyc9KXmCY",
        "colab_type": "code",
        "colab": {
          "base_uri": "https://localhost:8080/",
          "height": 84
        },
        "outputId": "2b9d5aa5-0f94-49d6-d0dc-84111e96abf7"
      },
      "source": [
        "# define model\n",
        "model = Sequential()\n",
        "model.add(LSTM(100, activation='relu', input_shape=(n_input, n_features)))\n",
        "model.add(Dense(1000))\n",
        "model.compile(optimizer='adam', loss='mse')\n",
        "# fit model\n",
        "model.fit_generator(generator1, steps_per_epoch=1, epochs=500, verbose=0)"
      ],
      "execution_count": 17,
      "outputs": [
        {
          "output_type": "stream",
          "text": [
            "WARNING:tensorflow:From <ipython-input-17-622985a43152>:7: Model.fit_generator (from tensorflow.python.keras.engine.training) is deprecated and will be removed in a future version.\n",
            "Instructions for updating:\n",
            "Please use Model.fit, which supports generators.\n"
          ],
          "name": "stdout"
        },
        {
          "output_type": "execute_result",
          "data": {
            "text/plain": [
              "<tensorflow.python.keras.callbacks.History at 0x7fc111a54dd8>"
            ]
          },
          "metadata": {
            "tags": []
          },
          "execution_count": 17
        }
      ]
    },
    {
      "cell_type": "code",
      "metadata": {
        "id": "joASKvqGI1eD",
        "colab_type": "code",
        "colab": {
          "base_uri": "https://localhost:8080/",
          "height": 1000
        },
        "outputId": "6ed5e864-6847-41b7-8f6b-9c931afca870"
      },
      "source": [
        "# make a one step prediction out of sample\n",
        "x_input = test[0].reshape((1, n_input, n_features))\n",
        "yhat = model.predict(x_input, verbose=0)\n",
        "print(yhat)"
      ],
      "execution_count": 31,
      "outputs": [
        {
          "output_type": "stream",
          "text": [
            "[[ 211.09035  208.28708  216.562    213.14906  284.37    1011.2233\n",
            "   204.83594  209.42381  212.44777  315.4536   209.83704  215.68742\n",
            "   215.75214  210.53297  206.69498  209.04555  207.88821  228.34406\n",
            "   212.12282  218.31926  426.83072  211.79056  210.02402  212.35965\n",
            "   214.1386   210.91037 1004.115    207.70665  210.08989  213.63698\n",
            "   215.01541  209.83446  213.28876  208.34451  208.0775   210.29839\n",
            "   210.31557 1023.2173   208.24866  210.31708  218.12967  209.36143\n",
            "   215.37842  210.58032  208.3119   210.07167  211.02061  346.07297\n",
            "   205.39285  210.10535 1016.41034  212.32915  213.78448  211.29149\n",
            "   214.98657 1026.7511   206.7494   885.4611   209.3993   208.22513\n",
            "   211.6344   208.54176  213.43852  211.38316  208.49847  204.9645\n",
            "   207.44931  207.6951   212.32259  215.6138   657.15607  905.4641\n",
            "   206.63576  212.45592  214.94417  212.42114  211.64641  208.05745\n",
            "   209.2183   208.82697  209.90152  212.14426  213.90398  212.43677\n",
            "   209.76698  214.95963  211.22171  208.2848   206.32837  286.5831\n",
            "   211.67665  206.41669  207.22488  207.02153  204.92978  210.87439\n",
            "   208.975    205.9303   216.14575  981.21857  208.75664  210.01231\n",
            "   210.66713  207.2828   213.60944  215.91525  207.87363  212.35016\n",
            "  1008.73926  214.31596  207.5369   986.5977   209.85168  206.37337\n",
            "   215.7887   203.8566   210.12743  211.05879  208.06451  212.15538\n",
            "   207.94218  204.7953   207.31909  208.69562  215.23326  207.07294\n",
            "   215.21625  210.15817 1013.07007  209.52402  715.9278   206.53491\n",
            "   208.36334  215.89633  209.42435  205.1244   222.60716  213.44624\n",
            "   209.96729  207.5001   205.85783  305.9483   208.07857  211.77766\n",
            "   207.99911  209.46336  208.04921  212.12808  220.33095  210.89822\n",
            "   209.1686   207.70204  208.239    208.73164  205.04749  209.4641\n",
            "   208.0335   208.59286  206.89127  212.7775   208.81454  203.74713\n",
            "   212.07184  208.97853  218.05328  216.11374  213.76372  211.22598\n",
            "   211.55211  210.71584  862.834    205.56723  212.28584  223.76785\n",
            "   216.35411  210.74231  214.79008  208.36096  209.58919  214.98216\n",
            "   204.9832   205.02583  213.39671  211.24794  214.01358  203.5847\n",
            "   211.87593  211.59987  212.61664  209.94957  207.27649  206.75427\n",
            "   210.93463  206.37827  210.67012  210.61736  211.6098   208.07964\n",
            "   209.46811  219.1049   213.86108  210.07208  203.41649  208.50728\n",
            "   209.26439  210.22427  259.02225  209.54906  216.73497  229.85564\n",
            "   208.29056  214.70813  216.50302  207.73447  208.90851  208.1987\n",
            "   211.87161  214.98734  218.3444   208.21925  219.91641  210.30482\n",
            "   212.27235  214.45074  208.9268   215.00801  655.03674  214.26291\n",
            "   209.57323  211.31003  207.2139   208.81888  214.17969  211.79507\n",
            "   205.86186  208.65344  213.80641  206.5106   210.31229  207.85709\n",
            "   206.1865   212.94556  209.26727  206.90842 1024.2009   209.02031\n",
            "   209.06438  287.43704  211.04605  210.2303   208.33922  216.157\n",
            "   216.1886   213.94334 1017.2531   207.80302  208.56047  239.5783\n",
            "   208.63441  214.2411   204.49068  204.58171  207.36336  210.50925\n",
            "   212.23708  213.20065  208.8518   207.86452  211.75494  211.97682\n",
            "   217.95146  205.45383  209.59476  292.02646  210.13196  209.6077\n",
            "   212.52942  208.57724  209.27707  211.7337   208.10126  206.95932\n",
            "   213.68556  208.62476  209.14777  208.10774  208.3682   208.92645\n",
            "   205.06628  211.53448  207.76698  212.33038  205.77791  211.03085\n",
            "   207.068    276.95602  207.5008   221.91739  206.61024  206.7428\n",
            "   206.79411  209.61848  216.82686  218.69424  207.69453  216.64876\n",
            "   204.52177  280.20593  208.71199  208.365    208.62048  212.00388\n",
            "   212.72177  211.4091   203.57486  208.1457   210.68646  210.70267\n",
            "   360.33908  215.68233  213.02917  212.27705  210.5314   213.77625\n",
            "   209.64124  216.83575  214.52118  212.65189  213.80797  213.07835\n",
            "   208.74268  210.5121   208.65132 1023.09174  211.44037  207.1828\n",
            "   215.99086 1007.58746  209.76645  206.60152  213.14896  528.2074\n",
            "   204.44275  213.71344  210.51921  206.41273  210.40321 1028.9828\n",
            "   208.85938 1017.0538   228.094    207.26303  996.1681   210.64432\n",
            "   215.43143  205.75621  924.7608   210.62836  209.53368  211.88336\n",
            "   208.92111  211.6242   957.9224   208.0646   209.00183  230.26929\n",
            "   213.58365  208.53513  209.82835  270.85986  207.14365  394.03476\n",
            "   210.89143  216.08707  204.87187  209.84871  207.93155  213.83542\n",
            "  1023.89465  207.66899 1022.6537   209.95258  212.29936  213.5164\n",
            "   210.32445  210.6349   210.2461   213.67033  215.34981  207.5932\n",
            "   204.17957  485.30597  210.38853  214.81773  207.52017  210.7872\n",
            "   207.13579  205.71442  364.0115   287.50156  209.7901   207.52818\n",
            "   208.08853  207.62245  210.72668  976.0096   210.51367  205.6178\n",
            "   212.8968   211.1141   218.21486  214.78835  218.16336  207.65167\n",
            "   207.08928  218.05556  923.5702   244.9828   205.09059  215.85155\n",
            "   210.9739   215.15068  213.79874  288.87317  207.78697  208.17644\n",
            "   209.1308   209.21767  210.49007  209.32903  208.93958  213.06494\n",
            "  1026.0216   210.27367  225.57924  207.5474   207.29947  212.68582\n",
            "   204.21617  310.81464  215.52937  208.90833  208.66815  210.12677\n",
            "   266.32156  211.32854  209.7463   881.8163   204.54076  542.1317\n",
            "   211.21056  206.689    213.86996  203.48196  219.33527  215.44005\n",
            "   212.11002  205.85106  210.36214  214.78186  211.57237  207.5977\n",
            "   206.16005  211.51625  210.47646  203.8317   208.02936  212.19182\n",
            "   207.61641  211.31581  213.03561  209.93735  206.80258  210.61584\n",
            "   207.6537   214.22511  216.44418  207.72224  220.43855  215.22925\n",
            "   208.32172  209.38216  216.73192  209.76378 1025.9324   210.94994\n",
            "   224.15741  209.25206  904.63153  205.98958  209.361    208.1912\n",
            "   214.90129  217.65056  208.89146  207.43834  937.7405   214.82918\n",
            "   209.84442  209.26416  211.0879   206.94841  206.26689  209.69829\n",
            "  1024.2222   210.54736  206.3536   215.5965   216.30386  211.70378\n",
            "   208.70634  339.06015  208.07564  215.91121  214.34581  209.12335\n",
            "   210.05078  206.01074  208.25792  213.06142  207.2054   210.47516\n",
            "   205.13336  204.05673  215.23157  447.16376  205.0827   209.78728\n",
            "   214.33151  212.35982  208.78172 1013.2447   213.57367  209.0266\n",
            "   207.61227  214.02281  208.31514  576.8983   206.23955  211.7695\n",
            "   213.05688  212.0426   207.0453   209.70581  215.8204   216.68399\n",
            "   213.90314  207.17932  212.91809  210.22319  213.62724  208.01054\n",
            "   215.76105  212.61513  222.75714  208.07986  212.94608  211.66222\n",
            "   218.34584  212.45157  212.22667  918.6947   208.21828  987.4069\n",
            "   204.75223  205.2169   214.88495  215.54556  206.42885  211.02974\n",
            "   216.75784  203.89182  208.21567  865.2341   207.06914  212.22054\n",
            "   205.56705  214.22726  212.97359  299.1888   423.67508  208.4274\n",
            "   210.4148  1002.51624  209.6222   210.27155  214.37964  207.37212\n",
            "   212.1849   528.4518   207.85168  212.0162   207.74025  291.5201\n",
            "   210.6152   209.36284  211.61533  210.67381  572.638    906.56586\n",
            "   208.78354  212.06679  232.06607  202.24806  206.01277  205.59105\n",
            "   210.89041  217.70123  214.55573  209.96198  210.4286   207.62224\n",
            "   209.3804   211.81552  204.7562  1002.90674  210.5491   211.13913\n",
            "   209.71606  213.02669  211.12639  212.3484   212.72823  217.03456\n",
            "   208.16121  214.58257  214.75125 1019.8643   211.90419  479.88693\n",
            "   216.66725  206.15384  209.64471  237.88829  213.38737  210.05722\n",
            "   209.09688  208.86856  209.37433  208.66196  208.70665  208.48436\n",
            "   211.53201  210.37317  215.72871 1008.11676  210.57986  209.74571\n",
            "  1023.5131   209.55194  210.26009  204.32983 1025.2336   214.96951\n",
            "   215.27129  210.42386  214.8397   209.51654  213.71321  223.55638\n",
            "   215.04851  205.53607  211.44376 1021.42554  211.96394 1028.316\n",
            "   211.44609  215.08865  212.8324   214.92812  214.98698  205.61525\n",
            "   214.63272  206.50162  211.65024  210.55022  214.0337   211.01343\n",
            "   208.67026  214.95543  204.70378  216.3279   208.46495  209.40271\n",
            "   205.35213  211.548    212.21895  240.10425  216.39992  215.16142\n",
            "   207.539    214.75272  212.20116  218.4439   204.14018  206.6137\n",
            "  1009.6454   209.08817  209.33226  210.1716   208.40631  210.60577\n",
            "   207.44304  213.85733  211.40448  512.50684  697.4431   986.484\n",
            "   211.83392  205.68565  211.95378  208.28304  229.35753  205.82729\n",
            "   208.8168   216.33203  206.9461   218.80702  213.6311   978.7956\n",
            "   211.15628  212.63435  206.69728  216.82237  208.87431  209.08484\n",
            "   207.96489  222.63351  207.69046  216.96667  211.13408  207.36243\n",
            "   216.95378 1022.89636  205.96342  209.44525  206.77724  215.13228\n",
            "   241.66975  211.22539  517.2082   213.24644  206.96956  210.54295\n",
            "   207.39516  216.30302  215.32065 1025.0883   208.13715  213.53424\n",
            "   211.77359  214.47754  206.7952  1028.3282   209.19594  214.03194\n",
            "   206.92157  213.99432  207.73907  224.28035  211.99092  205.98412\n",
            "   699.1446   211.91725  210.75867  209.00812  208.91762  210.34552\n",
            "   488.0841   209.80624  211.01265  209.52322  215.16795  211.61195\n",
            "   211.44028  214.9476   212.88231  208.87686  208.55688  211.63708\n",
            "   209.84044  207.44519  211.24966  204.95554  326.77563  206.82925\n",
            "   210.24709  209.40279  205.82733  211.89459  216.74953  209.84334\n",
            "   207.74522  212.91203  211.55739  214.98625  204.911    298.5994\n",
            "   204.46815  215.21999  210.69264  212.76425  205.09813  208.76941\n",
            "   216.51126  204.63806  205.01338  443.4724   204.41884  209.37332\n",
            "   218.29704  207.18181  212.7668  1009.87897  217.12682  209.53458\n",
            "   214.25468  211.4635   209.61319  212.78343  215.05188  213.8332\n",
            "   214.4538   214.31049  207.7645   207.77222  208.51712  702.22174\n",
            "   209.05557  210.84138  213.68315  214.8619   217.60022  207.23717\n",
            "   205.28223  207.09373  210.63052  206.66711  210.36812  210.8066\n",
            "   211.81688  206.11024  205.09872  983.82654  210.4758   207.62534\n",
            "   213.77371  207.07797  213.65652  211.14204  212.77347  504.79083\n",
            "   609.0032   212.0828   240.10796  206.88199  216.48508  209.17436\n",
            "   212.47424  217.34848  206.5314  1000.0159   212.28809  209.72942\n",
            "   208.80405  211.44176  204.73318  209.85713  206.98172  213.75833\n",
            "   866.84515  205.55272  207.85016  211.81366  204.57733  215.73357\n",
            "   207.02684  212.59784  210.81526  213.61946  208.62213  211.24284\n",
            "   209.74004  204.21475  452.17838  402.85236  209.79224  209.9663\n",
            "   209.1543   205.27966  205.04213 1014.4055   207.08977  208.63731\n",
            "   206.49696  205.98888  217.06297  212.70297  205.37753  215.06473\n",
            "   228.48872  212.4905   212.07741  212.54337  209.57254  210.09888\n",
            "   211.88411  209.45     210.04527  209.81932  230.63449  205.4941\n",
            "   207.14708  212.17581  216.30313  212.93692  214.49547  358.70096\n",
            "   210.27257  204.3884   215.42076  213.62848  209.37271 1017.1114\n",
            "   214.85078  217.7731   214.2086   214.58414  214.95409  209.85913\n",
            "   217.72011  211.49046  224.37495  212.21284  209.80063  217.67339\n",
            "   214.35934  238.72711  209.41182  215.95638  210.84447  217.07506\n",
            "   208.50023  214.05525  209.07928  207.6661   214.87585  210.91827\n",
            "   209.30597  213.4241   210.44716  213.87122  213.02179  213.95702\n",
            "   210.52495  211.8273   228.52663  207.47821  207.08046  674.9961\n",
            "   209.69658  211.01448  220.42711  205.2855   212.0642   236.12654\n",
            "   209.64182  210.20885  210.67972  206.80788  208.0181   213.87111\n",
            "   216.21692  208.00969  205.11505  211.24544  214.76909  212.09798\n",
            "   212.30186  207.65974  210.90854  206.21973  213.2616   217.7807\n",
            "   209.61534  205.9652   210.60028  205.98842  216.07677  209.58296\n",
            "   251.75212  891.76276  213.21803  208.48274  209.98883  213.10675\n",
            "   216.93878  215.06293  207.97469  213.34659]]\n"
          ],
          "name": "stdout"
        }
      ]
    },
    {
      "cell_type": "code",
      "metadata": {
        "id": "HSyVCfpRI1uy",
        "colab_type": "code",
        "colab": {}
      },
      "source": [
        "df1 = pd.DataFrame(yhat)"
      ],
      "execution_count": 32,
      "outputs": []
    },
    {
      "cell_type": "code",
      "metadata": {
        "id": "QVexozHSI2Hi",
        "colab_type": "code",
        "colab": {
          "base_uri": "https://localhost:8080/",
          "height": 126
        },
        "outputId": "51d79ad9-fb2f-49fe-e2bb-3f2c7a43792f"
      },
      "source": [
        "df1"
      ],
      "execution_count": 33,
      "outputs": [
        {
          "output_type": "execute_result",
          "data": {
            "text/html": [
              "<div>\n",
              "<style scoped>\n",
              "    .dataframe tbody tr th:only-of-type {\n",
              "        vertical-align: middle;\n",
              "    }\n",
              "\n",
              "    .dataframe tbody tr th {\n",
              "        vertical-align: top;\n",
              "    }\n",
              "\n",
              "    .dataframe thead th {\n",
              "        text-align: right;\n",
              "    }\n",
              "</style>\n",
              "<table border=\"1\" class=\"dataframe\">\n",
              "  <thead>\n",
              "    <tr style=\"text-align: right;\">\n",
              "      <th></th>\n",
              "      <th>0</th>\n",
              "      <th>1</th>\n",
              "      <th>2</th>\n",
              "      <th>3</th>\n",
              "      <th>4</th>\n",
              "      <th>5</th>\n",
              "      <th>6</th>\n",
              "      <th>7</th>\n",
              "      <th>8</th>\n",
              "      <th>9</th>\n",
              "      <th>10</th>\n",
              "      <th>11</th>\n",
              "      <th>12</th>\n",
              "      <th>13</th>\n",
              "      <th>14</th>\n",
              "      <th>15</th>\n",
              "      <th>16</th>\n",
              "      <th>17</th>\n",
              "      <th>18</th>\n",
              "      <th>19</th>\n",
              "      <th>20</th>\n",
              "      <th>21</th>\n",
              "      <th>22</th>\n",
              "      <th>23</th>\n",
              "      <th>24</th>\n",
              "      <th>25</th>\n",
              "      <th>26</th>\n",
              "      <th>27</th>\n",
              "      <th>28</th>\n",
              "      <th>29</th>\n",
              "      <th>30</th>\n",
              "      <th>31</th>\n",
              "      <th>32</th>\n",
              "      <th>33</th>\n",
              "      <th>34</th>\n",
              "      <th>35</th>\n",
              "      <th>36</th>\n",
              "      <th>37</th>\n",
              "      <th>38</th>\n",
              "      <th>39</th>\n",
              "      <th>...</th>\n",
              "      <th>960</th>\n",
              "      <th>961</th>\n",
              "      <th>962</th>\n",
              "      <th>963</th>\n",
              "      <th>964</th>\n",
              "      <th>965</th>\n",
              "      <th>966</th>\n",
              "      <th>967</th>\n",
              "      <th>968</th>\n",
              "      <th>969</th>\n",
              "      <th>970</th>\n",
              "      <th>971</th>\n",
              "      <th>972</th>\n",
              "      <th>973</th>\n",
              "      <th>974</th>\n",
              "      <th>975</th>\n",
              "      <th>976</th>\n",
              "      <th>977</th>\n",
              "      <th>978</th>\n",
              "      <th>979</th>\n",
              "      <th>980</th>\n",
              "      <th>981</th>\n",
              "      <th>982</th>\n",
              "      <th>983</th>\n",
              "      <th>984</th>\n",
              "      <th>985</th>\n",
              "      <th>986</th>\n",
              "      <th>987</th>\n",
              "      <th>988</th>\n",
              "      <th>989</th>\n",
              "      <th>990</th>\n",
              "      <th>991</th>\n",
              "      <th>992</th>\n",
              "      <th>993</th>\n",
              "      <th>994</th>\n",
              "      <th>995</th>\n",
              "      <th>996</th>\n",
              "      <th>997</th>\n",
              "      <th>998</th>\n",
              "      <th>999</th>\n",
              "    </tr>\n",
              "  </thead>\n",
              "  <tbody>\n",
              "    <tr>\n",
              "      <th>0</th>\n",
              "      <td>211.090347</td>\n",
              "      <td>208.287079</td>\n",
              "      <td>216.561996</td>\n",
              "      <td>213.149063</td>\n",
              "      <td>284.369995</td>\n",
              "      <td>1011.223328</td>\n",
              "      <td>204.835938</td>\n",
              "      <td>209.423813</td>\n",
              "      <td>212.447769</td>\n",
              "      <td>315.453613</td>\n",
              "      <td>209.837036</td>\n",
              "      <td>215.687424</td>\n",
              "      <td>215.752136</td>\n",
              "      <td>210.532974</td>\n",
              "      <td>206.694977</td>\n",
              "      <td>209.045547</td>\n",
              "      <td>207.888214</td>\n",
              "      <td>228.344055</td>\n",
              "      <td>212.122818</td>\n",
              "      <td>218.31926</td>\n",
              "      <td>426.830719</td>\n",
              "      <td>211.790558</td>\n",
              "      <td>210.024017</td>\n",
              "      <td>212.35965</td>\n",
              "      <td>214.138596</td>\n",
              "      <td>210.91037</td>\n",
              "      <td>1004.11499</td>\n",
              "      <td>207.70665</td>\n",
              "      <td>210.08989</td>\n",
              "      <td>213.636978</td>\n",
              "      <td>215.015411</td>\n",
              "      <td>209.834457</td>\n",
              "      <td>213.288757</td>\n",
              "      <td>208.344513</td>\n",
              "      <td>208.077499</td>\n",
              "      <td>210.298386</td>\n",
              "      <td>210.315567</td>\n",
              "      <td>1023.217285</td>\n",
              "      <td>208.248657</td>\n",
              "      <td>210.317078</td>\n",
              "      <td>...</td>\n",
              "      <td>209.696579</td>\n",
              "      <td>211.014481</td>\n",
              "      <td>220.427109</td>\n",
              "      <td>205.285507</td>\n",
              "      <td>212.064194</td>\n",
              "      <td>236.126541</td>\n",
              "      <td>209.641815</td>\n",
              "      <td>210.208847</td>\n",
              "      <td>210.679718</td>\n",
              "      <td>206.807877</td>\n",
              "      <td>208.018097</td>\n",
              "      <td>213.871109</td>\n",
              "      <td>216.216919</td>\n",
              "      <td>208.009689</td>\n",
              "      <td>205.115051</td>\n",
              "      <td>211.245438</td>\n",
              "      <td>214.769089</td>\n",
              "      <td>212.097977</td>\n",
              "      <td>212.301865</td>\n",
              "      <td>207.659744</td>\n",
              "      <td>210.908539</td>\n",
              "      <td>206.219727</td>\n",
              "      <td>213.261597</td>\n",
              "      <td>217.780701</td>\n",
              "      <td>209.615341</td>\n",
              "      <td>205.965195</td>\n",
              "      <td>210.600281</td>\n",
              "      <td>205.988419</td>\n",
              "      <td>216.076767</td>\n",
              "      <td>209.582962</td>\n",
              "      <td>251.752121</td>\n",
              "      <td>891.762756</td>\n",
              "      <td>213.218033</td>\n",
              "      <td>208.482742</td>\n",
              "      <td>209.988831</td>\n",
              "      <td>213.10675</td>\n",
              "      <td>216.938782</td>\n",
              "      <td>215.062927</td>\n",
              "      <td>207.974686</td>\n",
              "      <td>213.346588</td>\n",
              "    </tr>\n",
              "  </tbody>\n",
              "</table>\n",
              "<p>1 rows × 1000 columns</p>\n",
              "</div>"
            ],
            "text/plain": [
              "          0           1           2    ...         997         998         999\n",
              "0  211.090347  208.287079  216.561996  ...  215.062927  207.974686  213.346588\n",
              "\n",
              "[1 rows x 1000 columns]"
            ]
          },
          "metadata": {
            "tags": []
          },
          "execution_count": 33
        }
      ]
    },
    {
      "cell_type": "code",
      "metadata": {
        "id": "xUCF7maCI2Ta",
        "colab_type": "code",
        "colab": {
          "base_uri": "https://localhost:8080/",
          "height": 155
        },
        "outputId": "c03e0234-2d6a-4e3f-a330-0a00b3859ad5"
      },
      "source": [
        "df2 = pd.DataFrame(test[1].tolist()[0])\n",
        "df2"
      ],
      "execution_count": 46,
      "outputs": [
        {
          "output_type": "execute_result",
          "data": {
            "text/html": [
              "<div>\n",
              "<style scoped>\n",
              "    .dataframe tbody tr th:only-of-type {\n",
              "        vertical-align: middle;\n",
              "    }\n",
              "\n",
              "    .dataframe tbody tr th {\n",
              "        vertical-align: top;\n",
              "    }\n",
              "\n",
              "    .dataframe thead th {\n",
              "        text-align: right;\n",
              "    }\n",
              "</style>\n",
              "<table border=\"1\" class=\"dataframe\">\n",
              "  <thead>\n",
              "    <tr style=\"text-align: right;\">\n",
              "      <th></th>\n",
              "      <th>0</th>\n",
              "      <th>1</th>\n",
              "      <th>2</th>\n",
              "      <th>3</th>\n",
              "      <th>4</th>\n",
              "      <th>5</th>\n",
              "      <th>6</th>\n",
              "      <th>7</th>\n",
              "      <th>8</th>\n",
              "      <th>9</th>\n",
              "      <th>10</th>\n",
              "      <th>11</th>\n",
              "      <th>12</th>\n",
              "      <th>13</th>\n",
              "      <th>14</th>\n",
              "      <th>15</th>\n",
              "      <th>16</th>\n",
              "      <th>17</th>\n",
              "      <th>18</th>\n",
              "      <th>19</th>\n",
              "      <th>20</th>\n",
              "      <th>21</th>\n",
              "      <th>22</th>\n",
              "      <th>23</th>\n",
              "      <th>24</th>\n",
              "      <th>25</th>\n",
              "      <th>26</th>\n",
              "      <th>27</th>\n",
              "      <th>28</th>\n",
              "      <th>29</th>\n",
              "      <th>30</th>\n",
              "      <th>31</th>\n",
              "      <th>32</th>\n",
              "      <th>33</th>\n",
              "      <th>34</th>\n",
              "      <th>35</th>\n",
              "      <th>36</th>\n",
              "      <th>37</th>\n",
              "      <th>38</th>\n",
              "      <th>39</th>\n",
              "      <th>...</th>\n",
              "      <th>960</th>\n",
              "      <th>961</th>\n",
              "      <th>962</th>\n",
              "      <th>963</th>\n",
              "      <th>964</th>\n",
              "      <th>965</th>\n",
              "      <th>966</th>\n",
              "      <th>967</th>\n",
              "      <th>968</th>\n",
              "      <th>969</th>\n",
              "      <th>970</th>\n",
              "      <th>971</th>\n",
              "      <th>972</th>\n",
              "      <th>973</th>\n",
              "      <th>974</th>\n",
              "      <th>975</th>\n",
              "      <th>976</th>\n",
              "      <th>977</th>\n",
              "      <th>978</th>\n",
              "      <th>979</th>\n",
              "      <th>980</th>\n",
              "      <th>981</th>\n",
              "      <th>982</th>\n",
              "      <th>983</th>\n",
              "      <th>984</th>\n",
              "      <th>985</th>\n",
              "      <th>986</th>\n",
              "      <th>987</th>\n",
              "      <th>988</th>\n",
              "      <th>989</th>\n",
              "      <th>990</th>\n",
              "      <th>991</th>\n",
              "      <th>992</th>\n",
              "      <th>993</th>\n",
              "      <th>994</th>\n",
              "      <th>995</th>\n",
              "      <th>996</th>\n",
              "      <th>997</th>\n",
              "      <th>998</th>\n",
              "      <th>999</th>\n",
              "    </tr>\n",
              "  </thead>\n",
              "  <tbody>\n",
              "    <tr>\n",
              "      <th>0</th>\n",
              "      <td>202.8459</td>\n",
              "      <td>203.170535</td>\n",
              "      <td>202.8459</td>\n",
              "      <td>202.906295</td>\n",
              "      <td>351.544391</td>\n",
              "      <td>989.221286</td>\n",
              "      <td>202.845904</td>\n",
              "      <td>202.8459</td>\n",
              "      <td>202.8459</td>\n",
              "      <td>401.093870</td>\n",
              "      <td>202.8459</td>\n",
              "      <td>202.845907</td>\n",
              "      <td>202.848568</td>\n",
              "      <td>204.995242</td>\n",
              "      <td>202.8459</td>\n",
              "      <td>202.845906</td>\n",
              "      <td>202.8459</td>\n",
              "      <td>233.626924</td>\n",
              "      <td>202.8459</td>\n",
              "      <td>202.8459</td>\n",
              "      <td>543.060943</td>\n",
              "      <td>202.848527</td>\n",
              "      <td>202.854262</td>\n",
              "      <td>202.845945</td>\n",
              "      <td>202.8459</td>\n",
              "      <td>202.847199</td>\n",
              "      <td>982.678124</td>\n",
              "      <td>202.870584</td>\n",
              "      <td>202.8459</td>\n",
              "      <td>202.8459</td>\n",
              "      <td>212.377977</td>\n",
              "      <td>202.8459</td>\n",
              "      <td>202.8459</td>\n",
              "      <td>202.8459</td>\n",
              "      <td>202.8459</td>\n",
              "      <td>202.8459</td>\n",
              "      <td>202.8459</td>\n",
              "      <td>993.563495</td>\n",
              "      <td>202.8459</td>\n",
              "      <td>202.934532</td>\n",
              "      <td>...</td>\n",
              "      <td>202.861018</td>\n",
              "      <td>202.8459</td>\n",
              "      <td>227.014553</td>\n",
              "      <td>202.8459</td>\n",
              "      <td>202.845909</td>\n",
              "      <td>275.258325</td>\n",
              "      <td>202.937807</td>\n",
              "      <td>202.850074</td>\n",
              "      <td>202.845918</td>\n",
              "      <td>202.8459</td>\n",
              "      <td>203.124624</td>\n",
              "      <td>202.8459</td>\n",
              "      <td>202.8459</td>\n",
              "      <td>202.8459</td>\n",
              "      <td>202.846082</td>\n",
              "      <td>202.845902</td>\n",
              "      <td>202.8459</td>\n",
              "      <td>219.429315</td>\n",
              "      <td>202.8459</td>\n",
              "      <td>202.8459</td>\n",
              "      <td>202.97383</td>\n",
              "      <td>202.8459</td>\n",
              "      <td>202.845978</td>\n",
              "      <td>205.517632</td>\n",
              "      <td>202.8459</td>\n",
              "      <td>202.845910</td>\n",
              "      <td>202.8459</td>\n",
              "      <td>202.846200</td>\n",
              "      <td>202.8459</td>\n",
              "      <td>202.8459</td>\n",
              "      <td>294.791066</td>\n",
              "      <td>926.118518</td>\n",
              "      <td>202.913709</td>\n",
              "      <td>202.888269</td>\n",
              "      <td>202.8459</td>\n",
              "      <td>202.8459</td>\n",
              "      <td>202.8459</td>\n",
              "      <td>202.8459</td>\n",
              "      <td>202.8459</td>\n",
              "      <td>211.767473</td>\n",
              "    </tr>\n",
              "    <tr>\n",
              "      <th>1</th>\n",
              "      <td>202.8459</td>\n",
              "      <td>203.124652</td>\n",
              "      <td>202.8459</td>\n",
              "      <td>202.896547</td>\n",
              "      <td>341.870614</td>\n",
              "      <td>988.926330</td>\n",
              "      <td>202.845903</td>\n",
              "      <td>202.8459</td>\n",
              "      <td>202.8459</td>\n",
              "      <td>389.327109</td>\n",
              "      <td>202.8459</td>\n",
              "      <td>202.845905</td>\n",
              "      <td>202.848041</td>\n",
              "      <td>204.740914</td>\n",
              "      <td>202.8459</td>\n",
              "      <td>202.845904</td>\n",
              "      <td>202.8459</td>\n",
              "      <td>230.975643</td>\n",
              "      <td>202.8459</td>\n",
              "      <td>202.8459</td>\n",
              "      <td>528.114856</td>\n",
              "      <td>202.848007</td>\n",
              "      <td>202.852720</td>\n",
              "      <td>202.845934</td>\n",
              "      <td>202.8459</td>\n",
              "      <td>202.846932</td>\n",
              "      <td>982.107514</td>\n",
              "      <td>202.866340</td>\n",
              "      <td>202.8459</td>\n",
              "      <td>202.8459</td>\n",
              "      <td>211.423376</td>\n",
              "      <td>202.8459</td>\n",
              "      <td>202.8459</td>\n",
              "      <td>202.8459</td>\n",
              "      <td>202.8459</td>\n",
              "      <td>202.8459</td>\n",
              "      <td>202.8459</td>\n",
              "      <td>993.425374</td>\n",
              "      <td>202.8459</td>\n",
              "      <td>202.920628</td>\n",
              "      <td>...</td>\n",
              "      <td>202.858333</td>\n",
              "      <td>202.8459</td>\n",
              "      <td>224.863510</td>\n",
              "      <td>202.8459</td>\n",
              "      <td>202.845907</td>\n",
              "      <td>269.774786</td>\n",
              "      <td>202.923429</td>\n",
              "      <td>202.849271</td>\n",
              "      <td>202.845913</td>\n",
              "      <td>202.8459</td>\n",
              "      <td>203.084717</td>\n",
              "      <td>202.8459</td>\n",
              "      <td>202.8459</td>\n",
              "      <td>202.8459</td>\n",
              "      <td>202.846041</td>\n",
              "      <td>202.845901</td>\n",
              "      <td>202.8459</td>\n",
              "      <td>217.879002</td>\n",
              "      <td>202.8459</td>\n",
              "      <td>202.8459</td>\n",
              "      <td>202.95432</td>\n",
              "      <td>202.8459</td>\n",
              "      <td>202.845960</td>\n",
              "      <td>205.208610</td>\n",
              "      <td>202.8459</td>\n",
              "      <td>202.845907</td>\n",
              "      <td>202.8459</td>\n",
              "      <td>202.846133</td>\n",
              "      <td>202.8459</td>\n",
              "      <td>202.8459</td>\n",
              "      <td>288.121295</td>\n",
              "      <td>922.541806</td>\n",
              "      <td>202.902857</td>\n",
              "      <td>202.881253</td>\n",
              "      <td>202.8459</td>\n",
              "      <td>202.8459</td>\n",
              "      <td>202.8459</td>\n",
              "      <td>202.8459</td>\n",
              "      <td>202.8459</td>\n",
              "      <td>210.866860</td>\n",
              "    </tr>\n",
              "  </tbody>\n",
              "</table>\n",
              "<p>2 rows × 1000 columns</p>\n",
              "</div>"
            ],
            "text/plain": [
              "        0           1         2    ...       997       998         999\n",
              "0  202.8459  203.170535  202.8459  ...  202.8459  202.8459  211.767473\n",
              "1  202.8459  203.124652  202.8459  ...  202.8459  202.8459  210.866860\n",
              "\n",
              "[2 rows x 1000 columns]"
            ]
          },
          "metadata": {
            "tags": []
          },
          "execution_count": 46
        }
      ]
    },
    {
      "cell_type": "code",
      "metadata": {
        "id": "qn59ESSZI2fK",
        "colab_type": "code",
        "colab": {
          "base_uri": "https://localhost:8080/",
          "height": 326
        },
        "outputId": "13ab9a7d-b58c-4e36-eb25-7570c9cd9add"
      },
      "source": [
        "plt.scatter(df1.iloc[0],df2.iloc[1])"
      ],
      "execution_count": 45,
      "outputs": [
        {
          "output_type": "execute_result",
          "data": {
            "text/plain": [
              "<matplotlib.collections.PathCollection at 0x7fc10beaba20>"
            ]
          },
          "metadata": {
            "tags": []
          },
          "execution_count": 45
        },
        {
          "output_type": "display_data",
          "data": {
            "image/png": "[encoded data removed]",
            "text/html": [
              "\n",
              "\n",
              "<style>\n",
              "\n",
              "</style>\n",
              "\n",
              "<div id=\"fig_el119140467132821968688881314\"></div>\n",
              "<script>\n",
              "function mpld3_load_lib(url, callback){\n",
              "  var s = document.createElement('script');\n",
              "  s.src = url;\n",
              "  s.async = true;\n",
              "  s.onreadystatechange = s.onload = callback;\n",
              "  s.onerror = function(){console.warn(\"failed to load library \" + url);};\n",
              "  document.getElementsByTagName(\"head\")[0].appendChild(s);\n",
              "}\n",
              "\n",
              "if(typeof(mpld3) !== \"undefined\" && mpld3._mpld3IsLoaded){\n",
              "   // already loaded: just create the figure\n",
              "   !function(mpld3){\n",
              "       \n",
              "       mpld3.draw_figure(\"fig_el119140467132821968688881314\", {\"width\": 432.0, \"height\": 288.0, \"axes\": [{\"bbox\": [0.125, 0.125, 0.775, 0.755], \"xlim\": [160.91132583618165, 1070.3195243835448], \"ylim\": [163.03992894282453, 1038.7712832129587], \"xdomain\": [160.91132583618165, 1070.3195243835448], \"ydomain\": [163.03992894282453, 1038.7712832129587], \"xscale\": \"linear\", \"yscale\": \"linear\", \"axes\": [{\"position\": \"bottom\", \"nticks\": 7, \"tickvalues\": null, \"tickformat_formatter\": \"\", \"tickformat\": null, \"scale\": \"linear\", \"fontsize\": 10.0, \"grid\": {\"gridOn\": false}, \"visible\": true}, {\"position\": \"left\", \"nticks\": 11, \"tickvalues\": null, \"tickformat_formatter\": \"\", \"tickformat\": null, \"scale\": \"linear\", \"fontsize\": 10.0, \"grid\": {\"gridOn\": false}, \"visible\": true}], \"axesbg\": \"#FFFFFF\", \"axesbgalpha\": null, \"zoomable\": true, \"id\": \"el119140467106221472\", \"lines\": [], \"paths\": [], \"markers\": [], \"texts\": [], \"collections\": [{\"offsets\": \"data01\", \"xindex\": 0, \"yindex\": 1, \"paths\": [[[[0.0, -0.5], [0.13260155, -0.5], [0.25978993539242673, -0.44731684579412084], [0.3535533905932738, -0.3535533905932738], [0.44731684579412084, -0.25978993539242673], [0.5, -0.13260155], [0.5, 0.0], [0.5, 0.13260155], [0.44731684579412084, 0.25978993539242673], [0.3535533905932738, 0.3535533905932738], [0.25978993539242673, 0.44731684579412084], [0.13260155, 0.5], [0.0, 0.5], [-0.13260155, 0.5], [-0.25978993539242673, 0.44731684579412084], [-0.3535533905932738, 0.3535533905932738], [-0.44731684579412084, 0.25978993539242673], [-0.5, 0.13260155], [-0.5, 0.0], [-0.5, -0.13260155], [-0.44731684579412084, -0.25978993539242673], [-0.3535533905932738, -0.3535533905932738], [-0.25978993539242673, -0.44731684579412084], [-0.13260155, -0.5], [0.0, -0.5]], [\"M\", \"C\", \"C\", \"C\", \"C\", \"C\", \"C\", \"C\", \"C\", \"Z\"]]], \"pathtransforms\": [[6.0, 0.0, 0.0, 6.0, 0.0, 0.0]], \"alphas\": [null], \"edgecolors\": [\"#1F77B4\"], \"facecolors\": [\"#1F77B4\"], \"edgewidths\": [1.0], \"offsetcoordinates\": \"data\", \"pathcoordinates\": \"display\", \"zorder\": 1, \"id\": \"el119140467105348128\"}], \"images\": [], \"sharex\": [], \"sharey\": []}], \"data\": {\"data01\": [[211.09034729003906, 202.84590018863085], [208.28707885742188, 203.1246518036745], [216.56199645996094, 202.84589959159464], [213.14906311035156, 202.8965468700503], [284.3699951171875, 341.8706143595705], [1011.2233276367188, 988.9263299009599], [204.8359375, 202.84590301206003], [209.42381286621094, 202.84589959157935], [212.44776916503906, 202.84589959173147], [315.45361328125, 389.32710919877763], [209.8370361328125, 202.8458995917385], [215.6874237060547, 202.845905036387], [215.75213623046875, 202.84804089251958], [210.53297424316406, 204.74091427619814], [206.69497680664062, 202.84589960896943], [209.04554748535156, 202.84590447755082], [207.88821411132812, 202.84589959154184], [228.34405517578125, 230.97564260891917], [212.12281799316406, 202.84589977983194], [218.3192596435547, 202.84589961475504], [426.8307189941406, 528.1148560406684], [211.79055786132812, 202.84800742656378], [210.02401733398438, 202.85271961256274], [212.35964965820312, 202.8459337135831], [214.1385955810547, 202.8458995933008], [210.91036987304688, 202.8469322994953], [1004.114990234375, 982.1075137536831], [207.70664978027344, 202.86634036639322], [210.0898895263672, 202.8458995918969], [213.63697814941406, 202.84589959190436], [215.01541137695312, 211.42337555656698], [209.83445739746094, 202.8458996098025], [213.28875732421875, 202.8458995915455], [208.34451293945312, 202.84589959155784], [208.07749938964844, 202.84589959162543], [210.2983856201172, 202.8458995917235], [210.31556701660156, 202.8458995917428], [1023.21728515625, 993.4253741856509], [208.2486572265625, 202.84589959177086], [210.31707763671875, 202.9206280055728], [218.12966918945312, 202.8458996121392], [209.36143493652344, 202.91774547114616], [215.37841796875, 218.84600708583295], [210.580322265625, 208.10184522301915], [208.31190490722656, 202.84589959156565], [210.07167053222656, 202.84589959176685], [211.02061462402344, 204.98182610527465], [346.0729675292969, 425.6733717785744], [205.39285278320312, 202.84589959187878], [210.1053466796875, 202.84590927829075], [1016.4103393554688, 992.8037745029787], [212.3291473388672, 202.86135881241702], [213.78448486328125, 202.84590041184921], [211.29148864746094, 202.84589959191413], [214.986572265625, 202.8458996039954], [1026.7510986328125, 998.9653125643163], [206.74940490722656, 202.8458995918899], [885.4611206054688, 919.0814978363186], [209.39930725097656, 202.84592813255188], [208.22512817382812, 202.84590354571762], [211.6343994140625, 202.84589961294333], [208.54176330566406, 202.84589966361705], [213.4385223388672, 202.88189375122477], [211.38316345214844, 202.8470524069955], [208.49847412109375, 202.845899591467], [204.96449279785156, 202.8458996067779], [207.44931030273438, 202.84589959218616], [207.69509887695312, 202.89840296428457], [212.3225860595703, 202.85143571642297], [215.61380004882812, 202.84599501135065], [657.1560668945312, 756.3437886209288], [905.464111328125, 926.626377977193], [206.63575744628906, 202.84589959190902], [212.45591735839844, 202.8458996517646], [214.9441680908203, 202.8511708519499], [212.421142578125, 214.31161832381747], [211.6464080810547, 202.84591418391216], [208.0574493408203, 202.85352983172302], [209.2183074951172, 202.8458996221468], [208.82696533203125, 202.8585355424438], [209.90151977539062, 202.84589962034738], [212.14425659179688, 202.91602249539457], [213.9039764404297, 202.84589959153044], [212.436767578125, 202.84590070668457], [209.76698303222656, 202.84589959681713], [214.95962524414062, 203.1128758804588], [211.22171020507812, 202.84589959192715], [208.28480529785156, 202.8458995915496], [206.328369140625, 203.48894745716373], [286.5830993652344, 348.17680263825713], [211.67665100097656, 202.8458995940716], [206.41668701171875, 202.84589959151523], [207.22488403320312, 202.8458998186414], [207.0215301513672, 202.84589959154187], [204.92977905273438, 202.84589959258383], [210.8743896484375, 202.84589959159982], [208.97500610351562, 202.8512440720852], [205.9302978515625, 202.84590536769437], [216.145751953125, 202.84589959170282], [981.2185668945312, 969.9704487091036], [208.7566375732422, 202.8459626607896], [210.01231384277344, 202.8458995917669], [210.66712951660156, 202.8458995915683], [207.28280639648438, 202.84589959183003], [213.60943603515625, 202.84589959172692], [215.91525268554688, 202.84589959186638], [207.87362670898438, 202.85302598936326], [212.35015869140625, 202.90014985686636], [1008.7392578125, 987.1381010706834], [214.3159637451172, 202.8458996873718], [207.53689575195312, 202.8459055917479], [986.5977172851562, 971.9052286262028], [209.8516845703125, 203.1704788595224], [206.3733673095703, 202.8458995915482], [215.7886962890625, 203.0854861502363], [203.85659790039062, 202.84589959251522], [210.12742614746094, 202.84589959190203], [211.0587921142578, 202.84589959189503], [208.06451416015625, 202.84589959294198], [212.15538024902344, 202.84589961472216], [207.9421844482422, 202.8458995918376], [204.79530334472656, 202.8458997415402], [207.319091796875, 202.8458995918835], [208.69561767578125, 202.8458995914683], [215.23326110839844, 202.84589959185746], [207.07293701171875, 202.84589959184134], [215.21624755859375, 202.8458995980795], [210.15817260742188, 202.84952903936363], [1013.070068359375, 989.8291685136724], [209.52401733398438, 203.14705949972483], [715.9277954101562, 806.759082218799], [206.534912109375, 202.84589959156338], [208.36334228515625, 202.8476728154268], [215.89633178710938, 202.88458598472124], [209.42434692382812, 202.8458995915438], [205.12440490722656, 202.84589959182665], [222.60716247558594, 217.2278380698248], [213.4462432861328, 202.84611301462428], [209.96728515625, 202.84589959235606], [207.50010681152344, 202.84589959162236], [205.8578338623047, 202.86936528670336], [305.94830322265625, 376.1025937237025], [208.0785675048828, 202.84590006115528], [211.7776641845703, 202.8460712652234], [207.99911499023438, 202.84589959168684], [209.46336364746094, 202.84589959176202], [208.04920959472656, 202.84590022991375], [212.12808227539062, 202.84589959162946], [220.33094787597656, 212.75298837019824], [210.89822387695312, 202.84589959161096], [209.16859436035156, 204.40446387791172], [207.70204162597656, 202.845899591926], [208.23899841308594, 202.84589959189873], [208.7316436767578, 202.84589963838926], [205.0474853515625, 202.84589959288044], [209.46409606933594, 202.86023924810127], [208.0334930419922, 202.84589959432282], [208.59286499023438, 202.84872152306343], [206.89126586914062, 202.84589959146894], [212.77749633789062, 202.886892944483], [208.81454467773438, 202.8458996015564], [203.74713134765625, 203.06315570672857], [212.07183837890625, 202.84589979618028], [208.97853088378906, 202.93963025291524], [218.05328369140625, 202.84589959203527], [216.11373901367188, 202.846196107996], [213.7637176513672, 202.84597052161078], [211.22598266601562, 202.84589959188224], [211.55210876464844, 202.84589959164316], [210.71583557128906, 202.84591834551392], [862.833984375, 901.8860270538369], [205.56723022460938, 202.8463764945503], [212.2858428955078, 202.84589959193588], [223.76785278320312, 250.76164897505456], [216.35411071777344, 202.84589972702494], [210.7423095703125, 202.85433062820897], [214.7900848388672, 202.8459008023586], [208.3609619140625, 202.84589959182034], [209.5891876220703, 202.84592810825438], [214.98216247558594, 203.38423680755432], [204.9832000732422, 202.84589959148573], [205.0258331298828, 202.84589960612925], [213.39671325683594, 202.84589959192837], [211.24794006347656, 202.8494311736294], [214.01358032226562, 202.8458995917545], [203.58470153808594, 202.84589959154448], [211.8759307861328, 202.84596468787066], [211.59986877441406, 202.84918298919337], [212.61663818359375, 208.1391410609638], [209.94956970214844, 202.84589959171123], [207.2764892578125, 202.8458996242209], [206.7542724609375, 202.84589978755238], [210.93463134765625, 202.84590379826034], [206.37826538085938, 202.96077352644025], [210.6701202392578, 202.84589959192203], [210.6173553466797, 204.15215743399418], [211.60980224609375, 202.84589959231226], [208.0796356201172, 202.84601936510867], [209.46810913085938, 202.85259707467057], [219.1049041748047, 212.7155108043417], [213.861083984375, 202.96487283472067], [210.07208251953125, 202.84589959148207], [203.41648864746094, 202.84590135276025], [208.5072784423828, 202.84589959157836], [209.26438903808594, 202.84589959159908], [210.22427368164062, 202.84589961181672], [259.0222473144531, 298.8987277562352], [209.54905700683594, 203.4524090028008], [216.73497009277344, 202.91524029398707], [229.8556365966797, 255.70740659953145], [208.29055786132812, 202.84589959178123], [214.7081298828125, 202.847954883606], [216.50302124023438, 204.37215170678311], [207.73446655273438, 202.84589959148272], [208.90850830078125, 203.33144934877978], [208.19869995117188, 202.84589961564902], [211.87161254882812, 202.84589959326328], [214.98733520507812, 202.8458995916288], [218.3444061279297, 202.8459009456706], [208.21925354003906, 202.84589959159896], [219.91641235351562, 220.46763530528497], [210.30482482910156, 203.51728425821298], [212.27235412597656, 202.84589963534455], [214.45074462890625, 202.8460357581794], [208.9268035888672, 202.87255371252445], [215.0080108642578, 209.82849844812918], [655.0367431640625, 757.5632718086207], [214.26290893554688, 202.84589959157415], [209.57322692871094, 202.8458995920448], [211.31002807617188, 202.84594391348367], [207.21389770507812, 202.84589959152567], [208.81887817382812, 202.8458995918017], [214.1796875, 202.94247954749738], [211.79507446289062, 202.8458995919223], [205.8618621826172, 202.86647764014387], [208.6534423828125, 202.84589959184345], [213.80641174316406, 202.95174578667053], [206.51060485839844, 202.84589959176355], [210.31228637695312, 202.84590204702275], [207.85708618164062, 202.8460787151285], [206.18649291992188, 202.84590396099938], [212.945556640625, 202.84589959154735], [209.26727294921875, 202.84589961224023], [206.90841674804688, 202.84591600360264], [1024.200927734375, 995.5442161998318], [209.0203094482422, 202.84589959193102], [209.0643768310547, 202.84676594734773], [287.4370422363281, 342.1611280458201], [211.04605102539062, 202.84589959221688], [210.2303009033203, 202.88029914508576], [208.33921813964844, 202.84589965224592], [216.15699768066406, 209.21802472565528], [216.1885986328125, 202.8458995947096], [213.94334411621094, 202.84589960267007], [1017.2531127929688, 991.958822552816], [207.8030242919922, 202.84589959402047], [208.5604705810547, 203.12995874024492], [239.5782928466797, 273.6450892074257], [208.63441467285156, 202.8458995918352], [214.24110412597656, 202.84589959232932], [204.4906768798828, 202.84589959147795], [204.5817108154297, 202.9117791418826], [207.3633575439453, 202.85540234357643], [210.50924682617188, 202.8737210128795], [212.23707580566406, 202.8458996156805], [213.20065307617188, 202.84589959155718], [208.851806640625, 202.84590198464093], [207.86451721191406, 202.84589959181093], [211.75494384765625, 203.06687343125833], [211.97682189941406, 202.85757614565202], [217.9514617919922, 202.84589959198044], [205.45382690429688, 202.84589967313516], [209.59475708007812, 203.09054546186553], [292.0264587402344, 358.2793508457815], [210.1319580078125, 208.25500010483893], [209.60769653320312, 202.84593829970535], [212.5294189453125, 203.74784903463168], [208.57723999023438, 202.84589959187792], [209.27706909179688, 202.8458995930598], [211.73370361328125, 202.84589959175446], [208.10125732421875, 202.8459963179685], [206.95932006835938, 202.84589959187866], [213.68556213378906, 202.84589959279847], [208.624755859375, 203.084751643853], [209.14776611328125, 202.84592444912562], [208.1077423095703, 202.84589960365335], [208.36819458007812, 202.96931924198012], [208.92645263671875, 202.84590020442246], [205.0662841796875, 202.9620947199074], [211.53448486328125, 202.84589959154223], [207.76698303222656, 202.84590796878342], [212.33038330078125, 202.8533763492832], [205.7779083251953, 202.84940077550527], [211.03085327148438, 202.8458995919059], [207.0679931640625, 202.8458995914706], [276.9560241699219, 336.88576143419357], [207.50079345703125, 202.84589959163742], [221.91738891601562, 229.1497861357257], [206.61024475097656, 202.84590152630307], [206.7427978515625, 202.84763035814223], [206.7941131591797, 202.85282721669273], [209.6184844970703, 202.84589959197692], [216.8268585205078, 202.84597042280802], [218.69424438476562, 215.03512430804088], [207.6945343017578, 202.84589962004662], [216.6487579345703, 202.84589959867523], [204.5217742919922, 202.84589959162489], [280.2059326171875, 333.74226361257456], [208.7119903564453, 202.8823546838231], [208.36500549316406, 202.8472660600429], [208.6204833984375, 202.84589959346803], [212.00387573242188, 202.84589959151177], [212.72177124023438, 202.84589959155534], [211.4091033935547, 202.8458995917548], [203.57485961914062, 202.88110912180605], [208.1457061767578, 202.84589960238992], [210.68646240234375, 202.8458995918016], [210.70266723632812, 202.8459705224532], [360.3390808105469, 435.87648784049173], [215.6823272705078, 202.84589959180275], [213.0291748046875, 202.8458995923302], [212.2770538330078, 202.8459165797052], [210.53140258789062, 202.84589959215313], [213.7762451171875, 203.26046653687308], [209.6412353515625, 202.84599041533326], [216.83575439453125, 202.8458995919122], [214.52117919921875, 202.8505545383624], [212.65188598632812, 202.84778593901072], [213.80796813964844, 202.89259734615737], [213.07835388183594, 202.8458995918531], [208.74267578125, 202.93982293993494], [210.51210021972656, 202.8458995940958], [208.6513214111328, 202.84589959700511], [1023.0917358398438, 993.3621258795527], [211.44036865234375, 202.84589959388776], [207.18280029296875, 202.84589959154565], [215.99085998535156, 202.84589959193275], [1007.5874633789062, 987.788202841802], [209.76644897460938, 202.84590016640612], [206.6015167236328, 202.84589963298527], [213.14895629882812, 202.8463739372157], [528.2073974609375, 644.4745120539427], [204.4427490234375, 202.8458995916335], [213.71343994140625, 202.8458995915831], [210.5192108154297, 202.84589959154786], [206.41273498535156, 202.84589959146987], [210.40321350097656, 202.84595613975628], [1028.9827880859375, 998.3272876858007], [208.859375, 202.8458995919258], [1017.0537719726562, 994.8209371022311], [228.093994140625, 230.58138401574374], [207.26303100585938, 202.84589961058188], [996.1680908203125, 979.3015709317717], [210.64431762695312, 202.84589961872416], [215.43142700195312, 202.84589959286907], [205.75621032714844, 203.31540615922265], [924.7608032226562, 939.2713247690006], [210.62835693359375, 202.84589959155156], [209.53367614746094, 202.84605831034813], [211.88336181640625, 202.8464451558988], [208.92111206054688, 202.84596105427937], [211.62420654296875, 202.84589975404506], [957.9224243164062, 956.3599650892885], [208.06460571289062, 202.84589959179098], [209.0018310546875, 202.84589959674244], [230.269287109375, 256.28288124984675], [213.58364868164062, 204.69735978715423], [208.53512573242188, 202.84589959183904], [209.82835388183594, 202.84589959231363], [270.85986328125, 328.39735303916837], [207.14364624023438, 202.8636806789224], [394.0347595214844, 487.5514047448196], [210.8914337158203, 202.84589959257036], [216.08706665039062, 202.84589959155474], [204.8718719482422, 202.8467942860913], [209.8487091064453, 202.89480127627334], [207.93154907226562, 202.8459165299518], [213.83541870117188, 202.84589978323677], [1023.8946533203125, 994.892843235652], [207.6689910888672, 202.8461011780861], [1022.6536865234375, 995.0739116031342], [209.95257568359375, 202.88897477578828], [212.2993621826172, 202.84590095001977], [213.5164031982422, 202.84589959468946], [210.32444763183594, 202.84589959192408], [210.63490295410156, 202.8458995928143], [210.24609375, 202.85194768865568], [213.6703338623047, 202.84590055804154], [215.3498077392578, 202.84589968667225], [207.59320068359375, 202.84589959214605], [204.1795654296875, 202.84589959192877], [485.30596923828125, 594.8254863159876], [210.38853454589844, 202.8458995914769], [214.81773376464844, 208.12603681589684], [207.52017211914062, 202.84589959192206], [210.78720092773438, 202.84589968039157], [207.1357879638672, 202.84589975766914], [205.71441650390625, 202.84589959264477], [364.0115051269531, 446.07529044960097], [287.5015563964844, 353.1908792034921], [209.79010009765625, 202.845899606809], [207.52818298339844, 202.84589959189913], [208.08853149414062, 202.84589959148258], [207.62245178222656, 202.84589959192104], [210.7266845703125, 202.84590030513235], [976.0095825195312, 965.8412129784124], [210.513671875, 202.84589959349006], [205.6177978515625, 202.84589959154602], [212.8968048095703, 202.8458995914697], [211.11410522460938, 202.84589959377425], [218.21485900878906, 202.8459004929193], [214.78834533691406, 202.84589959186826], [218.16336059570312, 210.03726566784349], [207.65167236328125, 202.84589959165382], [207.0892791748047, 202.84589959148016], [218.05555725097656, 202.84642056849808], [923.5701904296875, 936.6966256043451], [244.98280334472656, 257.2022653802591], [205.09059143066406, 202.84590340762065], [215.85154724121094, 202.8459294859877], [210.97390747070312, 202.8458998103351], [215.1506805419922, 202.84589959450028], [213.79873657226562, 202.84657259053705], [288.8731689453125, 343.67656193797114], [207.78697204589844, 202.8462133178318], [208.1764373779297, 202.84642944403646], [209.13079833984375, 202.85148062718724], [209.21766662597656, 202.85258473155343], [210.4900665283203, 202.84589959191612], [209.3290252685547, 202.845899591891], [208.9395751953125, 202.89420933466195], [213.06494140625, 202.84589960212313], [1026.0216064453125, 998.3723929192945], [210.27366638183594, 202.8459658721223], [225.57923889160156, 231.92298408934582], [207.54739379882812, 202.8458995946065], [207.29946899414062, 202.97971890696635], [212.68582153320312, 202.8458995914732], [204.21617126464844, 202.84589959183398], [310.81463623046875, 380.2970142431799], [215.5293731689453, 202.8461207219258], [208.9083251953125, 202.8458995914673], [208.66815185546875, 204.6911854305825], [210.12677001953125, 202.84606346745494], [266.3215637207031, 316.95846996603865], [211.3285369873047, 202.8458995919255], [209.74630737304688, 202.84589959801818], [881.8162841796875, 916.6606594633568], [204.54075622558594, 202.86113395036617], [542.1317138671875, 651.0833902656013], [211.21055603027344, 202.84589959181503], [206.68899536132812, 202.84590331917383], [213.86996459960938, 202.84589967990857], [203.48196411132812, 202.84843050434975], [219.33526611328125, 218.1705748168687], [215.44004821777344, 202.84589959190902], [212.11001586914062, 204.18892383914346], [205.85105895996094, 203.27141255124005], [210.3621368408203, 202.8459182478183], [214.7818603515625, 202.8458995919282], [211.57237243652344, 202.84592130922667], [207.5977020263672, 202.84589960769844], [206.16004943847656, 202.8459021581104], [211.51625061035156, 202.91442044164748], [210.47645568847656, 202.84589960171107], [203.83169555664062, 202.84590040804895], [208.02935791015625, 202.84612524432833], [212.1918182373047, 202.84590530292385], [207.6164093017578, 202.8459013459457], [211.31581115722656, 202.8458995915459], [213.03561401367188, 202.84589959309358], [209.93734741210938, 202.84589959678277], [206.80258178710938, 202.84589959154644], [210.6158447265625, 202.84589959192758], [207.65370178222656, 202.8458995915489], [214.22511291503906, 202.8463350565908], [216.44418334960938, 202.84589968288873], [207.7222442626953, 202.84589960017183], [220.4385528564453, 202.84590108237833], [215.229248046875, 202.84600513517682], [208.32171630859375, 202.84589962292813], [209.3821563720703, 202.84591531109857], [216.73191833496094, 203.63525623099906], [209.76377868652344, 202.84589959154798], [1025.932373046875, 997.6638807784002], [210.94993591308594, 202.84589960135065], [224.15740966796875, 225.45153714048413], [209.25205993652344, 202.87136914732258], [904.6315307617188, 927.4652043915888], [205.9895782470703, 202.85241883015593], [209.36099243164062, 207.4309172837687], [208.19119262695312, 203.660319858047], [214.9012908935547, 202.84678971463052], [217.6505584716797, 202.84590530804638], [208.89146423339844, 202.84589959159], [207.43833923339844, 202.84589963223323], [937.740478515625, 946.4347187909268], [214.8291778564453, 202.84589959160556], [209.84442138671875, 202.84596970444827], [209.26416015625, 202.8458995918072], [211.08790588378906, 203.197481145202], [206.9484100341797, 202.845899591562], [206.2668914794922, 202.8458996405914], [209.6982879638672, 202.8458995918609], [1024.22216796875, 997.3399627547595], [210.54736328125, 202.8462692678455], [206.35360717773438, 202.8459097080031], [215.59649658203125, 202.84589959221842], [216.30386352539062, 202.84589959174968], [211.7037811279297, 202.8458995943484], [208.7063446044922, 202.8618136355588], [339.0601501464844, 420.4778462104798], [208.0756378173828, 202.84590711800405], [215.9112091064453, 202.84590075896784], [214.34580993652344, 202.84589972808212], [209.12335205078125, 202.84934180502322], [210.05078125, 202.8463329576616], [206.0107421875, 202.8458995917151], [208.25791931152344, 203.0472309274526], [213.06141662597656, 202.84589959163], [207.2053985595703, 202.84590504734734], [210.47515869140625, 202.8458995916592], [205.13336181640625, 204.27907567276225], [204.05673217773438, 202.8594040135668], [215.2315673828125, 212.62843629993083], [447.16375732421875, 551.3950324200048], [205.08270263671875, 202.84589960182555], [209.7872772216797, 202.84589959146885], [214.33151245117188, 202.84589977286063], [212.3598175048828, 202.8459604711686], [208.78172302246094, 202.8458995992008], [1013.2446899414062, 992.9594450873726], [213.57366943359375, 202.845899591721], [209.02659606933594, 202.84591639723095], [207.61227416992188, 202.84589997210406], [214.02281188964844, 202.84595428146366], [208.3151397705078, 202.84589959251136], [576.8983154296875, 686.6589504731959], [206.2395477294922, 202.84589959185888], [211.76950073242188, 202.8643231115218], [213.056884765625, 202.84590133669002], [212.0426025390625, 210.29750909049488], [207.04530334472656, 202.84589959279268], [209.705810546875, 202.84589959158663], [215.82040405273438, 202.84589959154604], [216.68399047851562, 202.84589959181488], [213.90313720703125, 202.8458996372793], [207.1793212890625, 202.84590004315547], [212.9180908203125, 203.38875843045804], [210.2231903076172, 202.8458995918994], [213.6272430419922, 202.84589959184584], [208.0105438232422, 202.84589959191638], [215.76104736328125, 202.84589959443537], [212.61512756347656, 202.8458995915209], [222.75714111328125, 225.83052173946754], [208.07986450195312, 202.84589959214114], [212.94607543945312, 202.84589985532966], [211.66221618652344, 202.8458997286426], [218.34584045410156, 202.84589959198354], [212.45156860351562, 209.06941213567438], [212.22666931152344, 202.85147012819323], [918.6947021484375, 933.9646213684038], [208.21827697753906, 202.88489985633484], [987.4069213867188, 973.9694409547953], [204.75222778320312, 203.87590384238274], [205.21690368652344, 202.8459054064563], [214.88494873046875, 202.84589959172524], [215.54556274414062, 202.84589959185826], [206.42884826660156, 202.91109807548634], [211.0297393798828, 202.84589959165413], [216.75784301757812, 202.84589959155227], [203.89181518554688, 202.8458995917154], [208.21566772460938, 202.8824593978123], [865.2340698242188, 906.4388287999502], [207.0691375732422, 202.84632939126544], [212.2205352783203, 202.84589966553634], [205.56704711914062, 202.84589959160567], [214.22726440429688, 202.84589959169574], [212.9735870361328, 202.84589959188938], [299.1888122558594, 360.7719278862793], [423.6750793457031, 522.271169917437], [208.42739868164062, 202.84590128949887], [210.414794921875, 202.84589959162668], [1002.5162353515625, 980.8025089852462], [209.6221923828125, 202.8459029290201], [210.27154541015625, 203.02507867159215], [214.379638671875, 202.845899591554], [207.3721160888672, 202.87401704267077], [212.18490600585938, 202.84589961863736], [528.4517822265625, 641.0245776637232], [207.8516845703125, 202.84589959286777], [212.01620483398438, 202.8462708340854], [207.74024963378906, 202.84589959190404], [291.5201110839844, 360.4742829081158], [210.61520385742188, 202.8458995921779], [209.3628387451172, 202.84589959174147], [211.61532592773438, 202.8458995919221], [210.67381286621094, 202.84589959166846], [572.6380004882812, 681.9620800040633], [906.5658569335938, 927.9110546748443], [208.78353881835938, 202.8458995916485], [212.06678771972656, 203.02283554137315], [232.06607055664062, 258.0168162980054], [202.24806213378906, 202.8459336073681], [206.0127716064453, 202.84589959188745], [205.59104919433594, 202.8475663625295], [210.89041137695312, 202.8458995977506], [217.70123291015625, 202.84589959151958], [214.55572509765625, 202.84594002824937], [209.96197509765625, 202.84589959316818], [210.42860412597656, 202.84590288040133], [207.6222381591797, 202.8458995915593], [209.38040161132812, 202.8458995917119], [211.81552124023438, 202.84589959189572], [204.75619506835938, 202.84589959193468], [1002.90673828125, 981.6212201421052], [210.54910278320312, 207.17714714087936], [211.13912963867188, 202.86773528609052], [209.716064453125, 202.84809465811776], [213.0266876220703, 203.90228597542776], [211.1263885498047, 202.84589959155116], [212.34840393066406, 202.9267163985227], [212.7282257080078, 202.84590550936443], [217.03456115722656, 202.84589963376408], [208.1612091064453, 202.84589959158603], [214.5825653076172, 202.8458995919177], [214.75125122070312, 202.87960024772525], [1019.8643188476562, 992.2177552195922], [211.90419006347656, 207.6676592183173], [479.8869323730469, 594.3460018665061], [216.66725158691406, 202.84668006949934], [206.15383911132812, 202.84589959296292], [209.64471435546875, 202.8468266807955], [237.88829040527344, 264.5563613616413], [213.3873748779297, 202.84589976316744], [210.05722045898438, 202.84589959160317], [209.0968780517578, 202.84589959517402], [208.86856079101562, 202.8617761606818], [209.37432861328125, 202.84589959183037], [208.66195678710938, 202.8695352700221], [208.70664978027344, 202.8459789130776], [208.48435974121094, 202.84589959192297], [211.53201293945312, 202.84589959161937], [210.3731689453125, 202.84658362719475], [215.7287139892578, 202.84589960648634], [1008.1167602539062, 984.4417073590981], [210.57986450195312, 202.84612483246624], [209.74571228027344, 202.84589997412016], [1023.5131225585938, 995.5165685342106], [209.55194091796875, 202.84656029468135], [210.2600860595703, 202.8461254583304], [204.329833984375, 202.84589959190123], [1025.233642578125, 998.4061043617169], [214.96951293945312, 202.84590168859773], [215.2712860107422, 211.9106567819733], [210.42385864257812, 202.84589959193346], [214.83970642089844, 202.84923766955103], [209.51654052734375, 204.6616407683561], [213.7132110595703, 202.84786105320026], [223.55638122558594, 238.16464137333287], [215.0485076904297, 202.84589959156617], [205.53607177734375, 202.84589959147192], [211.44375610351562, 202.84589959154394], [1021.425537109375, 995.7022939020178], [211.9639434814453, 202.8458995919335], [1028.3160400390625, 998.7548594427318], [211.4460906982422, 202.84589959569902], [215.08865356445312, 202.93501446820056], [212.8323974609375, 206.38201656249325], [214.92811584472656, 202.8459068413945], [214.9869842529297, 202.84589959526073], [205.61524963378906, 202.8459004152708], [214.63272094726562, 202.8513004266543], [206.50161743164062, 202.84589959255237], [211.65023803710938, 202.8915031240402], [210.5502166748047, 202.84589959393227], [214.03370666503906, 202.84589998872463], [211.013427734375, 202.8458997852837], [208.67025756835938, 203.5316080480798], [214.95542907714844, 202.87691130559017], [204.7037811279297, 202.8458995918581], [216.32789611816406, 202.84798369296325], [208.46495056152344, 204.1674534144772], [209.4027099609375, 203.14541309850438], [205.3521270751953, 202.84589976835284], [211.54800415039062, 202.84625981322083], [212.2189483642578, 220.27654443432968], [240.104248046875, 259.57364473881404], [216.39991760253906, 202.8458997272492], [215.1614227294922, 203.45031247702363], [207.53900146484375, 202.84590007774744], [214.75271606445312, 202.84589959148954], [212.20115661621094, 202.8458995915382], [218.4438934326172, 202.84591359607572], [204.1401824951172, 202.8459516456979], [206.6136932373047, 202.84589993424538], [1009.6453857421875, 984.5341059000582], [209.08816528320312, 202.84589959175906], [209.33226013183594, 202.845899650866], [210.17160034179688, 202.8472426559498], [208.40631103515625, 202.8458995941442], [210.60577392578125, 202.84589972265286], [207.4430389404297, 202.91867287632115], [213.85733032226562, 202.84589959190947], [211.40447998046875, 202.8459583693965], [512.5068359375, 623.7566649764069], [697.443115234375, 786.3419375856448], [986.4840087890625, 971.7721069018559], [211.83392333984375, 202.8459023892034], [205.68565368652344, 202.84589959189603], [211.9537811279297, 202.87263489184306], [208.2830352783203, 202.86022229746123], [229.35752868652344, 242.84895686130514], [205.82728576660156, 202.84589959185317], [208.81680297851562, 202.84590025928534], [216.33203125, 202.845925353699], [206.94610595703125, 202.84589959157162], [218.80702209472656, 223.2403440007702], [213.631103515625, 202.9165771407218], [978.7955932617188, 969.3585238403022], [211.15628051757812, 202.84589959147362], [212.6343536376953, 202.84589959164882], [206.69728088378906, 202.84589959173675], [216.82237243652344, 202.84590248314288], [208.8743133544922, 202.84589959217467], [209.0848388671875, 203.22603370123082], [207.9648895263672, 202.8458995919265], [222.63351440429688, 230.02489010721624], [207.69046020507812, 202.84727739948806], [216.9666748046875, 202.84589959913882], [211.1340789794922, 202.8477519172901], [207.3624267578125, 202.8458995915701], [216.9537811279297, 202.84589959192445], [1022.8963623046875, 994.7216827512594], [205.9634246826172, 202.84589959185269], [209.44525146484375, 202.84590252759023], [206.77723693847656, 202.905296470884], [215.1322784423828, 202.84589959294698], [241.6697540283203, 258.34685525706453], [211.2253875732422, 203.26752987331528], [517.2081909179688, 626.5859545104994], [213.24644470214844, 215.51103374478367], [206.9695587158203, 202.845899591553], [210.54295349121094, 202.84606450850404], [207.39515686035156, 202.84589959189964], [216.3030242919922, 216.93160197539476], [215.32064819335938, 202.91181404740882], [1025.0882568359375, 996.1208391931709], [208.13714599609375, 202.87456740771663], [213.53424072265625, 202.84589959292455], [211.77359008789062, 202.84589959222507], [214.4775390625, 202.84589964547067], [206.79519653320312, 202.8481051651119], [1028.3282470703125, 998.3458048751877], [209.19593811035156, 202.84589959327977], [214.0319366455078, 202.8458995920153], [206.92156982421875, 202.8485973599365], [213.99432373046875, 203.2163155292201], [207.73907470703125, 202.8470618451313], [224.2803497314453, 241.19748944903424], [211.9909210205078, 202.84591024193563], [205.98411560058594, 202.84589959178894], [699.1445922851562, 794.6977721732152], [211.91725158691406, 202.84589959154798], [210.7586669921875, 202.99203424988835], [209.00811767578125, 202.84589959184797], [208.91761779785156, 202.84592578116096], [210.34552001953125, 202.84589959154408], [488.0841064453125, 594.2531887288467], [209.80624389648438, 202.84589959193227], [211.0126495361328, 202.94517541102744], [209.52322387695312, 202.84589959154363], [215.16795349121094, 202.84589961465903], [211.61195373535156, 202.8458995915417], [211.44027709960938, 212.5542581361285], [214.94760131835938, 202.84859550693454], [212.88230895996094, 202.84589959154133], [208.87686157226562, 202.91063174302442], [208.556884765625, 202.8458995947393], [211.6370849609375, 203.02483963466665], [209.84043884277344, 202.8459281045325], [207.4451904296875, 202.84589959362268], [211.24966430664062, 202.84589959191987], [204.95553588867188, 202.8458997145653], [326.775634765625, 404.767707996514], [206.82925415039062, 202.84589959154613], [210.24708557128906, 203.53189169087045], [209.4027862548828, 202.84650538601008], [205.82733154296875, 203.36610239134708], [211.89459228515625, 202.8458995918244], [216.74952697753906, 202.93281959853238], [209.8433380126953, 202.84589959296426], [207.74522399902344, 202.845899591931], [212.9120330810547, 204.3590067373736], [211.55738830566406, 202.8458999005774], [214.9862518310547, 202.8458995918912], [204.91099548339844, 202.84590006176555], [298.5993957519531, 371.8561370633967], [204.46815490722656, 202.8890306881198], [215.21998596191406, 202.85032536548115], [210.69264221191406, 202.9489460015465], [212.76425170898438, 202.84589968231742], [205.09812927246094, 202.84727521698957], [208.7694091796875, 202.8876315355135], [216.51126098632812, 202.84731000289517], [204.6380615234375, 202.84589959157478], [205.0133819580078, 202.8458995915487], [443.472412109375, 546.5161667364393], [204.41883850097656, 202.8458995919192], [209.37332153320312, 203.71972470495137], [218.2970428466797, 212.62237925310123], [207.1818084716797, 202.8458995915443], [212.7667999267578, 202.84589959177606], [1009.8789672851562, 989.0863218547129], [217.12681579589844, 202.8463051855772], [209.53457641601562, 202.84590053299019], [214.2546844482422, 202.84589959608144], [211.4635009765625, 202.84589959177345], [209.61318969726562, 202.84589959193264], [212.78343200683594, 207.09148029700575], [215.0518798828125, 202.84589959182267], [213.8332061767578, 202.84599994351615], [214.45379638671875, 202.87930686876498], [214.31048583984375, 202.84589959852252], [207.76449584960938, 202.84589959190563], [207.772216796875, 202.94100695240294], [208.51712036132812, 202.84589959190896], [702.2217407226562, 792.7362425348157], [209.05557250976562, 202.84589960269298], [210.8413848876953, 202.87180459037026], [213.6831512451172, 202.845899592217], [214.8618927001953, 202.845997558348], [217.6002197265625, 202.86581821357566], [207.23716735839844, 202.84589961868133], [205.2822265625, 202.84590859286084], [207.09373474121094, 202.8480935479008], [210.63052368164062, 202.84603884906588], [206.6671142578125, 202.84589959190532], [210.3681182861328, 202.84589967994495], [210.8065948486328, 202.84589959188784], [211.81687927246094, 202.84589959154806], [206.11024475097656, 202.90247752798265], [205.09872436523438, 202.84589959155795], [983.8265380859375, 973.3447501372766], [210.47579956054688, 202.84589959192314], [207.62533569335938, 202.8520377046421], [213.77371215820312, 203.59061019119963], [207.07797241210938, 202.8458995915582], [213.65652465820312, 202.8459096280242], [211.1420440673828, 202.8458995916803], [212.77346801757812, 202.84590154957988], [504.79083251953125, 611.5192585342917], [609.003173828125, 717.4025041023609], [212.08279418945312, 202.84589966668585], [240.1079559326172, 254.00329397240148], [206.88198852539062, 202.84589959191817], [216.48507690429688, 202.84589959176787], [209.1743621826172, 202.84589959248086], [212.4742431640625, 202.84589980493888], [217.34848022460938, 202.8511669835287], [206.53140258789062, 205.8320735596285], [1000.0159301757812, 980.6760475131434], [212.2880859375, 202.9185503918788], [209.7294158935547, 202.8458995930263], [208.80404663085938, 202.84589959276525], [211.44175720214844, 202.84589959188986], [204.73318481445312, 202.84591186485795], [209.8571319580078, 202.84589959185308], [206.98171997070312, 202.84840602794753], [213.75833129882812, 202.8458996212055], [866.8451538085938, 909.7958230310358], [205.55271911621094, 202.84589959184876], [207.85015869140625, 202.8458995914913], [211.81365966796875, 207.1268856251115], [204.57733154296875, 202.84589959520198], [215.7335662841797, 202.8458995919102], [207.02684020996094, 202.84589959192948], [212.59783935546875, 202.8458995918716], [210.8152618408203, 205.09130287719057], [213.6194610595703, 202.84589959166857], [208.62213134765625, 202.84589959177364], [211.2428436279297, 212.79150170619698], [209.7400360107422, 202.84606305030098], [204.21475219726562, 202.84590247157522], [452.1783752441406, 556.9738928385984], [402.85235595703125, 499.43133743730635], [209.792236328125, 202.84649675432922], [209.96629333496094, 202.8466140520646], [209.154296875, 202.84589965702736], [205.2796630859375, 202.84589959191715], [205.04212951660156, 202.84589959238318], [1014.405517578125, 987.8165371056458], [207.0897674560547, 202.84589959155946], [208.63731384277344, 202.84590218811675], [206.49696350097656, 204.4552214379057], [205.98887634277344, 202.84590359694403], [217.06297302246094, 203.05762627940663], [212.70297241210938, 205.97681590613172], [205.37753295898438, 202.8459008556725], [215.06472778320312, 202.84589959179053], [228.4887237548828, 228.59418292423229], [212.49049377441406, 202.84589959192652], [212.07740783691406, 202.84590023375847], [212.54336547851562, 203.38963299956967], [209.57254028320312, 202.84590135583082], [210.098876953125, 214.91965980946304], [211.8841094970703, 202.84653990290525], [209.4499969482422, 202.94316400180597], [210.04527282714844, 202.84589959178598], [209.81932067871094, 202.84589959235697], [230.63449096679688, 233.6382381603629], [205.4940948486328, 203.30641667613028], [207.14707946777344, 202.8458995929386], [212.17581176757812, 203.58735754267096], [216.30313110351562, 220.53622717292092], [212.93692016601562, 202.84593826982973], [214.49546813964844, 202.86285110645386], [358.7009582519531, 443.4131835291009], [210.27256774902344, 202.84589960809112], [204.38839721679688, 202.8458998604355], [215.42076110839844, 202.84589959193744], [213.62847900390625, 202.84589960911293], [209.37271118164062, 202.84589959147004], [1017.1113891601562, 994.7826700541891], [214.8507843017578, 202.8459023179095], [217.77310180664062, 203.41257268973533], [214.20860290527344, 202.84589959193], [214.58413696289062, 202.84589959189793], [214.95408630371094, 206.13208150286962], [209.859130859375, 202.84637581501855], [217.72010803222656, 214.15514015077315], [211.49046325683594, 202.8459026542121], [224.3749542236328, 227.22198935257921], [212.2128448486328, 202.84590027424582], [209.80062866210938, 202.8458996943225], [217.6733856201172, 202.8458995915769], [214.35934448242188, 202.89373981372412], [238.72711181640625, 251.3149901521718], [209.4118194580078, 202.84589961672674], [215.9563751220703, 202.86205662836352], [210.84446716308594, 203.24513082405275], [217.07505798339844, 205.30815304000873], [208.50022888183594, 202.84607006684377], [214.0552520751953, 202.84589959186528], [209.07928466796875, 208.56586373621965], [207.66610717773438, 202.84589959151114], [214.8758544921875, 202.84590515310077], [210.91827392578125, 202.84589959157316], [209.30596923828125, 202.84589959170665], [213.42410278320312, 202.84589959157393], [210.44715881347656, 212.1262400966082], [213.8712158203125, 202.85611431030765], [213.02178955078125, 202.84589959164649], [213.95701599121094, 202.84589959178464], [210.5249481201172, 202.89539667647387], [211.82730102539062, 203.39676340120062], [228.52662658691406, 239.64327716275227], [207.47821044921875, 202.84589959149847], [207.08045959472656, 202.8550997987608], [674.99609375, 777.136514910563], [209.6965789794922, 202.8583330446443], [211.0144805908203, 202.84589959179164], [220.42710876464844, 224.86350964017257], [205.28550720214844, 202.84589959227253], [212.06419372558594, 202.84590669339582], [236.1265411376953, 269.7747859210088], [209.64181518554688, 202.9234286807872], [210.20884704589844, 202.84927092411743], [210.67971801757812, 202.8459133382098], [206.80787658691406, 202.8458996637962], [208.01809692382812, 203.08471725655278], [213.87110900878906, 202.84589965554528], [216.2169189453125, 202.84589959318754], [208.0096893310547, 202.84589959227483], [205.11505126953125, 202.84604081587318], [211.2454376220703, 202.84590147528044], [214.7690887451172, 202.84589959164995], [212.0979766845703, 217.87900187946133], [212.30186462402344, 202.845899591928], [207.6597442626953, 202.8458995917463], [210.90853881835938, 202.95431978215893], [206.2197265625, 202.84589959190757], [213.2615966796875, 202.84595963837486], [217.78070068359375, 205.2086099049781], [209.61534118652344, 202.84589959160047], [205.96519470214844, 202.8459071459445], [210.60028076171875, 202.8458995915577], [205.98841857910156, 202.84613314816622], [216.07676696777344, 202.84589959154906], [209.5829620361328, 202.84589959154854], [251.7521209716797, 288.12129521693964], [891.7627563476562, 922.5418056946107], [213.21803283691406, 202.90285654657885], [208.4827423095703, 202.881253384886], [209.98883056640625, 202.8458995914873], [213.10675048828125, 202.8458995915083], [216.93878173828125, 202.84589960070952], [215.06292724609375, 202.84589959192607], [207.9746856689453, 202.84589966767868], [213.34658813476562, 210.86686019366647]]}, \"id\": \"el119140467132821968\", \"plugins\": [{\"type\": \"reset\"}, {\"type\": \"zoom\", \"button\": true, \"enabled\": false}, {\"type\": \"boxzoom\", \"button\": true, \"enabled\": false}]});\n",
              "   }(mpld3);\n",
              "}else if(typeof define === \"function\" && define.amd){\n",
              "   // require.js is available: use it to load d3/mpld3\n",
              "   require.config({paths: {d3: \"https://d3js.org/d3.v5\"}});\n",
              "   require([\"d3\"], function(d3){\n",
              "      window.d3 = d3;\n",
              "      mpld3_load_lib(\"https://mpld3.github.io/js/mpld3.v0.5.1.js\", function(){\n",
              "         \n",
              "         mpld3.draw_figure(\"fig_el119140467132821968688881314\", {\"width\": 432.0, \"height\": 288.0, \"axes\": [{\"bbox\": [0.125, 0.125, 0.775, 0.755], \"xlim\": [160.91132583618165, 1070.3195243835448], \"ylim\": [163.03992894282453, 1038.7712832129587], \"xdomain\": [160.91132583618165, 1070.3195243835448], \"ydomain\": [163.03992894282453, 1038.7712832129587], \"xscale\": \"linear\", \"yscale\": \"linear\", \"axes\": [{\"position\": \"bottom\", \"nticks\": 7, \"tickvalues\": null, \"tickformat_formatter\": \"\", \"tickformat\": null, \"scale\": \"linear\", \"fontsize\": 10.0, \"grid\": {\"gridOn\": false}, \"visible\": true}, {\"position\": \"left\", \"nticks\": 11, \"tickvalues\": null, \"tickformat_formatter\": \"\", \"tickformat\": null, \"scale\": \"linear\", \"fontsize\": 10.0, \"grid\": {\"gridOn\": false}, \"visible\": true}], \"axesbg\": \"#FFFFFF\", \"axesbgalpha\": null, \"zoomable\": true, \"id\": \"el119140467106221472\", \"lines\": [], \"paths\": [], \"markers\": [], \"texts\": [], \"collections\": [{\"offsets\": \"data01\", \"xindex\": 0, \"yindex\": 1, \"paths\": [[[[0.0, -0.5], [0.13260155, -0.5], [0.25978993539242673, -0.44731684579412084], [0.3535533905932738, -0.3535533905932738], [0.44731684579412084, -0.25978993539242673], [0.5, -0.13260155], [0.5, 0.0], [0.5, 0.13260155], [0.44731684579412084, 0.25978993539242673], [0.3535533905932738, 0.3535533905932738], [0.25978993539242673, 0.44731684579412084], [0.13260155, 0.5], [0.0, 0.5], [-0.13260155, 0.5], [-0.25978993539242673, 0.44731684579412084], [-0.3535533905932738, 0.3535533905932738], [-0.44731684579412084, 0.25978993539242673], [-0.5, 0.13260155], [-0.5, 0.0], [-0.5, -0.13260155], [-0.44731684579412084, -0.25978993539242673], [-0.3535533905932738, -0.3535533905932738], [-0.25978993539242673, -0.44731684579412084], [-0.13260155, -0.5], [0.0, -0.5]], [\"M\", \"C\", \"C\", \"C\", \"C\", \"C\", \"C\", \"C\", \"C\", \"Z\"]]], \"pathtransforms\": [[6.0, 0.0, 0.0, 6.0, 0.0, 0.0]], \"alphas\": [null], \"edgecolors\": [\"#1F77B4\"], \"facecolors\": [\"#1F77B4\"], \"edgewidths\": [1.0], \"offsetcoordinates\": \"data\", \"pathcoordinates\": \"display\", \"zorder\": 1, \"id\": \"el119140467105348128\"}], \"images\": [], \"sharex\": [], \"sharey\": []}], \"data\": {\"data01\": [[211.09034729003906, 202.84590018863085], [208.28707885742188, 203.1246518036745], [216.56199645996094, 202.84589959159464], [213.14906311035156, 202.8965468700503], [284.3699951171875, 341.8706143595705], [1011.2233276367188, 988.9263299009599], [204.8359375, 202.84590301206003], [209.42381286621094, 202.84589959157935], [212.44776916503906, 202.84589959173147], [315.45361328125, 389.32710919877763], [209.8370361328125, 202.8458995917385], [215.6874237060547, 202.845905036387], [215.75213623046875, 202.84804089251958], [210.53297424316406, 204.74091427619814], [206.69497680664062, 202.84589960896943], [209.04554748535156, 202.84590447755082], [207.88821411132812, 202.84589959154184], [228.34405517578125, 230.97564260891917], [212.12281799316406, 202.84589977983194], [218.3192596435547, 202.84589961475504], [426.8307189941406, 528.1148560406684], [211.79055786132812, 202.84800742656378], [210.02401733398438, 202.85271961256274], [212.35964965820312, 202.8459337135831], [214.1385955810547, 202.8458995933008], [210.91036987304688, 202.8469322994953], [1004.114990234375, 982.1075137536831], [207.70664978027344, 202.86634036639322], [210.0898895263672, 202.8458995918969], [213.63697814941406, 202.84589959190436], [215.01541137695312, 211.42337555656698], [209.83445739746094, 202.8458996098025], [213.28875732421875, 202.8458995915455], [208.34451293945312, 202.84589959155784], [208.07749938964844, 202.84589959162543], [210.2983856201172, 202.8458995917235], [210.31556701660156, 202.8458995917428], [1023.21728515625, 993.4253741856509], [208.2486572265625, 202.84589959177086], [210.31707763671875, 202.9206280055728], [218.12966918945312, 202.8458996121392], [209.36143493652344, 202.91774547114616], [215.37841796875, 218.84600708583295], [210.580322265625, 208.10184522301915], [208.31190490722656, 202.84589959156565], [210.07167053222656, 202.84589959176685], [211.02061462402344, 204.98182610527465], [346.0729675292969, 425.6733717785744], [205.39285278320312, 202.84589959187878], [210.1053466796875, 202.84590927829075], [1016.4103393554688, 992.8037745029787], [212.3291473388672, 202.86135881241702], [213.78448486328125, 202.84590041184921], [211.29148864746094, 202.84589959191413], [214.986572265625, 202.8458996039954], [1026.7510986328125, 998.9653125643163], [206.74940490722656, 202.8458995918899], [885.4611206054688, 919.0814978363186], [209.39930725097656, 202.84592813255188], [208.22512817382812, 202.84590354571762], [211.6343994140625, 202.84589961294333], [208.54176330566406, 202.84589966361705], [213.4385223388672, 202.88189375122477], [211.38316345214844, 202.8470524069955], [208.49847412109375, 202.845899591467], [204.96449279785156, 202.8458996067779], [207.44931030273438, 202.84589959218616], [207.69509887695312, 202.89840296428457], [212.3225860595703, 202.85143571642297], [215.61380004882812, 202.84599501135065], [657.1560668945312, 756.3437886209288], [905.464111328125, 926.626377977193], [206.63575744628906, 202.84589959190902], [212.45591735839844, 202.8458996517646], [214.9441680908203, 202.8511708519499], [212.421142578125, 214.31161832381747], [211.6464080810547, 202.84591418391216], [208.0574493408203, 202.85352983172302], [209.2183074951172, 202.8458996221468], [208.82696533203125, 202.8585355424438], [209.90151977539062, 202.84589962034738], [212.14425659179688, 202.91602249539457], [213.9039764404297, 202.84589959153044], [212.436767578125, 202.84590070668457], [209.76698303222656, 202.84589959681713], [214.95962524414062, 203.1128758804588], [211.22171020507812, 202.84589959192715], [208.28480529785156, 202.8458995915496], [206.328369140625, 203.48894745716373], [286.5830993652344, 348.17680263825713], [211.67665100097656, 202.8458995940716], [206.41668701171875, 202.84589959151523], [207.22488403320312, 202.8458998186414], [207.0215301513672, 202.84589959154187], [204.92977905273438, 202.84589959258383], [210.8743896484375, 202.84589959159982], [208.97500610351562, 202.8512440720852], [205.9302978515625, 202.84590536769437], [216.145751953125, 202.84589959170282], [981.2185668945312, 969.9704487091036], [208.7566375732422, 202.8459626607896], [210.01231384277344, 202.8458995917669], [210.66712951660156, 202.8458995915683], [207.28280639648438, 202.84589959183003], [213.60943603515625, 202.84589959172692], [215.91525268554688, 202.84589959186638], [207.87362670898438, 202.85302598936326], [212.35015869140625, 202.90014985686636], [1008.7392578125, 987.1381010706834], [214.3159637451172, 202.8458996873718], [207.53689575195312, 202.8459055917479], [986.5977172851562, 971.9052286262028], [209.8516845703125, 203.1704788595224], [206.3733673095703, 202.8458995915482], [215.7886962890625, 203.0854861502363], [203.85659790039062, 202.84589959251522], [210.12742614746094, 202.84589959190203], [211.0587921142578, 202.84589959189503], [208.06451416015625, 202.84589959294198], [212.15538024902344, 202.84589961472216], [207.9421844482422, 202.8458995918376], [204.79530334472656, 202.8458997415402], [207.319091796875, 202.8458995918835], [208.69561767578125, 202.8458995914683], [215.23326110839844, 202.84589959185746], [207.07293701171875, 202.84589959184134], [215.21624755859375, 202.8458995980795], [210.15817260742188, 202.84952903936363], [1013.070068359375, 989.8291685136724], [209.52401733398438, 203.14705949972483], [715.9277954101562, 806.759082218799], [206.534912109375, 202.84589959156338], [208.36334228515625, 202.8476728154268], [215.89633178710938, 202.88458598472124], [209.42434692382812, 202.8458995915438], [205.12440490722656, 202.84589959182665], [222.60716247558594, 217.2278380698248], [213.4462432861328, 202.84611301462428], [209.96728515625, 202.84589959235606], [207.50010681152344, 202.84589959162236], [205.8578338623047, 202.86936528670336], [305.94830322265625, 376.1025937237025], [208.0785675048828, 202.84590006115528], [211.7776641845703, 202.8460712652234], [207.99911499023438, 202.84589959168684], [209.46336364746094, 202.84589959176202], [208.04920959472656, 202.84590022991375], [212.12808227539062, 202.84589959162946], [220.33094787597656, 212.75298837019824], [210.89822387695312, 202.84589959161096], [209.16859436035156, 204.40446387791172], [207.70204162597656, 202.845899591926], [208.23899841308594, 202.84589959189873], [208.7316436767578, 202.84589963838926], [205.0474853515625, 202.84589959288044], [209.46409606933594, 202.86023924810127], [208.0334930419922, 202.84589959432282], [208.59286499023438, 202.84872152306343], [206.89126586914062, 202.84589959146894], [212.77749633789062, 202.886892944483], [208.81454467773438, 202.8458996015564], [203.74713134765625, 203.06315570672857], [212.07183837890625, 202.84589979618028], [208.97853088378906, 202.93963025291524], [218.05328369140625, 202.84589959203527], [216.11373901367188, 202.846196107996], [213.7637176513672, 202.84597052161078], [211.22598266601562, 202.84589959188224], [211.55210876464844, 202.84589959164316], [210.71583557128906, 202.84591834551392], [862.833984375, 901.8860270538369], [205.56723022460938, 202.8463764945503], [212.2858428955078, 202.84589959193588], [223.76785278320312, 250.76164897505456], [216.35411071777344, 202.84589972702494], [210.7423095703125, 202.85433062820897], [214.7900848388672, 202.8459008023586], [208.3609619140625, 202.84589959182034], [209.5891876220703, 202.84592810825438], [214.98216247558594, 203.38423680755432], [204.9832000732422, 202.84589959148573], [205.0258331298828, 202.84589960612925], [213.39671325683594, 202.84589959192837], [211.24794006347656, 202.8494311736294], [214.01358032226562, 202.8458995917545], [203.58470153808594, 202.84589959154448], [211.8759307861328, 202.84596468787066], [211.59986877441406, 202.84918298919337], [212.61663818359375, 208.1391410609638], [209.94956970214844, 202.84589959171123], [207.2764892578125, 202.8458996242209], [206.7542724609375, 202.84589978755238], [210.93463134765625, 202.84590379826034], [206.37826538085938, 202.96077352644025], [210.6701202392578, 202.84589959192203], [210.6173553466797, 204.15215743399418], [211.60980224609375, 202.84589959231226], [208.0796356201172, 202.84601936510867], [209.46810913085938, 202.85259707467057], [219.1049041748047, 212.7155108043417], [213.861083984375, 202.96487283472067], [210.07208251953125, 202.84589959148207], [203.41648864746094, 202.84590135276025], [208.5072784423828, 202.84589959157836], [209.26438903808594, 202.84589959159908], [210.22427368164062, 202.84589961181672], [259.0222473144531, 298.8987277562352], [209.54905700683594, 203.4524090028008], [216.73497009277344, 202.91524029398707], [229.8556365966797, 255.70740659953145], [208.29055786132812, 202.84589959178123], [214.7081298828125, 202.847954883606], [216.50302124023438, 204.37215170678311], [207.73446655273438, 202.84589959148272], [208.90850830078125, 203.33144934877978], [208.19869995117188, 202.84589961564902], [211.87161254882812, 202.84589959326328], [214.98733520507812, 202.8458995916288], [218.3444061279297, 202.8459009456706], [208.21925354003906, 202.84589959159896], [219.91641235351562, 220.46763530528497], [210.30482482910156, 203.51728425821298], [212.27235412597656, 202.84589963534455], [214.45074462890625, 202.8460357581794], [208.9268035888672, 202.87255371252445], [215.0080108642578, 209.82849844812918], [655.0367431640625, 757.5632718086207], [214.26290893554688, 202.84589959157415], [209.57322692871094, 202.8458995920448], [211.31002807617188, 202.84594391348367], [207.21389770507812, 202.84589959152567], [208.81887817382812, 202.8458995918017], [214.1796875, 202.94247954749738], [211.79507446289062, 202.8458995919223], [205.8618621826172, 202.86647764014387], [208.6534423828125, 202.84589959184345], [213.80641174316406, 202.95174578667053], [206.51060485839844, 202.84589959176355], [210.31228637695312, 202.84590204702275], [207.85708618164062, 202.8460787151285], [206.18649291992188, 202.84590396099938], [212.945556640625, 202.84589959154735], [209.26727294921875, 202.84589961224023], [206.90841674804688, 202.84591600360264], [1024.200927734375, 995.5442161998318], [209.0203094482422, 202.84589959193102], [209.0643768310547, 202.84676594734773], [287.4370422363281, 342.1611280458201], [211.04605102539062, 202.84589959221688], [210.2303009033203, 202.88029914508576], [208.33921813964844, 202.84589965224592], [216.15699768066406, 209.21802472565528], [216.1885986328125, 202.8458995947096], [213.94334411621094, 202.84589960267007], [1017.2531127929688, 991.958822552816], [207.8030242919922, 202.84589959402047], [208.5604705810547, 203.12995874024492], [239.5782928466797, 273.6450892074257], [208.63441467285156, 202.8458995918352], [214.24110412597656, 202.84589959232932], [204.4906768798828, 202.84589959147795], [204.5817108154297, 202.9117791418826], [207.3633575439453, 202.85540234357643], [210.50924682617188, 202.8737210128795], [212.23707580566406, 202.8458996156805], [213.20065307617188, 202.84589959155718], [208.851806640625, 202.84590198464093], [207.86451721191406, 202.84589959181093], [211.75494384765625, 203.06687343125833], [211.97682189941406, 202.85757614565202], [217.9514617919922, 202.84589959198044], [205.45382690429688, 202.84589967313516], [209.59475708007812, 203.09054546186553], [292.0264587402344, 358.2793508457815], [210.1319580078125, 208.25500010483893], [209.60769653320312, 202.84593829970535], [212.5294189453125, 203.74784903463168], [208.57723999023438, 202.84589959187792], [209.27706909179688, 202.8458995930598], [211.73370361328125, 202.84589959175446], [208.10125732421875, 202.8459963179685], [206.95932006835938, 202.84589959187866], [213.68556213378906, 202.84589959279847], [208.624755859375, 203.084751643853], [209.14776611328125, 202.84592444912562], [208.1077423095703, 202.84589960365335], [208.36819458007812, 202.96931924198012], [208.92645263671875, 202.84590020442246], [205.0662841796875, 202.9620947199074], [211.53448486328125, 202.84589959154223], [207.76698303222656, 202.84590796878342], [212.33038330078125, 202.8533763492832], [205.7779083251953, 202.84940077550527], [211.03085327148438, 202.8458995919059], [207.0679931640625, 202.8458995914706], [276.9560241699219, 336.88576143419357], [207.50079345703125, 202.84589959163742], [221.91738891601562, 229.1497861357257], [206.61024475097656, 202.84590152630307], [206.7427978515625, 202.84763035814223], [206.7941131591797, 202.85282721669273], [209.6184844970703, 202.84589959197692], [216.8268585205078, 202.84597042280802], [218.69424438476562, 215.03512430804088], [207.6945343017578, 202.84589962004662], [216.6487579345703, 202.84589959867523], [204.5217742919922, 202.84589959162489], [280.2059326171875, 333.74226361257456], [208.7119903564453, 202.8823546838231], [208.36500549316406, 202.8472660600429], [208.6204833984375, 202.84589959346803], [212.00387573242188, 202.84589959151177], [212.72177124023438, 202.84589959155534], [211.4091033935547, 202.8458995917548], [203.57485961914062, 202.88110912180605], [208.1457061767578, 202.84589960238992], [210.68646240234375, 202.8458995918016], [210.70266723632812, 202.8459705224532], [360.3390808105469, 435.87648784049173], [215.6823272705078, 202.84589959180275], [213.0291748046875, 202.8458995923302], [212.2770538330078, 202.8459165797052], [210.53140258789062, 202.84589959215313], [213.7762451171875, 203.26046653687308], [209.6412353515625, 202.84599041533326], [216.83575439453125, 202.8458995919122], [214.52117919921875, 202.8505545383624], [212.65188598632812, 202.84778593901072], [213.80796813964844, 202.89259734615737], [213.07835388183594, 202.8458995918531], [208.74267578125, 202.93982293993494], [210.51210021972656, 202.8458995940958], [208.6513214111328, 202.84589959700511], [1023.0917358398438, 993.3621258795527], [211.44036865234375, 202.84589959388776], [207.18280029296875, 202.84589959154565], [215.99085998535156, 202.84589959193275], [1007.5874633789062, 987.788202841802], [209.76644897460938, 202.84590016640612], [206.6015167236328, 202.84589963298527], [213.14895629882812, 202.8463739372157], [528.2073974609375, 644.4745120539427], [204.4427490234375, 202.8458995916335], [213.71343994140625, 202.8458995915831], [210.5192108154297, 202.84589959154786], [206.41273498535156, 202.84589959146987], [210.40321350097656, 202.84595613975628], [1028.9827880859375, 998.3272876858007], [208.859375, 202.8458995919258], [1017.0537719726562, 994.8209371022311], [228.093994140625, 230.58138401574374], [207.26303100585938, 202.84589961058188], [996.1680908203125, 979.3015709317717], [210.64431762695312, 202.84589961872416], [215.43142700195312, 202.84589959286907], [205.75621032714844, 203.31540615922265], [924.7608032226562, 939.2713247690006], [210.62835693359375, 202.84589959155156], [209.53367614746094, 202.84605831034813], [211.88336181640625, 202.8464451558988], [208.92111206054688, 202.84596105427937], [211.62420654296875, 202.84589975404506], [957.9224243164062, 956.3599650892885], [208.06460571289062, 202.84589959179098], [209.0018310546875, 202.84589959674244], [230.269287109375, 256.28288124984675], [213.58364868164062, 204.69735978715423], [208.53512573242188, 202.84589959183904], [209.82835388183594, 202.84589959231363], [270.85986328125, 328.39735303916837], [207.14364624023438, 202.8636806789224], [394.0347595214844, 487.5514047448196], [210.8914337158203, 202.84589959257036], [216.08706665039062, 202.84589959155474], [204.8718719482422, 202.8467942860913], [209.8487091064453, 202.89480127627334], [207.93154907226562, 202.8459165299518], [213.83541870117188, 202.84589978323677], [1023.8946533203125, 994.892843235652], [207.6689910888672, 202.8461011780861], [1022.6536865234375, 995.0739116031342], [209.95257568359375, 202.88897477578828], [212.2993621826172, 202.84590095001977], [213.5164031982422, 202.84589959468946], [210.32444763183594, 202.84589959192408], [210.63490295410156, 202.8458995928143], [210.24609375, 202.85194768865568], [213.6703338623047, 202.84590055804154], [215.3498077392578, 202.84589968667225], [207.59320068359375, 202.84589959214605], [204.1795654296875, 202.84589959192877], [485.30596923828125, 594.8254863159876], [210.38853454589844, 202.8458995914769], [214.81773376464844, 208.12603681589684], [207.52017211914062, 202.84589959192206], [210.78720092773438, 202.84589968039157], [207.1357879638672, 202.84589975766914], [205.71441650390625, 202.84589959264477], [364.0115051269531, 446.07529044960097], [287.5015563964844, 353.1908792034921], [209.79010009765625, 202.845899606809], [207.52818298339844, 202.84589959189913], [208.08853149414062, 202.84589959148258], [207.62245178222656, 202.84589959192104], [210.7266845703125, 202.84590030513235], [976.0095825195312, 965.8412129784124], [210.513671875, 202.84589959349006], [205.6177978515625, 202.84589959154602], [212.8968048095703, 202.8458995914697], [211.11410522460938, 202.84589959377425], [218.21485900878906, 202.8459004929193], [214.78834533691406, 202.84589959186826], [218.16336059570312, 210.03726566784349], [207.65167236328125, 202.84589959165382], [207.0892791748047, 202.84589959148016], [218.05555725097656, 202.84642056849808], [923.5701904296875, 936.6966256043451], [244.98280334472656, 257.2022653802591], [205.09059143066406, 202.84590340762065], [215.85154724121094, 202.8459294859877], [210.97390747070312, 202.8458998103351], [215.1506805419922, 202.84589959450028], [213.79873657226562, 202.84657259053705], [288.8731689453125, 343.67656193797114], [207.78697204589844, 202.8462133178318], [208.1764373779297, 202.84642944403646], [209.13079833984375, 202.85148062718724], [209.21766662597656, 202.85258473155343], [210.4900665283203, 202.84589959191612], [209.3290252685547, 202.845899591891], [208.9395751953125, 202.89420933466195], [213.06494140625, 202.84589960212313], [1026.0216064453125, 998.3723929192945], [210.27366638183594, 202.8459658721223], [225.57923889160156, 231.92298408934582], [207.54739379882812, 202.8458995946065], [207.29946899414062, 202.97971890696635], [212.68582153320312, 202.8458995914732], [204.21617126464844, 202.84589959183398], [310.81463623046875, 380.2970142431799], [215.5293731689453, 202.8461207219258], [208.9083251953125, 202.8458995914673], [208.66815185546875, 204.6911854305825], [210.12677001953125, 202.84606346745494], [266.3215637207031, 316.95846996603865], [211.3285369873047, 202.8458995919255], [209.74630737304688, 202.84589959801818], [881.8162841796875, 916.6606594633568], [204.54075622558594, 202.86113395036617], [542.1317138671875, 651.0833902656013], [211.21055603027344, 202.84589959181503], [206.68899536132812, 202.84590331917383], [213.86996459960938, 202.84589967990857], [203.48196411132812, 202.84843050434975], [219.33526611328125, 218.1705748168687], [215.44004821777344, 202.84589959190902], [212.11001586914062, 204.18892383914346], [205.85105895996094, 203.27141255124005], [210.3621368408203, 202.8459182478183], [214.7818603515625, 202.8458995919282], [211.57237243652344, 202.84592130922667], [207.5977020263672, 202.84589960769844], [206.16004943847656, 202.8459021581104], [211.51625061035156, 202.91442044164748], [210.47645568847656, 202.84589960171107], [203.83169555664062, 202.84590040804895], [208.02935791015625, 202.84612524432833], [212.1918182373047, 202.84590530292385], [207.6164093017578, 202.8459013459457], [211.31581115722656, 202.8458995915459], [213.03561401367188, 202.84589959309358], [209.93734741210938, 202.84589959678277], [206.80258178710938, 202.84589959154644], [210.6158447265625, 202.84589959192758], [207.65370178222656, 202.8458995915489], [214.22511291503906, 202.8463350565908], [216.44418334960938, 202.84589968288873], [207.7222442626953, 202.84589960017183], [220.4385528564453, 202.84590108237833], [215.229248046875, 202.84600513517682], [208.32171630859375, 202.84589962292813], [209.3821563720703, 202.84591531109857], [216.73191833496094, 203.63525623099906], [209.76377868652344, 202.84589959154798], [1025.932373046875, 997.6638807784002], [210.94993591308594, 202.84589960135065], [224.15740966796875, 225.45153714048413], [209.25205993652344, 202.87136914732258], [904.6315307617188, 927.4652043915888], [205.9895782470703, 202.85241883015593], [209.36099243164062, 207.4309172837687], [208.19119262695312, 203.660319858047], [214.9012908935547, 202.84678971463052], [217.6505584716797, 202.84590530804638], [208.89146423339844, 202.84589959159], [207.43833923339844, 202.84589963223323], [937.740478515625, 946.4347187909268], [214.8291778564453, 202.84589959160556], [209.84442138671875, 202.84596970444827], [209.26416015625, 202.8458995918072], [211.08790588378906, 203.197481145202], [206.9484100341797, 202.845899591562], [206.2668914794922, 202.8458996405914], [209.6982879638672, 202.8458995918609], [1024.22216796875, 997.3399627547595], [210.54736328125, 202.8462692678455], [206.35360717773438, 202.8459097080031], [215.59649658203125, 202.84589959221842], [216.30386352539062, 202.84589959174968], [211.7037811279297, 202.8458995943484], [208.7063446044922, 202.8618136355588], [339.0601501464844, 420.4778462104798], [208.0756378173828, 202.84590711800405], [215.9112091064453, 202.84590075896784], [214.34580993652344, 202.84589972808212], [209.12335205078125, 202.84934180502322], [210.05078125, 202.8463329576616], [206.0107421875, 202.8458995917151], [208.25791931152344, 203.0472309274526], [213.06141662597656, 202.84589959163], [207.2053985595703, 202.84590504734734], [210.47515869140625, 202.8458995916592], [205.13336181640625, 204.27907567276225], [204.05673217773438, 202.8594040135668], [215.2315673828125, 212.62843629993083], [447.16375732421875, 551.3950324200048], [205.08270263671875, 202.84589960182555], [209.7872772216797, 202.84589959146885], [214.33151245117188, 202.84589977286063], [212.3598175048828, 202.8459604711686], [208.78172302246094, 202.8458995992008], [1013.2446899414062, 992.9594450873726], [213.57366943359375, 202.845899591721], [209.02659606933594, 202.84591639723095], [207.61227416992188, 202.84589997210406], [214.02281188964844, 202.84595428146366], [208.3151397705078, 202.84589959251136], [576.8983154296875, 686.6589504731959], [206.2395477294922, 202.84589959185888], [211.76950073242188, 202.8643231115218], [213.056884765625, 202.84590133669002], [212.0426025390625, 210.29750909049488], [207.04530334472656, 202.84589959279268], [209.705810546875, 202.84589959158663], [215.82040405273438, 202.84589959154604], [216.68399047851562, 202.84589959181488], [213.90313720703125, 202.8458996372793], [207.1793212890625, 202.84590004315547], [212.9180908203125, 203.38875843045804], [210.2231903076172, 202.8458995918994], [213.6272430419922, 202.84589959184584], [208.0105438232422, 202.84589959191638], [215.76104736328125, 202.84589959443537], [212.61512756347656, 202.8458995915209], [222.75714111328125, 225.83052173946754], [208.07986450195312, 202.84589959214114], [212.94607543945312, 202.84589985532966], [211.66221618652344, 202.8458997286426], [218.34584045410156, 202.84589959198354], [212.45156860351562, 209.06941213567438], [212.22666931152344, 202.85147012819323], [918.6947021484375, 933.9646213684038], [208.21827697753906, 202.88489985633484], [987.4069213867188, 973.9694409547953], [204.75222778320312, 203.87590384238274], [205.21690368652344, 202.8459054064563], [214.88494873046875, 202.84589959172524], [215.54556274414062, 202.84589959185826], [206.42884826660156, 202.91109807548634], [211.0297393798828, 202.84589959165413], [216.75784301757812, 202.84589959155227], [203.89181518554688, 202.8458995917154], [208.21566772460938, 202.8824593978123], [865.2340698242188, 906.4388287999502], [207.0691375732422, 202.84632939126544], [212.2205352783203, 202.84589966553634], [205.56704711914062, 202.84589959160567], [214.22726440429688, 202.84589959169574], [212.9735870361328, 202.84589959188938], [299.1888122558594, 360.7719278862793], [423.6750793457031, 522.271169917437], [208.42739868164062, 202.84590128949887], [210.414794921875, 202.84589959162668], [1002.5162353515625, 980.8025089852462], [209.6221923828125, 202.8459029290201], [210.27154541015625, 203.02507867159215], [214.379638671875, 202.845899591554], [207.3721160888672, 202.87401704267077], [212.18490600585938, 202.84589961863736], [528.4517822265625, 641.0245776637232], [207.8516845703125, 202.84589959286777], [212.01620483398438, 202.8462708340854], [207.74024963378906, 202.84589959190404], [291.5201110839844, 360.4742829081158], [210.61520385742188, 202.8458995921779], [209.3628387451172, 202.84589959174147], [211.61532592773438, 202.8458995919221], [210.67381286621094, 202.84589959166846], [572.6380004882812, 681.9620800040633], [906.5658569335938, 927.9110546748443], [208.78353881835938, 202.8458995916485], [212.06678771972656, 203.02283554137315], [232.06607055664062, 258.0168162980054], [202.24806213378906, 202.8459336073681], [206.0127716064453, 202.84589959188745], [205.59104919433594, 202.8475663625295], [210.89041137695312, 202.8458995977506], [217.70123291015625, 202.84589959151958], [214.55572509765625, 202.84594002824937], [209.96197509765625, 202.84589959316818], [210.42860412597656, 202.84590288040133], [207.6222381591797, 202.8458995915593], [209.38040161132812, 202.8458995917119], [211.81552124023438, 202.84589959189572], [204.75619506835938, 202.84589959193468], [1002.90673828125, 981.6212201421052], [210.54910278320312, 207.17714714087936], [211.13912963867188, 202.86773528609052], [209.716064453125, 202.84809465811776], [213.0266876220703, 203.90228597542776], [211.1263885498047, 202.84589959155116], [212.34840393066406, 202.9267163985227], [212.7282257080078, 202.84590550936443], [217.03456115722656, 202.84589963376408], [208.1612091064453, 202.84589959158603], [214.5825653076172, 202.8458995919177], [214.75125122070312, 202.87960024772525], [1019.8643188476562, 992.2177552195922], [211.90419006347656, 207.6676592183173], [479.8869323730469, 594.3460018665061], [216.66725158691406, 202.84668006949934], [206.15383911132812, 202.84589959296292], [209.64471435546875, 202.8468266807955], [237.88829040527344, 264.5563613616413], [213.3873748779297, 202.84589976316744], [210.05722045898438, 202.84589959160317], [209.0968780517578, 202.84589959517402], [208.86856079101562, 202.8617761606818], [209.37432861328125, 202.84589959183037], [208.66195678710938, 202.8695352700221], [208.70664978027344, 202.8459789130776], [208.48435974121094, 202.84589959192297], [211.53201293945312, 202.84589959161937], [210.3731689453125, 202.84658362719475], [215.7287139892578, 202.84589960648634], [1008.1167602539062, 984.4417073590981], [210.57986450195312, 202.84612483246624], [209.74571228027344, 202.84589997412016], [1023.5131225585938, 995.5165685342106], [209.55194091796875, 202.84656029468135], [210.2600860595703, 202.8461254583304], [204.329833984375, 202.84589959190123], [1025.233642578125, 998.4061043617169], [214.96951293945312, 202.84590168859773], [215.2712860107422, 211.9106567819733], [210.42385864257812, 202.84589959193346], [214.83970642089844, 202.84923766955103], [209.51654052734375, 204.6616407683561], [213.7132110595703, 202.84786105320026], [223.55638122558594, 238.16464137333287], [215.0485076904297, 202.84589959156617], [205.53607177734375, 202.84589959147192], [211.44375610351562, 202.84589959154394], [1021.425537109375, 995.7022939020178], [211.9639434814453, 202.8458995919335], [1028.3160400390625, 998.7548594427318], [211.4460906982422, 202.84589959569902], [215.08865356445312, 202.93501446820056], [212.8323974609375, 206.38201656249325], [214.92811584472656, 202.8459068413945], [214.9869842529297, 202.84589959526073], [205.61524963378906, 202.8459004152708], [214.63272094726562, 202.8513004266543], [206.50161743164062, 202.84589959255237], [211.65023803710938, 202.8915031240402], [210.5502166748047, 202.84589959393227], [214.03370666503906, 202.84589998872463], [211.013427734375, 202.8458997852837], [208.67025756835938, 203.5316080480798], [214.95542907714844, 202.87691130559017], [204.7037811279297, 202.8458995918581], [216.32789611816406, 202.84798369296325], [208.46495056152344, 204.1674534144772], [209.4027099609375, 203.14541309850438], [205.3521270751953, 202.84589976835284], [211.54800415039062, 202.84625981322083], [212.2189483642578, 220.27654443432968], [240.104248046875, 259.57364473881404], [216.39991760253906, 202.8458997272492], [215.1614227294922, 203.45031247702363], [207.53900146484375, 202.84590007774744], [214.75271606445312, 202.84589959148954], [212.20115661621094, 202.8458995915382], [218.4438934326172, 202.84591359607572], [204.1401824951172, 202.8459516456979], [206.6136932373047, 202.84589993424538], [1009.6453857421875, 984.5341059000582], [209.08816528320312, 202.84589959175906], [209.33226013183594, 202.845899650866], [210.17160034179688, 202.8472426559498], [208.40631103515625, 202.8458995941442], [210.60577392578125, 202.84589972265286], [207.4430389404297, 202.91867287632115], [213.85733032226562, 202.84589959190947], [211.40447998046875, 202.8459583693965], [512.5068359375, 623.7566649764069], [697.443115234375, 786.3419375856448], [986.4840087890625, 971.7721069018559], [211.83392333984375, 202.8459023892034], [205.68565368652344, 202.84589959189603], [211.9537811279297, 202.87263489184306], [208.2830352783203, 202.86022229746123], [229.35752868652344, 242.84895686130514], [205.82728576660156, 202.84589959185317], [208.81680297851562, 202.84590025928534], [216.33203125, 202.845925353699], [206.94610595703125, 202.84589959157162], [218.80702209472656, 223.2403440007702], [213.631103515625, 202.9165771407218], [978.7955932617188, 969.3585238403022], [211.15628051757812, 202.84589959147362], [212.6343536376953, 202.84589959164882], [206.69728088378906, 202.84589959173675], [216.82237243652344, 202.84590248314288], [208.8743133544922, 202.84589959217467], [209.0848388671875, 203.22603370123082], [207.9648895263672, 202.8458995919265], [222.63351440429688, 230.02489010721624], [207.69046020507812, 202.84727739948806], [216.9666748046875, 202.84589959913882], [211.1340789794922, 202.8477519172901], [207.3624267578125, 202.8458995915701], [216.9537811279297, 202.84589959192445], [1022.8963623046875, 994.7216827512594], [205.9634246826172, 202.84589959185269], [209.44525146484375, 202.84590252759023], [206.77723693847656, 202.905296470884], [215.1322784423828, 202.84589959294698], [241.6697540283203, 258.34685525706453], [211.2253875732422, 203.26752987331528], [517.2081909179688, 626.5859545104994], [213.24644470214844, 215.51103374478367], [206.9695587158203, 202.845899591553], [210.54295349121094, 202.84606450850404], [207.39515686035156, 202.84589959189964], [216.3030242919922, 216.93160197539476], [215.32064819335938, 202.91181404740882], [1025.0882568359375, 996.1208391931709], [208.13714599609375, 202.87456740771663], [213.53424072265625, 202.84589959292455], [211.77359008789062, 202.84589959222507], [214.4775390625, 202.84589964547067], [206.79519653320312, 202.8481051651119], [1028.3282470703125, 998.3458048751877], [209.19593811035156, 202.84589959327977], [214.0319366455078, 202.8458995920153], [206.92156982421875, 202.8485973599365], [213.99432373046875, 203.2163155292201], [207.73907470703125, 202.8470618451313], [224.2803497314453, 241.19748944903424], [211.9909210205078, 202.84591024193563], [205.98411560058594, 202.84589959178894], [699.1445922851562, 794.6977721732152], [211.91725158691406, 202.84589959154798], [210.7586669921875, 202.99203424988835], [209.00811767578125, 202.84589959184797], [208.91761779785156, 202.84592578116096], [210.34552001953125, 202.84589959154408], [488.0841064453125, 594.2531887288467], [209.80624389648438, 202.84589959193227], [211.0126495361328, 202.94517541102744], [209.52322387695312, 202.84589959154363], [215.16795349121094, 202.84589961465903], [211.61195373535156, 202.8458995915417], [211.44027709960938, 212.5542581361285], [214.94760131835938, 202.84859550693454], [212.88230895996094, 202.84589959154133], [208.87686157226562, 202.91063174302442], [208.556884765625, 202.8458995947393], [211.6370849609375, 203.02483963466665], [209.84043884277344, 202.8459281045325], [207.4451904296875, 202.84589959362268], [211.24966430664062, 202.84589959191987], [204.95553588867188, 202.8458997145653], [326.775634765625, 404.767707996514], [206.82925415039062, 202.84589959154613], [210.24708557128906, 203.53189169087045], [209.4027862548828, 202.84650538601008], [205.82733154296875, 203.36610239134708], [211.89459228515625, 202.8458995918244], [216.74952697753906, 202.93281959853238], [209.8433380126953, 202.84589959296426], [207.74522399902344, 202.845899591931], [212.9120330810547, 204.3590067373736], [211.55738830566406, 202.8458999005774], [214.9862518310547, 202.8458995918912], [204.91099548339844, 202.84590006176555], [298.5993957519531, 371.8561370633967], [204.46815490722656, 202.8890306881198], [215.21998596191406, 202.85032536548115], [210.69264221191406, 202.9489460015465], [212.76425170898438, 202.84589968231742], [205.09812927246094, 202.84727521698957], [208.7694091796875, 202.8876315355135], [216.51126098632812, 202.84731000289517], [204.6380615234375, 202.84589959157478], [205.0133819580078, 202.8458995915487], [443.472412109375, 546.5161667364393], [204.41883850097656, 202.8458995919192], [209.37332153320312, 203.71972470495137], [218.2970428466797, 212.62237925310123], [207.1818084716797, 202.8458995915443], [212.7667999267578, 202.84589959177606], [1009.8789672851562, 989.0863218547129], [217.12681579589844, 202.8463051855772], [209.53457641601562, 202.84590053299019], [214.2546844482422, 202.84589959608144], [211.4635009765625, 202.84589959177345], [209.61318969726562, 202.84589959193264], [212.78343200683594, 207.09148029700575], [215.0518798828125, 202.84589959182267], [213.8332061767578, 202.84599994351615], [214.45379638671875, 202.87930686876498], [214.31048583984375, 202.84589959852252], [207.76449584960938, 202.84589959190563], [207.772216796875, 202.94100695240294], [208.51712036132812, 202.84589959190896], [702.2217407226562, 792.7362425348157], [209.05557250976562, 202.84589960269298], [210.8413848876953, 202.87180459037026], [213.6831512451172, 202.845899592217], [214.8618927001953, 202.845997558348], [217.6002197265625, 202.86581821357566], [207.23716735839844, 202.84589961868133], [205.2822265625, 202.84590859286084], [207.09373474121094, 202.8480935479008], [210.63052368164062, 202.84603884906588], [206.6671142578125, 202.84589959190532], [210.3681182861328, 202.84589967994495], [210.8065948486328, 202.84589959188784], [211.81687927246094, 202.84589959154806], [206.11024475097656, 202.90247752798265], [205.09872436523438, 202.84589959155795], [983.8265380859375, 973.3447501372766], [210.47579956054688, 202.84589959192314], [207.62533569335938, 202.8520377046421], [213.77371215820312, 203.59061019119963], [207.07797241210938, 202.8458995915582], [213.65652465820312, 202.8459096280242], [211.1420440673828, 202.8458995916803], [212.77346801757812, 202.84590154957988], [504.79083251953125, 611.5192585342917], [609.003173828125, 717.4025041023609], [212.08279418945312, 202.84589966668585], [240.1079559326172, 254.00329397240148], [206.88198852539062, 202.84589959191817], [216.48507690429688, 202.84589959176787], [209.1743621826172, 202.84589959248086], [212.4742431640625, 202.84589980493888], [217.34848022460938, 202.8511669835287], [206.53140258789062, 205.8320735596285], [1000.0159301757812, 980.6760475131434], [212.2880859375, 202.9185503918788], [209.7294158935547, 202.8458995930263], [208.80404663085938, 202.84589959276525], [211.44175720214844, 202.84589959188986], [204.73318481445312, 202.84591186485795], [209.8571319580078, 202.84589959185308], [206.98171997070312, 202.84840602794753], [213.75833129882812, 202.8458996212055], [866.8451538085938, 909.7958230310358], [205.55271911621094, 202.84589959184876], [207.85015869140625, 202.8458995914913], [211.81365966796875, 207.1268856251115], [204.57733154296875, 202.84589959520198], [215.7335662841797, 202.8458995919102], [207.02684020996094, 202.84589959192948], [212.59783935546875, 202.8458995918716], [210.8152618408203, 205.09130287719057], [213.6194610595703, 202.84589959166857], [208.62213134765625, 202.84589959177364], [211.2428436279297, 212.79150170619698], [209.7400360107422, 202.84606305030098], [204.21475219726562, 202.84590247157522], [452.1783752441406, 556.9738928385984], [402.85235595703125, 499.43133743730635], [209.792236328125, 202.84649675432922], [209.96629333496094, 202.8466140520646], [209.154296875, 202.84589965702736], [205.2796630859375, 202.84589959191715], [205.04212951660156, 202.84589959238318], [1014.405517578125, 987.8165371056458], [207.0897674560547, 202.84589959155946], [208.63731384277344, 202.84590218811675], [206.49696350097656, 204.4552214379057], [205.98887634277344, 202.84590359694403], [217.06297302246094, 203.05762627940663], [212.70297241210938, 205.97681590613172], [205.37753295898438, 202.8459008556725], [215.06472778320312, 202.84589959179053], [228.4887237548828, 228.59418292423229], [212.49049377441406, 202.84589959192652], [212.07740783691406, 202.84590023375847], [212.54336547851562, 203.38963299956967], [209.57254028320312, 202.84590135583082], [210.098876953125, 214.91965980946304], [211.8841094970703, 202.84653990290525], [209.4499969482422, 202.94316400180597], [210.04527282714844, 202.84589959178598], [209.81932067871094, 202.84589959235697], [230.63449096679688, 233.6382381603629], [205.4940948486328, 203.30641667613028], [207.14707946777344, 202.8458995929386], [212.17581176757812, 203.58735754267096], [216.30313110351562, 220.53622717292092], [212.93692016601562, 202.84593826982973], [214.49546813964844, 202.86285110645386], [358.7009582519531, 443.4131835291009], [210.27256774902344, 202.84589960809112], [204.38839721679688, 202.8458998604355], [215.42076110839844, 202.84589959193744], [213.62847900390625, 202.84589960911293], [209.37271118164062, 202.84589959147004], [1017.1113891601562, 994.7826700541891], [214.8507843017578, 202.8459023179095], [217.77310180664062, 203.41257268973533], [214.20860290527344, 202.84589959193], [214.58413696289062, 202.84589959189793], [214.95408630371094, 206.13208150286962], [209.859130859375, 202.84637581501855], [217.72010803222656, 214.15514015077315], [211.49046325683594, 202.8459026542121], [224.3749542236328, 227.22198935257921], [212.2128448486328, 202.84590027424582], [209.80062866210938, 202.8458996943225], [217.6733856201172, 202.8458995915769], [214.35934448242188, 202.89373981372412], [238.72711181640625, 251.3149901521718], [209.4118194580078, 202.84589961672674], [215.9563751220703, 202.86205662836352], [210.84446716308594, 203.24513082405275], [217.07505798339844, 205.30815304000873], [208.50022888183594, 202.84607006684377], [214.0552520751953, 202.84589959186528], [209.07928466796875, 208.56586373621965], [207.66610717773438, 202.84589959151114], [214.8758544921875, 202.84590515310077], [210.91827392578125, 202.84589959157316], [209.30596923828125, 202.84589959170665], [213.42410278320312, 202.84589959157393], [210.44715881347656, 212.1262400966082], [213.8712158203125, 202.85611431030765], [213.02178955078125, 202.84589959164649], [213.95701599121094, 202.84589959178464], [210.5249481201172, 202.89539667647387], [211.82730102539062, 203.39676340120062], [228.52662658691406, 239.64327716275227], [207.47821044921875, 202.84589959149847], [207.08045959472656, 202.8550997987608], [674.99609375, 777.136514910563], [209.6965789794922, 202.8583330446443], [211.0144805908203, 202.84589959179164], [220.42710876464844, 224.86350964017257], [205.28550720214844, 202.84589959227253], [212.06419372558594, 202.84590669339582], [236.1265411376953, 269.7747859210088], [209.64181518554688, 202.9234286807872], [210.20884704589844, 202.84927092411743], [210.67971801757812, 202.8459133382098], [206.80787658691406, 202.8458996637962], [208.01809692382812, 203.08471725655278], [213.87110900878906, 202.84589965554528], [216.2169189453125, 202.84589959318754], [208.0096893310547, 202.84589959227483], [205.11505126953125, 202.84604081587318], [211.2454376220703, 202.84590147528044], [214.7690887451172, 202.84589959164995], [212.0979766845703, 217.87900187946133], [212.30186462402344, 202.845899591928], [207.6597442626953, 202.8458995917463], [210.90853881835938, 202.95431978215893], [206.2197265625, 202.84589959190757], [213.2615966796875, 202.84595963837486], [217.78070068359375, 205.2086099049781], [209.61534118652344, 202.84589959160047], [205.96519470214844, 202.8459071459445], [210.60028076171875, 202.8458995915577], [205.98841857910156, 202.84613314816622], [216.07676696777344, 202.84589959154906], [209.5829620361328, 202.84589959154854], [251.7521209716797, 288.12129521693964], [891.7627563476562, 922.5418056946107], [213.21803283691406, 202.90285654657885], [208.4827423095703, 202.881253384886], [209.98883056640625, 202.8458995914873], [213.10675048828125, 202.8458995915083], [216.93878173828125, 202.84589960070952], [215.06292724609375, 202.84589959192607], [207.9746856689453, 202.84589966767868], [213.34658813476562, 210.86686019366647]]}, \"id\": \"el119140467132821968\", \"plugins\": [{\"type\": \"reset\"}, {\"type\": \"zoom\", \"button\": true, \"enabled\": false}, {\"type\": \"boxzoom\", \"button\": true, \"enabled\": false}]});\n",
              "      });\n",
              "    });\n",
              "}else{\n",
              "    // require.js not available: dynamically load d3 & mpld3\n",
              "    mpld3_load_lib(\"https://d3js.org/d3.v5.js\", function(){\n",
              "         mpld3_load_lib(\"https://mpld3.github.io/js/mpld3.v0.5.1.js\", function(){\n",
              "                 \n",
              "                 mpld3.draw_figure(\"fig_el119140467132821968688881314\", {\"width\": 432.0, \"height\": 288.0, \"axes\": [{\"bbox\": [0.125, 0.125, 0.775, 0.755], \"xlim\": [160.91132583618165, 1070.3195243835448], \"ylim\": [163.03992894282453, 1038.7712832129587], \"xdomain\": [160.91132583618165, 1070.3195243835448], \"ydomain\": [163.03992894282453, 1038.7712832129587], \"xscale\": \"linear\", \"yscale\": \"linear\", \"axes\": [{\"position\": \"bottom\", \"nticks\": 7, \"tickvalues\": null, \"tickformat_formatter\": \"\", \"tickformat\": null, \"scale\": \"linear\", \"fontsize\": 10.0, \"grid\": {\"gridOn\": false}, \"visible\": true}, {\"position\": \"left\", \"nticks\": 11, \"tickvalues\": null, \"tickformat_formatter\": \"\", \"tickformat\": null, \"scale\": \"linear\", \"fontsize\": 10.0, \"grid\": {\"gridOn\": false}, \"visible\": true}], \"axesbg\": \"#FFFFFF\", \"axesbgalpha\": null, \"zoomable\": true, \"id\": \"el119140467106221472\", \"lines\": [], \"paths\": [], \"markers\": [], \"texts\": [], \"collections\": [{\"offsets\": \"data01\", \"xindex\": 0, \"yindex\": 1, \"paths\": [[[[0.0, -0.5], [0.13260155, -0.5], [0.25978993539242673, -0.44731684579412084], [0.3535533905932738, -0.3535533905932738], [0.44731684579412084, -0.25978993539242673], [0.5, -0.13260155], [0.5, 0.0], [0.5, 0.13260155], [0.44731684579412084, 0.25978993539242673], [0.3535533905932738, 0.3535533905932738], [0.25978993539242673, 0.44731684579412084], [0.13260155, 0.5], [0.0, 0.5], [-0.13260155, 0.5], [-0.25978993539242673, 0.44731684579412084], [-0.3535533905932738, 0.3535533905932738], [-0.44731684579412084, 0.25978993539242673], [-0.5, 0.13260155], [-0.5, 0.0], [-0.5, -0.13260155], [-0.44731684579412084, -0.25978993539242673], [-0.3535533905932738, -0.3535533905932738], [-0.25978993539242673, -0.44731684579412084], [-0.13260155, -0.5], [0.0, -0.5]], [\"M\", \"C\", \"C\", \"C\", \"C\", \"C\", \"C\", \"C\", \"C\", \"Z\"]]], \"pathtransforms\": [[6.0, 0.0, 0.0, 6.0, 0.0, 0.0]], \"alphas\": [null], \"edgecolors\": [\"#1F77B4\"], \"facecolors\": [\"#1F77B4\"], \"edgewidths\": [1.0], \"offsetcoordinates\": \"data\", \"pathcoordinates\": \"display\", \"zorder\": 1, \"id\": \"el119140467105348128\"}], \"images\": [], \"sharex\": [], \"sharey\": []}], \"data\": {\"data01\": [[211.09034729003906, 202.84590018863085], [208.28707885742188, 203.1246518036745], [216.56199645996094, 202.84589959159464], [213.14906311035156, 202.8965468700503], [284.3699951171875, 341.8706143595705], [1011.2233276367188, 988.9263299009599], [204.8359375, 202.84590301206003], [209.42381286621094, 202.84589959157935], [212.44776916503906, 202.84589959173147], [315.45361328125, 389.32710919877763], [209.8370361328125, 202.8458995917385], [215.6874237060547, 202.845905036387], [215.75213623046875, 202.84804089251958], [210.53297424316406, 204.74091427619814], [206.69497680664062, 202.84589960896943], [209.04554748535156, 202.84590447755082], [207.88821411132812, 202.84589959154184], [228.34405517578125, 230.97564260891917], [212.12281799316406, 202.84589977983194], [218.3192596435547, 202.84589961475504], [426.8307189941406, 528.1148560406684], [211.79055786132812, 202.84800742656378], [210.02401733398438, 202.85271961256274], [212.35964965820312, 202.8459337135831], [214.1385955810547, 202.8458995933008], [210.91036987304688, 202.8469322994953], [1004.114990234375, 982.1075137536831], [207.70664978027344, 202.86634036639322], [210.0898895263672, 202.8458995918969], [213.63697814941406, 202.84589959190436], [215.01541137695312, 211.42337555656698], [209.83445739746094, 202.8458996098025], [213.28875732421875, 202.8458995915455], [208.34451293945312, 202.84589959155784], [208.07749938964844, 202.84589959162543], [210.2983856201172, 202.8458995917235], [210.31556701660156, 202.8458995917428], [1023.21728515625, 993.4253741856509], [208.2486572265625, 202.84589959177086], [210.31707763671875, 202.9206280055728], [218.12966918945312, 202.8458996121392], [209.36143493652344, 202.91774547114616], [215.37841796875, 218.84600708583295], [210.580322265625, 208.10184522301915], [208.31190490722656, 202.84589959156565], [210.07167053222656, 202.84589959176685], [211.02061462402344, 204.98182610527465], [346.0729675292969, 425.6733717785744], [205.39285278320312, 202.84589959187878], [210.1053466796875, 202.84590927829075], [1016.4103393554688, 992.8037745029787], [212.3291473388672, 202.86135881241702], [213.78448486328125, 202.84590041184921], [211.29148864746094, 202.84589959191413], [214.986572265625, 202.8458996039954], [1026.7510986328125, 998.9653125643163], [206.74940490722656, 202.8458995918899], [885.4611206054688, 919.0814978363186], [209.39930725097656, 202.84592813255188], [208.22512817382812, 202.84590354571762], [211.6343994140625, 202.84589961294333], [208.54176330566406, 202.84589966361705], [213.4385223388672, 202.88189375122477], [211.38316345214844, 202.8470524069955], [208.49847412109375, 202.845899591467], [204.96449279785156, 202.8458996067779], [207.44931030273438, 202.84589959218616], [207.69509887695312, 202.89840296428457], [212.3225860595703, 202.85143571642297], [215.61380004882812, 202.84599501135065], [657.1560668945312, 756.3437886209288], [905.464111328125, 926.626377977193], [206.63575744628906, 202.84589959190902], [212.45591735839844, 202.8458996517646], [214.9441680908203, 202.8511708519499], [212.421142578125, 214.31161832381747], [211.6464080810547, 202.84591418391216], [208.0574493408203, 202.85352983172302], [209.2183074951172, 202.8458996221468], [208.82696533203125, 202.8585355424438], [209.90151977539062, 202.84589962034738], [212.14425659179688, 202.91602249539457], [213.9039764404297, 202.84589959153044], [212.436767578125, 202.84590070668457], [209.76698303222656, 202.84589959681713], [214.95962524414062, 203.1128758804588], [211.22171020507812, 202.84589959192715], [208.28480529785156, 202.8458995915496], [206.328369140625, 203.48894745716373], [286.5830993652344, 348.17680263825713], [211.67665100097656, 202.8458995940716], [206.41668701171875, 202.84589959151523], [207.22488403320312, 202.8458998186414], [207.0215301513672, 202.84589959154187], [204.92977905273438, 202.84589959258383], [210.8743896484375, 202.84589959159982], [208.97500610351562, 202.8512440720852], [205.9302978515625, 202.84590536769437], [216.145751953125, 202.84589959170282], [981.2185668945312, 969.9704487091036], [208.7566375732422, 202.8459626607896], [210.01231384277344, 202.8458995917669], [210.66712951660156, 202.8458995915683], [207.28280639648438, 202.84589959183003], [213.60943603515625, 202.84589959172692], [215.91525268554688, 202.84589959186638], [207.87362670898438, 202.85302598936326], [212.35015869140625, 202.90014985686636], [1008.7392578125, 987.1381010706834], [214.3159637451172, 202.8458996873718], [207.53689575195312, 202.8459055917479], [986.5977172851562, 971.9052286262028], [209.8516845703125, 203.1704788595224], [206.3733673095703, 202.8458995915482], [215.7886962890625, 203.0854861502363], [203.85659790039062, 202.84589959251522], [210.12742614746094, 202.84589959190203], [211.0587921142578, 202.84589959189503], [208.06451416015625, 202.84589959294198], [212.15538024902344, 202.84589961472216], [207.9421844482422, 202.8458995918376], [204.79530334472656, 202.8458997415402], [207.319091796875, 202.8458995918835], [208.69561767578125, 202.8458995914683], [215.23326110839844, 202.84589959185746], [207.07293701171875, 202.84589959184134], [215.21624755859375, 202.8458995980795], [210.15817260742188, 202.84952903936363], [1013.070068359375, 989.8291685136724], [209.52401733398438, 203.14705949972483], [715.9277954101562, 806.759082218799], [206.534912109375, 202.84589959156338], [208.36334228515625, 202.8476728154268], [215.89633178710938, 202.88458598472124], [209.42434692382812, 202.8458995915438], [205.12440490722656, 202.84589959182665], [222.60716247558594, 217.2278380698248], [213.4462432861328, 202.84611301462428], [209.96728515625, 202.84589959235606], [207.50010681152344, 202.84589959162236], [205.8578338623047, 202.86936528670336], [305.94830322265625, 376.1025937237025], [208.0785675048828, 202.84590006115528], [211.7776641845703, 202.8460712652234], [207.99911499023438, 202.84589959168684], [209.46336364746094, 202.84589959176202], [208.04920959472656, 202.84590022991375], [212.12808227539062, 202.84589959162946], [220.33094787597656, 212.75298837019824], [210.89822387695312, 202.84589959161096], [209.16859436035156, 204.40446387791172], [207.70204162597656, 202.845899591926], [208.23899841308594, 202.84589959189873], [208.7316436767578, 202.84589963838926], [205.0474853515625, 202.84589959288044], [209.46409606933594, 202.86023924810127], [208.0334930419922, 202.84589959432282], [208.59286499023438, 202.84872152306343], [206.89126586914062, 202.84589959146894], [212.77749633789062, 202.886892944483], [208.81454467773438, 202.8458996015564], [203.74713134765625, 203.06315570672857], [212.07183837890625, 202.84589979618028], [208.97853088378906, 202.93963025291524], [218.05328369140625, 202.84589959203527], [216.11373901367188, 202.846196107996], [213.7637176513672, 202.84597052161078], [211.22598266601562, 202.84589959188224], [211.55210876464844, 202.84589959164316], [210.71583557128906, 202.84591834551392], [862.833984375, 901.8860270538369], [205.56723022460938, 202.8463764945503], [212.2858428955078, 202.84589959193588], [223.76785278320312, 250.76164897505456], [216.35411071777344, 202.84589972702494], [210.7423095703125, 202.85433062820897], [214.7900848388672, 202.8459008023586], [208.3609619140625, 202.84589959182034], [209.5891876220703, 202.84592810825438], [214.98216247558594, 203.38423680755432], [204.9832000732422, 202.84589959148573], [205.0258331298828, 202.84589960612925], [213.39671325683594, 202.84589959192837], [211.24794006347656, 202.8494311736294], [214.01358032226562, 202.8458995917545], [203.58470153808594, 202.84589959154448], [211.8759307861328, 202.84596468787066], [211.59986877441406, 202.84918298919337], [212.61663818359375, 208.1391410609638], [209.94956970214844, 202.84589959171123], [207.2764892578125, 202.8458996242209], [206.7542724609375, 202.84589978755238], [210.93463134765625, 202.84590379826034], [206.37826538085938, 202.96077352644025], [210.6701202392578, 202.84589959192203], [210.6173553466797, 204.15215743399418], [211.60980224609375, 202.84589959231226], [208.0796356201172, 202.84601936510867], [209.46810913085938, 202.85259707467057], [219.1049041748047, 212.7155108043417], [213.861083984375, 202.96487283472067], [210.07208251953125, 202.84589959148207], [203.41648864746094, 202.84590135276025], [208.5072784423828, 202.84589959157836], [209.26438903808594, 202.84589959159908], [210.22427368164062, 202.84589961181672], [259.0222473144531, 298.8987277562352], [209.54905700683594, 203.4524090028008], [216.73497009277344, 202.91524029398707], [229.8556365966797, 255.70740659953145], [208.29055786132812, 202.84589959178123], [214.7081298828125, 202.847954883606], [216.50302124023438, 204.37215170678311], [207.73446655273438, 202.84589959148272], [208.90850830078125, 203.33144934877978], [208.19869995117188, 202.84589961564902], [211.87161254882812, 202.84589959326328], [214.98733520507812, 202.8458995916288], [218.3444061279297, 202.8459009456706], [208.21925354003906, 202.84589959159896], [219.91641235351562, 220.46763530528497], [210.30482482910156, 203.51728425821298], [212.27235412597656, 202.84589963534455], [214.45074462890625, 202.8460357581794], [208.9268035888672, 202.87255371252445], [215.0080108642578, 209.82849844812918], [655.0367431640625, 757.5632718086207], [214.26290893554688, 202.84589959157415], [209.57322692871094, 202.8458995920448], [211.31002807617188, 202.84594391348367], [207.21389770507812, 202.84589959152567], [208.81887817382812, 202.8458995918017], [214.1796875, 202.94247954749738], [211.79507446289062, 202.8458995919223], [205.8618621826172, 202.86647764014387], [208.6534423828125, 202.84589959184345], [213.80641174316406, 202.95174578667053], [206.51060485839844, 202.84589959176355], [210.31228637695312, 202.84590204702275], [207.85708618164062, 202.8460787151285], [206.18649291992188, 202.84590396099938], [212.945556640625, 202.84589959154735], [209.26727294921875, 202.84589961224023], [206.90841674804688, 202.84591600360264], [1024.200927734375, 995.5442161998318], [209.0203094482422, 202.84589959193102], [209.0643768310547, 202.84676594734773], [287.4370422363281, 342.1611280458201], [211.04605102539062, 202.84589959221688], [210.2303009033203, 202.88029914508576], [208.33921813964844, 202.84589965224592], [216.15699768066406, 209.21802472565528], [216.1885986328125, 202.8458995947096], [213.94334411621094, 202.84589960267007], [1017.2531127929688, 991.958822552816], [207.8030242919922, 202.84589959402047], [208.5604705810547, 203.12995874024492], [239.5782928466797, 273.6450892074257], [208.63441467285156, 202.8458995918352], [214.24110412597656, 202.84589959232932], [204.4906768798828, 202.84589959147795], [204.5817108154297, 202.9117791418826], [207.3633575439453, 202.85540234357643], [210.50924682617188, 202.8737210128795], [212.23707580566406, 202.8458996156805], [213.20065307617188, 202.84589959155718], [208.851806640625, 202.84590198464093], [207.86451721191406, 202.84589959181093], [211.75494384765625, 203.06687343125833], [211.97682189941406, 202.85757614565202], [217.9514617919922, 202.84589959198044], [205.45382690429688, 202.84589967313516], [209.59475708007812, 203.09054546186553], [292.0264587402344, 358.2793508457815], [210.1319580078125, 208.25500010483893], [209.60769653320312, 202.84593829970535], [212.5294189453125, 203.74784903463168], [208.57723999023438, 202.84589959187792], [209.27706909179688, 202.8458995930598], [211.73370361328125, 202.84589959175446], [208.10125732421875, 202.8459963179685], [206.95932006835938, 202.84589959187866], [213.68556213378906, 202.84589959279847], [208.624755859375, 203.084751643853], [209.14776611328125, 202.84592444912562], [208.1077423095703, 202.84589960365335], [208.36819458007812, 202.96931924198012], [208.92645263671875, 202.84590020442246], [205.0662841796875, 202.9620947199074], [211.53448486328125, 202.84589959154223], [207.76698303222656, 202.84590796878342], [212.33038330078125, 202.8533763492832], [205.7779083251953, 202.84940077550527], [211.03085327148438, 202.8458995919059], [207.0679931640625, 202.8458995914706], [276.9560241699219, 336.88576143419357], [207.50079345703125, 202.84589959163742], [221.91738891601562, 229.1497861357257], [206.61024475097656, 202.84590152630307], [206.7427978515625, 202.84763035814223], [206.7941131591797, 202.85282721669273], [209.6184844970703, 202.84589959197692], [216.8268585205078, 202.84597042280802], [218.69424438476562, 215.03512430804088], [207.6945343017578, 202.84589962004662], [216.6487579345703, 202.84589959867523], [204.5217742919922, 202.84589959162489], [280.2059326171875, 333.74226361257456], [208.7119903564453, 202.8823546838231], [208.36500549316406, 202.8472660600429], [208.6204833984375, 202.84589959346803], [212.00387573242188, 202.84589959151177], [212.72177124023438, 202.84589959155534], [211.4091033935547, 202.8458995917548], [203.57485961914062, 202.88110912180605], [208.1457061767578, 202.84589960238992], [210.68646240234375, 202.8458995918016], [210.70266723632812, 202.8459705224532], [360.3390808105469, 435.87648784049173], [215.6823272705078, 202.84589959180275], [213.0291748046875, 202.8458995923302], [212.2770538330078, 202.8459165797052], [210.53140258789062, 202.84589959215313], [213.7762451171875, 203.26046653687308], [209.6412353515625, 202.84599041533326], [216.83575439453125, 202.8458995919122], [214.52117919921875, 202.8505545383624], [212.65188598632812, 202.84778593901072], [213.80796813964844, 202.89259734615737], [213.07835388183594, 202.8458995918531], [208.74267578125, 202.93982293993494], [210.51210021972656, 202.8458995940958], [208.6513214111328, 202.84589959700511], [1023.0917358398438, 993.3621258795527], [211.44036865234375, 202.84589959388776], [207.18280029296875, 202.84589959154565], [215.99085998535156, 202.84589959193275], [1007.5874633789062, 987.788202841802], [209.76644897460938, 202.84590016640612], [206.6015167236328, 202.84589963298527], [213.14895629882812, 202.8463739372157], [528.2073974609375, 644.4745120539427], [204.4427490234375, 202.8458995916335], [213.71343994140625, 202.8458995915831], [210.5192108154297, 202.84589959154786], [206.41273498535156, 202.84589959146987], [210.40321350097656, 202.84595613975628], [1028.9827880859375, 998.3272876858007], [208.859375, 202.8458995919258], [1017.0537719726562, 994.8209371022311], [228.093994140625, 230.58138401574374], [207.26303100585938, 202.84589961058188], [996.1680908203125, 979.3015709317717], [210.64431762695312, 202.84589961872416], [215.43142700195312, 202.84589959286907], [205.75621032714844, 203.31540615922265], [924.7608032226562, 939.2713247690006], [210.62835693359375, 202.84589959155156], [209.53367614746094, 202.84605831034813], [211.88336181640625, 202.8464451558988], [208.92111206054688, 202.84596105427937], [211.62420654296875, 202.84589975404506], [957.9224243164062, 956.3599650892885], [208.06460571289062, 202.84589959179098], [209.0018310546875, 202.84589959674244], [230.269287109375, 256.28288124984675], [213.58364868164062, 204.69735978715423], [208.53512573242188, 202.84589959183904], [209.82835388183594, 202.84589959231363], [270.85986328125, 328.39735303916837], [207.14364624023438, 202.8636806789224], [394.0347595214844, 487.5514047448196], [210.8914337158203, 202.84589959257036], [216.08706665039062, 202.84589959155474], [204.8718719482422, 202.8467942860913], [209.8487091064453, 202.89480127627334], [207.93154907226562, 202.8459165299518], [213.83541870117188, 202.84589978323677], [1023.8946533203125, 994.892843235652], [207.6689910888672, 202.8461011780861], [1022.6536865234375, 995.0739116031342], [209.95257568359375, 202.88897477578828], [212.2993621826172, 202.84590095001977], [213.5164031982422, 202.84589959468946], [210.32444763183594, 202.84589959192408], [210.63490295410156, 202.8458995928143], [210.24609375, 202.85194768865568], [213.6703338623047, 202.84590055804154], [215.3498077392578, 202.84589968667225], [207.59320068359375, 202.84589959214605], [204.1795654296875, 202.84589959192877], [485.30596923828125, 594.8254863159876], [210.38853454589844, 202.8458995914769], [214.81773376464844, 208.12603681589684], [207.52017211914062, 202.84589959192206], [210.78720092773438, 202.84589968039157], [207.1357879638672, 202.84589975766914], [205.71441650390625, 202.84589959264477], [364.0115051269531, 446.07529044960097], [287.5015563964844, 353.1908792034921], [209.79010009765625, 202.845899606809], [207.52818298339844, 202.84589959189913], [208.08853149414062, 202.84589959148258], [207.62245178222656, 202.84589959192104], [210.7266845703125, 202.84590030513235], [976.0095825195312, 965.8412129784124], [210.513671875, 202.84589959349006], [205.6177978515625, 202.84589959154602], [212.8968048095703, 202.8458995914697], [211.11410522460938, 202.84589959377425], [218.21485900878906, 202.8459004929193], [214.78834533691406, 202.84589959186826], [218.16336059570312, 210.03726566784349], [207.65167236328125, 202.84589959165382], [207.0892791748047, 202.84589959148016], [218.05555725097656, 202.84642056849808], [923.5701904296875, 936.6966256043451], [244.98280334472656, 257.2022653802591], [205.09059143066406, 202.84590340762065], [215.85154724121094, 202.8459294859877], [210.97390747070312, 202.8458998103351], [215.1506805419922, 202.84589959450028], [213.79873657226562, 202.84657259053705], [288.8731689453125, 343.67656193797114], [207.78697204589844, 202.8462133178318], [208.1764373779297, 202.84642944403646], [209.13079833984375, 202.85148062718724], [209.21766662597656, 202.85258473155343], [210.4900665283203, 202.84589959191612], [209.3290252685547, 202.845899591891], [208.9395751953125, 202.89420933466195], [213.06494140625, 202.84589960212313], [1026.0216064453125, 998.3723929192945], [210.27366638183594, 202.8459658721223], [225.57923889160156, 231.92298408934582], [207.54739379882812, 202.8458995946065], [207.29946899414062, 202.97971890696635], [212.68582153320312, 202.8458995914732], [204.21617126464844, 202.84589959183398], [310.81463623046875, 380.2970142431799], [215.5293731689453, 202.8461207219258], [208.9083251953125, 202.8458995914673], [208.66815185546875, 204.6911854305825], [210.12677001953125, 202.84606346745494], [266.3215637207031, 316.95846996603865], [211.3285369873047, 202.8458995919255], [209.74630737304688, 202.84589959801818], [881.8162841796875, 916.6606594633568], [204.54075622558594, 202.86113395036617], [542.1317138671875, 651.0833902656013], [211.21055603027344, 202.84589959181503], [206.68899536132812, 202.84590331917383], [213.86996459960938, 202.84589967990857], [203.48196411132812, 202.84843050434975], [219.33526611328125, 218.1705748168687], [215.44004821777344, 202.84589959190902], [212.11001586914062, 204.18892383914346], [205.85105895996094, 203.27141255124005], [210.3621368408203, 202.8459182478183], [214.7818603515625, 202.8458995919282], [211.57237243652344, 202.84592130922667], [207.5977020263672, 202.84589960769844], [206.16004943847656, 202.8459021581104], [211.51625061035156, 202.91442044164748], [210.47645568847656, 202.84589960171107], [203.83169555664062, 202.84590040804895], [208.02935791015625, 202.84612524432833], [212.1918182373047, 202.84590530292385], [207.6164093017578, 202.8459013459457], [211.31581115722656, 202.8458995915459], [213.03561401367188, 202.84589959309358], [209.93734741210938, 202.84589959678277], [206.80258178710938, 202.84589959154644], [210.6158447265625, 202.84589959192758], [207.65370178222656, 202.8458995915489], [214.22511291503906, 202.8463350565908], [216.44418334960938, 202.84589968288873], [207.7222442626953, 202.84589960017183], [220.4385528564453, 202.84590108237833], [215.229248046875, 202.84600513517682], [208.32171630859375, 202.84589962292813], [209.3821563720703, 202.84591531109857], [216.73191833496094, 203.63525623099906], [209.76377868652344, 202.84589959154798], [1025.932373046875, 997.6638807784002], [210.94993591308594, 202.84589960135065], [224.15740966796875, 225.45153714048413], [209.25205993652344, 202.87136914732258], [904.6315307617188, 927.4652043915888], [205.9895782470703, 202.85241883015593], [209.36099243164062, 207.4309172837687], [208.19119262695312, 203.660319858047], [214.9012908935547, 202.84678971463052], [217.6505584716797, 202.84590530804638], [208.89146423339844, 202.84589959159], [207.43833923339844, 202.84589963223323], [937.740478515625, 946.4347187909268], [214.8291778564453, 202.84589959160556], [209.84442138671875, 202.84596970444827], [209.26416015625, 202.8458995918072], [211.08790588378906, 203.197481145202], [206.9484100341797, 202.845899591562], [206.2668914794922, 202.8458996405914], [209.6982879638672, 202.8458995918609], [1024.22216796875, 997.3399627547595], [210.54736328125, 202.8462692678455], [206.35360717773438, 202.8459097080031], [215.59649658203125, 202.84589959221842], [216.30386352539062, 202.84589959174968], [211.7037811279297, 202.8458995943484], [208.7063446044922, 202.8618136355588], [339.0601501464844, 420.4778462104798], [208.0756378173828, 202.84590711800405], [215.9112091064453, 202.84590075896784], [214.34580993652344, 202.84589972808212], [209.12335205078125, 202.84934180502322], [210.05078125, 202.8463329576616], [206.0107421875, 202.8458995917151], [208.25791931152344, 203.0472309274526], [213.06141662597656, 202.84589959163], [207.2053985595703, 202.84590504734734], [210.47515869140625, 202.8458995916592], [205.13336181640625, 204.27907567276225], [204.05673217773438, 202.8594040135668], [215.2315673828125, 212.62843629993083], [447.16375732421875, 551.3950324200048], [205.08270263671875, 202.84589960182555], [209.7872772216797, 202.84589959146885], [214.33151245117188, 202.84589977286063], [212.3598175048828, 202.8459604711686], [208.78172302246094, 202.8458995992008], [1013.2446899414062, 992.9594450873726], [213.57366943359375, 202.845899591721], [209.02659606933594, 202.84591639723095], [207.61227416992188, 202.84589997210406], [214.02281188964844, 202.84595428146366], [208.3151397705078, 202.84589959251136], [576.8983154296875, 686.6589504731959], [206.2395477294922, 202.84589959185888], [211.76950073242188, 202.8643231115218], [213.056884765625, 202.84590133669002], [212.0426025390625, 210.29750909049488], [207.04530334472656, 202.84589959279268], [209.705810546875, 202.84589959158663], [215.82040405273438, 202.84589959154604], [216.68399047851562, 202.84589959181488], [213.90313720703125, 202.8458996372793], [207.1793212890625, 202.84590004315547], [212.9180908203125, 203.38875843045804], [210.2231903076172, 202.8458995918994], [213.6272430419922, 202.84589959184584], [208.0105438232422, 202.84589959191638], [215.76104736328125, 202.84589959443537], [212.61512756347656, 202.8458995915209], [222.75714111328125, 225.83052173946754], [208.07986450195312, 202.84589959214114], [212.94607543945312, 202.84589985532966], [211.66221618652344, 202.8458997286426], [218.34584045410156, 202.84589959198354], [212.45156860351562, 209.06941213567438], [212.22666931152344, 202.85147012819323], [918.6947021484375, 933.9646213684038], [208.21827697753906, 202.88489985633484], [987.4069213867188, 973.9694409547953], [204.75222778320312, 203.87590384238274], [205.21690368652344, 202.8459054064563], [214.88494873046875, 202.84589959172524], [215.54556274414062, 202.84589959185826], [206.42884826660156, 202.91109807548634], [211.0297393798828, 202.84589959165413], [216.75784301757812, 202.84589959155227], [203.89181518554688, 202.8458995917154], [208.21566772460938, 202.8824593978123], [865.2340698242188, 906.4388287999502], [207.0691375732422, 202.84632939126544], [212.2205352783203, 202.84589966553634], [205.56704711914062, 202.84589959160567], [214.22726440429688, 202.84589959169574], [212.9735870361328, 202.84589959188938], [299.1888122558594, 360.7719278862793], [423.6750793457031, 522.271169917437], [208.42739868164062, 202.84590128949887], [210.414794921875, 202.84589959162668], [1002.5162353515625, 980.8025089852462], [209.6221923828125, 202.8459029290201], [210.27154541015625, 203.02507867159215], [214.379638671875, 202.845899591554], [207.3721160888672, 202.87401704267077], [212.18490600585938, 202.84589961863736], [528.4517822265625, 641.0245776637232], [207.8516845703125, 202.84589959286777], [212.01620483398438, 202.8462708340854], [207.74024963378906, 202.84589959190404], [291.5201110839844, 360.4742829081158], [210.61520385742188, 202.8458995921779], [209.3628387451172, 202.84589959174147], [211.61532592773438, 202.8458995919221], [210.67381286621094, 202.84589959166846], [572.6380004882812, 681.9620800040633], [906.5658569335938, 927.9110546748443], [208.78353881835938, 202.8458995916485], [212.06678771972656, 203.02283554137315], [232.06607055664062, 258.0168162980054], [202.24806213378906, 202.8459336073681], [206.0127716064453, 202.84589959188745], [205.59104919433594, 202.8475663625295], [210.89041137695312, 202.8458995977506], [217.70123291015625, 202.84589959151958], [214.55572509765625, 202.84594002824937], [209.96197509765625, 202.84589959316818], [210.42860412597656, 202.84590288040133], [207.6222381591797, 202.8458995915593], [209.38040161132812, 202.8458995917119], [211.81552124023438, 202.84589959189572], [204.75619506835938, 202.84589959193468], [1002.90673828125, 981.6212201421052], [210.54910278320312, 207.17714714087936], [211.13912963867188, 202.86773528609052], [209.716064453125, 202.84809465811776], [213.0266876220703, 203.90228597542776], [211.1263885498047, 202.84589959155116], [212.34840393066406, 202.9267163985227], [212.7282257080078, 202.84590550936443], [217.03456115722656, 202.84589963376408], [208.1612091064453, 202.84589959158603], [214.5825653076172, 202.8458995919177], [214.75125122070312, 202.87960024772525], [1019.8643188476562, 992.2177552195922], [211.90419006347656, 207.6676592183173], [479.8869323730469, 594.3460018665061], [216.66725158691406, 202.84668006949934], [206.15383911132812, 202.84589959296292], [209.64471435546875, 202.8468266807955], [237.88829040527344, 264.5563613616413], [213.3873748779297, 202.84589976316744], [210.05722045898438, 202.84589959160317], [209.0968780517578, 202.84589959517402], [208.86856079101562, 202.8617761606818], [209.37432861328125, 202.84589959183037], [208.66195678710938, 202.8695352700221], [208.70664978027344, 202.8459789130776], [208.48435974121094, 202.84589959192297], [211.53201293945312, 202.84589959161937], [210.3731689453125, 202.84658362719475], [215.7287139892578, 202.84589960648634], [1008.1167602539062, 984.4417073590981], [210.57986450195312, 202.84612483246624], [209.74571228027344, 202.84589997412016], [1023.5131225585938, 995.5165685342106], [209.55194091796875, 202.84656029468135], [210.2600860595703, 202.8461254583304], [204.329833984375, 202.84589959190123], [1025.233642578125, 998.4061043617169], [214.96951293945312, 202.84590168859773], [215.2712860107422, 211.9106567819733], [210.42385864257812, 202.84589959193346], [214.83970642089844, 202.84923766955103], [209.51654052734375, 204.6616407683561], [213.7132110595703, 202.84786105320026], [223.55638122558594, 238.16464137333287], [215.0485076904297, 202.84589959156617], [205.53607177734375, 202.84589959147192], [211.44375610351562, 202.84589959154394], [1021.425537109375, 995.7022939020178], [211.9639434814453, 202.8458995919335], [1028.3160400390625, 998.7548594427318], [211.4460906982422, 202.84589959569902], [215.08865356445312, 202.93501446820056], [212.8323974609375, 206.38201656249325], [214.92811584472656, 202.8459068413945], [214.9869842529297, 202.84589959526073], [205.61524963378906, 202.8459004152708], [214.63272094726562, 202.8513004266543], [206.50161743164062, 202.84589959255237], [211.65023803710938, 202.8915031240402], [210.5502166748047, 202.84589959393227], [214.03370666503906, 202.84589998872463], [211.013427734375, 202.8458997852837], [208.67025756835938, 203.5316080480798], [214.95542907714844, 202.87691130559017], [204.7037811279297, 202.8458995918581], [216.32789611816406, 202.84798369296325], [208.46495056152344, 204.1674534144772], [209.4027099609375, 203.14541309850438], [205.3521270751953, 202.84589976835284], [211.54800415039062, 202.84625981322083], [212.2189483642578, 220.27654443432968], [240.104248046875, 259.57364473881404], [216.39991760253906, 202.8458997272492], [215.1614227294922, 203.45031247702363], [207.53900146484375, 202.84590007774744], [214.75271606445312, 202.84589959148954], [212.20115661621094, 202.8458995915382], [218.4438934326172, 202.84591359607572], [204.1401824951172, 202.8459516456979], [206.6136932373047, 202.84589993424538], [1009.6453857421875, 984.5341059000582], [209.08816528320312, 202.84589959175906], [209.33226013183594, 202.845899650866], [210.17160034179688, 202.8472426559498], [208.40631103515625, 202.8458995941442], [210.60577392578125, 202.84589972265286], [207.4430389404297, 202.91867287632115], [213.85733032226562, 202.84589959190947], [211.40447998046875, 202.8459583693965], [512.5068359375, 623.7566649764069], [697.443115234375, 786.3419375856448], [986.4840087890625, 971.7721069018559], [211.83392333984375, 202.8459023892034], [205.68565368652344, 202.84589959189603], [211.9537811279297, 202.87263489184306], [208.2830352783203, 202.86022229746123], [229.35752868652344, 242.84895686130514], [205.82728576660156, 202.84589959185317], [208.81680297851562, 202.84590025928534], [216.33203125, 202.845925353699], [206.94610595703125, 202.84589959157162], [218.80702209472656, 223.2403440007702], [213.631103515625, 202.9165771407218], [978.7955932617188, 969.3585238403022], [211.15628051757812, 202.84589959147362], [212.6343536376953, 202.84589959164882], [206.69728088378906, 202.84589959173675], [216.82237243652344, 202.84590248314288], [208.8743133544922, 202.84589959217467], [209.0848388671875, 203.22603370123082], [207.9648895263672, 202.8458995919265], [222.63351440429688, 230.02489010721624], [207.69046020507812, 202.84727739948806], [216.9666748046875, 202.84589959913882], [211.1340789794922, 202.8477519172901], [207.3624267578125, 202.8458995915701], [216.9537811279297, 202.84589959192445], [1022.8963623046875, 994.7216827512594], [205.9634246826172, 202.84589959185269], [209.44525146484375, 202.84590252759023], [206.77723693847656, 202.905296470884], [215.1322784423828, 202.84589959294698], [241.6697540283203, 258.34685525706453], [211.2253875732422, 203.26752987331528], [517.2081909179688, 626.5859545104994], [213.24644470214844, 215.51103374478367], [206.9695587158203, 202.845899591553], [210.54295349121094, 202.84606450850404], [207.39515686035156, 202.84589959189964], [216.3030242919922, 216.93160197539476], [215.32064819335938, 202.91181404740882], [1025.0882568359375, 996.1208391931709], [208.13714599609375, 202.87456740771663], [213.53424072265625, 202.84589959292455], [211.77359008789062, 202.84589959222507], [214.4775390625, 202.84589964547067], [206.79519653320312, 202.8481051651119], [1028.3282470703125, 998.3458048751877], [209.19593811035156, 202.84589959327977], [214.0319366455078, 202.8458995920153], [206.92156982421875, 202.8485973599365], [213.99432373046875, 203.2163155292201], [207.73907470703125, 202.8470618451313], [224.2803497314453, 241.19748944903424], [211.9909210205078, 202.84591024193563], [205.98411560058594, 202.84589959178894], [699.1445922851562, 794.6977721732152], [211.91725158691406, 202.84589959154798], [210.7586669921875, 202.99203424988835], [209.00811767578125, 202.84589959184797], [208.91761779785156, 202.84592578116096], [210.34552001953125, 202.84589959154408], [488.0841064453125, 594.2531887288467], [209.80624389648438, 202.84589959193227], [211.0126495361328, 202.94517541102744], [209.52322387695312, 202.84589959154363], [215.16795349121094, 202.84589961465903], [211.61195373535156, 202.8458995915417], [211.44027709960938, 212.5542581361285], [214.94760131835938, 202.84859550693454], [212.88230895996094, 202.84589959154133], [208.87686157226562, 202.91063174302442], [208.556884765625, 202.8458995947393], [211.6370849609375, 203.02483963466665], [209.84043884277344, 202.8459281045325], [207.4451904296875, 202.84589959362268], [211.24966430664062, 202.84589959191987], [204.95553588867188, 202.8458997145653], [326.775634765625, 404.767707996514], [206.82925415039062, 202.84589959154613], [210.24708557128906, 203.53189169087045], [209.4027862548828, 202.84650538601008], [205.82733154296875, 203.36610239134708], [211.89459228515625, 202.8458995918244], [216.74952697753906, 202.93281959853238], [209.8433380126953, 202.84589959296426], [207.74522399902344, 202.845899591931], [212.9120330810547, 204.3590067373736], [211.55738830566406, 202.8458999005774], [214.9862518310547, 202.8458995918912], [204.91099548339844, 202.84590006176555], [298.5993957519531, 371.8561370633967], [204.46815490722656, 202.8890306881198], [215.21998596191406, 202.85032536548115], [210.69264221191406, 202.9489460015465], [212.76425170898438, 202.84589968231742], [205.09812927246094, 202.84727521698957], [208.7694091796875, 202.8876315355135], [216.51126098632812, 202.84731000289517], [204.6380615234375, 202.84589959157478], [205.0133819580078, 202.8458995915487], [443.472412109375, 546.5161667364393], [204.41883850097656, 202.8458995919192], [209.37332153320312, 203.71972470495137], [218.2970428466797, 212.62237925310123], [207.1818084716797, 202.8458995915443], [212.7667999267578, 202.84589959177606], [1009.8789672851562, 989.0863218547129], [217.12681579589844, 202.8463051855772], [209.53457641601562, 202.84590053299019], [214.2546844482422, 202.84589959608144], [211.4635009765625, 202.84589959177345], [209.61318969726562, 202.84589959193264], [212.78343200683594, 207.09148029700575], [215.0518798828125, 202.84589959182267], [213.8332061767578, 202.84599994351615], [214.45379638671875, 202.87930686876498], [214.31048583984375, 202.84589959852252], [207.76449584960938, 202.84589959190563], [207.772216796875, 202.94100695240294], [208.51712036132812, 202.84589959190896], [702.2217407226562, 792.7362425348157], [209.05557250976562, 202.84589960269298], [210.8413848876953, 202.87180459037026], [213.6831512451172, 202.845899592217], [214.8618927001953, 202.845997558348], [217.6002197265625, 202.86581821357566], [207.23716735839844, 202.84589961868133], [205.2822265625, 202.84590859286084], [207.09373474121094, 202.8480935479008], [210.63052368164062, 202.84603884906588], [206.6671142578125, 202.84589959190532], [210.3681182861328, 202.84589967994495], [210.8065948486328, 202.84589959188784], [211.81687927246094, 202.84589959154806], [206.11024475097656, 202.90247752798265], [205.09872436523438, 202.84589959155795], [983.8265380859375, 973.3447501372766], [210.47579956054688, 202.84589959192314], [207.62533569335938, 202.8520377046421], [213.77371215820312, 203.59061019119963], [207.07797241210938, 202.8458995915582], [213.65652465820312, 202.8459096280242], [211.1420440673828, 202.8458995916803], [212.77346801757812, 202.84590154957988], [504.79083251953125, 611.5192585342917], [609.003173828125, 717.4025041023609], [212.08279418945312, 202.84589966668585], [240.1079559326172, 254.00329397240148], [206.88198852539062, 202.84589959191817], [216.48507690429688, 202.84589959176787], [209.1743621826172, 202.84589959248086], [212.4742431640625, 202.84589980493888], [217.34848022460938, 202.8511669835287], [206.53140258789062, 205.8320735596285], [1000.0159301757812, 980.6760475131434], [212.2880859375, 202.9185503918788], [209.7294158935547, 202.8458995930263], [208.80404663085938, 202.84589959276525], [211.44175720214844, 202.84589959188986], [204.73318481445312, 202.84591186485795], [209.8571319580078, 202.84589959185308], [206.98171997070312, 202.84840602794753], [213.75833129882812, 202.8458996212055], [866.8451538085938, 909.7958230310358], [205.55271911621094, 202.84589959184876], [207.85015869140625, 202.8458995914913], [211.81365966796875, 207.1268856251115], [204.57733154296875, 202.84589959520198], [215.7335662841797, 202.8458995919102], [207.02684020996094, 202.84589959192948], [212.59783935546875, 202.8458995918716], [210.8152618408203, 205.09130287719057], [213.6194610595703, 202.84589959166857], [208.62213134765625, 202.84589959177364], [211.2428436279297, 212.79150170619698], [209.7400360107422, 202.84606305030098], [204.21475219726562, 202.84590247157522], [452.1783752441406, 556.9738928385984], [402.85235595703125, 499.43133743730635], [209.792236328125, 202.84649675432922], [209.96629333496094, 202.8466140520646], [209.154296875, 202.84589965702736], [205.2796630859375, 202.84589959191715], [205.04212951660156, 202.84589959238318], [1014.405517578125, 987.8165371056458], [207.0897674560547, 202.84589959155946], [208.63731384277344, 202.84590218811675], [206.49696350097656, 204.4552214379057], [205.98887634277344, 202.84590359694403], [217.06297302246094, 203.05762627940663], [212.70297241210938, 205.97681590613172], [205.37753295898438, 202.8459008556725], [215.06472778320312, 202.84589959179053], [228.4887237548828, 228.59418292423229], [212.49049377441406, 202.84589959192652], [212.07740783691406, 202.84590023375847], [212.54336547851562, 203.38963299956967], [209.57254028320312, 202.84590135583082], [210.098876953125, 214.91965980946304], [211.8841094970703, 202.84653990290525], [209.4499969482422, 202.94316400180597], [210.04527282714844, 202.84589959178598], [209.81932067871094, 202.84589959235697], [230.63449096679688, 233.6382381603629], [205.4940948486328, 203.30641667613028], [207.14707946777344, 202.8458995929386], [212.17581176757812, 203.58735754267096], [216.30313110351562, 220.53622717292092], [212.93692016601562, 202.84593826982973], [214.49546813964844, 202.86285110645386], [358.7009582519531, 443.4131835291009], [210.27256774902344, 202.84589960809112], [204.38839721679688, 202.8458998604355], [215.42076110839844, 202.84589959193744], [213.62847900390625, 202.84589960911293], [209.37271118164062, 202.84589959147004], [1017.1113891601562, 994.7826700541891], [214.8507843017578, 202.8459023179095], [217.77310180664062, 203.41257268973533], [214.20860290527344, 202.84589959193], [214.58413696289062, 202.84589959189793], [214.95408630371094, 206.13208150286962], [209.859130859375, 202.84637581501855], [217.72010803222656, 214.15514015077315], [211.49046325683594, 202.8459026542121], [224.3749542236328, 227.22198935257921], [212.2128448486328, 202.84590027424582], [209.80062866210938, 202.8458996943225], [217.6733856201172, 202.8458995915769], [214.35934448242188, 202.89373981372412], [238.72711181640625, 251.3149901521718], [209.4118194580078, 202.84589961672674], [215.9563751220703, 202.86205662836352], [210.84446716308594, 203.24513082405275], [217.07505798339844, 205.30815304000873], [208.50022888183594, 202.84607006684377], [214.0552520751953, 202.84589959186528], [209.07928466796875, 208.56586373621965], [207.66610717773438, 202.84589959151114], [214.8758544921875, 202.84590515310077], [210.91827392578125, 202.84589959157316], [209.30596923828125, 202.84589959170665], [213.42410278320312, 202.84589959157393], [210.44715881347656, 212.1262400966082], [213.8712158203125, 202.85611431030765], [213.02178955078125, 202.84589959164649], [213.95701599121094, 202.84589959178464], [210.5249481201172, 202.89539667647387], [211.82730102539062, 203.39676340120062], [228.52662658691406, 239.64327716275227], [207.47821044921875, 202.84589959149847], [207.08045959472656, 202.8550997987608], [674.99609375, 777.136514910563], [209.6965789794922, 202.8583330446443], [211.0144805908203, 202.84589959179164], [220.42710876464844, 224.86350964017257], [205.28550720214844, 202.84589959227253], [212.06419372558594, 202.84590669339582], [236.1265411376953, 269.7747859210088], [209.64181518554688, 202.9234286807872], [210.20884704589844, 202.84927092411743], [210.67971801757812, 202.8459133382098], [206.80787658691406, 202.8458996637962], [208.01809692382812, 203.08471725655278], [213.87110900878906, 202.84589965554528], [216.2169189453125, 202.84589959318754], [208.0096893310547, 202.84589959227483], [205.11505126953125, 202.84604081587318], [211.2454376220703, 202.84590147528044], [214.7690887451172, 202.84589959164995], [212.0979766845703, 217.87900187946133], [212.30186462402344, 202.845899591928], [207.6597442626953, 202.8458995917463], [210.90853881835938, 202.95431978215893], [206.2197265625, 202.84589959190757], [213.2615966796875, 202.84595963837486], [217.78070068359375, 205.2086099049781], [209.61534118652344, 202.84589959160047], [205.96519470214844, 202.8459071459445], [210.60028076171875, 202.8458995915577], [205.98841857910156, 202.84613314816622], [216.07676696777344, 202.84589959154906], [209.5829620361328, 202.84589959154854], [251.7521209716797, 288.12129521693964], [891.7627563476562, 922.5418056946107], [213.21803283691406, 202.90285654657885], [208.4827423095703, 202.881253384886], [209.98883056640625, 202.8458995914873], [213.10675048828125, 202.8458995915083], [216.93878173828125, 202.84589960070952], [215.06292724609375, 202.84589959192607], [207.9746856689453, 202.84589966767868], [213.34658813476562, 210.86686019366647]]}, \"id\": \"el119140467132821968\", \"plugins\": [{\"type\": \"reset\"}, {\"type\": \"zoom\", \"button\": true, \"enabled\": false}, {\"type\": \"boxzoom\", \"button\": true, \"enabled\": false}]});\n",
              "            })\n",
              "         });\n",
              "}\n",
              "</script>"
            ],
            "text/plain": [
              "<Figure size 432x288 with 1 Axes>"
            ]
          },
          "metadata": {
            "tags": [],
            "needs_background": "light"
          }
        }
      ]
    },
    {
      "cell_type": "code",
      "metadata": {
        "id": "Ku3jbzrII2rK",
        "colab_type": "code",
        "colab": {}
      },
      "source": [
        ""
      ],
      "execution_count": null,
      "outputs": []
    },
    {
      "cell_type": "code",
      "metadata": {
        "id": "f9eE9KkHI22a",
        "colab_type": "code",
        "colab": {}
      },
      "source": [
        ""
      ],
      "execution_count": null,
      "outputs": []
    },
    {
      "cell_type": "code",
      "metadata": {
        "id": "10PWMAyAI3A7",
        "colab_type": "code",
        "colab": {}
      },
      "source": [
        ""
      ],
      "execution_count": null,
      "outputs": []
    }
  ]
}