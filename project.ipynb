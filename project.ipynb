{
  "nbformat": 4,
  "nbformat_minor": 0,
  "metadata": {
    "colab": {
      "name": "Untitled7.ipynb",
      "provenance": [],
      "include_colab_link": true
    },
    "kernelspec": {
      "name": "python3",
      "display_name": "Python 3"
    }
  },
  "cells": [
    {
      "cell_type": "markdown",
      "metadata": {
        "id": "view-in-github",
        "colab_type": "text"
      },
      "source": [
        "<a href=\"https://colab.research.google.com/github/dharma610/Project/blob/master/project.ipynb\" target=\"_parent\"><img src=\"https://colab.research.google.com/assets/colab-badge.svg\" alt=\"Open In Colab\"/></a>"
      ]
    },
    {
      "cell_type": "code",
      "metadata": {
        "id": "9geIYv3d-3Rb",
        "colab_type": "code",
        "colab": {
          "base_uri": "https://localhost:8080/",
          "height": 185
        },
        "outputId": "8358dfa6-1a89-44dd-bf3c-185a519d91fb"
      },
      "source": [
        "from scipy.integrate import odeint\n",
        "import numpy as np\n",
        "import matplotlib.pyplot as plt\n",
        "%matplotlib inline \n",
        "!pip install mpld3\n",
        "import mpld3\n",
        "mpld3.enable_notebook()"
      ],
      "execution_count": 146,
      "outputs": [
        {
          "output_type": "stream",
          "text": [
            "Requirement already satisfied: mpld3 in /usr/local/lib/python3.6/dist-packages (0.5.1)\n",
            "Requirement already satisfied: matplotlib in /usr/local/lib/python3.6/dist-packages (from mpld3) (3.2.2)\n",
            "Requirement already satisfied: jinja2 in /usr/local/lib/python3.6/dist-packages (from mpld3) (2.11.2)\n",
            "Requirement already satisfied: numpy>=1.11 in /usr/local/lib/python3.6/dist-packages (from matplotlib->mpld3) (1.18.5)\n",
            "Requirement already satisfied: python-dateutil>=2.1 in /usr/local/lib/python3.6/dist-packages (from matplotlib->mpld3) (2.8.1)\n",
            "Requirement already satisfied: cycler>=0.10 in /usr/local/lib/python3.6/dist-packages (from matplotlib->mpld3) (0.10.0)\n",
            "Requirement already satisfied: kiwisolver>=1.0.1 in /usr/local/lib/python3.6/dist-packages (from matplotlib->mpld3) (1.2.0)\n",
            "Requirement already satisfied: pyparsing!=2.0.4,!=2.1.2,!=2.1.6,>=2.0.1 in /usr/local/lib/python3.6/dist-packages (from matplotlib->mpld3) (2.4.7)\n",
            "Requirement already satisfied: MarkupSafe>=0.23 in /usr/local/lib/python3.6/dist-packages (from jinja2->mpld3) (1.1.1)\n",
            "Requirement already satisfied: six>=1.5 in /usr/local/lib/python3.6/dist-packages (from python-dateutil>=2.1->matplotlib->mpld3) (1.12.0)\n"
          ],
          "name": "stdout"
        }
      ]
    },
    {
      "cell_type": "code",
      "metadata": {
        "id": "vGyZypLL-4TT",
        "colab_type": "code",
        "colab": {}
      },
      "source": [
        "def deriv(y, t, N, beta, gamma):\n",
        "    S, I, R = y\n",
        "    dSdt = -beta * S * I / N\n",
        "    dIdt = beta * S * I / N - gamma * I\n",
        "    dRdt = gamma * I\n",
        "    return dSdt, dIdt, dRdt"
      ],
      "execution_count": 147,
      "outputs": []
    },
    {
      "cell_type": "code",
      "metadata": {
        "id": "MhQYzV1y-9VL",
        "colab_type": "code",
        "colab": {}
      },
      "source": [
        "def plotsir(t, S, I, R):\n",
        "  f, ax = plt.subplots(1,1,figsize=(10,4))\n",
        "  ax.plot(t, S, 'b', alpha=0.7, linewidth=2, label='Susceptible')\n",
        "  ax.plot(t, I, 'y', alpha=0.7, linewidth=2, label='Infected')\n",
        "  ax.plot(t, R, 'g', alpha=0.7, linewidth=2, label='Recovered')\n",
        "\n",
        "  ax.set_xlabel('Time (days)')\n",
        "\n",
        "  ax.yaxis.set_tick_params(length=0)\n",
        "  ax.xaxis.set_tick_params(length=0)\n",
        "  ax.grid(b=True, which='major', c='w', lw=2, ls='-')\n",
        "  legend = ax.legend()\n",
        "  legend.get_frame().set_alpha(0.5)\n",
        "  for spine in ('top', 'right', 'bottom', 'left'):\n",
        "      ax.spines[spine].set_visible(False)\n",
        "  plt.show();"
      ],
      "execution_count": 148,
      "outputs": []
    },
    {
      "cell_type": "code",
      "metadata": {
        "id": "T0zByu9t_AxY",
        "colab_type": "code",
        "colab": {}
      },
      "source": [
        "import random\n",
        "gamma = []\n",
        "for i in range(1000):\n",
        "    gamma.append(random.uniform(0, 1))\n",
        "    \n"
      ],
      "execution_count": 149,
      "outputs": []
    },
    {
      "cell_type": "code",
      "metadata": {
        "id": "SQai82rJBYEj",
        "colab_type": "code",
        "colab": {}
      },
      "source": [
        "beta = []\n",
        "for i in range(1000):\n",
        "  beta.append(2*gamma[i])  #Parameters can be seen as list beta and gamma"
      ],
      "execution_count": 150,
      "outputs": []
    },
    {
      "cell_type": "code",
      "metadata": {
        "id": "cq0qRsEj_DMb",
        "colab_type": "code",
        "colab": {}
      },
      "source": [
        "P = []\n",
        "Q = []\n",
        "M  = []\n",
        "for i in range(1000): #Plotted for 2 sets\n",
        "  N = 1000\n",
        "  S0, I0, R0 = 999, 1, 0  # initial conditions: one infected, rest susceptible\n",
        "  t = np.linspace(0, 99, 100) # Grid of time points (in days)\n",
        "  y0 = S0, I0, R0 # Initial conditions vector\n",
        "  # Integrate the SIR equations over the time grid, t.\n",
        "  ret = odeint(deriv, y0, t, args=(N, beta[i], gamma[i]))\n",
        "  S, I, R = ret.T\n",
        "  P.append(S)\n",
        "  Q.append(I)\n",
        "  M.append(R)\n",
        "\n",
        "  "
      ],
      "execution_count": 151,
      "outputs": []
    },
    {
      "cell_type": "code",
      "metadata": {
        "id": "gyIY8z5dPLUI",
        "colab_type": "code",
        "colab": {}
      },
      "source": [
        "import pandas as pd"
      ],
      "execution_count": 152,
      "outputs": []
    },
    {
      "cell_type": "code",
      "metadata": {
        "id": "B3TshUSGPk4k",
        "colab_type": "code",
        "colab": {}
      },
      "source": [
        "S_value = pd.DataFrame(P)\n",
        "S_value.to_csv(\"Susceptible.csv\")"
      ],
      "execution_count": 153,
      "outputs": []
    },
    {
      "cell_type": "code",
      "metadata": {
        "id": "k6edeyON_Ysg",
        "colab_type": "code",
        "colab": {}
      },
      "source": [
        "I_value = pd.DataFrame(Q)\n",
        "I_value.to_csv(\"Infected.csv\")"
      ],
      "execution_count": 154,
      "outputs": []
    },
    {
      "cell_type": "code",
      "metadata": {
        "id": "-TR0M_n9D7iH",
        "colab_type": "code",
        "colab": {}
      },
      "source": [
        "R_value = pd.DataFrame(M)\n",
        "R_value.to_csv(\"Recovered.csv\")"
      ],
      "execution_count": 155,
      "outputs": []
    },
    {
      "cell_type": "code",
      "metadata": {
        "id": "HEoE5Geh9UcJ",
        "colab_type": "code",
        "colab": {}
      },
      "source": [
        "column_1 = S_value.sample(10, axis=1)"
      ],
      "execution_count": 157,
      "outputs": []
    },
    {
      "cell_type": "code",
      "metadata": {
        "id": "1i_dV0Vw9ggB",
        "colab_type": "code",
        "colab": {
          "base_uri": "https://localhost:8080/",
          "height": 402
        },
        "outputId": "a1af55c3-857b-40a5-949c-e425058f7fac"
      },
      "source": [
        "column_1"
      ],
      "execution_count": 158,
      "outputs": [
        {
          "output_type": "execute_result",
          "data": {
            "text/html": [
              "<div>\n",
              "<style scoped>\n",
              "    .dataframe tbody tr th:only-of-type {\n",
              "        vertical-align: middle;\n",
              "    }\n",
              "\n",
              "    .dataframe tbody tr th {\n",
              "        vertical-align: top;\n",
              "    }\n",
              "\n",
              "    .dataframe thead th {\n",
              "        text-align: right;\n",
              "    }\n",
              "</style>\n",
              "<table border=\"1\" class=\"dataframe\">\n",
              "  <thead>\n",
              "    <tr style=\"text-align: right;\">\n",
              "      <th></th>\n",
              "      <th>5</th>\n",
              "      <th>79</th>\n",
              "      <th>57</th>\n",
              "      <th>14</th>\n",
              "      <th>64</th>\n",
              "      <th>32</th>\n",
              "      <th>52</th>\n",
              "      <th>27</th>\n",
              "      <th>78</th>\n",
              "      <th>80</th>\n",
              "    </tr>\n",
              "  </thead>\n",
              "  <tbody>\n",
              "    <tr>\n",
              "      <th>0</th>\n",
              "      <td>996.635104</td>\n",
              "      <td>213.349499</td>\n",
              "      <td>287.093060</td>\n",
              "      <td>983.455162</td>\n",
              "      <td>246.072560</td>\n",
              "      <td>791.646533</td>\n",
              "      <td>338.248630</td>\n",
              "      <td>886.257221</td>\n",
              "      <td>214.381596</td>\n",
              "      <td>212.410308</td>\n",
              "    </tr>\n",
              "    <tr>\n",
              "      <th>1</th>\n",
              "      <td>998.080244</td>\n",
              "      <td>629.006640</td>\n",
              "      <td>876.880959</td>\n",
              "      <td>995.241106</td>\n",
              "      <td>813.746547</td>\n",
              "      <td>978.958486</td>\n",
              "      <td>910.871003</td>\n",
              "      <td>985.764100</td>\n",
              "      <td>642.331367</td>\n",
              "      <td>615.703423</td>\n",
              "    </tr>\n",
              "    <tr>\n",
              "      <th>2</th>\n",
              "      <td>863.488913</td>\n",
              "      <td>202.845900</td>\n",
              "      <td>202.845900</td>\n",
              "      <td>212.804020</td>\n",
              "      <td>202.845900</td>\n",
              "      <td>202.846629</td>\n",
              "      <td>202.845900</td>\n",
              "      <td>202.856149</td>\n",
              "      <td>202.845900</td>\n",
              "      <td>202.845900</td>\n",
              "    </tr>\n",
              "    <tr>\n",
              "      <th>3</th>\n",
              "      <td>939.894141</td>\n",
              "      <td>202.845900</td>\n",
              "      <td>202.845900</td>\n",
              "      <td>251.692930</td>\n",
              "      <td>202.845900</td>\n",
              "      <td>202.872134</td>\n",
              "      <td>202.845906</td>\n",
              "      <td>203.056575</td>\n",
              "      <td>202.845900</td>\n",
              "      <td>202.845900</td>\n",
              "    </tr>\n",
              "    <tr>\n",
              "      <th>4</th>\n",
              "      <td>972.619827</td>\n",
              "      <td>202.845900</td>\n",
              "      <td>202.846100</td>\n",
              "      <td>397.333609</td>\n",
              "      <td>202.845921</td>\n",
              "      <td>203.434102</td>\n",
              "      <td>202.846887</td>\n",
              "      <td>205.756389</td>\n",
              "      <td>202.845900</td>\n",
              "      <td>202.845900</td>\n",
              "    </tr>\n",
              "    <tr>\n",
              "      <th>...</th>\n",
              "      <td>...</td>\n",
              "      <td>...</td>\n",
              "      <td>...</td>\n",
              "      <td>...</td>\n",
              "      <td>...</td>\n",
              "      <td>...</td>\n",
              "      <td>...</td>\n",
              "      <td>...</td>\n",
              "      <td>...</td>\n",
              "      <td>...</td>\n",
              "    </tr>\n",
              "    <tr>\n",
              "      <th>995</th>\n",
              "      <td>996.621062</td>\n",
              "      <td>213.033740</td>\n",
              "      <td>285.224976</td>\n",
              "      <td>983.299828</td>\n",
              "      <td>245.001506</td>\n",
              "      <td>788.624964</td>\n",
              "      <td>335.544096</td>\n",
              "      <td>884.583821</td>\n",
              "      <td>214.038916</td>\n",
              "      <td>212.119371</td>\n",
              "    </tr>\n",
              "    <tr>\n",
              "      <th>996</th>\n",
              "      <td>996.844822</td>\n",
              "      <td>219.629820</td>\n",
              "      <td>321.523685</td>\n",
              "      <td>985.676166</td>\n",
              "      <td>266.394678</td>\n",
              "      <td>834.702817</td>\n",
              "      <td>386.568314</td>\n",
              "      <td>909.552295</td>\n",
              "      <td>221.176381</td>\n",
              "      <td>218.214866</td>\n",
              "    </tr>\n",
              "    <tr>\n",
              "      <th>997</th>\n",
              "      <td>979.550980</td>\n",
              "      <td>202.845902</td>\n",
              "      <td>202.847328</td>\n",
              "      <td>506.933724</td>\n",
              "      <td>202.846094</td>\n",
              "      <td>204.621186</td>\n",
              "      <td>202.851837</td>\n",
              "      <td>210.256735</td>\n",
              "      <td>202.845903</td>\n",
              "      <td>202.845902</td>\n",
              "    </tr>\n",
              "    <tr>\n",
              "      <th>998</th>\n",
              "      <td>941.000931</td>\n",
              "      <td>202.845900</td>\n",
              "      <td>202.845900</td>\n",
              "      <td>253.390152</td>\n",
              "      <td>202.845900</td>\n",
              "      <td>202.874213</td>\n",
              "      <td>202.845907</td>\n",
              "      <td>203.070577</td>\n",
              "      <td>202.845900</td>\n",
              "      <td>202.845900</td>\n",
              "    </tr>\n",
              "    <tr>\n",
              "      <th>999</th>\n",
              "      <td>972.502284</td>\n",
              "      <td>202.845900</td>\n",
              "      <td>202.846094</td>\n",
              "      <td>395.979620</td>\n",
              "      <td>202.845920</td>\n",
              "      <td>203.424538</td>\n",
              "      <td>202.846861</td>\n",
              "      <td>205.716341</td>\n",
              "      <td>202.845900</td>\n",
              "      <td>202.845900</td>\n",
              "    </tr>\n",
              "  </tbody>\n",
              "</table>\n",
              "<p>1000 rows × 10 columns</p>\n",
              "</div>"
            ],
            "text/plain": [
              "             5           79          57  ...          27          78          80\n",
              "0    996.635104  213.349499  287.093060  ...  886.257221  214.381596  212.410308\n",
              "1    998.080244  629.006640  876.880959  ...  985.764100  642.331367  615.703423\n",
              "2    863.488913  202.845900  202.845900  ...  202.856149  202.845900  202.845900\n",
              "3    939.894141  202.845900  202.845900  ...  203.056575  202.845900  202.845900\n",
              "4    972.619827  202.845900  202.846100  ...  205.756389  202.845900  202.845900\n",
              "..          ...         ...         ...  ...         ...         ...         ...\n",
              "995  996.621062  213.033740  285.224976  ...  884.583821  214.038916  212.119371\n",
              "996  996.844822  219.629820  321.523685  ...  909.552295  221.176381  218.214866\n",
              "997  979.550980  202.845902  202.847328  ...  210.256735  202.845903  202.845902\n",
              "998  941.000931  202.845900  202.845900  ...  203.070577  202.845900  202.845900\n",
              "999  972.502284  202.845900  202.846094  ...  205.716341  202.845900  202.845900\n",
              "\n",
              "[1000 rows x 10 columns]"
            ]
          },
          "metadata": {
            "tags": []
          },
          "execution_count": 158
        }
      ]
    },
    {
      "cell_type": "code",
      "metadata": {
        "id": "J9MUcadl93sJ",
        "colab_type": "code",
        "colab": {}
      },
      "source": [
        "col_2 = list(column_1.columns.values)"
      ],
      "execution_count": 159,
      "outputs": []
    },
    {
      "cell_type": "code",
      "metadata": {
        "id": "HHzPL4kV9-th",
        "colab_type": "code",
        "colab": {}
      },
      "source": [
        "col_3 = []\n",
        "for i in col_2:\n",
        "  col_3.append(i+1)"
      ],
      "execution_count": 160,
      "outputs": []
    },
    {
      "cell_type": "code",
      "metadata": {
        "id": "GcYLD062aPch",
        "colab_type": "code",
        "colab": {
          "base_uri": "https://localhost:8080/",
          "height": 34
        },
        "outputId": "638bfa41-e936-411d-90d3-2ff4530800b4"
      },
      "source": [
        "col_3"
      ],
      "execution_count": 161,
      "outputs": [
        {
          "output_type": "execute_result",
          "data": {
            "text/plain": [
              "[6, 80, 58, 15, 65, 33, 53, 28, 79, 81]"
            ]
          },
          "metadata": {
            "tags": []
          },
          "execution_count": 161
        }
      ]
    },
    {
      "cell_type": "code",
      "metadata": {
        "id": "kWeKt4r3N8Q1",
        "colab_type": "code",
        "colab": {}
      },
      "source": [
        "df1 = pd.concat([S_value, S_value[col_2].T.stack().reset_index(name='new')['new']], axis=1)"
      ],
      "execution_count": 162,
      "outputs": []
    },
    {
      "cell_type": "code",
      "metadata": {
        "id": "AYMB9RK_xoK7",
        "colab_type": "code",
        "colab": {}
      },
      "source": [
        "Df1 = pd.concat([S_value, S_value[col_3].T.stack().reset_index(name='new')['new']], axis=1)"
      ],
      "execution_count": 163,
      "outputs": []
    },
    {
      "cell_type": "code",
      "metadata": {
        "id": "SNYwKhK7PXqY",
        "colab_type": "code",
        "colab": {
          "base_uri": "https://localhost:8080/",
          "height": 218
        },
        "outputId": "7d9a4bfe-f971-4f88-aac0-12e57252e1b0"
      },
      "source": [
        "df1[\"new\"].head(1001)"
      ],
      "execution_count": 164,
      "outputs": [
        {
          "output_type": "execute_result",
          "data": {
            "text/plain": [
              "0       996.635104\n",
              "1       998.080244\n",
              "2       863.488913\n",
              "3       939.894141\n",
              "4       972.619827\n",
              "           ...    \n",
              "996     996.844822\n",
              "997     979.550980\n",
              "998     941.000931\n",
              "999     972.502284\n",
              "1000    213.349499\n",
              "Name: new, Length: 1001, dtype: float64"
            ]
          },
          "metadata": {
            "tags": []
          },
          "execution_count": 164
        }
      ]
    },
    {
      "cell_type": "code",
      "metadata": {
        "id": "zMpzJUdmPel6",
        "colab_type": "code",
        "colab": {}
      },
      "source": [
        "df2 = pd.concat([I_value, I_value[col_2].T.stack().reset_index(name='new')['new']], axis=1)"
      ],
      "execution_count": 165,
      "outputs": []
    },
    {
      "cell_type": "code",
      "metadata": {
        "id": "bYURCGW3x9wQ",
        "colab_type": "code",
        "colab": {}
      },
      "source": [
        "Df2 = pd.concat([I_value, I_value[col_2].T.stack().reset_index(name='new')['new']], axis=1)"
      ],
      "execution_count": 166,
      "outputs": []
    },
    {
      "cell_type": "code",
      "metadata": {
        "id": "dgfEhjJ6P1oF",
        "colab_type": "code",
        "colab": {
          "base_uri": "https://localhost:8080/",
          "height": 218
        },
        "outputId": "f99bfa83-6127-4436-bb8b-bfb533f8ad2e"
      },
      "source": [
        "df2[\"new\"]"
      ],
      "execution_count": 167,
      "outputs": [
        {
          "output_type": "execute_result",
          "data": {
            "text/plain": [
              "0       2.179861e+00\n",
              "1       1.459206e+00\n",
              "2       6.362423e+01\n",
              "3       2.961210e+01\n",
              "4       1.399943e+01\n",
              "            ...     \n",
              "9995    1.307784e+01\n",
              "9996    2.114785e+01\n",
              "9997    2.980625e-06\n",
              "9998   -4.323450e-10\n",
              "9999    1.817447e-07\n",
              "Name: new, Length: 10000, dtype: float64"
            ]
          },
          "metadata": {
            "tags": []
          },
          "execution_count": 167
        }
      ]
    },
    {
      "cell_type": "code",
      "metadata": {
        "id": "KUrr8wHNP5W9",
        "colab_type": "code",
        "colab": {}
      },
      "source": [
        "df3 = pd.concat([R_value, R_value[col_2].T.stack().reset_index(name='new')['new']], axis=1)"
      ],
      "execution_count": 168,
      "outputs": []
    },
    {
      "cell_type": "code",
      "metadata": {
        "id": "quY3v3-fyNiA",
        "colab_type": "code",
        "colab": {}
      },
      "source": [
        "Df3 = pd.concat([R_value, R_value[col_2].T.stack().reset_index(name='new')['new']], axis=1)"
      ],
      "execution_count": 169,
      "outputs": []
    },
    {
      "cell_type": "code",
      "metadata": {
        "id": "_adwqYx0P_ib",
        "colab_type": "code",
        "colab": {
          "base_uri": "https://localhost:8080/",
          "height": 218
        },
        "outputId": "753a4758-c272-45bc-90e8-2289fc7f93f3"
      },
      "source": [
        "df3[\"new\"]"
      ],
      "execution_count": 170,
      "outputs": [
        {
          "output_type": "execute_result",
          "data": {
            "text/plain": [
              "0         1.185035\n",
              "1         0.460550\n",
              "2        72.886859\n",
              "3        30.493763\n",
              "4        13.380748\n",
              "           ...    \n",
              "9995    774.802793\n",
              "9996    760.637286\n",
              "9997    797.154095\n",
              "9998    797.154100\n",
              "9999    797.154100\n",
              "Name: new, Length: 10000, dtype: float64"
            ]
          },
          "metadata": {
            "tags": []
          },
          "execution_count": 170
        }
      ]
    },
    {
      "cell_type": "code",
      "metadata": {
        "id": "IgnZO1wuQCsr",
        "colab_type": "code",
        "colab": {}
      },
      "source": [
        "data = pd.DataFrame(df1[\"new\"])"
      ],
      "execution_count": 171,
      "outputs": []
    },
    {
      "cell_type": "code",
      "metadata": {
        "id": "FU9dajVdgrBk",
        "colab_type": "code",
        "colab": {}
      },
      "source": [
        "data[\"suspectible\"] = data[\"new\"]"
      ],
      "execution_count": 173,
      "outputs": []
    },
    {
      "cell_type": "code",
      "metadata": {
        "id": "a6gTVZiChNeO",
        "colab_type": "code",
        "colab": {}
      },
      "source": [
        "data[\"infected\"] = df2[\"new\"]"
      ],
      "execution_count": 174,
      "outputs": []
    },
    {
      "cell_type": "code",
      "metadata": {
        "id": "wcgoWe-hhQ3H",
        "colab_type": "code",
        "colab": {}
      },
      "source": [
        "data[\"recovered\"] = df3[\"new\"]"
      ],
      "execution_count": 175,
      "outputs": []
    },
    {
      "cell_type": "code",
      "metadata": {
        "id": "So_bcrmZh0p1",
        "colab_type": "code",
        "colab": {}
      },
      "source": [
        "data.drop(\"new\",axis = 1,inplace = True)"
      ],
      "execution_count": 176,
      "outputs": []
    },
    {
      "cell_type": "code",
      "metadata": {
        "id": "UfE_Wkavh1VV",
        "colab_type": "code",
        "colab": {
          "base_uri": "https://localhost:8080/",
          "height": 402
        },
        "outputId": "950143c8-6519-4cda-8a0e-8d3dd113dc3e"
      },
      "source": [
        "data"
      ],
      "execution_count": 177,
      "outputs": [
        {
          "output_type": "execute_result",
          "data": {
            "text/html": [
              "<div>\n",
              "<style scoped>\n",
              "    .dataframe tbody tr th:only-of-type {\n",
              "        vertical-align: middle;\n",
              "    }\n",
              "\n",
              "    .dataframe tbody tr th {\n",
              "        vertical-align: top;\n",
              "    }\n",
              "\n",
              "    .dataframe thead th {\n",
              "        text-align: right;\n",
              "    }\n",
              "</style>\n",
              "<table border=\"1\" class=\"dataframe\">\n",
              "  <thead>\n",
              "    <tr style=\"text-align: right;\">\n",
              "      <th></th>\n",
              "      <th>suspectible</th>\n",
              "      <th>infected</th>\n",
              "      <th>recovered</th>\n",
              "    </tr>\n",
              "  </thead>\n",
              "  <tbody>\n",
              "    <tr>\n",
              "      <th>0</th>\n",
              "      <td>996.635104</td>\n",
              "      <td>2.179861e+00</td>\n",
              "      <td>1.185035</td>\n",
              "    </tr>\n",
              "    <tr>\n",
              "      <th>1</th>\n",
              "      <td>998.080244</td>\n",
              "      <td>1.459206e+00</td>\n",
              "      <td>0.460550</td>\n",
              "    </tr>\n",
              "    <tr>\n",
              "      <th>2</th>\n",
              "      <td>863.488913</td>\n",
              "      <td>6.362423e+01</td>\n",
              "      <td>72.886859</td>\n",
              "    </tr>\n",
              "    <tr>\n",
              "      <th>3</th>\n",
              "      <td>939.894141</td>\n",
              "      <td>2.961210e+01</td>\n",
              "      <td>30.493763</td>\n",
              "    </tr>\n",
              "    <tr>\n",
              "      <th>4</th>\n",
              "      <td>972.619827</td>\n",
              "      <td>1.399943e+01</td>\n",
              "      <td>13.380748</td>\n",
              "    </tr>\n",
              "    <tr>\n",
              "      <th>...</th>\n",
              "      <td>...</td>\n",
              "      <td>...</td>\n",
              "      <td>...</td>\n",
              "    </tr>\n",
              "    <tr>\n",
              "      <th>9995</th>\n",
              "      <td>212.119371</td>\n",
              "      <td>1.307784e+01</td>\n",
              "      <td>774.802793</td>\n",
              "    </tr>\n",
              "    <tr>\n",
              "      <th>9996</th>\n",
              "      <td>218.214866</td>\n",
              "      <td>2.114785e+01</td>\n",
              "      <td>760.637286</td>\n",
              "    </tr>\n",
              "    <tr>\n",
              "      <th>9997</th>\n",
              "      <td>202.845902</td>\n",
              "      <td>2.980625e-06</td>\n",
              "      <td>797.154095</td>\n",
              "    </tr>\n",
              "    <tr>\n",
              "      <th>9998</th>\n",
              "      <td>202.845900</td>\n",
              "      <td>-4.323450e-10</td>\n",
              "      <td>797.154100</td>\n",
              "    </tr>\n",
              "    <tr>\n",
              "      <th>9999</th>\n",
              "      <td>202.845900</td>\n",
              "      <td>1.817447e-07</td>\n",
              "      <td>797.154100</td>\n",
              "    </tr>\n",
              "  </tbody>\n",
              "</table>\n",
              "<p>10000 rows × 3 columns</p>\n",
              "</div>"
            ],
            "text/plain": [
              "      suspectible      infected   recovered\n",
              "0      996.635104  2.179861e+00    1.185035\n",
              "1      998.080244  1.459206e+00    0.460550\n",
              "2      863.488913  6.362423e+01   72.886859\n",
              "3      939.894141  2.961210e+01   30.493763\n",
              "4      972.619827  1.399943e+01   13.380748\n",
              "...           ...           ...         ...\n",
              "9995   212.119371  1.307784e+01  774.802793\n",
              "9996   218.214866  2.114785e+01  760.637286\n",
              "9997   202.845902  2.980625e-06  797.154095\n",
              "9998   202.845900 -4.323450e-10  797.154100\n",
              "9999   202.845900  1.817447e-07  797.154100\n",
              "\n",
              "[10000 rows x 3 columns]"
            ]
          },
          "metadata": {
            "tags": []
          },
          "execution_count": 177
        }
      ]
    },
    {
      "cell_type": "code",
      "metadata": {
        "id": "YNJLYE96iAn2",
        "colab_type": "code",
        "colab": {}
      },
      "source": [
        "#df4 = pd.DataFrame(beta)"
      ],
      "execution_count": 178,
      "outputs": []
    },
    {
      "cell_type": "code",
      "metadata": {
        "id": "2jDCNsSAkhvR",
        "colab_type": "code",
        "colab": {}
      },
      "source": [
        "#df5 = pd.DataFrame(gamma)"
      ],
      "execution_count": 179,
      "outputs": []
    },
    {
      "cell_type": "code",
      "metadata": {
        "id": "dYo1MD9GjUYF",
        "colab_type": "code",
        "colab": {}
      },
      "source": [
        "#df4[0]"
      ],
      "execution_count": 180,
      "outputs": []
    },
    {
      "cell_type": "code",
      "metadata": {
        "id": "tieNUG_Mi6ED",
        "colab_type": "code",
        "colab": {}
      },
      "source": [
        "#df4[1] = df4[0]\n",
        "#df4[2] = df4[0]\n",
        "#df4[3] = df4[0]\n",
        "#df4[4] = df4[0]\n",
        "#df4[5] = df4[0]\n",
        "#df4[6] = df4[0]\n",
        "#df4[7] = df4[0]\n",
        "#df4[8] = df4[0]\n",
        "#df4[9] = df4[0]\n"
      ],
      "execution_count": 181,
      "outputs": []
    },
    {
      "cell_type": "code",
      "metadata": {
        "id": "3NxiXbRQkraF",
        "colab_type": "code",
        "colab": {}
      },
      "source": [
        "#df5[1] = df5[0]\n",
        "#df5[2] = df5[0]\n",
        "#df5[3] = df5[0]\n",
        "#df5[4] = df5[0]\n",
        "#df5[5] = df5[0]\n",
        "#df5[6] = df5[0]\n",
        "#df5[7] = df5[0]\n",
        "#df5[8] = df5[0]\n",
        "#df5[9] = df5[0]\n"
      ],
      "execution_count": 182,
      "outputs": []
    },
    {
      "cell_type": "code",
      "metadata": {
        "id": "aWvo-v9CjvtW",
        "colab_type": "code",
        "colab": {}
      },
      "source": [
        "#df4"
      ],
      "execution_count": 183,
      "outputs": []
    },
    {
      "cell_type": "code",
      "metadata": {
        "id": "s9MBXpYAilnU",
        "colab_type": "code",
        "colab": {}
      },
      "source": [
        "#df4 = pd.concat([df4, df4.T.stack().reset_index(name='new')['new']], axis=1)"
      ],
      "execution_count": 184,
      "outputs": []
    },
    {
      "cell_type": "code",
      "metadata": {
        "id": "i-wQmFSNk_0W",
        "colab_type": "code",
        "colab": {}
      },
      "source": [
        "#df5 = pd.concat([df5, df5.T.stack().reset_index(name='new')['new']], axis=1)"
      ],
      "execution_count": 185,
      "outputs": []
    },
    {
      "cell_type": "code",
      "metadata": {
        "id": "ztVAKUwFj4YV",
        "colab_type": "code",
        "colab": {}
      },
      "source": [
        "#data[\"beta\"] = df4[\"new\"]"
      ],
      "execution_count": 186,
      "outputs": []
    },
    {
      "cell_type": "code",
      "metadata": {
        "id": "1OamneyZkZRw",
        "colab_type": "code",
        "colab": {}
      },
      "source": [
        "#data[\"gamma\"] = df5[\"new\"]"
      ],
      "execution_count": 187,
      "outputs": []
    },
    {
      "cell_type": "code",
      "metadata": {
        "id": "1cRVKL7kkcKO",
        "colab_type": "code",
        "colab": {
          "base_uri": "https://localhost:8080/",
          "height": 402
        },
        "outputId": "aaa55fb3-104b-4c96-fea7-546e16df532f"
      },
      "source": [
        "data"
      ],
      "execution_count": 188,
      "outputs": [
        {
          "output_type": "execute_result",
          "data": {
            "text/html": [
              "<div>\n",
              "<style scoped>\n",
              "    .dataframe tbody tr th:only-of-type {\n",
              "        vertical-align: middle;\n",
              "    }\n",
              "\n",
              "    .dataframe tbody tr th {\n",
              "        vertical-align: top;\n",
              "    }\n",
              "\n",
              "    .dataframe thead th {\n",
              "        text-align: right;\n",
              "    }\n",
              "</style>\n",
              "<table border=\"1\" class=\"dataframe\">\n",
              "  <thead>\n",
              "    <tr style=\"text-align: right;\">\n",
              "      <th></th>\n",
              "      <th>suspectible</th>\n",
              "      <th>infected</th>\n",
              "      <th>recovered</th>\n",
              "    </tr>\n",
              "  </thead>\n",
              "  <tbody>\n",
              "    <tr>\n",
              "      <th>0</th>\n",
              "      <td>996.635104</td>\n",
              "      <td>2.179861e+00</td>\n",
              "      <td>1.185035</td>\n",
              "    </tr>\n",
              "    <tr>\n",
              "      <th>1</th>\n",
              "      <td>998.080244</td>\n",
              "      <td>1.459206e+00</td>\n",
              "      <td>0.460550</td>\n",
              "    </tr>\n",
              "    <tr>\n",
              "      <th>2</th>\n",
              "      <td>863.488913</td>\n",
              "      <td>6.362423e+01</td>\n",
              "      <td>72.886859</td>\n",
              "    </tr>\n",
              "    <tr>\n",
              "      <th>3</th>\n",
              "      <td>939.894141</td>\n",
              "      <td>2.961210e+01</td>\n",
              "      <td>30.493763</td>\n",
              "    </tr>\n",
              "    <tr>\n",
              "      <th>4</th>\n",
              "      <td>972.619827</td>\n",
              "      <td>1.399943e+01</td>\n",
              "      <td>13.380748</td>\n",
              "    </tr>\n",
              "    <tr>\n",
              "      <th>...</th>\n",
              "      <td>...</td>\n",
              "      <td>...</td>\n",
              "      <td>...</td>\n",
              "    </tr>\n",
              "    <tr>\n",
              "      <th>9995</th>\n",
              "      <td>212.119371</td>\n",
              "      <td>1.307784e+01</td>\n",
              "      <td>774.802793</td>\n",
              "    </tr>\n",
              "    <tr>\n",
              "      <th>9996</th>\n",
              "      <td>218.214866</td>\n",
              "      <td>2.114785e+01</td>\n",
              "      <td>760.637286</td>\n",
              "    </tr>\n",
              "    <tr>\n",
              "      <th>9997</th>\n",
              "      <td>202.845902</td>\n",
              "      <td>2.980625e-06</td>\n",
              "      <td>797.154095</td>\n",
              "    </tr>\n",
              "    <tr>\n",
              "      <th>9998</th>\n",
              "      <td>202.845900</td>\n",
              "      <td>-4.323450e-10</td>\n",
              "      <td>797.154100</td>\n",
              "    </tr>\n",
              "    <tr>\n",
              "      <th>9999</th>\n",
              "      <td>202.845900</td>\n",
              "      <td>1.817447e-07</td>\n",
              "      <td>797.154100</td>\n",
              "    </tr>\n",
              "  </tbody>\n",
              "</table>\n",
              "<p>10000 rows × 3 columns</p>\n",
              "</div>"
            ],
            "text/plain": [
              "      suspectible      infected   recovered\n",
              "0      996.635104  2.179861e+00    1.185035\n",
              "1      998.080244  1.459206e+00    0.460550\n",
              "2      863.488913  6.362423e+01   72.886859\n",
              "3      939.894141  2.961210e+01   30.493763\n",
              "4      972.619827  1.399943e+01   13.380748\n",
              "...           ...           ...         ...\n",
              "9995   212.119371  1.307784e+01  774.802793\n",
              "9996   218.214866  2.114785e+01  760.637286\n",
              "9997   202.845902  2.980625e-06  797.154095\n",
              "9998   202.845900 -4.323450e-10  797.154100\n",
              "9999   202.845900  1.817447e-07  797.154100\n",
              "\n",
              "[10000 rows x 3 columns]"
            ]
          },
          "metadata": {
            "tags": []
          },
          "execution_count": 188
        }
      ]
    },
    {
      "cell_type": "code",
      "metadata": {
        "id": "ibUJg8M1lNvm",
        "colab_type": "code",
        "colab": {}
      },
      "source": [
        "data[\"recovered(O)\"] = Df3[\"new\"]"
      ],
      "execution_count": 189,
      "outputs": []
    },
    {
      "cell_type": "code",
      "metadata": {
        "id": "P5kxi1blyoPI",
        "colab_type": "code",
        "colab": {}
      },
      "source": [
        "data[\"infected(O)\"] = Df2[\"new\"]"
      ],
      "execution_count": 190,
      "outputs": []
    },
    {
      "cell_type": "code",
      "metadata": {
        "id": "zAosrvpZypGx",
        "colab_type": "code",
        "colab": {}
      },
      "source": [
        "data[\"suspectible(O)\"] = Df1[\"new\"]"
      ],
      "execution_count": 191,
      "outputs": []
    },
    {
      "cell_type": "code",
      "metadata": {
        "id": "bOz78NbKy42L",
        "colab_type": "code",
        "colab": {
          "base_uri": "https://localhost:8080/",
          "height": 402
        },
        "outputId": "2d6789c0-8824-40d6-be47-1c57ee01e0a9"
      },
      "source": [
        "data"
      ],
      "execution_count": 192,
      "outputs": [
        {
          "output_type": "execute_result",
          "data": {
            "text/html": [
              "<div>\n",
              "<style scoped>\n",
              "    .dataframe tbody tr th:only-of-type {\n",
              "        vertical-align: middle;\n",
              "    }\n",
              "\n",
              "    .dataframe tbody tr th {\n",
              "        vertical-align: top;\n",
              "    }\n",
              "\n",
              "    .dataframe thead th {\n",
              "        text-align: right;\n",
              "    }\n",
              "</style>\n",
              "<table border=\"1\" class=\"dataframe\">\n",
              "  <thead>\n",
              "    <tr style=\"text-align: right;\">\n",
              "      <th></th>\n",
              "      <th>suspectible</th>\n",
              "      <th>infected</th>\n",
              "      <th>recovered</th>\n",
              "      <th>recovered(O)</th>\n",
              "      <th>infected(O)</th>\n",
              "      <th>suspectible(O)</th>\n",
              "    </tr>\n",
              "  </thead>\n",
              "  <tbody>\n",
              "    <tr>\n",
              "      <th>0</th>\n",
              "      <td>996.635104</td>\n",
              "      <td>2.179861e+00</td>\n",
              "      <td>1.185035</td>\n",
              "      <td>1.185035</td>\n",
              "      <td>2.179861e+00</td>\n",
              "      <td>995.899765</td>\n",
              "    </tr>\n",
              "    <tr>\n",
              "      <th>1</th>\n",
              "      <td>998.080244</td>\n",
              "      <td>1.459206e+00</td>\n",
              "      <td>0.460550</td>\n",
              "      <td>0.460550</td>\n",
              "      <td>1.459206e+00</td>\n",
              "      <td>997.850946</td>\n",
              "    </tr>\n",
              "    <tr>\n",
              "      <th>2</th>\n",
              "      <td>863.488913</td>\n",
              "      <td>6.362423e+01</td>\n",
              "      <td>72.886859</td>\n",
              "      <td>72.886859</td>\n",
              "      <td>6.362423e+01</td>\n",
              "      <td>740.834939</td>\n",
              "    </tr>\n",
              "    <tr>\n",
              "      <th>3</th>\n",
              "      <td>939.894141</td>\n",
              "      <td>2.961210e+01</td>\n",
              "      <td>30.493763</td>\n",
              "      <td>30.493763</td>\n",
              "      <td>2.961210e+01</td>\n",
              "      <td>888.069472</td>\n",
              "    </tr>\n",
              "    <tr>\n",
              "      <th>4</th>\n",
              "      <td>972.619827</td>\n",
              "      <td>1.399943e+01</td>\n",
              "      <td>13.380748</td>\n",
              "      <td>13.380748</td>\n",
              "      <td>1.399943e+01</td>\n",
              "      <td>953.793977</td>\n",
              "    </tr>\n",
              "    <tr>\n",
              "      <th>...</th>\n",
              "      <td>...</td>\n",
              "      <td>...</td>\n",
              "      <td>...</td>\n",
              "      <td>...</td>\n",
              "      <td>...</td>\n",
              "      <td>...</td>\n",
              "    </tr>\n",
              "    <tr>\n",
              "      <th>9995</th>\n",
              "      <td>212.119371</td>\n",
              "      <td>1.307784e+01</td>\n",
              "      <td>774.802793</td>\n",
              "      <td>774.802793</td>\n",
              "      <td>1.307784e+01</td>\n",
              "      <td>211.287522</td>\n",
              "    </tr>\n",
              "    <tr>\n",
              "      <th>9996</th>\n",
              "      <td>218.214866</td>\n",
              "      <td>2.114785e+01</td>\n",
              "      <td>760.637286</td>\n",
              "      <td>760.637286</td>\n",
              "      <td>2.114785e+01</td>\n",
              "      <td>216.920167</td>\n",
              "    </tr>\n",
              "    <tr>\n",
              "      <th>9997</th>\n",
              "      <td>202.845902</td>\n",
              "      <td>2.980625e-06</td>\n",
              "      <td>797.154095</td>\n",
              "      <td>797.154095</td>\n",
              "      <td>2.980625e-06</td>\n",
              "      <td>202.845901</td>\n",
              "    </tr>\n",
              "    <tr>\n",
              "      <th>9998</th>\n",
              "      <td>202.845900</td>\n",
              "      <td>-4.323450e-10</td>\n",
              "      <td>797.154100</td>\n",
              "      <td>797.154100</td>\n",
              "      <td>-4.323450e-10</td>\n",
              "      <td>202.845900</td>\n",
              "    </tr>\n",
              "    <tr>\n",
              "      <th>9999</th>\n",
              "      <td>202.845900</td>\n",
              "      <td>1.817447e-07</td>\n",
              "      <td>797.154100</td>\n",
              "      <td>797.154100</td>\n",
              "      <td>1.817447e-07</td>\n",
              "      <td>202.845900</td>\n",
              "    </tr>\n",
              "  </tbody>\n",
              "</table>\n",
              "<p>10000 rows × 6 columns</p>\n",
              "</div>"
            ],
            "text/plain": [
              "      suspectible      infected  ...   infected(O)  suspectible(O)\n",
              "0      996.635104  2.179861e+00  ...  2.179861e+00      995.899765\n",
              "1      998.080244  1.459206e+00  ...  1.459206e+00      997.850946\n",
              "2      863.488913  6.362423e+01  ...  6.362423e+01      740.834939\n",
              "3      939.894141  2.961210e+01  ...  2.961210e+01      888.069472\n",
              "4      972.619827  1.399943e+01  ...  1.399943e+01      953.793977\n",
              "...           ...           ...  ...           ...             ...\n",
              "9995   212.119371  1.307784e+01  ...  1.307784e+01      211.287522\n",
              "9996   218.214866  2.114785e+01  ...  2.114785e+01      216.920167\n",
              "9997   202.845902  2.980625e-06  ...  2.980625e-06      202.845901\n",
              "9998   202.845900 -4.323450e-10  ... -4.323450e-10      202.845900\n",
              "9999   202.845900  1.817447e-07  ...  1.817447e-07      202.845900\n",
              "\n",
              "[10000 rows x 6 columns]"
            ]
          },
          "metadata": {
            "tags": []
          },
          "execution_count": 192
        }
      ]
    },
    {
      "cell_type": "code",
      "metadata": {
        "id": "hCkmpuGzV99k",
        "colab_type": "code",
        "colab": {}
      },
      "source": [
        "X = data[[\"suspectible\",\"infected\",\"recovered\"]]\n",
        "y = data[[\"recovered(O)\",\"infected(O)\",\"suspectible(O)\"]]"
      ],
      "execution_count": 193,
      "outputs": []
    },
    {
      "cell_type": "code",
      "metadata": {
        "id": "3XjM-eOMVo9a",
        "colab_type": "code",
        "colab": {}
      },
      "source": [
        "from sklearn.model_selection import train_test_split"
      ],
      "execution_count": 194,
      "outputs": []
    },
    {
      "cell_type": "code",
      "metadata": {
        "id": "Hv9BLXbKVqdZ",
        "colab_type": "code",
        "colab": {}
      },
      "source": [
        "X_train, X_test, y_train, y_test = train_test_split(X, y, test_size=0.2, random_state=42)"
      ],
      "execution_count": 195,
      "outputs": []
    },
    {
      "cell_type": "code",
      "metadata": {
        "id": "oQJSdbTsUoJh",
        "colab_type": "code",
        "colab": {
          "base_uri": "https://localhost:8080/",
          "height": 1000
        },
        "outputId": "747dd3e6-2957-416e-94aa-209269f16fca"
      },
      "source": [
        "from tensorflow import keras\n",
        "from keras.models import Sequential\n",
        "from keras.layers import Dense,Activation\n",
        "from keras.optimizers import Adam\n",
        "from keras.callbacks import ModelCheckpoint\n",
        "# load the dataset\n",
        "# define the keras model\n",
        "model = Sequential()\n",
        "model.add(Dense(64, input_dim=3, activation='relu'))\n",
        "model.add(Dense(32, activation='relu'))\n",
        "model.add(Dense(32, activation='relu'))\n",
        "model.add(Dense(32, activation='relu'))\n",
        "model.add(Dense(32, activation='relu'))\n",
        "model.add(Dense(32,  activation='relu'))\n",
        "model.add(Dense(16,  activation='relu'))\n",
        "model.add(Dense(16,  activation='relu'))\n",
        "model.add(Dense(3, activation='relu'))\n",
        "# compile the keras model\n",
        "opt = keras.optimizers.Adam(learning_rate=0.01)\n",
        "model.compile(loss='mean_squared_error', optimizer=opt, metrics=['accuracy'])\n",
        "# checkpoint\n",
        "filepath=\"weights-improvement-{epoch:02d}-{val_accuracy:.2f}.hdf5\"\n",
        "checkpoint = ModelCheckpoint(filepath, monitor='val_accuracy', verbose=1, save_best_only=True, mode='max')\n",
        "callbacks_list = [checkpoint]\n",
        "# fit the keras model on the dataset\n",
        "model.fit(X_train, y_train, validation_split=0.2, epochs=100, batch_size=10, callbacks=callbacks_list, verbose=0)\n",
        "#model.fit(X_train, y_train, epochs=100, batch_size=10)"
      ],
      "execution_count": 196,
      "outputs": [
        {
          "output_type": "stream",
          "text": [
            "\n",
            "Epoch 00001: val_accuracy improved from -inf to 0.25938, saving model to weights-improvement-01-0.26.hdf5\n"
          ],
          "name": "stdout"
        },
        {
          "output_type": "stream",
          "text": [
            "/usr/local/lib/python3.6/dist-packages/keras/engine/saving.py:165: UserWarning: TensorFlow optimizers do not make it possible to access optimizer attributes or optimizer state after instantiation. As a result, we cannot save the optimizer as part of the model save file.You will have to compile your model again after loading it. Prefer using a Keras optimizer instead (see keras.io/optimizers).\n",
            "  'TensorFlow optimizers do not '\n"
          ],
          "name": "stderr"
        },
        {
          "output_type": "stream",
          "text": [
            "\n",
            "Epoch 00002: val_accuracy did not improve from 0.25938\n",
            "\n",
            "Epoch 00003: val_accuracy did not improve from 0.25938\n",
            "\n",
            "Epoch 00004: val_accuracy did not improve from 0.25938\n",
            "\n",
            "Epoch 00005: val_accuracy did not improve from 0.25938\n",
            "\n",
            "Epoch 00006: val_accuracy did not improve from 0.25938\n",
            "\n",
            "Epoch 00007: val_accuracy did not improve from 0.25938\n",
            "\n",
            "Epoch 00008: val_accuracy did not improve from 0.25938\n",
            "\n",
            "Epoch 00009: val_accuracy did not improve from 0.25938\n",
            "\n",
            "Epoch 00010: val_accuracy did not improve from 0.25938\n",
            "\n",
            "Epoch 00011: val_accuracy did not improve from 0.25938\n",
            "\n",
            "Epoch 00012: val_accuracy did not improve from 0.25938\n",
            "\n",
            "Epoch 00013: val_accuracy did not improve from 0.25938\n",
            "\n",
            "Epoch 00014: val_accuracy did not improve from 0.25938\n",
            "\n",
            "Epoch 00015: val_accuracy did not improve from 0.25938\n",
            "\n",
            "Epoch 00016: val_accuracy did not improve from 0.25938\n",
            "\n",
            "Epoch 00017: val_accuracy did not improve from 0.25938\n",
            "\n",
            "Epoch 00018: val_accuracy did not improve from 0.25938\n",
            "\n",
            "Epoch 00019: val_accuracy did not improve from 0.25938\n",
            "\n",
            "Epoch 00020: val_accuracy did not improve from 0.25938\n",
            "\n",
            "Epoch 00021: val_accuracy did not improve from 0.25938\n",
            "\n",
            "Epoch 00022: val_accuracy did not improve from 0.25938\n",
            "\n",
            "Epoch 00023: val_accuracy did not improve from 0.25938\n",
            "\n",
            "Epoch 00024: val_accuracy did not improve from 0.25938\n",
            "\n",
            "Epoch 00025: val_accuracy did not improve from 0.25938\n",
            "\n",
            "Epoch 00026: val_accuracy did not improve from 0.25938\n",
            "\n",
            "Epoch 00027: val_accuracy did not improve from 0.25938\n",
            "\n",
            "Epoch 00028: val_accuracy improved from 0.25938 to 0.74063, saving model to weights-improvement-28-0.74.hdf5\n",
            "\n",
            "Epoch 00029: val_accuracy did not improve from 0.74063\n",
            "\n",
            "Epoch 00030: val_accuracy did not improve from 0.74063\n",
            "\n",
            "Epoch 00031: val_accuracy improved from 0.74063 to 0.92375, saving model to weights-improvement-31-0.92.hdf5\n",
            "\n",
            "Epoch 00032: val_accuracy improved from 0.92375 to 0.99437, saving model to weights-improvement-32-0.99.hdf5\n",
            "\n",
            "Epoch 00033: val_accuracy did not improve from 0.99437\n",
            "\n",
            "Epoch 00034: val_accuracy improved from 0.99437 to 0.99750, saving model to weights-improvement-34-1.00.hdf5\n",
            "\n",
            "Epoch 00035: val_accuracy improved from 0.99750 to 0.99813, saving model to weights-improvement-35-1.00.hdf5\n",
            "\n",
            "Epoch 00036: val_accuracy did not improve from 0.99813\n",
            "\n",
            "Epoch 00037: val_accuracy did not improve from 0.99813\n",
            "\n",
            "Epoch 00038: val_accuracy did not improve from 0.99813\n",
            "\n",
            "Epoch 00039: val_accuracy did not improve from 0.99813\n",
            "\n",
            "Epoch 00040: val_accuracy did not improve from 0.99813\n",
            "\n",
            "Epoch 00041: val_accuracy did not improve from 0.99813\n",
            "\n",
            "Epoch 00042: val_accuracy did not improve from 0.99813\n",
            "\n",
            "Epoch 00043: val_accuracy did not improve from 0.99813\n",
            "\n",
            "Epoch 00044: val_accuracy did not improve from 0.99813\n",
            "\n",
            "Epoch 00045: val_accuracy did not improve from 0.99813\n",
            "\n",
            "Epoch 00046: val_accuracy did not improve from 0.99813\n",
            "\n",
            "Epoch 00047: val_accuracy did not improve from 0.99813\n",
            "\n",
            "Epoch 00048: val_accuracy did not improve from 0.99813\n",
            "\n",
            "Epoch 00049: val_accuracy did not improve from 0.99813\n",
            "\n",
            "Epoch 00050: val_accuracy did not improve from 0.99813\n",
            "\n",
            "Epoch 00051: val_accuracy did not improve from 0.99813\n",
            "\n",
            "Epoch 00052: val_accuracy did not improve from 0.99813\n",
            "\n",
            "Epoch 00053: val_accuracy did not improve from 0.99813\n",
            "\n",
            "Epoch 00054: val_accuracy did not improve from 0.99813\n",
            "\n",
            "Epoch 00055: val_accuracy did not improve from 0.99813\n",
            "\n",
            "Epoch 00056: val_accuracy did not improve from 0.99813\n",
            "\n",
            "Epoch 00057: val_accuracy did not improve from 0.99813\n",
            "\n",
            "Epoch 00058: val_accuracy did not improve from 0.99813\n",
            "\n",
            "Epoch 00059: val_accuracy did not improve from 0.99813\n",
            "\n",
            "Epoch 00060: val_accuracy did not improve from 0.99813\n",
            "\n",
            "Epoch 00061: val_accuracy did not improve from 0.99813\n",
            "\n",
            "Epoch 00062: val_accuracy did not improve from 0.99813\n",
            "\n",
            "Epoch 00063: val_accuracy did not improve from 0.99813\n",
            "\n",
            "Epoch 00064: val_accuracy did not improve from 0.99813\n",
            "\n",
            "Epoch 00065: val_accuracy did not improve from 0.99813\n",
            "\n",
            "Epoch 00066: val_accuracy did not improve from 0.99813\n",
            "\n",
            "Epoch 00067: val_accuracy did not improve from 0.99813\n",
            "\n",
            "Epoch 00068: val_accuracy did not improve from 0.99813\n",
            "\n",
            "Epoch 00069: val_accuracy did not improve from 0.99813\n",
            "\n",
            "Epoch 00070: val_accuracy did not improve from 0.99813\n",
            "\n",
            "Epoch 00071: val_accuracy did not improve from 0.99813\n",
            "\n",
            "Epoch 00072: val_accuracy did not improve from 0.99813\n",
            "\n",
            "Epoch 00073: val_accuracy did not improve from 0.99813\n",
            "\n",
            "Epoch 00074: val_accuracy did not improve from 0.99813\n",
            "\n",
            "Epoch 00075: val_accuracy improved from 0.99813 to 0.99875, saving model to weights-improvement-75-1.00.hdf5\n",
            "\n",
            "Epoch 00076: val_accuracy did not improve from 0.99875\n",
            "\n",
            "Epoch 00077: val_accuracy did not improve from 0.99875\n",
            "\n",
            "Epoch 00078: val_accuracy did not improve from 0.99875\n",
            "\n",
            "Epoch 00079: val_accuracy did not improve from 0.99875\n",
            "\n",
            "Epoch 00080: val_accuracy did not improve from 0.99875\n",
            "\n",
            "Epoch 00081: val_accuracy did not improve from 0.99875\n",
            "\n",
            "Epoch 00082: val_accuracy did not improve from 0.99875\n",
            "\n",
            "Epoch 00083: val_accuracy did not improve from 0.99875\n",
            "\n",
            "Epoch 00084: val_accuracy did not improve from 0.99875\n",
            "\n",
            "Epoch 00085: val_accuracy did not improve from 0.99875\n",
            "\n",
            "Epoch 00086: val_accuracy did not improve from 0.99875\n",
            "\n",
            "Epoch 00087: val_accuracy did not improve from 0.99875\n",
            "\n",
            "Epoch 00088: val_accuracy did not improve from 0.99875\n",
            "\n",
            "Epoch 00089: val_accuracy did not improve from 0.99875\n",
            "\n",
            "Epoch 00090: val_accuracy did not improve from 0.99875\n",
            "\n",
            "Epoch 00091: val_accuracy did not improve from 0.99875\n",
            "\n",
            "Epoch 00092: val_accuracy did not improve from 0.99875\n",
            "\n",
            "Epoch 00093: val_accuracy did not improve from 0.99875\n",
            "\n",
            "Epoch 00094: val_accuracy did not improve from 0.99875\n",
            "\n",
            "Epoch 00095: val_accuracy did not improve from 0.99875\n",
            "\n",
            "Epoch 00096: val_accuracy did not improve from 0.99875\n",
            "\n",
            "Epoch 00097: val_accuracy did not improve from 0.99875\n",
            "\n",
            "Epoch 00098: val_accuracy did not improve from 0.99875\n",
            "\n",
            "Epoch 00099: val_accuracy did not improve from 0.99875\n",
            "\n",
            "Epoch 00100: val_accuracy did not improve from 0.99875\n"
          ],
          "name": "stdout"
        },
        {
          "output_type": "execute_result",
          "data": {
            "text/plain": [
              "<keras.callbacks.callbacks.History at 0x7ff5f4ed33c8>"
            ]
          },
          "metadata": {
            "tags": []
          },
          "execution_count": 196
        }
      ]
    },
    {
      "cell_type": "code",
      "metadata": {
        "id": "_Bap-gouWU-z",
        "colab_type": "code",
        "colab": {
          "base_uri": "https://localhost:8080/",
          "height": 50
        },
        "outputId": "3f0392ac-12ae-4efa-f3ce-9a197b809777"
      },
      "source": [
        "# evaluate the keras model\n",
        "_, accuracy = model.evaluate(X_test, y_test)\n",
        "print('Accuracy: %.2f' % (accuracy*100))"
      ],
      "execution_count": 197,
      "outputs": [
        {
          "output_type": "stream",
          "text": [
            "2000/2000 [==============================] - 0s 20us/step\n",
            "Accuracy: 99.90\n"
          ],
          "name": "stdout"
        }
      ]
    },
    {
      "cell_type": "code",
      "metadata": {
        "id": "gJdmd9x_gly_",
        "colab_type": "code",
        "colab": {
          "base_uri": "https://localhost:8080/",
          "height": 402
        },
        "outputId": "28d20839-e76f-4eff-8908-c29c0be7c220"
      },
      "source": [
        "data"
      ],
      "execution_count": 199,
      "outputs": [
        {
          "output_type": "execute_result",
          "data": {
            "text/html": [
              "<div>\n",
              "<style scoped>\n",
              "    .dataframe tbody tr th:only-of-type {\n",
              "        vertical-align: middle;\n",
              "    }\n",
              "\n",
              "    .dataframe tbody tr th {\n",
              "        vertical-align: top;\n",
              "    }\n",
              "\n",
              "    .dataframe thead th {\n",
              "        text-align: right;\n",
              "    }\n",
              "</style>\n",
              "<table border=\"1\" class=\"dataframe\">\n",
              "  <thead>\n",
              "    <tr style=\"text-align: right;\">\n",
              "      <th></th>\n",
              "      <th>suspectible</th>\n",
              "      <th>infected</th>\n",
              "      <th>recovered</th>\n",
              "      <th>recovered(O)</th>\n",
              "      <th>infected(O)</th>\n",
              "      <th>suspectible(O)</th>\n",
              "    </tr>\n",
              "  </thead>\n",
              "  <tbody>\n",
              "    <tr>\n",
              "      <th>0</th>\n",
              "      <td>996.635104</td>\n",
              "      <td>2.179861e+00</td>\n",
              "      <td>1.185035</td>\n",
              "      <td>1.185035</td>\n",
              "      <td>2.179861e+00</td>\n",
              "      <td>995.899765</td>\n",
              "    </tr>\n",
              "    <tr>\n",
              "      <th>1</th>\n",
              "      <td>998.080244</td>\n",
              "      <td>1.459206e+00</td>\n",
              "      <td>0.460550</td>\n",
              "      <td>0.460550</td>\n",
              "      <td>1.459206e+00</td>\n",
              "      <td>997.850946</td>\n",
              "    </tr>\n",
              "    <tr>\n",
              "      <th>2</th>\n",
              "      <td>863.488913</td>\n",
              "      <td>6.362423e+01</td>\n",
              "      <td>72.886859</td>\n",
              "      <td>72.886859</td>\n",
              "      <td>6.362423e+01</td>\n",
              "      <td>740.834939</td>\n",
              "    </tr>\n",
              "    <tr>\n",
              "      <th>3</th>\n",
              "      <td>939.894141</td>\n",
              "      <td>2.961210e+01</td>\n",
              "      <td>30.493763</td>\n",
              "      <td>30.493763</td>\n",
              "      <td>2.961210e+01</td>\n",
              "      <td>888.069472</td>\n",
              "    </tr>\n",
              "    <tr>\n",
              "      <th>4</th>\n",
              "      <td>972.619827</td>\n",
              "      <td>1.399943e+01</td>\n",
              "      <td>13.380748</td>\n",
              "      <td>13.380748</td>\n",
              "      <td>1.399943e+01</td>\n",
              "      <td>953.793977</td>\n",
              "    </tr>\n",
              "    <tr>\n",
              "      <th>...</th>\n",
              "      <td>...</td>\n",
              "      <td>...</td>\n",
              "      <td>...</td>\n",
              "      <td>...</td>\n",
              "      <td>...</td>\n",
              "      <td>...</td>\n",
              "    </tr>\n",
              "    <tr>\n",
              "      <th>9995</th>\n",
              "      <td>212.119371</td>\n",
              "      <td>1.307784e+01</td>\n",
              "      <td>774.802793</td>\n",
              "      <td>774.802793</td>\n",
              "      <td>1.307784e+01</td>\n",
              "      <td>211.287522</td>\n",
              "    </tr>\n",
              "    <tr>\n",
              "      <th>9996</th>\n",
              "      <td>218.214866</td>\n",
              "      <td>2.114785e+01</td>\n",
              "      <td>760.637286</td>\n",
              "      <td>760.637286</td>\n",
              "      <td>2.114785e+01</td>\n",
              "      <td>216.920167</td>\n",
              "    </tr>\n",
              "    <tr>\n",
              "      <th>9997</th>\n",
              "      <td>202.845902</td>\n",
              "      <td>2.980625e-06</td>\n",
              "      <td>797.154095</td>\n",
              "      <td>797.154095</td>\n",
              "      <td>2.980625e-06</td>\n",
              "      <td>202.845901</td>\n",
              "    </tr>\n",
              "    <tr>\n",
              "      <th>9998</th>\n",
              "      <td>202.845900</td>\n",
              "      <td>-4.323450e-10</td>\n",
              "      <td>797.154100</td>\n",
              "      <td>797.154100</td>\n",
              "      <td>-4.323450e-10</td>\n",
              "      <td>202.845900</td>\n",
              "    </tr>\n",
              "    <tr>\n",
              "      <th>9999</th>\n",
              "      <td>202.845900</td>\n",
              "      <td>1.817447e-07</td>\n",
              "      <td>797.154100</td>\n",
              "      <td>797.154100</td>\n",
              "      <td>1.817447e-07</td>\n",
              "      <td>202.845900</td>\n",
              "    </tr>\n",
              "  </tbody>\n",
              "</table>\n",
              "<p>10000 rows × 6 columns</p>\n",
              "</div>"
            ],
            "text/plain": [
              "      suspectible      infected  ...   infected(O)  suspectible(O)\n",
              "0      996.635104  2.179861e+00  ...  2.179861e+00      995.899765\n",
              "1      998.080244  1.459206e+00  ...  1.459206e+00      997.850946\n",
              "2      863.488913  6.362423e+01  ...  6.362423e+01      740.834939\n",
              "3      939.894141  2.961210e+01  ...  2.961210e+01      888.069472\n",
              "4      972.619827  1.399943e+01  ...  1.399943e+01      953.793977\n",
              "...           ...           ...  ...           ...             ...\n",
              "9995   212.119371  1.307784e+01  ...  1.307784e+01      211.287522\n",
              "9996   218.214866  2.114785e+01  ...  2.114785e+01      216.920167\n",
              "9997   202.845902  2.980625e-06  ...  2.980625e-06      202.845901\n",
              "9998   202.845900 -4.323450e-10  ... -4.323450e-10      202.845900\n",
              "9999   202.845900  1.817447e-07  ...  1.817447e-07      202.845900\n",
              "\n",
              "[10000 rows x 6 columns]"
            ]
          },
          "metadata": {
            "tags": []
          },
          "execution_count": 199
        }
      ]
    },
    {
      "cell_type": "code",
      "metadata": {
        "id": "y9utYSyTsBTU",
        "colab_type": "code",
        "colab": {}
      },
      "source": [
        "S_pred = []\n",
        "for i in range(1000):\n",
        "  g = []\n",
        "  q = 1\n",
        "  p = i\n",
        "  while q<=10:\n",
        "    g.append(data[\"suspectible\"][p])\n",
        "    p = p+1000\n",
        "    q = q+1\n",
        "  S_pred.append(g)     # S is a list of 1000 elements and further each elements is a list of 10 elements\n",
        "\n",
        "  \n",
        "\n"
      ],
      "execution_count": 200,
      "outputs": []
    },
    {
      "cell_type": "code",
      "metadata": {
        "id": "nFzb_xRLyNXr",
        "colab_type": "code",
        "colab": {}
      },
      "source": [
        "I_pred = []\n",
        "for i in range(1000):\n",
        "  g = []\n",
        "  q = 1\n",
        "  p = i\n",
        "  while q<=10:\n",
        "    g.append(data[\"infected\"][p])\n",
        "    p = p+1000\n",
        "    q = q+1\n",
        "  I_pred.append(g)     # I is a list of 1000 elements and further each elements is a list of 10 elements\n",
        "\n",
        "  \n",
        "\n"
      ],
      "execution_count": 201,
      "outputs": []
    },
    {
      "cell_type": "code",
      "metadata": {
        "id": "MC4aErADzqWM",
        "colab_type": "code",
        "colab": {}
      },
      "source": [
        "R_pred = []\n",
        "for i in range(1000):\n",
        "  g = []\n",
        "  q = 1\n",
        "  p = i\n",
        "  while q<=10:\n",
        "    g.append(data[\"recovered\"][p])\n",
        "    p = p+1000\n",
        "    q = q+1\n",
        "  R_pred.append(g)     # I is a list of 1000 elements and further each elements is a list of 10 elements\n",
        "\n",
        "  \n",
        "\n"
      ],
      "execution_count": 202,
      "outputs": []
    },
    {
      "cell_type": "code",
      "metadata": {
        "id": "4l9s8j15tJaY",
        "colab_type": "code",
        "colab": {}
      },
      "source": [
        "S_act = []\n",
        "for i in range(1000):\n",
        "  g = []\n",
        "  q = 1\n",
        "  p = i\n",
        "  while q<=10:\n",
        "    g.append(data[\"suspectible(O)\"][p])\n",
        "    p = p+1000\n",
        "    q = q+1\n",
        "  S_act.append(g)     # S is a list of 1000 elements and further each elements is a list of 10 elements\n",
        "\n",
        "  \n",
        "\n"
      ],
      "execution_count": 203,
      "outputs": []
    },
    {
      "cell_type": "code",
      "metadata": {
        "id": "ySvJoIFitSfd",
        "colab_type": "code",
        "colab": {}
      },
      "source": [
        "I_act = []\n",
        "for i in range(1000):\n",
        "  g = []\n",
        "  q = 1\n",
        "  p = i\n",
        "  while q<=10:\n",
        "    g.append(data[\"infected(O)\"][p])\n",
        "    p = p+1000\n",
        "    q = q+1\n",
        "  I_act.append(g)     # I is a list of 1000 elements and further each elements is a list of 10 elements\n",
        "\n",
        "  \n",
        "\n"
      ],
      "execution_count": 204,
      "outputs": []
    },
    {
      "cell_type": "code",
      "metadata": {
        "id": "KRmTRNNotTN3",
        "colab_type": "code",
        "colab": {}
      },
      "source": [
        "R_act = []\n",
        "for i in range(1000):\n",
        "  g = []\n",
        "  q = 1\n",
        "  p = i\n",
        "  while q<=10:\n",
        "    g.append(data[\"recovered(O)\"][p])\n",
        "    p = p+1000\n",
        "    q = q+1\n",
        "  R_act.append(g)     # I is a list of 1000 elements and further each elements is a list of 10 elements\n",
        "\n",
        "  \n",
        "\n"
      ],
      "execution_count": 205,
      "outputs": []
    },
    {
      "cell_type": "code",
      "metadata": {
        "id": "y9SDuk82Kn5O",
        "colab_type": "code",
        "colab": {
          "base_uri": "https://localhost:8080/",
          "height": 309
        },
        "outputId": "26e6ae25-847c-4621-d23e-54bb6b8879ea"
      },
      "source": [
        "plotsir(col_3, S_pred[0], I_pred[0], R_pred[0])  # plot of S,I,R (predicted) vs 10 random days for a particular parameter( beta and gamma)"
      ],
      "execution_count": 213,
      "outputs": [
        {
          "output_type": "display_data",
          "data": {
            "image/png": "[encoded data removed]",
            "text/html": [
              "\n",
              "\n",
              "<style>\n",
              "\n",
              "</style>\n",
              "\n",
              "<div id=\"fig_el1221406943481273128983091285\"></div>\n",
              "<script>\n",
              "function mpld3_load_lib(url, callback){\n",
              "  var s = document.createElement('script');\n",
              "  s.src = url;\n",
              "  s.async = true;\n",
              "  s.onreadystatechange = s.onload = callback;\n",
              "  s.onerror = function(){console.warn(\"failed to load library \" + url);};\n",
              "  document.getElementsByTagName(\"head\")[0].appendChild(s);\n",
              "}\n",
              "\n",
              "if(typeof(mpld3) !== \"undefined\" && mpld3._mpld3IsLoaded){\n",
              "   // already loaded: just create the figure\n",
              "   !function(mpld3){\n",
              "       \n",
              "       mpld3.draw_figure(\"fig_el1221406943481273128983091285\", {\"width\": 720.0, \"height\": 288.0, \"axes\": [{\"bbox\": [0.125, 0.125, 0.775, 0.755], \"xlim\": [2.25, 84.75], \"ylim\": [-48.58746885717674, 1046.4076078939734], \"xdomain\": [2.25, 84.75], \"ydomain\": [-48.58746885717674, 1046.4076078939734], \"xscale\": \"linear\", \"yscale\": \"linear\", \"axes\": [{\"position\": \"bottom\", \"nticks\": 10, \"tickvalues\": null, \"tickformat_formatter\": \"\", \"tickformat\": null, \"scale\": \"linear\", \"fontsize\": 10.0, \"grid\": {\"gridOn\": true, \"color\": \"#FFFFFF\", \"dasharray\": \"none\", \"alpha\": 1.0}, \"visible\": true}, {\"position\": \"left\", \"nticks\": 8, \"tickvalues\": null, \"tickformat_formatter\": \"\", \"tickformat\": null, \"scale\": \"linear\", \"fontsize\": 10.0, \"grid\": {\"gridOn\": true, \"color\": \"#FFFFFF\", \"dasharray\": \"none\", \"alpha\": 1.0}, \"visible\": true}], \"axesbg\": \"#FFFFFF\", \"axesbgalpha\": null, \"zoomable\": true, \"id\": \"el122140694348124288\", \"lines\": [{\"data\": \"data01\", \"xindex\": 0, \"yindex\": 1, \"coordinates\": \"data\", \"id\": \"el122140694348334808\", \"color\": \"#0000FF\", \"linewidth\": 2.0, \"dasharray\": \"none\", \"alpha\": 0.7, \"zorder\": 2, \"drawstyle\": \"default\"}, {\"data\": \"data01\", \"xindex\": 0, \"yindex\": 2, \"coordinates\": \"data\", \"id\": \"el122140694348335088\", \"color\": \"#BFBF00\", \"linewidth\": 2.0, \"dasharray\": \"none\", \"alpha\": 0.7, \"zorder\": 2, \"drawstyle\": \"default\"}, {\"data\": \"data01\", \"xindex\": 0, \"yindex\": 3, \"coordinates\": \"data\", \"id\": \"el122140694348335928\", \"color\": \"#007F00\", \"linewidth\": 2.0, \"dasharray\": \"none\", \"alpha\": 0.7, \"zorder\": 2, \"drawstyle\": \"default\"}, {\"data\": \"data02\", \"xindex\": 0, \"yindex\": 1, \"coordinates\": \"axes\", \"id\": \"el122140694355621592\", \"color\": \"#0000FF\", \"linewidth\": 2.0, \"dasharray\": \"none\", \"alpha\": 0.7, \"zorder\": 1000002.0, \"drawstyle\": \"default\"}, {\"data\": \"data02\", \"xindex\": 0, \"yindex\": 2, \"coordinates\": \"axes\", \"id\": \"el122140694355622656\", \"color\": \"#BFBF00\", \"linewidth\": 2.0, \"dasharray\": \"none\", \"alpha\": 0.7, \"zorder\": 1000002.0, \"drawstyle\": \"default\"}, {\"data\": \"data02\", \"xindex\": 0, \"yindex\": 3, \"coordinates\": \"axes\", \"id\": \"el122140694355623160\", \"color\": \"#007F00\", \"linewidth\": 2.0, \"dasharray\": \"none\", \"alpha\": 0.7, \"zorder\": 1000002.0, \"drawstyle\": \"default\"}], \"paths\": [{\"data\": \"data03\", \"xindex\": 0, \"yindex\": 1, \"coordinates\": \"axes\", \"pathcodes\": [\"M\", \"L\", \"S\", \"L\", \"S\", \"L\", \"S\", \"L\", \"S\", \"Z\"], \"id\": \"el122140694355620640\", \"dasharray\": \"none\", \"alpha\": 0.5, \"facecolor\": \"rgba(255, 255, 255, 0.5)\", \"edgecolor\": \"rgba(204, 204, 204, 0.5)\", \"edgewidth\": 1.0, \"zorder\": 1000000.0}], \"markers\": [], \"texts\": [{\"text\": \"Time (days)\", \"position\": [0.5, -0.08048197203826342], \"coordinates\": \"axes\", \"h_anchor\": \"middle\", \"v_baseline\": \"hanging\", \"rotation\": -0.0, \"fontsize\": 10.0, \"color\": \"#000000\", \"alpha\": 1, \"zorder\": 3, \"id\": \"el122140694348700416\"}, {\"text\": \"Susceptible\", \"position\": [0.8803763440860216, 0.9218175128771156], \"coordinates\": \"axes\", \"h_anchor\": \"start\", \"v_baseline\": \"auto\", \"rotation\": -0.0, \"fontsize\": 10.0, \"color\": \"#000000\", \"alpha\": 1, \"zorder\": 1000003.0, \"id\": \"el122140694355621088\"}, {\"text\": \"Infected\", \"position\": [0.8803763440860216, 0.8528329654157469], \"coordinates\": \"axes\", \"h_anchor\": \"start\", \"v_baseline\": \"auto\", \"rotation\": -0.0, \"fontsize\": 10.0, \"color\": \"#000000\", \"alpha\": 1, \"zorder\": 1000003.0, \"id\": \"el122140694355621872\"}, {\"text\": \"Recovered\", \"position\": [0.8803763440860216, 0.7838484179543782], \"coordinates\": \"axes\", \"h_anchor\": \"start\", \"v_baseline\": \"auto\", \"rotation\": -0.0, \"fontsize\": 10.0, \"color\": \"#000000\", \"alpha\": 1, \"zorder\": 1000003.0, \"id\": \"el122140694355623104\"}], \"collections\": [], \"images\": [], \"sharex\": [], \"sharey\": []}], \"data\": {\"data01\": [[6.0, 996.6351044052847, 2.179860963203461, 1.1850346315119042], [80.0, 213.34949895307759, 14.738944661397085, 771.9115563855253], [58.0, 287.09305964389887, 89.43276418208274, 623.4741761740182], [15.0, 983.4551617661451, 8.703472019723163, 7.841366214132051], [65.0, 246.07255976357814, 53.36328239392816, 700.5641578424936], [33.0, 791.6465326434246, 92.03357659186518, 116.31989076471015], [53.0, 338.24863037960233, 120.26458915948275, 541.4867804609148], [28.0, 886.2572214490243, 53.86900322685029, 59.8737753241257], [79.0, 214.38159594275803, 16.11981004550227, 769.4985940117396], [81.0, 212.41030786464668, 13.472214324700763, 774.1174778106524]], \"data02\": [[0.8301971326164875, 0.9379139072847682, 0.8689293598233996, 0.7999448123620309], [0.8660394265232976, 0.9379139072847682, 0.8689293598233996, 0.7999448123620309]], \"data03\": [[0.8266129032258065, 0.7562545989698307], [0.9874551971326165, 0.7562545989698307], [0.9910394265232975, 0.7562545989698307], [0.9910394265232975, 0.7654525386313465], [0.9910394265232975, 0.9678072111846947], [0.9910394265232975, 0.9770051508462105], [0.9874551971326165, 0.9770051508462105], [0.8266129032258065, 0.9770051508462105], [0.8230286738351255, 0.9770051508462105], [0.8230286738351255, 0.9678072111846947], [0.8230286738351255, 0.7654525386313465], [0.8230286738351255, 0.7562545989698307], [0.8266129032258065, 0.7562545989698307]]}, \"id\": \"el122140694348127312\", \"plugins\": [{\"type\": \"reset\"}, {\"type\": \"zoom\", \"button\": true, \"enabled\": false}, {\"type\": \"boxzoom\", \"button\": true, \"enabled\": false}]});\n",
              "   }(mpld3);\n",
              "}else if(typeof define === \"function\" && define.amd){\n",
              "   // require.js is available: use it to load d3/mpld3\n",
              "   require.config({paths: {d3: \"https://d3js.org/d3.v5\"}});\n",
              "   require([\"d3\"], function(d3){\n",
              "      window.d3 = d3;\n",
              "      mpld3_load_lib(\"https://mpld3.github.io/js/mpld3.v0.5.1.js\", function(){\n",
              "         \n",
              "         mpld3.draw_figure(\"fig_el1221406943481273128983091285\", {\"width\": 720.0, \"height\": 288.0, \"axes\": [{\"bbox\": [0.125, 0.125, 0.775, 0.755], \"xlim\": [2.25, 84.75], \"ylim\": [-48.58746885717674, 1046.4076078939734], \"xdomain\": [2.25, 84.75], \"ydomain\": [-48.58746885717674, 1046.4076078939734], \"xscale\": \"linear\", \"yscale\": \"linear\", \"axes\": [{\"position\": \"bottom\", \"nticks\": 10, \"tickvalues\": null, \"tickformat_formatter\": \"\", \"tickformat\": null, \"scale\": \"linear\", \"fontsize\": 10.0, \"grid\": {\"gridOn\": true, \"color\": \"#FFFFFF\", \"dasharray\": \"none\", \"alpha\": 1.0}, \"visible\": true}, {\"position\": \"left\", \"nticks\": 8, \"tickvalues\": null, \"tickformat_formatter\": \"\", \"tickformat\": null, \"scale\": \"linear\", \"fontsize\": 10.0, \"grid\": {\"gridOn\": true, \"color\": \"#FFFFFF\", \"dasharray\": \"none\", \"alpha\": 1.0}, \"visible\": true}], \"axesbg\": \"#FFFFFF\", \"axesbgalpha\": null, \"zoomable\": true, \"id\": \"el122140694348124288\", \"lines\": [{\"data\": \"data01\", \"xindex\": 0, \"yindex\": 1, \"coordinates\": \"data\", \"id\": \"el122140694348334808\", \"color\": \"#0000FF\", \"linewidth\": 2.0, \"dasharray\": \"none\", \"alpha\": 0.7, \"zorder\": 2, \"drawstyle\": \"default\"}, {\"data\": \"data01\", \"xindex\": 0, \"yindex\": 2, \"coordinates\": \"data\", \"id\": \"el122140694348335088\", \"color\": \"#BFBF00\", \"linewidth\": 2.0, \"dasharray\": \"none\", \"alpha\": 0.7, \"zorder\": 2, \"drawstyle\": \"default\"}, {\"data\": \"data01\", \"xindex\": 0, \"yindex\": 3, \"coordinates\": \"data\", \"id\": \"el122140694348335928\", \"color\": \"#007F00\", \"linewidth\": 2.0, \"dasharray\": \"none\", \"alpha\": 0.7, \"zorder\": 2, \"drawstyle\": \"default\"}, {\"data\": \"data02\", \"xindex\": 0, \"yindex\": 1, \"coordinates\": \"axes\", \"id\": \"el122140694355621592\", \"color\": \"#0000FF\", \"linewidth\": 2.0, \"dasharray\": \"none\", \"alpha\": 0.7, \"zorder\": 1000002.0, \"drawstyle\": \"default\"}, {\"data\": \"data02\", \"xindex\": 0, \"yindex\": 2, \"coordinates\": \"axes\", \"id\": \"el122140694355622656\", \"color\": \"#BFBF00\", \"linewidth\": 2.0, \"dasharray\": \"none\", \"alpha\": 0.7, \"zorder\": 1000002.0, \"drawstyle\": \"default\"}, {\"data\": \"data02\", \"xindex\": 0, \"yindex\": 3, \"coordinates\": \"axes\", \"id\": \"el122140694355623160\", \"color\": \"#007F00\", \"linewidth\": 2.0, \"dasharray\": \"none\", \"alpha\": 0.7, \"zorder\": 1000002.0, \"drawstyle\": \"default\"}], \"paths\": [{\"data\": \"data03\", \"xindex\": 0, \"yindex\": 1, \"coordinates\": \"axes\", \"pathcodes\": [\"M\", \"L\", \"S\", \"L\", \"S\", \"L\", \"S\", \"L\", \"S\", \"Z\"], \"id\": \"el122140694355620640\", \"dasharray\": \"none\", \"alpha\": 0.5, \"facecolor\": \"rgba(255, 255, 255, 0.5)\", \"edgecolor\": \"rgba(204, 204, 204, 0.5)\", \"edgewidth\": 1.0, \"zorder\": 1000000.0}], \"markers\": [], \"texts\": [{\"text\": \"Time (days)\", \"position\": [0.5, -0.08048197203826342], \"coordinates\": \"axes\", \"h_anchor\": \"middle\", \"v_baseline\": \"hanging\", \"rotation\": -0.0, \"fontsize\": 10.0, \"color\": \"#000000\", \"alpha\": 1, \"zorder\": 3, \"id\": \"el122140694348700416\"}, {\"text\": \"Susceptible\", \"position\": [0.8803763440860216, 0.9218175128771156], \"coordinates\": \"axes\", \"h_anchor\": \"start\", \"v_baseline\": \"auto\", \"rotation\": -0.0, \"fontsize\": 10.0, \"color\": \"#000000\", \"alpha\": 1, \"zorder\": 1000003.0, \"id\": \"el122140694355621088\"}, {\"text\": \"Infected\", \"position\": [0.8803763440860216, 0.8528329654157469], \"coordinates\": \"axes\", \"h_anchor\": \"start\", \"v_baseline\": \"auto\", \"rotation\": -0.0, \"fontsize\": 10.0, \"color\": \"#000000\", \"alpha\": 1, \"zorder\": 1000003.0, \"id\": \"el122140694355621872\"}, {\"text\": \"Recovered\", \"position\": [0.8803763440860216, 0.7838484179543782], \"coordinates\": \"axes\", \"h_anchor\": \"start\", \"v_baseline\": \"auto\", \"rotation\": -0.0, \"fontsize\": 10.0, \"color\": \"#000000\", \"alpha\": 1, \"zorder\": 1000003.0, \"id\": \"el122140694355623104\"}], \"collections\": [], \"images\": [], \"sharex\": [], \"sharey\": []}], \"data\": {\"data01\": [[6.0, 996.6351044052847, 2.179860963203461, 1.1850346315119042], [80.0, 213.34949895307759, 14.738944661397085, 771.9115563855253], [58.0, 287.09305964389887, 89.43276418208274, 623.4741761740182], [15.0, 983.4551617661451, 8.703472019723163, 7.841366214132051], [65.0, 246.07255976357814, 53.36328239392816, 700.5641578424936], [33.0, 791.6465326434246, 92.03357659186518, 116.31989076471015], [53.0, 338.24863037960233, 120.26458915948275, 541.4867804609148], [28.0, 886.2572214490243, 53.86900322685029, 59.8737753241257], [79.0, 214.38159594275803, 16.11981004550227, 769.4985940117396], [81.0, 212.41030786464668, 13.472214324700763, 774.1174778106524]], \"data02\": [[0.8301971326164875, 0.9379139072847682, 0.8689293598233996, 0.7999448123620309], [0.8660394265232976, 0.9379139072847682, 0.8689293598233996, 0.7999448123620309]], \"data03\": [[0.8266129032258065, 0.7562545989698307], [0.9874551971326165, 0.7562545989698307], [0.9910394265232975, 0.7562545989698307], [0.9910394265232975, 0.7654525386313465], [0.9910394265232975, 0.9678072111846947], [0.9910394265232975, 0.9770051508462105], [0.9874551971326165, 0.9770051508462105], [0.8266129032258065, 0.9770051508462105], [0.8230286738351255, 0.9770051508462105], [0.8230286738351255, 0.9678072111846947], [0.8230286738351255, 0.7654525386313465], [0.8230286738351255, 0.7562545989698307], [0.8266129032258065, 0.7562545989698307]]}, \"id\": \"el122140694348127312\", \"plugins\": [{\"type\": \"reset\"}, {\"type\": \"zoom\", \"button\": true, \"enabled\": false}, {\"type\": \"boxzoom\", \"button\": true, \"enabled\": false}]});\n",
              "      });\n",
              "    });\n",
              "}else{\n",
              "    // require.js not available: dynamically load d3 & mpld3\n",
              "    mpld3_load_lib(\"https://d3js.org/d3.v5.js\", function(){\n",
              "         mpld3_load_lib(\"https://mpld3.github.io/js/mpld3.v0.5.1.js\", function(){\n",
              "                 \n",
              "                 mpld3.draw_figure(\"fig_el1221406943481273128983091285\", {\"width\": 720.0, \"height\": 288.0, \"axes\": [{\"bbox\": [0.125, 0.125, 0.775, 0.755], \"xlim\": [2.25, 84.75], \"ylim\": [-48.58746885717674, 1046.4076078939734], \"xdomain\": [2.25, 84.75], \"ydomain\": [-48.58746885717674, 1046.4076078939734], \"xscale\": \"linear\", \"yscale\": \"linear\", \"axes\": [{\"position\": \"bottom\", \"nticks\": 10, \"tickvalues\": null, \"tickformat_formatter\": \"\", \"tickformat\": null, \"scale\": \"linear\", \"fontsize\": 10.0, \"grid\": {\"gridOn\": true, \"color\": \"#FFFFFF\", \"dasharray\": \"none\", \"alpha\": 1.0}, \"visible\": true}, {\"position\": \"left\", \"nticks\": 8, \"tickvalues\": null, \"tickformat_formatter\": \"\", \"tickformat\": null, \"scale\": \"linear\", \"fontsize\": 10.0, \"grid\": {\"gridOn\": true, \"color\": \"#FFFFFF\", \"dasharray\": \"none\", \"alpha\": 1.0}, \"visible\": true}], \"axesbg\": \"#FFFFFF\", \"axesbgalpha\": null, \"zoomable\": true, \"id\": \"el122140694348124288\", \"lines\": [{\"data\": \"data01\", \"xindex\": 0, \"yindex\": 1, \"coordinates\": \"data\", \"id\": \"el122140694348334808\", \"color\": \"#0000FF\", \"linewidth\": 2.0, \"dasharray\": \"none\", \"alpha\": 0.7, \"zorder\": 2, \"drawstyle\": \"default\"}, {\"data\": \"data01\", \"xindex\": 0, \"yindex\": 2, \"coordinates\": \"data\", \"id\": \"el122140694348335088\", \"color\": \"#BFBF00\", \"linewidth\": 2.0, \"dasharray\": \"none\", \"alpha\": 0.7, \"zorder\": 2, \"drawstyle\": \"default\"}, {\"data\": \"data01\", \"xindex\": 0, \"yindex\": 3, \"coordinates\": \"data\", \"id\": \"el122140694348335928\", \"color\": \"#007F00\", \"linewidth\": 2.0, \"dasharray\": \"none\", \"alpha\": 0.7, \"zorder\": 2, \"drawstyle\": \"default\"}, {\"data\": \"data02\", \"xindex\": 0, \"yindex\": 1, \"coordinates\": \"axes\", \"id\": \"el122140694355621592\", \"color\": \"#0000FF\", \"linewidth\": 2.0, \"dasharray\": \"none\", \"alpha\": 0.7, \"zorder\": 1000002.0, \"drawstyle\": \"default\"}, {\"data\": \"data02\", \"xindex\": 0, \"yindex\": 2, \"coordinates\": \"axes\", \"id\": \"el122140694355622656\", \"color\": \"#BFBF00\", \"linewidth\": 2.0, \"dasharray\": \"none\", \"alpha\": 0.7, \"zorder\": 1000002.0, \"drawstyle\": \"default\"}, {\"data\": \"data02\", \"xindex\": 0, \"yindex\": 3, \"coordinates\": \"axes\", \"id\": \"el122140694355623160\", \"color\": \"#007F00\", \"linewidth\": 2.0, \"dasharray\": \"none\", \"alpha\": 0.7, \"zorder\": 1000002.0, \"drawstyle\": \"default\"}], \"paths\": [{\"data\": \"data03\", \"xindex\": 0, \"yindex\": 1, \"coordinates\": \"axes\", \"pathcodes\": [\"M\", \"L\", \"S\", \"L\", \"S\", \"L\", \"S\", \"L\", \"S\", \"Z\"], \"id\": \"el122140694355620640\", \"dasharray\": \"none\", \"alpha\": 0.5, \"facecolor\": \"rgba(255, 255, 255, 0.5)\", \"edgecolor\": \"rgba(204, 204, 204, 0.5)\", \"edgewidth\": 1.0, \"zorder\": 1000000.0}], \"markers\": [], \"texts\": [{\"text\": \"Time (days)\", \"position\": [0.5, -0.08048197203826342], \"coordinates\": \"axes\", \"h_anchor\": \"middle\", \"v_baseline\": \"hanging\", \"rotation\": -0.0, \"fontsize\": 10.0, \"color\": \"#000000\", \"alpha\": 1, \"zorder\": 3, \"id\": \"el122140694348700416\"}, {\"text\": \"Susceptible\", \"position\": [0.8803763440860216, 0.9218175128771156], \"coordinates\": \"axes\", \"h_anchor\": \"start\", \"v_baseline\": \"auto\", \"rotation\": -0.0, \"fontsize\": 10.0, \"color\": \"#000000\", \"alpha\": 1, \"zorder\": 1000003.0, \"id\": \"el122140694355621088\"}, {\"text\": \"Infected\", \"position\": [0.8803763440860216, 0.8528329654157469], \"coordinates\": \"axes\", \"h_anchor\": \"start\", \"v_baseline\": \"auto\", \"rotation\": -0.0, \"fontsize\": 10.0, \"color\": \"#000000\", \"alpha\": 1, \"zorder\": 1000003.0, \"id\": \"el122140694355621872\"}, {\"text\": \"Recovered\", \"position\": [0.8803763440860216, 0.7838484179543782], \"coordinates\": \"axes\", \"h_anchor\": \"start\", \"v_baseline\": \"auto\", \"rotation\": -0.0, \"fontsize\": 10.0, \"color\": \"#000000\", \"alpha\": 1, \"zorder\": 1000003.0, \"id\": \"el122140694355623104\"}], \"collections\": [], \"images\": [], \"sharex\": [], \"sharey\": []}], \"data\": {\"data01\": [[6.0, 996.6351044052847, 2.179860963203461, 1.1850346315119042], [80.0, 213.34949895307759, 14.738944661397085, 771.9115563855253], [58.0, 287.09305964389887, 89.43276418208274, 623.4741761740182], [15.0, 983.4551617661451, 8.703472019723163, 7.841366214132051], [65.0, 246.07255976357814, 53.36328239392816, 700.5641578424936], [33.0, 791.6465326434246, 92.03357659186518, 116.31989076471015], [53.0, 338.24863037960233, 120.26458915948275, 541.4867804609148], [28.0, 886.2572214490243, 53.86900322685029, 59.8737753241257], [79.0, 214.38159594275803, 16.11981004550227, 769.4985940117396], [81.0, 212.41030786464668, 13.472214324700763, 774.1174778106524]], \"data02\": [[0.8301971326164875, 0.9379139072847682, 0.8689293598233996, 0.7999448123620309], [0.8660394265232976, 0.9379139072847682, 0.8689293598233996, 0.7999448123620309]], \"data03\": [[0.8266129032258065, 0.7562545989698307], [0.9874551971326165, 0.7562545989698307], [0.9910394265232975, 0.7562545989698307], [0.9910394265232975, 0.7654525386313465], [0.9910394265232975, 0.9678072111846947], [0.9910394265232975, 0.9770051508462105], [0.9874551971326165, 0.9770051508462105], [0.8266129032258065, 0.9770051508462105], [0.8230286738351255, 0.9770051508462105], [0.8230286738351255, 0.9678072111846947], [0.8230286738351255, 0.7654525386313465], [0.8230286738351255, 0.7562545989698307], [0.8266129032258065, 0.7562545989698307]]}, \"id\": \"el122140694348127312\", \"plugins\": [{\"type\": \"reset\"}, {\"type\": \"zoom\", \"button\": true, \"enabled\": false}, {\"type\": \"boxzoom\", \"button\": true, \"enabled\": false}]});\n",
              "            })\n",
              "         });\n",
              "}\n",
              "</script>"
            ],
            "text/plain": [
              "<Figure size 720x288 with 1 Axes>"
            ]
          },
          "metadata": {
            "tags": [],
            "needs_background": "light"
          }
        }
      ]
    },
    {
      "cell_type": "code",
      "metadata": {
        "id": "xkODMVjlK43q",
        "colab_type": "code",
        "colab": {}
      },
      "source": [
        ""
      ],
      "execution_count": null,
      "outputs": []
    }
  ]
}